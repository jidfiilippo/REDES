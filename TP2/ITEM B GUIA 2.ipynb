{
 "cells": [
  {
   "cell_type": "code",
   "execution_count": 5,
   "metadata": {
    "collapsed": true
   },
   "outputs": [],
   "source": [
    "import numpy as np\n",
    "import networkx as nx\n",
    "import os\n",
    "from random import shuffle          # importamos las librerias necesarias\n",
    "import matplotlib.pylab as plt       \n",
    "%matplotlib inline\n",
    "from matplotlib.pyplot import title,xlabel,ylabel,show"
   ]
  },
  {
   "cell_type": "code",
   "execution_count": 6,
   "metadata": {
    "collapsed": true
   },
   "outputs": [],
   "source": [
    "def ldata(archive):\n",
    "    f=open(archive)\n",
    "    data=[]\n",
    "    for line in f:\n",
    "        line=line.strip()\n",
    "        col=line.split()\n",
    "        data.append(col)\n",
    "    return data"
   ]
  },
  {
   "cell_type": "code",
   "execution_count": 7,
   "metadata": {
    "collapsed": true
   },
   "outputs": [],
   "source": [
    "def grafo(datosRed):\n",
    "    G = nx.Graph()\n",
    "    for i in range(np.shape(datosRed)[0]):\n",
    "        G.add_edges_from([(datosRed[i][0],datosRed[i][1])])\n",
    "    return G "
   ]
  },
  {
   "cell_type": "code",
   "execution_count": 8,
   "metadata": {
    "collapsed": true
   },
   "outputs": [],
   "source": [
    "APMS = ldata('yeast_AP-MS.txt')\n",
    "grafoAPMS = grafo(APMS)\n",
    "\n",
    "LIT = ldata('yeast_LIT.txt')\n",
    "grafoLIT = grafo(LIT)\n"
   ]
  },
  {
   "cell_type": "code",
   "execution_count": 9,
   "metadata": {
    "collapsed": true
   },
   "outputs": [],
   "source": [
    "Y2H = ldata('yeast_Y2H.txt')\n",
    "grafoY2H = grafo(Y2H)\n",
    "\n",
    "essentiality = ldata('Essential.txt')\n",
    "grafoEssentiality = grafo(essentiality)\n",
    "\n",
    "LITRegurly = ldata('yeast_LIT_Reguly.txt')\n"
   ]
  },
  {
   "cell_type": "code",
   "execution_count": 10,
   "metadata": {
    "collapsed": true
   },
   "outputs": [],
   "source": [
    "def abrirRed(lista):\n",
    "\n",
    "    archivoAbierto = []\n",
    "\n",
    "    for array in lista:\n",
    "        archivoAbierto.append([array[0], array[1]])\n",
    "        \n",
    "    archivoAbiertoCortado = archivoAbierto[1:len(archivoAbierto)]\n",
    "    return archivoAbiertoCortado"
   ]
  },
  {
   "cell_type": "code",
   "execution_count": 11,
   "metadata": {
    "collapsed": true
   },
   "outputs": [],
   "source": [
    "LITRegurlyOpened = abrirRed(LITRegurly)\n",
    "#type(LITRegurlyOpened)\n",
    "grafoLITREG = grafo(LITRegurlyOpened)\n"
   ]
  },
  {
   "cell_type": "code",
   "execution_count": 12,
   "metadata": {},
   "outputs": [
    {
     "data": {
      "text/plain": [
       "(9070, 9070)"
      ]
     },
     "execution_count": 12,
     "metadata": {},
     "output_type": "execute_result"
    }
   ],
   "source": [
    "setAPMS = set(grafoAPMS.edges())\n",
    "setLIT = set(grafoLIT.edges())\n",
    "\n",
    "#chequeamos que no nos den mas de una vez el mismo enlace \n",
    "len(grafoLIT.edges()), len(setLIT)\n",
    "len(grafoAPMS.edges()), len(setAPMS)"
   ]
  },
  {
   "cell_type": "code",
   "execution_count": 13,
   "metadata": {
    "collapsed": true
   },
   "outputs": [],
   "source": [
    "#vemos el overlap entre los enlaces de los grafos \n",
    "def overlap(grafo1, grafo2):\n",
    "    setGrafo1 = set(grafo1.edges())\n",
    "    setGrafo2 = set(grafo2.edges())\n",
    "    overlap = setGrafo1.intersection(setGrafo2)\n",
    "    fracOverlapNorm1 = len(overlap)/len(setGrafo1)\n",
    "    fracOverlapNorm2 = len(overlap)/len(setGrafo2)\n",
    "    return [fracOverlapNorm1, fracOverlapNorm2]"
   ]
  },
  {
   "cell_type": "code",
   "execution_count": 14,
   "metadata": {},
   "outputs": [
    {
     "data": {
      "text/plain": [
       "([0.08357221609702316, 0.25914529914529916],\n",
       " [0.019294377067254686, 0.059726962457337884],\n",
       " [0.14531422271223815, 0.11114859166807219])"
      ]
     },
     "execution_count": 14,
     "metadata": {},
     "output_type": "execute_result"
    }
   ],
   "source": [
    "overAPMSLIT = overlap(grafoAPMS, grafoLIT)\n",
    "overAPMSY2H = overlap(grafoAPMS, grafoY2H)\n",
    "overAPMSLITREG = overlap(grafoAPMS, grafoLITREG)\n",
    "overAPMSLIT, overAPMSY2H, overAPMSLITREG"
   ]
  },
  {
   "cell_type": "code",
   "execution_count": 15,
   "metadata": {},
   "outputs": [
    {
     "data": {
      "text/plain": [
       "540"
      ]
     },
     "execution_count": 15,
     "metadata": {},
     "output_type": "execute_result"
    }
   ],
   "source": [
    "setAPMSTransp = {(protein2,protein1) for protein1, protein2 in setAPMS}\n",
    "setLITTransp = {(protein2,protein1) for protein1, protein2 in setLIT}\n",
    "\n",
    "overlapTransp1 = setAPMSTransp.intersection(setLIT)\n",
    "len(overlapTransp1)\n",
    "\n",
    "#overlapTotal = overlap | overlapTransp1\n",
    "\n",
    "\n",
    "#lenOverlapTotal = len(overlap) + len(overlapTransp1)\n",
    "#overlapMedLIT = lenOverlapTotal/len(setLIT)                          #respecto del que dejamos fijo \n",
    "\n",
    "#overlapMedAPMS = lenOverlapTotal/len(setAPMS) \n",
    "#overlapMedLIT, overlapMedAPMS\n",
    "\n",
    "#len(overlapTotal), len(overlap), len(overlapTransp1)\n"
   ]
  },
  {
   "cell_type": "code",
   "execution_count": 16,
   "metadata": {
    "collapsed": true
   },
   "outputs": [],
   "source": [
    "#nos da para el culo....etonces nos preguntamos si es que pasa A B -- B A y lo contabamos dos veces... "
   ]
  },
  {
   "cell_type": "code",
   "execution_count": 17,
   "metadata": {
    "collapsed": true
   },
   "outputs": [],
   "source": [
    "repetidosLIT = setLIT.intersection(setLITTransp)\n",
    "\n",
    "repetidosLITTransp = {(protein2,protein1) for protein1, protein2 in repetidosLIT}\n",
    "\n",
    "#overlapRepetidosLIT =  repetidosLITTransp.intersection(overlapTotal)\n",
    "#suma = 0\n",
    "#for elem in repetidosLIT:\n",
    "#    if elem[0] == elem[1]:\n",
    "#        suma  = suma + 1\n",
    "        \n",
    "#if suma == len(repetidosLIT):\n",
    "#    print(\"self loops!\")"
   ]
  },
  {
   "cell_type": "code",
   "execution_count": 18,
   "metadata": {},
   "outputs": [
    {
     "data": {
      "text/plain": [
       "(0, 0)"
      ]
     },
     "execution_count": 18,
     "metadata": {},
     "output_type": "execute_result"
    }
   ],
   "source": [
    "repetidosAPMS = setAPMS.intersection(setAPMSTransp)\n",
    "\n",
    "repetidosAPMSTransp = {(protein2,protein1) for protein1, protein2 in repetidosAPMS}\n",
    "\n",
    "len(repetidosAPMS), len(repetidosAPMSTransp)"
   ]
  },
  {
   "cell_type": "markdown",
   "metadata": {},
   "source": [
    "# C. LA FIGURA "
   ]
  },
  {
   "cell_type": "code",
   "execution_count": 19,
   "metadata": {
    "collapsed": true
   },
   "outputs": [],
   "source": [
    "#el flash para la figura \n",
    "#me armo una lista de los nodos ordenados segun el grado (de mayor a menor) \n",
    "#agarro el grado k cuantos nodos tienen al menos ese grado, calculo la fraccion sobre el total de nodos ---eje x \n",
    "#la fraccion de ese conjunto que son esenciales (biologicamente..) del archivo que ya tenemos. \n",
    "\n"
   ]
  },
  {
   "cell_type": "code",
   "execution_count": 20,
   "metadata": {
    "collapsed": true
   },
   "outputs": [],
   "source": [
    "def ordenanodos(G): #G:grafo, criterio=diccionario 'nombredenodo':parametro\n",
    "    dictCriterio = dict(G.degree())\n",
    "    parametroOrdenado = sorted(set(dictCriterio.values()), reverse=True)\n",
    "    nodosOrdenados = []\n",
    "    kNodosOrdenados = []\n",
    "    for j in parametroOrdenado:\n",
    "        for key,value in dictCriterio.items():\n",
    "            if value==j:\n",
    "                nodosOrdenados.append(key)\n",
    "                kNodosOrdenados.append(value)\n",
    "    return([nodosOrdenados,kNodosOrdenados])"
   ]
  },
  {
   "cell_type": "code",
   "execution_count": 21,
   "metadata": {
    "collapsed": true
   },
   "outputs": [],
   "source": [
    "#para APMS \n",
    "#donde la primera componente es un array con los nodos y \n",
    "#la segunda componente es el grado de cada uno de ellos\n",
    "#nodosOrdenadosAPMS[1]\n",
    "nodosOrdenadosAPMS = ordenanodos(grafoAPMS)\n",
    "nodosOrdenadosLIT = ordenanodos(grafoLIT)\n",
    "nodosOrdenadosY2H = ordenanodos(grafoY2H)\n"
   ]
  },
  {
   "cell_type": "code",
   "execution_count": 18,
   "metadata": {},
   "outputs": [
    {
     "data": {
      "text/plain": [
       "(1622, 1622)"
      ]
     },
     "execution_count": 18,
     "metadata": {},
     "output_type": "execute_result"
    }
   ],
   "source": [
    "#dict(grafoAPMS.degree()).values()\n",
    "len(nodosOrdenadosAPMS[1]), len(grafoAPMS.nodes())"
   ]
  },
  {
   "cell_type": "code",
   "execution_count": 47,
   "metadata": {
    "collapsed": true
   },
   "outputs": [],
   "source": [
    "#quiero saber cuantos tienen cada uno de los grados\n",
    "\n",
    "def NodosYGradoK(grafo):\n",
    "\n",
    "    dictCriterio = dict(grafo.degree())\n",
    "    gradosOrdenados = sorted(set(dictCriterio.values()), reverse=True) # me los da los grados ordenados \n",
    "    nodosOrdenados = ordenanodos(grafo)\n",
    "    gradosNodos = nodosOrdenados[1]\n",
    "\n",
    "    nodosGradoK = []\n",
    "    grado = []\n",
    "\n",
    "    for ktarget in set(gradosNodos):\n",
    "        nodosKTarget = 0\n",
    "        for k in gradosNodos:\n",
    "            if ktarget == k:\n",
    "                nodosKTarget = nodosKTarget + 1\n",
    "            #grado.append(ktarget)\n",
    "        nodosGradoK.append(nodosKTarget)\n",
    "\n",
    "\n",
    "    if sum(nodosGradoK) == len(grafo.nodes()):\n",
    "        print(\"vamo\")\n",
    "    else:\n",
    "        print(\"algo  mal\")\n",
    "    return([set(gradosNodos),nodosGradoK])"
   ]
  },
  {
   "cell_type": "code",
   "execution_count": 52,
   "metadata": {},
   "outputs": [
    {
     "name": "stdout",
     "output_type": "stream",
     "text": [
      "vamo\n"
     ]
    }
   ],
   "source": [
    "APMS = NodosYGradoK(grafoAPMS)[1]"
   ]
  },
  {
   "cell_type": "code",
   "execution_count": 19,
   "metadata": {
    "collapsed": true
   },
   "outputs": [],
   "source": [
    "#quiero saber cuantos tienen cada uno de los grados\n",
    "\n",
    "def FracNodosAlMenosGradoK(grafo):\n",
    "\n",
    "    dictCriterio = dict(grafo.degree())\n",
    "    gradosOrdenados = sorted(set(dictCriterio.values()), reverse=True) # me los da los grados ordenados \n",
    "    nodosOrdenados = ordenanodos(grafo)\n",
    "    gradosNodos = nodosOrdenados[1]\n",
    "\n",
    "    nodosAlMenosK = []\n",
    "\n",
    "    for ktarget in gradosOrdenados:\n",
    "        nodosAlMenosKTarget = 0\n",
    "        for k in gradosNodos:\n",
    "            if ktarget <= k:\n",
    "                nodosAlMenosKTarget = nodosAlMenosKTarget + 1\n",
    "                fracNodosAlMenosKTarget = nodosAlMenosKTarget#/len(grafo.nodes())\n",
    "        nodosAlMenosK.append(fracNodosAlMenosKTarget)\n",
    "\n",
    "#si hice las cosas bien, la cantidad de nodos que al menos tienen grado 1 deben ser todos mis nodos\n",
    "    for key, value in fracNumeroNodosAlMenosGrado.items():\n",
    "        if value == 1:\n",
    "            if key == len(grafoAPMS.nodes())/len(grafo.nodes()):\n",
    "                print('bien hecho')\n",
    "            else:\n",
    "                print('algo mal!')\n",
    "    return([nodosAlMenosK,ordenados])"
   ]
  },
  {
   "cell_type": "code",
   "execution_count": 20,
   "metadata": {},
   "outputs": [
    {
     "ename": "NameError",
     "evalue": "name 'fracNumeroNodosAlMenosGrado' is not defined",
     "output_type": "error",
     "traceback": [
      "\u001b[1;31m---------------------------------------------------------------------------\u001b[0m",
      "\u001b[1;31mNameError\u001b[0m                                 Traceback (most recent call last)",
      "\u001b[1;32m<ipython-input-20-2065aafa932b>\u001b[0m in \u001b[0;36m<module>\u001b[1;34m()\u001b[0m\n\u001b[1;32m----> 1\u001b[1;33m \u001b[0mnodosAlMenosGradoKAPMS\u001b[0m \u001b[1;33m=\u001b[0m \u001b[0mNodosAlMenosGradoK\u001b[0m\u001b[1;33m(\u001b[0m\u001b[0mgrafoAPMS\u001b[0m\u001b[1;33m)\u001b[0m\u001b[1;33m\u001b[0m\u001b[0m\n\u001b[0m\u001b[0;32m      2\u001b[0m \u001b[1;31m#grafico de cantidad de nodos que tienen al menos grado k en funcion del grado k\u001b[0m\u001b[1;33m\u001b[0m\u001b[1;33m\u001b[0m\u001b[0m\n\u001b[0;32m      3\u001b[0m \u001b[1;33m\u001b[0m\u001b[0m\n\u001b[0;32m      4\u001b[0m \u001b[0mfracNodosAlMenosGradoKAPMS\u001b[0m \u001b[1;33m=\u001b[0m \u001b[1;33m[\u001b[0m\u001b[1;33m]\u001b[0m\u001b[1;33m\u001b[0m\u001b[0m\n\u001b[0;32m      5\u001b[0m \u001b[1;32mfor\u001b[0m \u001b[0mi\u001b[0m \u001b[1;32min\u001b[0m \u001b[0mrange\u001b[0m\u001b[1;33m(\u001b[0m\u001b[0mlen\u001b[0m\u001b[1;33m(\u001b[0m\u001b[0mnodosAlMenosGradoKAPMS\u001b[0m\u001b[1;33m[\u001b[0m\u001b[1;36m0\u001b[0m\u001b[1;33m]\u001b[0m\u001b[1;33m)\u001b[0m\u001b[1;33m)\u001b[0m\u001b[1;33m:\u001b[0m\u001b[1;33m\u001b[0m\u001b[0m\n",
      "\u001b[1;32m<ipython-input-19-e4feadbba406>\u001b[0m in \u001b[0;36mNodosAlMenosGradoK\u001b[1;34m(grafo)\u001b[0m\n\u001b[0;32m     19\u001b[0m \u001b[1;33m\u001b[0m\u001b[0m\n\u001b[0;32m     20\u001b[0m \u001b[1;31m#si hice las cosas bien, la cantidad de nodos que al menos tienen grado 1 deben ser todos mis nodos\u001b[0m\u001b[1;33m\u001b[0m\u001b[1;33m\u001b[0m\u001b[0m\n\u001b[1;32m---> 21\u001b[1;33m     \u001b[1;32mfor\u001b[0m \u001b[0mkey\u001b[0m\u001b[1;33m,\u001b[0m \u001b[0mvalue\u001b[0m \u001b[1;32min\u001b[0m \u001b[0mfracNumeroNodosAlMenosGrado\u001b[0m\u001b[1;33m.\u001b[0m\u001b[0mitems\u001b[0m\u001b[1;33m(\u001b[0m\u001b[1;33m)\u001b[0m\u001b[1;33m:\u001b[0m\u001b[1;33m\u001b[0m\u001b[0m\n\u001b[0m\u001b[0;32m     22\u001b[0m         \u001b[1;32mif\u001b[0m \u001b[0mvalue\u001b[0m \u001b[1;33m==\u001b[0m \u001b[1;36m1\u001b[0m\u001b[1;33m:\u001b[0m\u001b[1;33m\u001b[0m\u001b[0m\n\u001b[0;32m     23\u001b[0m             \u001b[1;32mif\u001b[0m \u001b[0mkey\u001b[0m \u001b[1;33m==\u001b[0m \u001b[0mlen\u001b[0m\u001b[1;33m(\u001b[0m\u001b[0mgrafoAPMS\u001b[0m\u001b[1;33m.\u001b[0m\u001b[0mnodes\u001b[0m\u001b[1;33m(\u001b[0m\u001b[1;33m)\u001b[0m\u001b[1;33m)\u001b[0m\u001b[1;33m/\u001b[0m\u001b[0mlen\u001b[0m\u001b[1;33m(\u001b[0m\u001b[0mgrafo\u001b[0m\u001b[1;33m.\u001b[0m\u001b[0mnodes\u001b[0m\u001b[1;33m(\u001b[0m\u001b[1;33m)\u001b[0m\u001b[1;33m)\u001b[0m\u001b[1;33m:\u001b[0m\u001b[1;33m\u001b[0m\u001b[0m\n",
      "\u001b[1;31mNameError\u001b[0m: name 'fracNumeroNodosAlMenosGrado' is not defined"
     ]
    }
   ],
   "source": [
    "nodosAlMenosGradoKAPMS = NodosAlMenosGradoK(grafoAPMS)\n",
    "#grafico de cantidad de nodos que tienen al menos grado k en funcion del grado k \n",
    "\n",
    "fracNodosAlMenosGradoKAPMS = []\n",
    "for i in range(len(nodosAlMenosGradoKAPMS[0])):\n",
    "    fracNodosAlMenosGradoKAPMS.append(nodosAlMenosGradoKAPMS[0][i]/len(grafoAPMS.nodes()))\n",
    "    \n",
    "plt.plot(nodosAlMenosGradoKAPMS[1], fracNodosAlMenosGradoKAPMS)\n",
    "\n"
   ]
  },
  {
   "cell_type": "code",
   "execution_count": null,
   "metadata": {
    "collapsed": true
   },
   "outputs": [],
   "source": [
    "#ahora lo que me queda hacer es dado los N nodos que tienen al menos grado k, ver la fraccion de ellos que son esenciales "
   ]
  },
  {
   "cell_type": "code",
   "execution_count": 65,
   "metadata": {
    "collapsed": true
   },
   "outputs": [],
   "source": [
    "def nombreNodosAlMenosGradoK(grafo):\n",
    "\n",
    "    dictCriterio = dict(grafo.degree())\n",
    "    gradosOrdenados = sorted(set(dictCriterio.values()), reverse=True) # me los da los grados ordenados \n",
    "    nodosOrdenados = ordenanodos(grafo)\n",
    "    gradosNodos = nodosOrdenados[1]\n",
    "    nombreNodos = nodosOrdenados[0]\n",
    "\n",
    "    nombreNodosAlMenosK = []\n",
    "    alMenosK = []\n",
    "    fracc = []\n",
    "\n",
    "    for itarget in range(len(gradosOrdenados)):\n",
    "        nodosAlMenosKTarget = 0\n",
    "        for i in range(len(gradosNodos)):\n",
    "            if gradosOrdenados[itarget] <= gradosNodos[i]:\n",
    "                nombreNodosAlMenosK.append(nombreNodos[i])\n",
    "                alMenosK.append(gradosOrdenados[itarget])\n",
    "                fracc.append(gradosOrdenados[itarget]/len(grafo.nodes()))\n",
    "#si hice las cosas bien, la cantidad de nodos que al menos tienen grado 1 deben ser todos mis nodos\n",
    "    nodosTotal = 0\n",
    "    for i in range(len(nombreNodosAlMenosK)):\n",
    "        if alMenosK[i] == 1:\n",
    "            nodosTotal = nodosTotal + 1\n",
    "    if nodosTotal == len(grafo.nodes()):\n",
    "        print('bien!')\n",
    "    return([nombreNodosAlMenosK,alMenosK,fracc])"
   ]
  },
  {
   "cell_type": "code",
   "execution_count": 71,
   "metadata": {},
   "outputs": [
    {
     "name": "stdout",
     "output_type": "stream",
     "text": [
      "bien!\n"
     ]
    }
   ],
   "source": [
    "nombreNodosAPMS = nombreNodosAlMenosGradoK(grafoAPMS)\n",
    "#ahora tengo dos vectores, uno que es el nombre del nodo y otro que me dice al menos su grado. entonces..\n",
    "#ahora deberia pasearme por el vector de los grados sorted, pararme en el nombre de alguno de sus nodos (parar un dado k)\n",
    "#y preguntarme si es esencial.. comparandolo con los elementos de mim grafo esencial y si lo es, ir contandolo \n",
    "#para tener la fraccion de esenciales \n",
    "#nombreNodosAPMS[1]\n"
   ]
  },
  {
   "cell_type": "code",
   "execution_count": 73,
   "metadata": {},
   "outputs": [
    {
     "data": {
      "text/plain": [
       "17870"
      ]
     },
     "execution_count": 73,
     "metadata": {},
     "output_type": "execute_result"
    }
   ],
   "source": [
    "len(nombreNodosAPMS[1])"
   ]
  },
  {
   "cell_type": "code",
   "execution_count": 55,
   "metadata": {
    "collapsed": true
   },
   "outputs": [],
   "source": [
    "nodosAlMenosGradoKAPMS = nombreNodosAPMS[1]"
   ]
  },
  {
   "cell_type": "code",
   "execution_count": 56,
   "metadata": {
    "collapsed": true
   },
   "outputs": [],
   "source": [
    "#OJO QUE USO grafoEssentiality.nodes() DONDE ME APARECEN MUCHOS NOMBRES, ENTRE ELLOS LOS NOMBRES DE LAS PROTEINAS ESENCIALES \n",
    "\n",
    "def fraccEssentials(grafo):\n",
    "\n",
    "    dictCriterio = dict(grafo.degree())\n",
    "    gradosOrdenados = sorted(set(dictCriterio.values()), reverse=True)\n",
    "    nombresNodosEssential = list(grafoEssentiality.nodes())\n",
    "    nombreNodosGrafo = nombreNodosAlMenosGradoK(grafo)\n",
    "\n",
    "    cantEssentials = []\n",
    "    alMenosGrado = []\n",
    "\n",
    "    for k in gradosOrdenados:\n",
    "        totalNodosParaK = 0\n",
    "        for i in range(len(nombreNodosGrafo[1])):\n",
    "            if k == nombreNodosAPMS[1][i]:\n",
    "                nodoTarget = nombreNodosGrafo[0][i]\n",
    "                for nombreNodo in nombresNodosEssential:\n",
    "                    if nodoTarget == nombreNodo:\n",
    "                        totalNodosParaK = totalNodosParaK + 1 \n",
    "        cantEssentials.append(totalNodosParaK)\n",
    "        alMenosGrado.append(k)\n",
    "    essentials = [cantEssentials, alMenosGrado]\n",
    "    return essentials"
   ]
  },
  {
   "cell_type": "code",
   "execution_count": 57,
   "metadata": {},
   "outputs": [
    {
     "name": "stdout",
     "output_type": "stream",
     "text": [
      "bien!\n"
     ]
    }
   ],
   "source": [
    "essentials = fraccEssentials(grafoAPMS)"
   ]
  },
  {
   "cell_type": "code",
   "execution_count": 51,
   "metadata": {
    "collapsed": true
   },
   "outputs": [],
   "source": [
    "#essentials es un vector qeu tiene en la primera fila la cantidad de nodos esenciales de al menos k grado, y la segunda fila el k grado \n",
    "#nodosAlMenosGradoKAPMS #es un vector que tiene en la primera fila la cantidad de nodos de al menos k grado, y la segunda fila el k grado \n",
    "#len(essentials[0]),len(nodosAlMenosGradoKAPMS[0])\n"
   ]
  },
  {
   "cell_type": "code",
   "execution_count": 58,
   "metadata": {
    "collapsed": true
   },
   "outputs": [],
   "source": [
    "#para hacer eso len(essentials[0]) = len(nodosAlMenosGradoKAPMS[0])\n",
    "fraaEsen = []\n",
    "\n",
    "for i in range(len(essentials[0])):\n",
    "    fraccEssentials = essentials[0][i]/nodosAlMenosGradoKAPMS[i]\n",
    "    fraaEsen.append(fraccEssentials)"
   ]
  },
  {
   "cell_type": "code",
   "execution_count": 68,
   "metadata": {},
   "outputs": [
    {
     "ename": "ValueError",
     "evalue": "x and y must have same first dimension, but have shapes (1,) and (89,)",
     "output_type": "error",
     "traceback": [
      "\u001b[1;31m---------------------------------------------------------------------------\u001b[0m",
      "\u001b[1;31mValueError\u001b[0m                                Traceback (most recent call last)",
      "\u001b[1;32m<ipython-input-68-9760afd62e78>\u001b[0m in \u001b[0;36m<module>\u001b[1;34m()\u001b[0m\n\u001b[0;32m      1\u001b[0m \u001b[1;31m#len(fraaEsen)\u001b[0m\u001b[1;33m\u001b[0m\u001b[1;33m\u001b[0m\u001b[0m\n\u001b[1;32m----> 2\u001b[1;33m \u001b[0mplt\u001b[0m\u001b[1;33m.\u001b[0m\u001b[0mplot\u001b[0m\u001b[1;33m(\u001b[0m\u001b[0mnodosAlMenosGradoKAPMS\u001b[0m\u001b[1;33m[\u001b[0m\u001b[1;36m2\u001b[0m\u001b[1;33m]\u001b[0m\u001b[1;33m,\u001b[0m\u001b[0mfraaEsen\u001b[0m\u001b[1;33m)\u001b[0m\u001b[1;33m\u001b[0m\u001b[0m\n\u001b[0m\u001b[0;32m      3\u001b[0m \u001b[0mplt\u001b[0m\u001b[1;33m.\u001b[0m\u001b[0mxlabel\u001b[0m\u001b[1;33m(\u001b[0m\u001b[1;34m'fracc de nodos al menor grado K'\u001b[0m\u001b[1;33m)\u001b[0m\u001b[1;33m\u001b[0m\u001b[0m\n\u001b[0;32m      4\u001b[0m \u001b[0mplt\u001b[0m\u001b[1;33m.\u001b[0m\u001b[0mylabel\u001b[0m\u001b[1;33m(\u001b[0m\u001b[1;34m'fracc de nodos esenciales de al menor grado K'\u001b[0m\u001b[1;33m)\u001b[0m\u001b[1;33m\u001b[0m\u001b[0m\n\u001b[0;32m      5\u001b[0m \u001b[0mplt\u001b[0m\u001b[1;33m.\u001b[0m\u001b[0mlegend\u001b[0m\u001b[1;33m(\u001b[0m\u001b[1;34m\"fracc de nodos esenciales respecto a los nodos de grado k\"\u001b[0m\u001b[1;33m)\u001b[0m\u001b[1;33m\u001b[0m\u001b[0m\n",
      "\u001b[1;32m~\\Anaconda3\\lib\\site-packages\\matplotlib\\pyplot.py\u001b[0m in \u001b[0;36mplot\u001b[1;34m(*args, **kwargs)\u001b[0m\n\u001b[0;32m   3356\u001b[0m                       mplDeprecation)\n\u001b[0;32m   3357\u001b[0m     \u001b[1;32mtry\u001b[0m\u001b[1;33m:\u001b[0m\u001b[1;33m\u001b[0m\u001b[0m\n\u001b[1;32m-> 3358\u001b[1;33m         \u001b[0mret\u001b[0m \u001b[1;33m=\u001b[0m \u001b[0max\u001b[0m\u001b[1;33m.\u001b[0m\u001b[0mplot\u001b[0m\u001b[1;33m(\u001b[0m\u001b[1;33m*\u001b[0m\u001b[0margs\u001b[0m\u001b[1;33m,\u001b[0m \u001b[1;33m**\u001b[0m\u001b[0mkwargs\u001b[0m\u001b[1;33m)\u001b[0m\u001b[1;33m\u001b[0m\u001b[0m\n\u001b[0m\u001b[0;32m   3359\u001b[0m     \u001b[1;32mfinally\u001b[0m\u001b[1;33m:\u001b[0m\u001b[1;33m\u001b[0m\u001b[0m\n\u001b[0;32m   3360\u001b[0m         \u001b[0max\u001b[0m\u001b[1;33m.\u001b[0m\u001b[0m_hold\u001b[0m \u001b[1;33m=\u001b[0m \u001b[0mwashold\u001b[0m\u001b[1;33m\u001b[0m\u001b[0m\n",
      "\u001b[1;32m~\\Anaconda3\\lib\\site-packages\\matplotlib\\__init__.py\u001b[0m in \u001b[0;36minner\u001b[1;34m(ax, *args, **kwargs)\u001b[0m\n\u001b[0;32m   1853\u001b[0m                         \u001b[1;34m\"the Matplotlib list!)\"\u001b[0m \u001b[1;33m%\u001b[0m \u001b[1;33m(\u001b[0m\u001b[0mlabel_namer\u001b[0m\u001b[1;33m,\u001b[0m \u001b[0mfunc\u001b[0m\u001b[1;33m.\u001b[0m\u001b[0m__name__\u001b[0m\u001b[1;33m)\u001b[0m\u001b[1;33m,\u001b[0m\u001b[1;33m\u001b[0m\u001b[0m\n\u001b[0;32m   1854\u001b[0m                         RuntimeWarning, stacklevel=2)\n\u001b[1;32m-> 1855\u001b[1;33m             \u001b[1;32mreturn\u001b[0m \u001b[0mfunc\u001b[0m\u001b[1;33m(\u001b[0m\u001b[0max\u001b[0m\u001b[1;33m,\u001b[0m \u001b[1;33m*\u001b[0m\u001b[0margs\u001b[0m\u001b[1;33m,\u001b[0m \u001b[1;33m**\u001b[0m\u001b[0mkwargs\u001b[0m\u001b[1;33m)\u001b[0m\u001b[1;33m\u001b[0m\u001b[0m\n\u001b[0m\u001b[0;32m   1856\u001b[0m \u001b[1;33m\u001b[0m\u001b[0m\n\u001b[0;32m   1857\u001b[0m         inner.__doc__ = _add_data_doc(inner.__doc__,\n",
      "\u001b[1;32m~\\Anaconda3\\lib\\site-packages\\matplotlib\\axes\\_axes.py\u001b[0m in \u001b[0;36mplot\u001b[1;34m(self, *args, **kwargs)\u001b[0m\n\u001b[0;32m   1525\u001b[0m         \u001b[0mkwargs\u001b[0m \u001b[1;33m=\u001b[0m \u001b[0mcbook\u001b[0m\u001b[1;33m.\u001b[0m\u001b[0mnormalize_kwargs\u001b[0m\u001b[1;33m(\u001b[0m\u001b[0mkwargs\u001b[0m\u001b[1;33m,\u001b[0m \u001b[0m_alias_map\u001b[0m\u001b[1;33m)\u001b[0m\u001b[1;33m\u001b[0m\u001b[0m\n\u001b[0;32m   1526\u001b[0m \u001b[1;33m\u001b[0m\u001b[0m\n\u001b[1;32m-> 1527\u001b[1;33m         \u001b[1;32mfor\u001b[0m \u001b[0mline\u001b[0m \u001b[1;32min\u001b[0m \u001b[0mself\u001b[0m\u001b[1;33m.\u001b[0m\u001b[0m_get_lines\u001b[0m\u001b[1;33m(\u001b[0m\u001b[1;33m*\u001b[0m\u001b[0margs\u001b[0m\u001b[1;33m,\u001b[0m \u001b[1;33m**\u001b[0m\u001b[0mkwargs\u001b[0m\u001b[1;33m)\u001b[0m\u001b[1;33m:\u001b[0m\u001b[1;33m\u001b[0m\u001b[0m\n\u001b[0m\u001b[0;32m   1528\u001b[0m             \u001b[0mself\u001b[0m\u001b[1;33m.\u001b[0m\u001b[0madd_line\u001b[0m\u001b[1;33m(\u001b[0m\u001b[0mline\u001b[0m\u001b[1;33m)\u001b[0m\u001b[1;33m\u001b[0m\u001b[0m\n\u001b[0;32m   1529\u001b[0m             \u001b[0mlines\u001b[0m\u001b[1;33m.\u001b[0m\u001b[0mappend\u001b[0m\u001b[1;33m(\u001b[0m\u001b[0mline\u001b[0m\u001b[1;33m)\u001b[0m\u001b[1;33m\u001b[0m\u001b[0m\n",
      "\u001b[1;32m~\\Anaconda3\\lib\\site-packages\\matplotlib\\axes\\_base.py\u001b[0m in \u001b[0;36m_grab_next_args\u001b[1;34m(self, *args, **kwargs)\u001b[0m\n\u001b[0;32m    404\u001b[0m                 \u001b[0mthis\u001b[0m \u001b[1;33m+=\u001b[0m \u001b[0margs\u001b[0m\u001b[1;33m[\u001b[0m\u001b[1;36m0\u001b[0m\u001b[1;33m]\u001b[0m\u001b[1;33m,\u001b[0m\u001b[1;33m\u001b[0m\u001b[0m\n\u001b[0;32m    405\u001b[0m                 \u001b[0margs\u001b[0m \u001b[1;33m=\u001b[0m \u001b[0margs\u001b[0m\u001b[1;33m[\u001b[0m\u001b[1;36m1\u001b[0m\u001b[1;33m:\u001b[0m\u001b[1;33m]\u001b[0m\u001b[1;33m\u001b[0m\u001b[0m\n\u001b[1;32m--> 406\u001b[1;33m             \u001b[1;32mfor\u001b[0m \u001b[0mseg\u001b[0m \u001b[1;32min\u001b[0m \u001b[0mself\u001b[0m\u001b[1;33m.\u001b[0m\u001b[0m_plot_args\u001b[0m\u001b[1;33m(\u001b[0m\u001b[0mthis\u001b[0m\u001b[1;33m,\u001b[0m \u001b[0mkwargs\u001b[0m\u001b[1;33m)\u001b[0m\u001b[1;33m:\u001b[0m\u001b[1;33m\u001b[0m\u001b[0m\n\u001b[0m\u001b[0;32m    407\u001b[0m                 \u001b[1;32myield\u001b[0m \u001b[0mseg\u001b[0m\u001b[1;33m\u001b[0m\u001b[0m\n\u001b[0;32m    408\u001b[0m \u001b[1;33m\u001b[0m\u001b[0m\n",
      "\u001b[1;32m~\\Anaconda3\\lib\\site-packages\\matplotlib\\axes\\_base.py\u001b[0m in \u001b[0;36m_plot_args\u001b[1;34m(self, tup, kwargs)\u001b[0m\n\u001b[0;32m    381\u001b[0m             \u001b[0mx\u001b[0m\u001b[1;33m,\u001b[0m \u001b[0my\u001b[0m \u001b[1;33m=\u001b[0m \u001b[0mindex_of\u001b[0m\u001b[1;33m(\u001b[0m\u001b[0mtup\u001b[0m\u001b[1;33m[\u001b[0m\u001b[1;33m-\u001b[0m\u001b[1;36m1\u001b[0m\u001b[1;33m]\u001b[0m\u001b[1;33m)\u001b[0m\u001b[1;33m\u001b[0m\u001b[0m\n\u001b[0;32m    382\u001b[0m \u001b[1;33m\u001b[0m\u001b[0m\n\u001b[1;32m--> 383\u001b[1;33m         \u001b[0mx\u001b[0m\u001b[1;33m,\u001b[0m \u001b[0my\u001b[0m \u001b[1;33m=\u001b[0m \u001b[0mself\u001b[0m\u001b[1;33m.\u001b[0m\u001b[0m_xy_from_xy\u001b[0m\u001b[1;33m(\u001b[0m\u001b[0mx\u001b[0m\u001b[1;33m,\u001b[0m \u001b[0my\u001b[0m\u001b[1;33m)\u001b[0m\u001b[1;33m\u001b[0m\u001b[0m\n\u001b[0m\u001b[0;32m    384\u001b[0m \u001b[1;33m\u001b[0m\u001b[0m\n\u001b[0;32m    385\u001b[0m         \u001b[1;32mif\u001b[0m \u001b[0mself\u001b[0m\u001b[1;33m.\u001b[0m\u001b[0mcommand\u001b[0m \u001b[1;33m==\u001b[0m \u001b[1;34m'plot'\u001b[0m\u001b[1;33m:\u001b[0m\u001b[1;33m\u001b[0m\u001b[0m\n",
      "\u001b[1;32m~\\Anaconda3\\lib\\site-packages\\matplotlib\\axes\\_base.py\u001b[0m in \u001b[0;36m_xy_from_xy\u001b[1;34m(self, x, y)\u001b[0m\n\u001b[0;32m    240\u001b[0m         \u001b[1;32mif\u001b[0m \u001b[0mx\u001b[0m\u001b[1;33m.\u001b[0m\u001b[0mshape\u001b[0m\u001b[1;33m[\u001b[0m\u001b[1;36m0\u001b[0m\u001b[1;33m]\u001b[0m \u001b[1;33m!=\u001b[0m \u001b[0my\u001b[0m\u001b[1;33m.\u001b[0m\u001b[0mshape\u001b[0m\u001b[1;33m[\u001b[0m\u001b[1;36m0\u001b[0m\u001b[1;33m]\u001b[0m\u001b[1;33m:\u001b[0m\u001b[1;33m\u001b[0m\u001b[0m\n\u001b[0;32m    241\u001b[0m             raise ValueError(\"x and y must have same first dimension, but \"\n\u001b[1;32m--> 242\u001b[1;33m                              \"have shapes {} and {}\".format(x.shape, y.shape))\n\u001b[0m\u001b[0;32m    243\u001b[0m         \u001b[1;32mif\u001b[0m \u001b[0mx\u001b[0m\u001b[1;33m.\u001b[0m\u001b[0mndim\u001b[0m \u001b[1;33m>\u001b[0m \u001b[1;36m2\u001b[0m \u001b[1;32mor\u001b[0m \u001b[0my\u001b[0m\u001b[1;33m.\u001b[0m\u001b[0mndim\u001b[0m \u001b[1;33m>\u001b[0m \u001b[1;36m2\u001b[0m\u001b[1;33m:\u001b[0m\u001b[1;33m\u001b[0m\u001b[0m\n\u001b[0;32m    244\u001b[0m             raise ValueError(\"x and y can be no greater than 2-D, but have \"\n",
      "\u001b[1;31mValueError\u001b[0m: x and y must have same first dimension, but have shapes (1,) and (89,)"
     ]
    },
    {
     "data": {
      "image/png": "[encoded data removed]",
      "text/plain": [
       "<Figure size 432x288 with 1 Axes>"
      ]
     },
     "metadata": {},
     "output_type": "display_data"
    }
   ],
   "source": [
    "#len(fraaEsen)\n",
    "plt.plot(nodosAlMenosGradoKAPMS[2],fraaEsen)\n",
    "plt.xlabel('fracc de nodos al menor grado K')\n",
    "plt.ylabel('fracc de nodos esenciales de al menor grado K')\n",
    "plt.legend(\"fracc de nodos esenciales respecto a los nodos de grado k\")\n",
    "plt.ylim([0,1])"
   ]
  },
  {
   "cell_type": "code",
   "execution_count": null,
   "metadata": {
    "collapsed": true
   },
   "outputs": [],
   "source": []
  }
 ],
 "metadata": {
  "kernelspec": {
   "display_name": "Python 3",
   "language": "python",
   "name": "python3"
  },
  "language_info": {
   "codemirror_mode": {
    "name": "ipython",
    "version": 3
   },
   "file_extension": ".py",
   "mimetype": "text/x-python",
   "name": "python",
   "nbconvert_exporter": "python",
   "pygments_lexer": "ipython3",
   "version": "3.6.3"
  }
 },
 "nbformat": 4,
 "nbformat_minor": 2
}
