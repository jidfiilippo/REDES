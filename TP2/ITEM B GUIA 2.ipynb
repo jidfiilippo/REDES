{
 "cells": [
  {
   "cell_type": "code",
   "execution_count": 1,
   "metadata": {},
   "outputs": [],
   "source": [
    "import numpy as np\n",
    "import networkx as nx\n",
    "import os\n",
    "from random import shuffle          # importamos las librerias necesarias\n",
    "import matplotlib.pylab as plt       \n",
    "%matplotlib inline\n",
    "from matplotlib.pyplot import title,xlabel,ylabel,show"
   ]
  },
  {
   "cell_type": "code",
   "execution_count": 2,
   "metadata": {},
   "outputs": [],
   "source": [
    "def ldata(archive):\n",
    "    f=open(archive)\n",
    "    data=[]\n",
    "    for line in f:\n",
    "        line=line.strip()\n",
    "        col=line.split()\n",
    "        data.append(col)\n",
    "    return data"
   ]
  },
  {
   "cell_type": "code",
   "execution_count": 3,
   "metadata": {},
   "outputs": [],
   "source": [
    "def grafo(datosRed):\n",
    "    G = nx.Graph()\n",
    "    for i in range(np.shape(datosRed)[0]):\n",
    "        G.add_edges_from([(datosRed[i][0],datosRed[i][1])])\n",
    "    return G "
   ]
  },
  {
   "cell_type": "code",
   "execution_count": 4,
   "metadata": {},
   "outputs": [],
   "source": [
    "APMS = ldata('yeast_AP-MS.txt')\n",
    "grafoAPMS = grafo(APMS)\n",
    "\n",
    "LIT = ldata('yeast_LIT.txt')\n",
    "grafoLIT = grafo(LIT)\n"
   ]
  },
  {
   "cell_type": "code",
   "execution_count": 13,
   "metadata": {},
   "outputs": [],
   "source": [
    "Y2H = ldata('yeast_Y2H.txt')\n",
    "grafoY2H = grafo(Y2H)\n",
    "\n",
    "LITRegurly = ldata('yeast_LIT_Reguly.txt')\n"
   ]
  },
  {
   "cell_type": "code",
   "execution_count": 27,
   "metadata": {},
   "outputs": [],
   "source": [
    "def abrirRed(lista):\n",
    "\n",
    "    archivoAbierto = []\n",
    "\n",
    "    for array in lista:\n",
    "        archivoAbierto.append([array[0], array[1]])\n",
    "        \n",
    "    archivoAbiertoCortado = archivoAbierto[1:len(archivoAbierto)]\n",
    "    return archivoAbiertoCortado"
   ]
  },
  {
   "cell_type": "code",
   "execution_count": 46,
   "metadata": {},
   "outputs": [],
   "source": [
    "LITRegurlyOpened = abrirRed(LITRegurly)\n",
    "#type(LITRegurlyOpened)\n",
    "grafoLITREG = grafo(LITRegurlyOpened)\n"
   ]
  },
  {
   "cell_type": "code",
   "execution_count": 38,
   "metadata": {},
   "outputs": [
    {
     "name": "stdout",
     "output_type": "stream",
     "text": [
      "hola\n"
     ]
    }
   ],
   "source": [
    "a = {\"hola\": 1}\n",
    "type(a)\n",
    "#a.value(1)\n",
    "for key, value in a.items():\n",
    "    print(key)"
   ]
  },
  {
   "cell_type": "code",
   "execution_count": 42,
   "metadata": {},
   "outputs": [
    {
     "data": {
      "text/plain": [
       "(9070, 9070)"
      ]
     },
     "execution_count": 42,
     "metadata": {},
     "output_type": "execute_result"
    }
   ],
   "source": [
    "setAPMS = set(grafoAPMS.edges())\n",
    "setLIT = set(grafoLIT.edges())\n",
    "\n",
    "#chequeamos que no nos den mas de una vez el mismo enlace \n",
    "len(grafoLIT.edges()), len(setLIT)\n",
    "len(grafoAPMS.edges()), len(setAPMS)"
   ]
  },
  {
   "cell_type": "code",
   "execution_count": 39,
   "metadata": {},
   "outputs": [],
   "source": [
    "#vemos el overlap entre los enlaces de los grafos \n",
    "def overlap(grafo1, grafo2):\n",
    "    setGrafo1 = set(grafo1.edges())\n",
    "    setGrafo2 = set(grafo2.edges())\n",
    "    overlap = setGrafo1.intersection(setGrafo2)\n",
    "    fracOverlapNorm1 = len(overlap)/len(setGrafo1)\n",
    "    fracOverlapNorm2 = len(overlap)/len(setGrafo2)\n",
    "    return [fracOverlapNorm1, fracOverlapNorm2]"
   ]
  },
  {
   "cell_type": "code",
   "execution_count": 48,
   "metadata": {},
   "outputs": [
    {
     "data": {
      "text/plain": [
       "([0.08357221609702316, 0.25914529914529916],\n",
       " [0.019294377067254686, 0.059726962457337884],\n",
       " [0.14531422271223815, 0.11114859166807219])"
      ]
     },
     "execution_count": 48,
     "metadata": {},
     "output_type": "execute_result"
    }
   ],
   "source": [
    "overAPMSLIT = overlap(grafoAPMS, grafoLIT)\n",
    "overAPMSY2H = overlap(grafoAPMS, grafoY2H)\n",
    "overAPMSLITREG = overlap(grafoAPMS, grafoLITREG)\n",
    "overAPMSLIT, overAPMSY2H, overAPMSLITREG"
   ]
  },
  {
   "cell_type": "code",
   "execution_count": 8,
   "metadata": {},
   "outputs": [
    {
     "data": {
      "text/plain": [
       "(1298, 758, 540)"
      ]
     },
     "execution_count": 8,
     "metadata": {},
     "output_type": "execute_result"
    }
   ],
   "source": [
    "setAPMSTransp = {(protein2,protein1) for protein1, protein2 in setAPMS}\n",
    "setLITTransp = {(protein2,protein1) for protein1, protein2 in setLIT}\n",
    "\n",
    "overlapTransp1 = setAPMSTransp.intersection(setLIT)\n",
    "len(overlapTransp1)\n",
    "\n",
    "overlapTotal = overlap | overlapTransp1\n",
    "\n",
    "\n",
    "lenOverlapTotal = len(overlap) + len(overlapTransp1)\n",
    "overlapMedLIT = lenOverlapTotal/len(setLIT)                          #respecto del que dejamos fijo \n",
    "\n",
    "overlapMedAPMS = lenOverlapTotal/len(setAPMS) \n",
    "#overlapMedLIT, overlapMedAPMS\n",
    "\n",
    "len(overlapTotal), len(overlap), len(overlapTransp1)\n"
   ]
  },
  {
   "cell_type": "code",
   "execution_count": 9,
   "metadata": {},
   "outputs": [],
   "source": [
    "#nos da para el culo....etonces nos preguntamos si es que pasa A B -- B A y lo contabamos dos veces... "
   ]
  },
  {
   "cell_type": "code",
   "execution_count": 10,
   "metadata": {},
   "outputs": [
    {
     "name": "stdout",
     "output_type": "stream",
     "text": [
      "self loops!\n"
     ]
    }
   ],
   "source": [
    "repetidosLIT = setLIT.intersection(setLITTransp)\n",
    "\n",
    "repetidosLITTransp = {(protein2,protein1) for protein1, protein2 in repetidosLIT}\n",
    "\n",
    "overlapRepetidosLIT =  repetidosLITTransp.intersection(overlapTotal)\n",
    "suma = 0\n",
    "for elem in repetidosLIT:\n",
    "    if elem[0] == elem[1]:\n",
    "        suma  = suma + 1\n",
    "        \n",
    "if suma == len(repetidosLIT):\n",
    "    print(\"self loops!\")"
   ]
  },
  {
   "cell_type": "code",
   "execution_count": 11,
   "metadata": {},
   "outputs": [
    {
     "data": {
      "text/plain": [
       "(0, 0)"
      ]
     },
     "execution_count": 11,
     "metadata": {},
     "output_type": "execute_result"
    }
   ],
   "source": [
    "repetidosAPMS = setAPMS.intersection(setAPMSTransp)\n",
    "\n",
    "repetidosAPMSTransp = {(protein2,protein1) for protein1, protein2 in repetidosAPMS}\n",
    "\n",
    "len(repetidosAPMS), len(repetidosAPMSTransp)"
   ]
  },
  {
   "cell_type": "code",
   "execution_count": null,
   "metadata": {},
   "outputs": [],
   "source": [
    "#el flash para la figura \n",
    "#me armo una lista de los nodos ordenados segun el grado (de mayor a menor) \n",
    "#agarro el grado k cuantos nodos tienen al menos ese grado, calculo la fraccion sobre el total de nodos ---eje x \n",
    "#la fraccion de ese conjunto que son esenciales (biologicamente..) del archivo que ya tenemos. \n",
    "\n"
   ]
  },
  {
   "cell_type": "code",
   "execution_count": 80,
   "metadata": {},
   "outputs": [],
   "source": [
    "def ordenanodos(G): #G:grafo, criterio=diccionario 'nombredenodo':parametro\n",
    "    dictCriterio = dict(G.degree())\n",
    "    parametroOrdenado = sorted(set(dictCriterio.values()), reverse=True)\n",
    "    nodosOrdenados = []\n",
    "    for j in parametroOrdenado:\n",
    "        for key,value in dictCriterio.items():\n",
    "            if value==j:\n",
    "                nodosOrdenados.append(key)\n",
    "    return(nodosOrdenados)"
   ]
  },
  {
   "cell_type": "code",
   "execution_count": 81,
   "metadata": {},
   "outputs": [],
   "source": [
    "#para APMS \n",
    "nodosOrdenadosAPMS = ordenanodos(grafoAPMS)"
   ]
  },
  {
   "cell_type": "code",
   "execution_count": 82,
   "metadata": {},
   "outputs": [
    {
     "data": {
      "text/plain": [
       "(1622, 1622)"
      ]
     },
     "execution_count": 82,
     "metadata": {},
     "output_type": "execute_result"
    }
   ],
   "source": [
    "#dict(grafoAPMS.degree()).values()\n",
    "len(nodosOrdenadosAPMS), len(grafoAPMS.nodes())"
   ]
  },
  {
   "cell_type": "code",
   "execution_count": 87,
   "metadata": {},
   "outputs": [],
   "source": [
    "#quiero saber cuantos tienen cada uno de los grados, \n",
    "dictCriterio = dict(grafoAPMS.degree())\n",
    "ordenados = sorted(set(dictCriterio.values()), reverse=True) # me los da ordenados \n",
    "todos = dictCriterio.values() #son todos "
   ]
  },
  {
   "cell_type": "code",
   "execution_count": 171,
   "metadata": {},
   "outputs": [
    {
     "ename": "TypeError",
     "evalue": "'<=' not supported between instances of 'str' and 'int'",
     "output_type": "error",
     "traceback": [
      "\u001b[1;31m---------------------------------------------------------------------------\u001b[0m",
      "\u001b[1;31mTypeError\u001b[0m                                 Traceback (most recent call last)",
      "\u001b[1;32m<ipython-input-171-58420a03e4c1>\u001b[0m in \u001b[0;36m<module>\u001b[1;34m()\u001b[0m\n\u001b[0;32m      4\u001b[0m     \u001b[0mnodosAlMenosKTarget\u001b[0m \u001b[1;33m=\u001b[0m \u001b[1;36m0\u001b[0m\u001b[1;33m\u001b[0m\u001b[0m\n\u001b[0;32m      5\u001b[0m     \u001b[1;32mfor\u001b[0m \u001b[0mk\u001b[0m \u001b[1;32min\u001b[0m \u001b[0mcantidad\u001b[0m\u001b[1;33m:\u001b[0m\u001b[1;33m\u001b[0m\u001b[0m\n\u001b[1;32m----> 6\u001b[1;33m         \u001b[1;32mif\u001b[0m \u001b[0mktarget\u001b[0m \u001b[1;33m<=\u001b[0m \u001b[0mk\u001b[0m\u001b[1;33m:\u001b[0m\u001b[1;33m\u001b[0m\u001b[0m\n\u001b[0m\u001b[0;32m      7\u001b[0m             \u001b[0mnodosAlMenosKTarget\u001b[0m \u001b[1;33m=\u001b[0m \u001b[0mnodosAlMenosKTarget\u001b[0m \u001b[1;33m+\u001b[0m \u001b[0mk\u001b[0m\u001b[1;33m\u001b[0m\u001b[0m\n\u001b[0;32m      8\u001b[0m             \u001b[0mfracNodosAlMenosKTarget\u001b[0m \u001b[1;33m=\u001b[0m \u001b[0mnodosAlMenosKTarget\u001b[0m\u001b[1;33m/\u001b[0m\u001b[0mlen\u001b[0m\u001b[1;33m(\u001b[0m\u001b[0mgrafoAPMS\u001b[0m\u001b[1;33m.\u001b[0m\u001b[0mnodes\u001b[0m\u001b[1;33m(\u001b[0m\u001b[1;33m)\u001b[0m\u001b[1;33m)\u001b[0m\u001b[1;33m\u001b[0m\u001b[0m\n",
      "\u001b[1;31mTypeError\u001b[0m: '<=' not supported between instances of 'str' and 'int'"
     ]
    }
   ],
   "source": [
    "nodosAlMenosK = []\n",
    "\n",
    "for ktarget in nodosOrdenadosAPMS:\n",
    "    nodosAlMenosKTarget = 0\n",
    "    for k in cantidad:\n",
    "        if ktarget <= k:\n",
    "            nodosAlMenosKTarget = nodosAlMenosKTarget + k\n",
    "            fracNodosAlMenosKTarget = nodosAlMenosKTarget/len(grafoAPMS.nodes())\n",
    "    nodosAlMenosK.append(fracNodosAlMenosKTarget)\n"
   ]
  },
  {
   "cell_type": "code",
   "execution_count": 151,
   "metadata": {
    "scrolled": true
   },
   "outputs": [],
   "source": [
    "fracNumeroNodosAlMenosGrado = dict(zip(nodosAlMenosK,ordenados)) "
   ]
  },
  {
   "cell_type": "code",
   "execution_count": 167,
   "metadata": {},
   "outputs": [
    {
     "data": {
      "text/plain": [
       "[<matplotlib.lines.Line2D at 0x1c36cd13780>]"
      ]
     },
     "execution_count": 167,
     "metadata": {},
     "output_type": "execute_result"
    },
    {
     "data": {
      "image/png": "[encoded data removed]",
      "text/plain": [
       "<Figure size 432x288 with 1 Axes>"
      ]
     },
     "metadata": {},
     "output_type": "display_data"
    }
   ],
   "source": [
    "#len(fracNumeroNodosAlMenosGrado)\n",
    "#fracNumeroNodosAlMenosGrado\n",
    "plt.plot(ordenados, nodosAlMenosK)"
   ]
  },
  {
   "cell_type": "code",
   "execution_count": null,
   "metadata": {},
   "outputs": [],
   "source": []
  }
 ],
 "metadata": {
  "kernelspec": {
   "display_name": "Python 3",
   "language": "python",
   "name": "python3"
  },
  "language_info": {
   "codemirror_mode": {
    "name": "ipython",
    "version": 3
   },
   "file_extension": ".py",
   "mimetype": "text/x-python",
   "name": "python",
   "nbconvert_exporter": "python",
   "pygments_lexer": "ipython3",
   "version": "3.6.5"
  }
 },
 "nbformat": 4,
 "nbformat_minor": 2
}
