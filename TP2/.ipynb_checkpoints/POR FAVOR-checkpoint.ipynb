{
 "cells": [
  {
   "cell_type": "code",
   "execution_count": 1,
   "metadata": {},
   "outputs": [],
   "source": [
    "import numpy as np\n",
    "import networkx as nx\n",
    "import os\n",
    "from random import shuffle          # importamos las librerias necesarias\n",
    "import matplotlib.pylab as plt       \n",
    "%matplotlib inline\n",
    "from matplotlib.pyplot import title,xlabel,ylabel,show"
   ]
  },
  {
   "cell_type": "markdown",
   "metadata": {},
   "source": [
    "# ABRIMOS ARCHIVOS Y HACEMOS LOS GRAFOS"
   ]
  },
  {
   "cell_type": "code",
   "execution_count": 2,
   "metadata": {},
   "outputs": [],
   "source": [
    "def ldata(archive):\n",
    "    f=open(archive)\n",
    "    data=[]\n",
    "    for line in f:\n",
    "        line=line.strip()\n",
    "        col=line.split()\n",
    "        data.append(col)\n",
    "    return data"
   ]
  },
  {
   "cell_type": "code",
   "execution_count": 3,
   "metadata": {},
   "outputs": [],
   "source": [
    "def grafo(datosRed):\n",
    "    G = nx.Graph()\n",
    "    for i in range(np.shape(datosRed)[0]):\n",
    "        G.add_edges_from([(datosRed[i][0],datosRed[i][1])])\n",
    "    return G "
   ]
  },
  {
   "cell_type": "code",
   "execution_count": 4,
   "metadata": {},
   "outputs": [],
   "source": [
    "APMS = ldata('yeast_AP-MS.txt')\n",
    "grafoAPMS = grafo(APMS)\n",
    "\n",
    "LIT = ldata('yeast_LIT.txt')\n",
    "grafoLIT = grafo(LIT)\n"
   ]
  },
  {
   "cell_type": "code",
   "execution_count": 5,
   "metadata": {},
   "outputs": [],
   "source": [
    "Y2H = ldata('yeast_Y2H.txt')\n",
    "grafoY2H = grafo(Y2H)\n",
    "\n",
    "essentiality = ldata('Essential.txt')\n",
    "grafoEssentiality = grafo(essentiality)\n",
    "\n",
    "LITRegurly = ldata('yeast_LIT_Reguly.txt')\n"
   ]
  },
  {
   "cell_type": "code",
   "execution_count": 6,
   "metadata": {},
   "outputs": [],
   "source": [
    "def abrirRed(lista):\n",
    "\n",
    "    archivoAbierto = []\n",
    "\n",
    "    for array in lista:\n",
    "        archivoAbierto.append([array[0], array[1]])\n",
    "        \n",
    "    archivoAbiertoCortado = archivoAbierto[1:len(archivoAbierto)]\n",
    "    return archivoAbiertoCortado"
   ]
  },
  {
   "cell_type": "code",
   "execution_count": 7,
   "metadata": {},
   "outputs": [],
   "source": [
    "LITRegurlyOpened = abrirRed(LITRegurly)\n",
    "#type(LITRegurlyOpened)\n",
    "grafoLITREG = grafo(LITRegurlyOpened)\n"
   ]
  },
  {
   "cell_type": "code",
   "execution_count": 8,
   "metadata": {},
   "outputs": [
    {
     "data": {
      "text/plain": [
       "(9070, 9070)"
      ]
     },
     "execution_count": 8,
     "metadata": {},
     "output_type": "execute_result"
    }
   ],
   "source": [
    "setAPMS = set(grafoAPMS.edges())\n",
    "setLIT = set(grafoLIT.edges())\n",
    "setLITREG = set(grafoLITREG.edges())\n",
    "setY2H = set(grafoY2H.edges())\n",
    "\n",
    "\n",
    "#chequeamos que no nos den mas de una vez el mismo enlace \n",
    "len(grafoLIT.edges()), len(setLIT)\n",
    "len(grafoAPMS.edges()), len(setAPMS)"
   ]
  },
  {
   "cell_type": "code",
   "execution_count": 9,
   "metadata": {},
   "outputs": [],
   "source": [
    "#vemos el overlap entre los enlaces de los grafos \n",
    "def overlap(grafo1, grafo2):\n",
    "    setGrafo1 = set(grafo1.edges())\n",
    "    setGrafo2 = set(grafo2.edges())\n",
    "    overlap = setGrafo1.intersection(setGrafo2)\n",
    "    return overlap\n",
    "   "
   ]
  },
  {
   "cell_type": "code",
   "execution_count": 10,
   "metadata": {},
   "outputs": [
    {
     "data": {
      "text/plain": [
       "0.08976109215017065"
      ]
     },
     "execution_count": 10,
     "metadata": {},
     "output_type": "execute_result"
    }
   ],
   "source": [
    "overAPMSLIT = overlap(grafoAPMS, grafoLIT)\n",
    "overAPMSY2H = overlap(grafoAPMS, grafoY2H)\n",
    "overAPMSLITREG = overlap(grafoAPMS, grafoLITREG)\n",
    "overLITLITREG = overlap(grafoLIT, grafoLITREG)\n",
    "overLITY2H = overlap(grafoLIT, grafoY2H)\n",
    "overY2HLITREG = overlap(grafoY2H, grafoLITREG)\n",
    "#overAPMSLIT, overAPMSY2H, overAPMSLITREG\n",
    "len(overY2HLITREG)/len(setY2H)"
   ]
  },
  {
   "cell_type": "markdown",
   "metadata": {},
   "source": [
    "COMO SON REDES DE INTERACCION DE PROTEINAS SABEMOS QUE SON REDES NO DIRIGIDAS, PERO NOS PREGUNTAMOS\n",
    "SI TAL VEZ EN ALGUNAS REDES SE MUESTRA EL PAR A B MIENTRAS QUE EN OTRAS SE MUESTRA EL B A "
   ]
  },
  {
   "cell_type": "code",
   "execution_count": 12,
   "metadata": {},
   "outputs": [
    {
     "data": {
      "text/plain": [
       "{('A', 'B'), ('B', 'A')}"
      ]
     },
     "execution_count": 12,
     "metadata": {},
     "output_type": "execute_result"
    }
   ],
   "source": [
    "#probamos como invertir el orden en los sets de los enlaces \n",
    "m = {('A','B'),('B','A')}\n",
    "b = {(protein2,protein1) for protein1, protein2 in m}\n",
    "#b = [['B','A'],['A','B']]\n",
    "m.intersection(b)\n",
    "#[(protein2,protein1) for protein1, protein2 in m] \n",
    "#setAPMSTransp\n",
    "#'YGL151W', 'YOL051W'\n"
   ]
  },
  {
   "cell_type": "code",
   "execution_count": 13,
   "metadata": {},
   "outputs": [
    {
     "data": {
      "text/plain": [
       "(0, 81, 524, 225)"
      ]
     },
     "execution_count": 13,
     "metadata": {},
     "output_type": "execute_result"
    }
   ],
   "source": [
    "setAPMSTransp = [(protein2,protein1) for protein1, protein2 in setAPMS]\n",
    "overlapTransp1 = setAPMS.intersection(setAPMSTransp)\n",
    "\n",
    "setLITTransp = [(protein2,protein1) for protein1, protein2 in setLIT]\n",
    "overlapTransp2 = setLIT.intersection(setLITTransp)\n",
    "\n",
    "setLITREGTransp = [(protein2,protein1) for protein1, protein2 in setLITREG]\n",
    "overlapTransp3 = setLITREG.intersection(setLITREGTransp)\n",
    "\n",
    "setY2HTransp = [(protein2,protein1) for protein1, protein2 in setY2H]\n",
    "overlapTransp4 = setY2H.intersection(setY2HTransp)\n",
    "len(overlapTransp1), len(overlapTransp2), len(overlapTransp3),  len(overlapTransp4) "
   ]
  },
  {
   "cell_type": "code",
   "execution_count": 14,
   "metadata": {},
   "outputs": [
    {
     "data": {
      "text/plain": [
       "({True}, {True}, {True})"
      ]
     },
     "execution_count": 14,
     "metadata": {},
     "output_type": "execute_result"
    }
   ],
   "source": [
    "#PODRIA SER QUE LAS REDES SON DIRIGIDAS PERO COMO SON PROTEINAS NO PUEDE SER... ENTONCES \n",
    "#MIRAMOS CADA UNO DE LOS OVERLAPS Y VEMOS QUE SON ENLACES CON LOS MISMOS NODOS.. \n",
    "#ENTONCES PARA LAS REDES DE LA LIT Y LA Y2H hay self loops... \n",
    "#tomamos el criterio de que nos interesa ver si pasa que en una red el nodo A interactua con el mismo\n",
    "#y otra red tambien pasa. \n",
    "\n",
    "{protein1 == protein2 for protein1, protein2 in overlapTransp2},{protein1 == protein2 for protein1, protein2 in overlapTransp3},{protein1 == protein2 for protein1, protein2 in overlapTransp4}"
   ]
  },
  {
   "cell_type": "code",
   "execution_count": 15,
   "metadata": {},
   "outputs": [],
   "source": [
    "setAPMSTransp = {(protein2,protein1) for protein1, protein2 in setAPMS}\n",
    "setLITTransp = {(protein2,protein1) for protein1, protein2 in setLIT}\n",
    "setLITREGTransp = {(protein2,protein1) for protein1, protein2 in setLITREG}\n",
    "setY2HTransp = {(protein2,protein1) for protein1, protein2 in setY2H}\n",
    "\n",
    "overlapTranspAPMSLIT = setAPMS.intersection(setLITTransp)\n",
    "overlapTranspAPMSLITREG = setAPMS.intersection(setLITREGTransp)\n",
    "overlapTranspAPMSY2H = setAPMS.intersection(setY2HTransp)\n",
    "overlapTranspLITLITREG = setLIT.intersection(setLITREGTransp)\n",
    "overlapTranpsLITY2H = setLIT.intersection(setY2HTransp)\n",
    "overlapTranpsY2HLITREG = setY2H.intersection(setLITREGTransp)\n",
    "#overlapTranspAPMSLIT\n",
    "#{protein1 == protein2 for protein1, protein2 in overlapTranspAPMSLIT}\n",
    "#overlapTotal = overlap | overlapTransp1\n",
    "#len(overlapTranspAPMSLIT), len(overlapTranspAPMSLITREG), len(overlapTranspAPMSY2H)\n",
    "\n",
    "#me pregunto si ya los pude haber contado entonces redefino para contar si no lo conte aun. \n",
    "\n",
    "def overlapTotal(over,overTransp):\n",
    "    inter = over.intersection(overTransp)\n",
    "    overFinal = len(over) + len(overTransp) - len(inter)\n",
    "    return overFinal\n",
    "\n",
    "\n",
    "\n",
    "\n",
    "#lenOverlapTotal = len(overlap) + len(overlapTransp1)\n",
    "#overlapMedLIT = lenOverlapTotal/len(setLIT)                          #respecto del que dejamos fijo \n",
    "\n",
    "#overlapMedAPMS = lenOverlapTotal/len(setAPMS) \n",
    "#overlapMedLIT, overlapMedAPMS\n",
    "\n",
    "#len(overlapTotal), len(overlap), len(overlapTransp1)\n"
   ]
  },
  {
   "cell_type": "code",
   "execution_count": 16,
   "metadata": {},
   "outputs": [
    {
     "data": {
      "text/plain": [
       "(1298, 260, 2520, 2860, 260, 479)"
      ]
     },
     "execution_count": 16,
     "metadata": {},
     "output_type": "execute_result"
    }
   ],
   "source": [
    "APMSLIT = overlapTotal(overAPMSLIT, overlapTranspAPMSLIT)\n",
    "APMSY2H =overlapTotal(overAPMSY2H, overlapTranspAPMSY2H)\n",
    "APMSLITREG = overlapTotal(overAPMSLITREG, overlapTranspAPMSLITREG)\n",
    "LITLITREG = overlapTotal(overLITLITREG, overlapTranspLITLITREG)\n",
    "LITY2H = overlapTotal(overLITY2H, overlapTranpsLITY2H)\n",
    "Y2HLITREG = overlapTotal(overY2HLITREG, overlapTranpsY2HLITREG)\n",
    "APMSLIT,APMSY2H,APMSLITREG,LITLITREG,LITY2H,Y2HLITREG"
   ]
  },
  {
   "cell_type": "code",
   "execution_count": 35,
   "metadata": {},
   "outputs": [
    {
     "data": {
      "text/plain": [
       "([0.14310915104740904, 0.4437606837606838],\n",
       " [0.02866593164277839, 0.08873720136518772],\n",
       " [0.27783902976846747, 0.21251475796930341])"
      ]
     },
     "execution_count": 35,
     "metadata": {},
     "output_type": "execute_result"
    }
   ],
   "source": [
    "[APMSLIT/len(setAPMS), APMSLIT/len(setLIT)], [APMSY2H/len(setAPMS), APMSY2H/len(setY2H)], [APMSLITREG/len(setAPMS), APMSLITREG/len(setLITREG)]"
   ]
  },
  {
   "cell_type": "code",
   "execution_count": 37,
   "metadata": {},
   "outputs": [
    {
     "data": {
      "text/plain": [
       "([0.9777777777777777, 0.24118738404452691],\n",
       " [0.08888888888888889, 0.08873720136518772],\n",
       " [0.163481228668942, 0.040394670264800134])"
      ]
     },
     "execution_count": 37,
     "metadata": {},
     "output_type": "execute_result"
    }
   ],
   "source": [
    "[LITLITREG/len(setLIT), LITLITREG/len(setLITREG)], [LITY2H/len(setLIT), LITY2H/len(setY2H)], [Y2HLITREG/len(setY2H), Y2HLITREG/len(setLITREG)]"
   ]
  },
  {
   "cell_type": "code",
   "execution_count": 18,
   "metadata": {},
   "outputs": [],
   "source": [
    "#BORRARLOOOOOO \n",
    "repetidosLIT = setLIT.intersection(setLITTransp)\n",
    "\n",
    "repetidosLITTransp = {(protein2,protein1) for protein1, protein2 in repetidosLIT}\n",
    "\n",
    "#overlapRepetidosLIT =  repetidosLITTransp.intersection(overlapTotal)\n",
    "#suma = 0\n",
    "#for elem in repetidosLIT:\n",
    "#    if elem[0] == elem[1]:\n",
    "#        suma  = suma + 1\n",
    "        \n",
    "#if suma == len(repetidosLIT):\n",
    "#    print(\"self loops!\")"
   ]
  },
  {
   "cell_type": "code",
   "execution_count": 19,
   "metadata": {},
   "outputs": [
    {
     "data": {
      "text/plain": [
       "(0, 0)"
      ]
     },
     "execution_count": 19,
     "metadata": {},
     "output_type": "execute_result"
    }
   ],
   "source": [
    "#BORRARLO\n",
    "repetidosAPMS = setAPMS.intersection(setAPMSTransp)\n",
    "\n",
    "repetidosAPMSTransp = {(protein2,protein1) for protein1, protein2 in repetidosAPMS}\n",
    "\n",
    "len(repetidosAPMS), len(repetidosAPMSTransp)"
   ]
  },
  {
   "cell_type": "markdown",
   "metadata": {},
   "source": [
    "# C. LA FIGURA "
   ]
  },
  {
   "cell_type": "code",
   "execution_count": 20,
   "metadata": {},
   "outputs": [],
   "source": [
    "#el flash para la figura \n",
    "#me armo una lista de los nodos ordenados segun el grado (de mayor a menor) \n",
    "#agarro el grado k cuantos nodos tienen al menos ese grado, calculo la fraccion sobre el total de nodos ---eje x \n",
    "#la fraccion de ese conjunto que son esenciales (biologicamente..) del archivo que ya tenemos. \n",
    "\n"
   ]
  },
  {
   "cell_type": "code",
   "execution_count": 21,
   "metadata": {},
   "outputs": [],
   "source": [
    "def ordenanodos(G): #G:grafo, criterio=diccionario 'nombredenodo':parametro\n",
    "    dictCriterio = dict(G.degree())\n",
    "    parametroOrdenado = sorted(set(dictCriterio.values()), reverse=True)\n",
    "    nodosOrdenados = []\n",
    "    kNodosOrdenados = []\n",
    "    for j in parametroOrdenado:\n",
    "        for key,value in dictCriterio.items():\n",
    "            if value==j:\n",
    "                nodosOrdenados.append(key)\n",
    "                kNodosOrdenados.append(value)\n",
    "    return([nodosOrdenados,kNodosOrdenados])"
   ]
  },
  {
   "cell_type": "code",
   "execution_count": 22,
   "metadata": {},
   "outputs": [],
   "source": [
    "#para APMS \n",
    "#donde la primera componente es un array con los nodos y \n",
    "#la segunda componente es el grado de cada uno de ellos\n",
    "#nodosOrdenadosAPMS[1]\n",
    "nodosOrdenadosAPMS = ordenanodos(grafoAPMS)\n",
    "nodosOrdenadosLIT = ordenanodos(grafoLIT)\n",
    "nodosOrdenadosY2H = ordenanodos(grafoY2H)\n"
   ]
  },
  {
   "cell_type": "code",
   "execution_count": 23,
   "metadata": {},
   "outputs": [
    {
     "data": {
      "text/plain": [
       "(1622, 1622)"
      ]
     },
     "execution_count": 23,
     "metadata": {},
     "output_type": "execute_result"
    }
   ],
   "source": [
    "#dict(grafoAPMS.degree()).values()\n",
    "len(nodosOrdenadosAPMS[1]), len(grafoAPMS.nodes())"
   ]
  },
  {
   "cell_type": "code",
   "execution_count": 24,
   "metadata": {},
   "outputs": [],
   "source": [
    "#quiero saber cuantos tienen cada uno de los grados\n",
    "\n",
    "def NodosYGradoK(grafo):\n",
    "\n",
    "    dictCriterio = dict(grafo.degree())\n",
    "    gradosOrdenados = sorted(set(dictCriterio.values()), reverse=True) # me los da los grados ordenados \n",
    "    nodosOrdenados = ordenanodos(grafo)\n",
    "    gradosNodos = nodosOrdenados[1]\n",
    "\n",
    "    nodosGradoK = []\n",
    "    grado = []\n",
    "\n",
    "    for ktarget in set(gradosNodos):\n",
    "        nodosKTarget = 0\n",
    "        for k in gradosNodos:\n",
    "            if ktarget == k:\n",
    "                nodosKTarget = nodosKTarget + 1\n",
    "            #grado.append(ktarget)\n",
    "        nodosGradoK.append(nodosKTarget)\n",
    "\n",
    "\n",
    "    if sum(nodosGradoK) == len(grafo.nodes()):\n",
    "        print(\"vamo\")\n",
    "    else:\n",
    "        print(\"algo  mal\")\n",
    "    return([set(gradosNodos),nodosGradoK])"
   ]
  },
  {
   "cell_type": "code",
   "execution_count": 25,
   "metadata": {},
   "outputs": [
    {
     "name": "stdout",
     "output_type": "stream",
     "text": [
      "vamo\n"
     ]
    }
   ],
   "source": [
    "APMS = NodosYGradoK(grafoAPMS)[1]"
   ]
  },
  {
   "cell_type": "code",
   "execution_count": 26,
   "metadata": {},
   "outputs": [],
   "source": [
    "#quiero saber cuantos tienen cada uno de los grados\n",
    "\n",
    "def FracNodosAlMenosGradoK(grafo):\n",
    "\n",
    "    dictCriterio = dict(grafo.degree())\n",
    "    gradosOrdenados = sorted(set(dictCriterio.values()), reverse=True) # me los da los grados ordenados \n",
    "    nodosOrdenados = ordenanodos(grafo)\n",
    "    gradosNodos = nodosOrdenados[1]\n",
    "\n",
    "    nodosFraccAlMenosK = []\n",
    "    cantNodosAlMenosK = []\n",
    "\n",
    "    for ktarget in gradosOrdenados:\n",
    "        nodosAlMenosKTarget = 0\n",
    "        for k in gradosNodos:\n",
    "            if ktarget <= k:\n",
    "                nodosAlMenosKTarget = nodosAlMenosKTarget + 1\n",
    "                cantNodosAlMenosKTarget = nodosAlMenosKTarget\n",
    "                fracNodosAlMenosKTarget = nodosAlMenosKTarget/len(grafo.nodes())\n",
    "        nodosFraccAlMenosK.append(fracNodosAlMenosKTarget)\n",
    "        cantNodosAlMenosK.append(cantNodosAlMenosKTarget)\n",
    "#si hice las cosas bien, la cantidad de nodos que al menos tienen grado 1 deben ser todos mis nodos\n",
    "\n",
    "\n",
    "    if nodosFraccAlMenosK[len(nodosFraccAlMenosK)-1] == 1:\n",
    "        print('bien hecho')\n",
    "    else:\n",
    "        print('algo mal!')\n",
    "\n",
    "#    for key, value in fracNumeroNodosAlMenosGrado.items():\n",
    "#        if value == 1:\n",
    "#            if key == len(grafoAPMS.nodes())/len(grafo.nodes()):\n",
    "#                print('bien hecho')\n",
    "#            else:\n",
    "#                print('algo mal!')\n",
    "    return([nodosFraccAlMenosK,cantNodosAlMenosK,gradosOrdenados])"
   ]
  },
  {
   "cell_type": "code",
   "execution_count": 27,
   "metadata": {},
   "outputs": [
    {
     "name": "stdout",
     "output_type": "stream",
     "text": [
      "bien hecho\n"
     ]
    },
    {
     "data": {
      "text/plain": [
       "[<matplotlib.lines.Line2D at 0x211b0ea7630>]"
      ]
     },
     "execution_count": 27,
     "metadata": {},
     "output_type": "execute_result"
    },
    {
     "data": {
      "image/png": "[encoded data removed]",
      "text/plain": [
       "<Figure size 432x288 with 1 Axes>"
      ]
     },
     "metadata": {},
     "output_type": "display_data"
    }
   ],
   "source": [
    "nodosAlMenosGradoKAPMS = FracNodosAlMenosGradoK(grafoAPMS)\n",
    "#grafico de cantidad de nodos que tienen al menos grado k en funcion del grado k \n",
    "\n",
    "#fracNodosAlMenosGradoKAPMS = []\n",
    "#for i in range(len(nodosAlMenosGradoKAPMS[0])):\n",
    "#    fracNodosAlMenosGradoKAPMS.append(nodosAlMenosGradoKAPMS[0][i]/len(grafoAPMS.nodes()))\n",
    "    \n",
    "plt.plot(nodosAlMenosGradoKAPMS[2], nodosAlMenosGradoKAPMS[0])\n",
    "\n"
   ]
  },
  {
   "cell_type": "code",
   "execution_count": 28,
   "metadata": {},
   "outputs": [],
   "source": [
    "#ahora lo que me queda hacer es dado los N nodos que tienen al menos grado k, ver la fraccion de ellos que son esenciales "
   ]
  },
  {
   "cell_type": "code",
   "execution_count": 29,
   "metadata": {},
   "outputs": [],
   "source": [
    "#OJO QUE USO grafoEssentiality.nodes() DONDE ME APARECEN MUCHOS NOMBRES, ENTRE ELLOS LOS NOMBRES DE LAS PROTEINAS ESENCIALES \n",
    "\n",
    "def fraccEssentials(grafo):\n",
    "\n",
    "    dictCriterio = dict(grafo.degree())\n",
    "    gradosOrdenados = sorted(set(dictCriterio.values()), reverse=True)\n",
    "    nombresNodosEssential = list(grafoEssentiality.nodes())\n",
    "    #nombreNodosGrafo = nombreNodosAlMenosGradoK(grafo)\n",
    "    nombresNodosGrafo = ordenanodos(grafo)[0]\n",
    "    gradosNodosGrafo = ordenanodos(grafo)[1]\n",
    "\n",
    "    cantEssentials = []\n",
    "    alMenosGrado = []\n",
    "\n",
    "    for kTarget in gradosOrdenados:\n",
    "        totalNodosParaKTarget = 0\n",
    "        for i in range(len(gradosNodosGrafo)):\n",
    "            if kTarget <= gradosNodosGrafo[i]:\n",
    "                nodoTarget = nombresNodosGrafo[i]\n",
    "                for nombreNodo in nombresNodosEssential:\n",
    "                    if nodoTarget == nombreNodo:\n",
    "                        totalNodosParaKTarget = totalNodosParaKTarget + 1 \n",
    "        cantEssentials.append(totalNodosParaKTarget)\n",
    "        alMenosGrado.append(kTarget)\n",
    "    essentials = [cantEssentials, alMenosGrado]\n",
    "    return essentials"
   ]
  },
  {
   "cell_type": "code",
   "execution_count": 30,
   "metadata": {},
   "outputs": [
    {
     "data": {
      "text/plain": [
       "607"
      ]
     },
     "execution_count": 30,
     "metadata": {},
     "output_type": "execute_result"
    }
   ],
   "source": [
    "essentials = fraccEssentials(grafoAPMS)\n",
    "essentials[0][len(essentials[0])-1]"
   ]
  },
  {
   "cell_type": "code",
   "execution_count": 31,
   "metadata": {},
   "outputs": [],
   "source": [
    "#essentials es un vector qeu tiene en la primera fila la cantidad de nodos esenciales de al menos k grado, y la segunda fila el k grado \n",
    "#nodosAlMenosGradoKAPMS #es un vector que tiene en la primera fila la cantidad de nodos de al menos k grado, y la segunda fila el k grado \n",
    "#len(essentials[0]),len(nodosAlMenosGradoKAPMS[0])\n"
   ]
  },
  {
   "cell_type": "code",
   "execution_count": 32,
   "metadata": {},
   "outputs": [],
   "source": [
    "#para hacer eso len(essentials[0]) = len(nodosAlMenosGradoKAPMS[0])\n",
    "fraaEsen = []\n",
    "\n",
    "for i in range(len(essentials[0])):\n",
    "    fraccEssentials = essentials[0][i]/nodosAlMenosGradoKAPMS[1][i]\n",
    "    fraaEsen.append(fraccEssentials)"
   ]
  },
  {
   "cell_type": "code",
   "execution_count": 33,
   "metadata": {},
   "outputs": [
    {
     "data": {
      "text/plain": [
       "(0, 1)"
      ]
     },
     "execution_count": 33,
     "metadata": {},
     "output_type": "execute_result"
    },
    {
     "data": {
      "image/png": "[encoded data removed]",
      "text/plain": [
       "<Figure size 432x288 with 1 Axes>"
      ]
     },
     "metadata": {},
     "output_type": "display_data"
    }
   ],
   "source": [
    "#len(fraaEsen)\n",
    "plt.plot(nodosAlMenosGradoKAPMS[0],fraaEsen)\n",
    "plt.xlabel('fracc de nodos al menor grado K')\n",
    "plt.ylabel('fracc de nodos esenciales de al menor grado K')\n",
    "plt.legend(\"fracc de nodos esenciales respecto a los nodos de grado k\")\n",
    "plt.ylim([0,1])"
   ]
  },
  {
   "cell_type": "code",
   "execution_count": 34,
   "metadata": {},
   "outputs": [
    {
     "name": "stdout",
     "output_type": "stream",
     "text": [
      "bien hecho\n",
      "bien hecho\n",
      "bien hecho\n",
      "bien hecho\n"
     ]
    },
    {
     "ename": "TypeError",
     "evalue": "'float' object is not callable",
     "output_type": "error",
     "traceback": [
      "\u001b[1;31m---------------------------------------------------------------------------\u001b[0m",
      "\u001b[1;31mTypeError\u001b[0m                                 Traceback (most recent call last)",
      "\u001b[1;32m<ipython-input-34-fdda3e46d670>\u001b[0m in \u001b[0;36m<module>\u001b[1;34m()\u001b[0m\n\u001b[0;32m      4\u001b[0m \u001b[0mnodosAlMenosGradoKLITREG\u001b[0m \u001b[1;33m=\u001b[0m \u001b[0mFracNodosAlMenosGradoK\u001b[0m\u001b[1;33m(\u001b[0m\u001b[0mgrafoLITREG\u001b[0m\u001b[1;33m)\u001b[0m\u001b[1;33m\u001b[0m\u001b[0m\n\u001b[0;32m      5\u001b[0m \u001b[1;33m\u001b[0m\u001b[0m\n\u001b[1;32m----> 6\u001b[1;33m \u001b[0messentialsAPMS\u001b[0m \u001b[1;33m=\u001b[0m \u001b[0mfraccEssentials\u001b[0m\u001b[1;33m(\u001b[0m\u001b[0mgrafoAPMS\u001b[0m\u001b[1;33m)\u001b[0m\u001b[1;33m\u001b[0m\u001b[0m\n\u001b[0m\u001b[0;32m      7\u001b[0m \u001b[0messentialsLIT\u001b[0m \u001b[1;33m=\u001b[0m \u001b[0mfraccEssentials\u001b[0m\u001b[1;33m(\u001b[0m\u001b[0mgrafoLIT\u001b[0m\u001b[1;33m)\u001b[0m\u001b[1;33m\u001b[0m\u001b[0m\n\u001b[0;32m      8\u001b[0m \u001b[0messentialsY2H\u001b[0m \u001b[1;33m=\u001b[0m \u001b[0mfraccEssentials\u001b[0m\u001b[1;33m(\u001b[0m\u001b[0mgrafoY2H\u001b[0m\u001b[1;33m)\u001b[0m\u001b[1;33m\u001b[0m\u001b[0m\n",
      "\u001b[1;31mTypeError\u001b[0m: 'float' object is not callable"
     ]
    }
   ],
   "source": [
    "nodosAlMenosGradoKAPMS = FracNodosAlMenosGradoK(grafoAPMS)\n",
    "nodosAlMenosGradoKLIT = FracNodosAlMenosGradoK(grafoLIT)\n",
    "nodosAlMenosGradoKY2H = FracNodosAlMenosGradoK(grafoY2H)\n",
    "nodosAlMenosGradoKLITREG = FracNodosAlMenosGradoK(grafoLITREG)\n",
    "\n",
    "essentialsAPMS = fraccEssentials(grafoAPMS)\n",
    "essentialsLIT = fraccEssentials(grafoLIT)\n",
    "essentialsY2H = fraccEssentials(grafoY2H)\n",
    "essentialsLITREG = fraccEssentials(grafoLITREG)"
   ]
  },
  {
   "cell_type": "code",
   "execution_count": null,
   "metadata": {},
   "outputs": [],
   "source": [
    "fraaEsenLIT = []\n",
    "\n",
    "for i in range(len(essentialsLIT[0])):\n",
    "    fraccEssentials = essentialsLIT[0][i]/nodosAlMenosGradoKLIT[1][i]\n",
    "    fraaEsenLIT.append(fraccEssentials)\n",
    "    \n",
    "fraaEsenY2H = []\n",
    "\n",
    "for i in range(len(essentialsY2H[0])):\n",
    "    fraccEssentials = essentialsY2H[0][i]/nodosAlMenosGradoKY2H[1][i]\n",
    "    fraaEsenY2H.append(fraccEssentials)\n",
    "    \n",
    "fraaEsenLITREG = []\n",
    "\n",
    "for i in range(len(essentialsLITREG[0])):\n",
    "    fraccEssentials = essentialsLITREG[0][i]/nodosAlMenosGradoKLITREG[1][i]\n",
    "    fraaEsenLITREG.append(fraccEssentials)"
   ]
  },
  {
   "cell_type": "code",
   "execution_count": null,
   "metadata": {},
   "outputs": [],
   "source": [
    "fig = plt.figure()\n",
    "ax = plt.subplot(111)\n",
    "ax.plot(nodosAlMenosGradoKLIT[0],fraaEsenLIT,label='Literatura 1')\n",
    "ax.plot(nodosAlMenosGradoKLITREG[0],fraaEsenLITREG, label='Literatura 2')\n",
    "ax.plot(nodosAlMenosGradoKAPMS[0],fraaEsen, label='APMS')\n",
    "ax.plot(nodosAlMenosGradoKY2H[0],fraaEsenY2H, label='Y2H')\n",
    "plt.xlabel('fracc de nodos al menor grado K')\n",
    "plt.ylabel('fracc de nodos esenciales')\n",
    "plt.legend(\"fracc de nodos esenciales\")\n",
    "plt.ylim([0,1])\n",
    "plt.xlim([0,1])\n",
    "plt.legend()\n",
    "fig.savefig('fig1Zotenko.png')"
   ]
  },
  {
   "cell_type": "code",
   "execution_count": null,
   "metadata": {},
   "outputs": [],
   "source": [
    "grafoAPMS.number_of_nodes(), grafoY2H.number_of_nodes(), grafoLIT.number_of_nodes(), grafoLITREG.number_of_nodes()\n"
   ]
  },
  {
   "cell_type": "code",
   "execution_count": null,
   "metadata": {},
   "outputs": [],
   "source": [
    "grafoAPMS.number_of_edges(), grafoY2H.number_of_edges(), grafoLIT.number_of_edges(), grafoLITREG.number_of_edges()\n"
   ]
  },
  {
   "cell_type": "code",
   "execution_count": null,
   "metadata": {},
   "outputs": [],
   "source": [
    "nx.average_clustering(grafoAPMS),nx.average_clustering(grafoY2H),nx.average_clustering(grafoLIT), nx.average_clustering(grafoLITREG)"
   ]
  },
  {
   "cell_type": "code",
   "execution_count": null,
   "metadata": {},
   "outputs": [],
   "source": [
    "np.mean(np.array([j for (i,j) in grafoAPMS.degree])),np.mean(np.array([j for (i,j) in grafoY2H.degree])),np.mean(np.array([j for (i,j) in grafoLIT.degree])),np.mean(np.array([j for (i,j) in grafoLITREG.degree]))"
   ]
  },
  {
   "cell_type": "code",
   "execution_count": null,
   "metadata": {},
   "outputs": [],
   "source": []
  }
 ],
 "metadata": {
  "kernelspec": {
   "display_name": "Python 3",
   "language": "python",
   "name": "python3"
  },
  "language_info": {
   "codemirror_mode": {
    "name": "ipython",
    "version": 3
   },
   "file_extension": ".py",
   "mimetype": "text/x-python",
   "name": "python",
   "nbconvert_exporter": "python",
   "pygments_lexer": "ipython3",
   "version": "3.6.5"
  }
 },
 "nbformat": 4,
 "nbformat_minor": 2
}
