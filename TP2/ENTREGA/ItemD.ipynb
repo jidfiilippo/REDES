{
 "cells": [
  {
   "cell_type": "code",
   "execution_count": 1,
   "metadata": {
    "collapsed": true
   },
   "outputs": [],
   "source": [
    "import numpy as np\n",
    "import networkx as nx\n",
    "import matplotlib.pylab as plt\n",
    "%matplotlib inline\n",
    "import os\n",
    "import math\n",
    "import pandas as pd\n",
    "from scipy import optimize"
   ]
  },
  {
   "cell_type": "markdown",
   "metadata": {},
   "source": [
    "# Leo las redes"
   ]
  },
  {
   "cell_type": "code",
   "execution_count": 2,
   "metadata": {
    "collapsed": true
   },
   "outputs": [],
   "source": [
    "def ldata(archive):\n",
    "    f=open(archive)\n",
    "    data=[]\n",
    "    for line in f:\n",
    "        line=line.strip()\n",
    "        col=line.split()\n",
    "        data.append(col)\n",
    "    return data\n",
    "\n",
    "Y2H=ldata('yeast_Y2H.txt')\n",
    "LIT=ldata('yeast_LIT.txt')\n",
    "LIT_R=ldata('yeast_LIT_Reguly.txt')\n",
    "\n",
    "\n",
    "def grafo(datosRed):\n",
    "    G = nx.Graph()\n",
    "    for i in range(np.shape(datosRed)[0]):\n",
    "        G.add_edges_from([(datosRed[i][0],datosRed[i][1])])\n",
    "    return G\n",
    "\n",
    "GY2H=grafo(Y2H)\n",
    "GLIT=grafo(LIT)\n",
    "GLIT_R=grafo(LIT_R)"
   ]
  },
  {
   "cell_type": "markdown",
   "metadata": {},
   "source": [
    "ESENCIALIDAD DE LOS NODOS"
   ]
  },
  {
   "cell_type": "code",
   "execution_count": 3,
   "metadata": {
    "collapsed": true
   },
   "outputs": [],
   "source": [
    "essentiality=ldata('Essential.txt')\n",
    "\n",
    "ess=[]\n",
    "for i in range(len(essentiality)):\n",
    "    ess.append(essentiality[i][1])\n",
    "    \n",
    "def essentiality(nodo): \n",
    "    if len({nodo}.intersection(set(ess)))==0:\n",
    "        e=0\n",
    "    else:\n",
    "        e=1\n",
    "    return e    \n",
    "\n",
    "def AssignEssentiality(G):\n",
    "    dict_ess = { nodo: essentiality(nodo) for nodo  in G.nodes() }\n",
    "    for n in G.nodes:\n",
    "        G.nodes[n][\"essentiality\"] = dict_ess[n]\n",
    "    return\n",
    "\n",
    "def NodosEsenciales(G):\n",
    "    AssignEssentiality(G)\n",
    "    nodosesenciales=[]\n",
    "    for nodo in list(set(G.nodes())):\n",
    "        if G.nodes.data(\"essentiality\")[nodo]==1:\n",
    "            nodosesenciales.append(nodo)\n",
    "    return(nodosesenciales)"
   ]
  },
  {
   "cell_type": "markdown",
   "metadata": {},
   "source": [
    "# i) Fraccion de nodos esenciales por grado"
   ]
  },
  {
   "cell_type": "code",
   "execution_count": 4,
   "metadata": {
    "collapsed": true
   },
   "outputs": [],
   "source": [
    "def fracessk(G):\n",
    "    \n",
    "    deg=[degree for node,degree in list(G.degree())]\n",
    "    deg=list(set(deg))\n",
    "    listin=[[degree,name] for (name, degree) in list(G.degree())]\n",
    "    nodosesenciales=NodosEsenciales(G)\n",
    "    ntot=np.zeros(len(deg),dtype=int)\n",
    "    ness=np.zeros(len(deg),dtype=int)\n",
    "    index=0\n",
    "\n",
    "    for k in deg:\n",
    "        for i in range(len(listin)):\n",
    "            if listin[i][0]==k:\n",
    "                ntot[index]=ntot[index]+1\n",
    "                \n",
    "                if (len({listin[i][1]}.intersection(set(nodosesenciales)))==1):\n",
    "                    ness[index]=ness[index]+1    \n",
    "        index=index+1    \n",
    "    \n",
    "    fraccion_nodos_ess=ness/ntot\n",
    "    deg_array=np.array(deg)\n",
    "    ntot=np.array(ntot)\n",
    "    \n",
    "    return deg_array,ntot,fraccion_nodos_ess"
   ]
  },
  {
   "cell_type": "code",
   "execution_count": 5,
   "metadata": {
    "collapsed": true
   },
   "outputs": [],
   "source": [
    "degrees_Y2H,ntot_Y2H,frac_Y2H=fracessk(GY2H)\n",
    "degrees_LIT,ntot_LIT,frac_LIT=fracessk(GLIT)\n",
    "degrees_LIT_R,ntot_LIT_R,frac_LIT_R=fracessk(GLIT_R)"
   ]
  },
  {
   "cell_type": "markdown",
   "metadata": {},
   "source": [
    "¿Hasta que k tengo que llegar para tener el 95% de los nodos de la red?"
   ]
  },
  {
   "cell_type": "code",
   "execution_count": 6,
   "metadata": {
    "collapsed": true
   },
   "outputs": [],
   "source": [
    "def idegree_max(ntot):\n",
    "    \n",
    "    Nsum=0\n",
    "    Ncrit=int(0.95*ntot_Y2H.sum())\n",
    "    \n",
    "    for i in range(len(ntot_Y2H)):\n",
    "        if Nsum>= Ncrit:\n",
    "            icrit=i\n",
    "            break\n",
    "        else:\n",
    "            Nsum=Nsum+ntot_Y2H[i]\n",
    "            \n",
    "    return icrit"
   ]
  },
  {
   "cell_type": "code",
   "execution_count": 7,
   "metadata": {
    "collapsed": true
   },
   "outputs": [],
   "source": [
    "id_Y2H=idegree_max(ntot_Y2H)\n",
    "id_LIT=idegree_max(ntot_LIT)\n",
    "id_LIT_R=idegree_max(ntot_LIT_R)"
   ]
  },
  {
   "cell_type": "code",
   "execution_count": 8,
   "metadata": {},
   "outputs": [
    {
     "name": "stdout",
     "output_type": "stream",
     "text": [
      "8 8 8 8\n"
     ]
    }
   ],
   "source": [
    "print(id_APMS,id_Y2H,id_LIT,id_LIT_R)"
   ]
  },
  {
   "cell_type": "markdown",
   "metadata": {},
   "source": [
    "# AJUSTE LINEAL"
   ]
  },
  {
   "cell_type": "code",
   "execution_count": 10,
   "metadata": {
    "collapsed": true
   },
   "outputs": [],
   "source": [
    "x_Y2H=degrees_Y2H[0:10]\n",
    "y_Y2H=np.log(1-frac_Y2H[0:10])\n",
    "\n",
    "x_LIT=degrees_LIT[0:10]\n",
    "y_LIT=np.log(1-frac_LIT[0:10])\n",
    "\n",
    "x_LIT_R=degrees_LIT_R[0:10]\n",
    "y_LIT_R=np.log(1-frac_LIT_R[0:10])"
   ]
  },
  {
   "cell_type": "code",
   "execution_count": 11,
   "metadata": {
    "collapsed": true
   },
   "outputs": [],
   "source": [
    "def linearfit(X,Y):\n",
    "    \n",
    "    fitfunc = lambda p, x: p[0] + p[1] * x\n",
    "    errfunc = lambda p, x, y: (y - fitfunc(p, x))\n",
    "    pinit = [1.0, -1.0]\n",
    "    out = optimize.leastsq(errfunc, pinit,args=(X, Y), full_output=1)\n",
    "    \n",
    "    b=out[0][0]\n",
    "    m=out[0][1]\n",
    "    covar=out[1]\n",
    "    \n",
    "    s_sq = ( ( Y- ( m*X + b ) )**2 ).sum() / (len(X))\n",
    "    b_err=np.sqrt(s_sq*covar[0][0])\n",
    "    m_err=np.sqrt(s_sq*covar[1][1])\n",
    "    \n",
    "    M=np.array([m,m_err])\n",
    "    B=np.array([b,b_err])\n",
    "    \n",
    "    return M,B"
   ]
  },
  {
   "cell_type": "code",
   "execution_count": 30,
   "metadata": {},
   "outputs": [],
   "source": [
    "M_Y2H,B_Y2H=linearfit(x_Y2H,y_Y2H)\n",
    "M_LIT,B_LIT=linearfit(x_LIT,y_LIT)\n",
    "M_LIT_R,B_LIT_R=linearfit(x_LIT_R,y_LIT_R)"
   ]
  },
  {
   "cell_type": "code",
   "execution_count": 15,
   "metadata": {
    "collapsed": true
   },
   "outputs": [],
   "source": [
    "m_Y2H, b_Y2H = M_Y2H[0],B_Y2H[0]\n",
    "m_LIT, b_LIT = M_LIT[0],B_LIT[0]\n",
    "m_LIT_R, b_LIT_R = M_LIT_R[0],B_LIT_R[0]\n",
    "\n",
    "alpha_Y2H=1-np.exp(m_Y2H)\n",
    "beta_Y2H=1-np.exp(b_Y2H)\n",
    "\n",
    "alpha_LIT=1-np.exp(m_LIT)\n",
    "beta_LIT=1-np.exp(b_LIT)\n",
    "\n",
    "alpha_LIT_R=1-np.exp(m_LIT_R)\n",
    "beta_LIT_R=1-np.exp(b_LIT_R)"
   ]
  },
  {
   "cell_type": "markdown",
   "metadata": {
    "collapsed": true
   },
   "source": [
    "ERROR ALPHA Y BETA"
   ]
  },
  {
   "cell_type": "code",
   "execution_count": 55,
   "metadata": {
    "collapsed": true
   },
   "outputs": [],
   "source": [
    "def err_alpbet(m,b,err_m,err_b):\n",
    "    \n",
    "    dalpha_dm=m*np.exp(m)\n",
    "    alpha_err= dalpha_dm * err_m\n",
    "    \n",
    "    dbeta_db=b*np.exp(b)\n",
    "    beta_err= dbeta_db * err_b\n",
    "    \n",
    "    return np.abs(alpha_err), np.abs(beta_err)"
   ]
  },
  {
   "cell_type": "code",
   "execution_count": 56,
   "metadata": {},
   "outputs": [],
   "source": [
    "alpha_err_Y2H, beta_err_Y2H = err_alpbet(m_Y2H,b_Y2H,M_Y2H[1],B_Y2H[1])\n",
    "alpha_err_LIT, beta_err_LIT = err_alpbet(m_LIT,b_LIT,M_LIT[1],B_LIT[1])\n",
    "alpha_err_LIT_R, beta_err_LIT_R = err_alpbet(m_LIT_R,b_LIT_R,M_LIT_R[1],B_LIT_R[1])"
   ]
  },
  {
   "cell_type": "code",
   "execution_count": 110,
   "metadata": {},
   "outputs": [
    {
     "name": "stdout",
     "output_type": "stream",
     "text": [
      "ALPHA_Y2H: 0.0146558606277 +/- 0.000141801291586\n",
      "BETA_Y2H: 0.182168183614 +/- 0.00994677224064\n",
      "\n",
      "ALPHA_LIT: 0.063560866823 +/- 0.000846012408875\n",
      "BETA_LIT: 0.299932483424 +/- 0.0213083890701\n",
      "\n",
      "ALPHA_LIT_R: 0.0527767347068 +/- 0.000272238450382\n",
      "BETA_LIT_R: 0.0427113454674 +/- 0.0013743412248\n"
     ]
    }
   ],
   "source": [
    "print('ALPHA_Y2H:', alpha_Y2H,'+/-',alpha_err_Y2H)\n",
    "print('BETA_Y2H:', beta_Y2H,'+/-',beta_err_Y2H)\n",
    "print()\n",
    "print('ALPHA_LIT:', alpha_LIT,'+/-',alpha_err_LIT)\n",
    "print('BETA_LIT:', beta_LIT,'+/-',beta_err_LIT)\n",
    "print()\n",
    "print('ALPHA_LIT_R:', alpha_LIT_R,'+/-',alpha_err_LIT_R)\n",
    "print('BETA_LIT_R:', beta_LIT_R,'+/-',beta_err_LIT_R)"
   ]
  },
  {
   "cell_type": "markdown",
   "metadata": {},
   "source": [
    "PLOT"
   ]
  },
  {
   "cell_type": "code",
   "execution_count": 17,
   "metadata": {
    "collapsed": true
   },
   "outputs": [],
   "source": [
    "yfit_Y2H=m_Y2H*degrees_Y2H[0:10]+b_Y2H\n",
    "yfit_LIT=m_LIT*degrees_LIT[0:10]+b_LIT\n",
    "yfit_LIT_R=m_LIT_R*degrees_LIT_R[0:10]+b_LIT_R"
   ]
  },
  {
   "cell_type": "code",
   "execution_count": 18,
   "metadata": {},
   "outputs": [
    {
     "data": {
      "text/plain": [
       "<matplotlib.legend.Legend at 0x7f8c75563128>"
      ]
     },
     "execution_count": 18,
     "metadata": {},
     "output_type": "execute_result"
    },
    {
     "data": {
      "image/png": "[encoded data removed]",
      "text/plain": [
       "<matplotlib.figure.Figure at 0x7f8c755bf630>"
      ]
     },
     "metadata": {},
     "output_type": "display_data"
    }
   ],
   "source": [
    "plt.plot(degrees_Y2H[0:10],np.log(1-frac_Y2H[0:10]),'.', markersize=10)\n",
    "plt.plot(degrees_Y2H[0:10],yfit_Y2H,'b',linewidth=1,label='Y2H')\n",
    "plt.plot(degrees_LIT[0:10],np.log(1-frac_LIT[0:10]),'.', markersize=10)\n",
    "plt.plot(degrees_LIT[0:10],yfit_LIT,'y',linewidth=1,label='LIT')\n",
    "plt.plot(degrees_LIT_R[0:10],np.log(1-frac_LIT_R[0:10]),'.', markersize=10)\n",
    "plt.plot(degrees_LIT_R[0:10],yfit_LIT_R,'g',linewidth=1,label='LIT_REGU')\n",
    "\n",
    "plt.xlabel('k')\n",
    "plt.ylabel('log(1-P_E)')\n",
    "plt.legend(borderpad=1)"
   ]
  },
  {
   "cell_type": "markdown",
   "metadata": {},
   "source": [
    "# ii) cuantos pares de nodos con al menos 3 vecinos en comun y no enlazados"
   ]
  },
  {
   "cell_type": "code",
   "execution_count": 104,
   "metadata": {
    "collapsed": true
   },
   "outputs": [],
   "source": [
    "def TotalYFraccionPares(G,Nvecinos):\n",
    "    nodes=list(G.nodes())\n",
    "    N=len(G.nodes())\n",
    "    A=nx.to_numpy_matrix(G)\n",
    "    Acuadrado=np.matmul(A,A)\n",
    "    ParesTotal=[]\n",
    "    for i in range(N):\n",
    "        for j in range(i+1,N):\n",
    "            if (A[i,j]==0 and Acuadrado[i,j]>=Nvecinos):\n",
    "                ParesTotal.append([nodes[i],nodes[j]])\n",
    "    Numero_Pares_Total=len(ParesTotal)\n",
    "    \n",
    "    nodosesenciales=NodosEsenciales(G)\n",
    "    ParesIguales=[]\n",
    "    \n",
    "    for i in range(Numero_Pares_Total):\n",
    "        if ( len({ParesTotal[i][0]}.intersection(set(nodosesenciales)))==1 and len({ParesTotal[i][1]}.intersection(set(nodosesenciales)))==1):\n",
    "            ParesIguales.append(ParesTotal[i])\n",
    "        if ( len({ParesTotal[i][0]}.intersection(set(nodosesenciales)))==0 and len({ParesTotal[i][1]}.intersection(set(nodosesenciales)))==0):\n",
    "            ParesIguales.append(ParesTotal[i])\n",
    "    \n",
    "    Numero_Pares_Iguales=len(ParesIguales)\n",
    "    \n",
    "    return(ParesTotal,Numero_Pares_Total,Numero_Pares_Iguales)"
   ]
  },
  {
   "cell_type": "code",
   "execution_count": 105,
   "metadata": {
    "collapsed": true
   },
   "outputs": [],
   "source": [
    "ParesTotalY2H,NumeroParesTotalY2H,NumeroParesIgualesY2H=TotalYFraccionPares(GY2H,2)\n",
    "ParesTotalLIT,NumeroParesTotalLIT,NumeroParesIgualesLIT=TotalYFraccionPares(GLIT,2)\n",
    "ParesTotalLIT_R,NumeroParesTotalLIT_R,NumeroParesIgualesLIT_R=TotalYFraccionPares(GLIT_R,3)"
   ]
  },
  {
   "cell_type": "markdown",
   "metadata": {},
   "source": [
    "AHORA CALCULO LA PROBABILIDAD CON EL ALPHA Y EL BETA"
   ]
  },
  {
   "cell_type": "markdown",
   "metadata": {},
   "source": [
    "$$P_E= 1-(1-\\alpha)^k (1-\\beta)$$"
   ]
  },
  {
   "cell_type": "code",
   "execution_count": 25,
   "metadata": {
    "collapsed": true
   },
   "outputs": [],
   "source": [
    "def ParesEsperados(G,ParesTotal,alpha,beta):\n",
    "    degree=dict(G.degree())\n",
    "    \n",
    "    ParesDegree=[]\n",
    "    for i in range(len(ParesTotal)):\n",
    "        ParesDegree.append([degree[ParesTotal[i][0]],degree[ParesTotal[i][1]]])\n",
    "    \n",
    "    PD=np.array(ParesDegree)\n",
    "    PE=1-(1-alpha)**PD *(1-beta)\n",
    "    PNE=1-PE #jaja\n",
    "\n",
    "    Pares_esperados= (PE[:,0]*PE[:,1]).sum() + (PNE[:,0]*PNE[:,1]).sum()\n",
    "    \n",
    "    return Pares_esperados"
   ]
  },
  {
   "cell_type": "code",
   "execution_count": 26,
   "metadata": {
    "collapsed": true
   },
   "outputs": [],
   "source": [
    "expectedY2H=int(ParesEsperados(GY2H,ParesTotalY2H,alpha_Y2H,beta_Y2H))\n",
    "expectedLIT=int(ParesEsperados(GLIT,ParesTotalLIT,alpha_LIT,beta_LIT))\n",
    "expectedLIT_R=int(ParesEsperados(GLIT_R,ParesTotalLIT_R,alpha_LIT_R,beta_LIT_R))"
   ]
  },
  {
   "cell_type": "code",
   "execution_count": 27,
   "metadata": {},
   "outputs": [
    {
     "data": {
      "text/plain": [
       "(6430, 1307, 961, 5779)"
      ]
     },
     "execution_count": 27,
     "metadata": {},
     "output_type": "execute_result"
    }
   ],
   "source": [
    "expectedY2H,expectedLIT,expectedLIT_R"
   ]
  },
  {
   "cell_type": "markdown",
   "metadata": {},
   "source": [
    "ERRORES PARES ESPERADOS"
   ]
  },
  {
   "cell_type": "code",
   "execution_count": 87,
   "metadata": {},
   "outputs": [],
   "source": [
    "def err_Nexp(G,ParesTotal,alpha,beta,err_alpha,err_beta):\n",
    "    \n",
    "    degree=dict(G.degree())\n",
    "    ParesDegree=[]\n",
    "    \n",
    "    for i in range(len(ParesTotal)):\n",
    "        ParesDegree.append([degree[ParesTotal[i][0]],degree[ParesTotal[i][1]]])\n",
    "    \n",
    "    PD=np.array(ParesDegree)\n",
    "    \n",
    "    ta_i=PD[:,0]*((1-alpha)**(PD[:,0]-1))\n",
    "    ta_j=PD[:,1]*((1-alpha)**(PD[:,1]-1))\n",
    "    ta_ij=-2*((PD[:,0]+PD[:,1])* (1-alpha)**(PD[:,0]+PD[:,1]-1))*(1-beta)**2\n",
    "    dN_da=ta_i.sum()+ta_j.sum()+ta_ij.sum()\n",
    "    \n",
    "    tb_i=(1-alpha)**(PD[:,0])\n",
    "    tb_j=(1-alpha)**(PD[:,1])\n",
    "    tb_ij=-4*((1-alpha)**(PD[:,0]+PD[:,1]))*(1-beta)\n",
    "    dN_db=tb_i.sum()+tb_j.sum()+tb_ij.sum()\n",
    "    \n",
    "    err_N=np.sqrt((dN_da*err_alpha)**2+(dN_db*err_beta)**2)\n",
    "    \n",
    "    return int(err_N)"
   ]
  },
  {
   "cell_type": "code",
   "execution_count": 92,
   "metadata": {},
   "outputs": [],
   "source": [
    "err_NY2H=err_Nexp(GY2H,ParesTotalY2H,alpha_Y2H,beta_Y2H,alpha_err_Y2H,beta_err_Y2H)\n",
    "err_NLIT=err_Nexp(GLIT,ParesTotalLIT,alpha_LIT,beta_LIT,alpha_err_LIT,beta_err_LIT)\n",
    "err_NLIT_R=err_Nexp(GLIT_R,ParesTotalLIT_R,alpha_LIT_R,beta_LIT_R,alpha_err_LIT_R,beta_err_LIT_R)"
   ]
  },
  {
   "cell_type": "markdown",
   "metadata": {},
   "source": [
    "# RESULTADOS"
   ]
  },
  {
   "cell_type": "code",
   "execution_count": 102,
   "metadata": {},
   "outputs": [
    {
     "data": {
      "text/html": [
       "<table><tr><td>RED</td><td>PARES TOTALES</td><td>PARES DEL MISMO TIPO</td><td>PARES ESPERADOS</td><td>ERROR</td></tr><tr><td>Y2H</td><td>2258</td><td>1514</td><td>1307</td><td>15</td></tr><tr><td>LIT</td><td>1858</td><td>1047</td><td>961</td><td>8</td></tr><tr><td>LIT_R</td><td>10777</td><td>6187</td><td>5779</td><td>8</td></tr></table>"
      ],
      "text/plain": [
       "<IPython.core.display.HTML object>"
      ]
     },
     "metadata": {},
     "output_type": "display_data"
    }
   ],
   "source": [
    " from IPython.display import HTML, display\n",
    "\n",
    " data = [[\"RED\",\"PARES TOTALES\",\"PARES DEL MISMO TIPO\",\"PARES ESPERADOS\", \"ERROR\"],\n",
    "         [\"Y2H\",NumeroParesTotalY2H, NumeroParesIgualesY2H, expectedY2H,err_NY2H],\n",
    "         [\"LIT\",NumeroParesTotalLIT,NumeroParesIgualesLIT,expectedLIT,err_NLIT],\n",
    "         [\"LIT_R\",NumeroParesTotalLIT_R, NumeroParesIgualesLIT_R, expectedLIT_R,err_NLIT ],\n",
    "         ]\n",
    "\n",
    " display(HTML(\n",
    "    '<table><tr>{}</tr></table>'.format(\n",
    "        '</tr><tr>'.join(\n",
    "            '<td>{}</td>'.format('</td><td>'.join(str(_) for _ in row)) for row in data)\n",
    "        )\n",
    " ))"
   ]
  }
 ],
 "metadata": {
  "kernelspec": {
   "display_name": "Python 3",
   "language": "python",
   "name": "python3"
  },
  "language_info": {
   "codemirror_mode": {
    "name": "ipython",
    "version": 3
   },
   "file_extension": ".py",
   "mimetype": "text/x-python",
   "name": "python",
   "nbconvert_exporter": "python",
   "pygments_lexer": "ipython3",
   "version": "3.6.3"
  }
 },
 "nbformat": 4,
 "nbformat_minor": 2
}
