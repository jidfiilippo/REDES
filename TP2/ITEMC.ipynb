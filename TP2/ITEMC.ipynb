{
 "cells": [
  {
   "cell_type": "code",
   "execution_count": 1,
   "metadata": {},
   "outputs": [],
   "source": [
    "#paquetes \n",
    "import numpy as np\n",
    "import networkx as nx\n",
    "import matplotlib.pylab as plt\n",
    "%matplotlib inline\n",
    "import os\n",
    "#from random import shuffle\n",
    "import math\n",
    "import pandas as pd\n",
    "from scipy import optimize\n"
   ]
  },
  {
   "cell_type": "markdown",
   "metadata": {},
   "source": [
    "PARA CADA RED: Me quedo con la componente gigante y me saco de encima el resto. Primero, voy a calcular, para todos los nodos de todas las redes, los siguientes parámetros: \n",
    "\n",
    "-degree centrality https://networkx.github.io/documentation/networkx-1.10/reference/algorithms.centrality.html \n",
    "\n",
    "-eigenvector centrality https://networkx.github.io/documentation/networkx-1.10/reference/generated/networkx.algorithms.centrality.eigenvector_centrality.html#networkx.algorithms.centrality.eigenvector_centrality \n",
    "\n",
    "-subgraph centrality https://networkx.github.io/documentation/networkx-1.10/reference/generated/networkx.algorithms.centrality.communicability_centrality.html#networkx.algorithms.centrality.communicability_centrality \n",
    "\n",
    "-shortest-path centrality https://networkx.github.io/documentation/networkx-1.10/reference/generated/networkx.algorithms.centrality.betweenness_centrality.html#networkx.algorithms.centrality.betweenness_centrality \n",
    "\n",
    "-current flow betweeness centrality https://networkx.github.io/documentation/networkx-1.10/reference/generated/networkx.algorithms.centrality.current_flow_betweenness_centrality.html#networkx.algorithms.centrality.current_flow_betweenness_centrality \n",
    "\n",
    "Ordeno mis nodos de mayor a menor para cada parametro. Voy sacando de a un nodo y me fijo de que tamaño queda el hub más grande. Eje x es fracción de nodos sacados, y eje y es la fracción de nodos en el hub más grande. y=nodos en el componene gigante/tamaño de componente gigante original\n",
    "\n",
    "Después, para la tabla 3, veo el efecto de sacar todos (nro=E) mis nodos esenciales. Además, veo el efecto de sacar E nodos no esenciales (osea la misma cantidad que esenciales haya en la red) de manera random, pero respetando el grado. Por ejemplo, si tengo 10 esenciales de grado 8 y 16 esenciales de grado 7, tengo que sacar 10 noesenciales de grado 8 y 16 noesenciales de grado 7 etc... Eso se hace muchass veces de manera random y se calcula el valor medio y dispersion..\n",
    "\n",
    "Comentario: En realidad, lo formalmente bien seria ir redefiniendo todos mis parametros en cada iteración, pero como tardaria mil años, entonces lo hago \"cada tanto\". Saco ponele los 10 mas grandes y recalculo parametros en mi nueva componente gigante, etc etc Despues puedo comparar si realmente cambia o no, y cuánto."
   ]
  },
  {
   "cell_type": "markdown",
   "metadata": {},
   "source": [
    "# RED AP-MS"
   ]
  },
  {
   "cell_type": "markdown",
   "metadata": {},
   "source": [
    "# Me quedo con la componente gigante"
   ]
  },
  {
   "cell_type": "code",
   "execution_count": 2,
   "metadata": {},
   "outputs": [],
   "source": [
    "def ldata(archive):\n",
    "    f=open(archive)\n",
    "    data=[]\n",
    "    for line in f:\n",
    "        line=line.strip()\n",
    "        col=line.split()\n",
    "        data.append(col)\n",
    "    return data\n",
    "\n",
    "def grafo(datosRed):\n",
    "    G = nx.Graph()\n",
    "    for i in range(np.shape(datosRed)[0]):\n",
    "        G.add_edges_from([(datosRed[i][0],datosRed[i][1])])\n",
    "    return G "
   ]
  },
  {
   "cell_type": "code",
   "execution_count": 53,
   "metadata": {},
   "outputs": [],
   "source": [
    "APMS = ldata('yeast_AP-MS.txt')\n",
    "GAPMS = grafo(APMS)"
   ]
  },
  {
   "cell_type": "code",
   "execution_count": 54,
   "metadata": {},
   "outputs": [],
   "source": [
    "Gc = max(nx.connected_component_subgraphs(GAPMS), key=len)"
   ]
  },
  {
   "cell_type": "markdown",
   "metadata": {},
   "source": [
    "# Calculo coeficientes de centralidad"
   ]
  },
  {
   "cell_type": "code",
   "execution_count": 18,
   "metadata": {},
   "outputs": [],
   "source": [
    "degrees=dict(Gc.degree())\n",
    "#eigenvectors=nx.eigenvector_centrality(Gc)\n",
    "#subgraph=sc = nx.communicability_betweenness_centrality(Gc)\n",
    "#shortpath=nx.betweenness_centrality(Gc)\n",
    "#currentflow=nx.current_flow_betweenness_centrality(Gc)\n"
   ]
  },
  {
   "cell_type": "code",
   "execution_count": 14,
   "metadata": {},
   "outputs": [],
   "source": [
    "def ordenanodos(G,criterio): #G:grafo, criterio=diccionario 'nombredenodo':valor de parametro\n",
    "    parametro=criterio.values()\n",
    "    parametroordenado=sorted(set(parametro),reverse=True)\n",
    "    nodosordenados=[]\n",
    "    for j in parametroordenado:\n",
    "        for key,value in criterio.items():\n",
    "            if value==j:\n",
    "                nodosordenados.append(key)\n",
    "    return(nodosordenados)"
   ]
  },
  {
   "cell_type": "markdown",
   "metadata": {},
   "source": [
    "# Ordeno nodos según coeficientes de mayor a menor"
   ]
  },
  {
   "cell_type": "code",
   "execution_count": 19,
   "metadata": {},
   "outputs": [],
   "source": [
    "DegreeImp=ordenanodos(Gc,degrees)\n",
    "#EigenvectorImp=ordenanodos(Gc,eigenvectors)\n",
    "#SubgraphImp=ordenanodos(Gc,subgraph)\n",
    "#ShortpathImp=ordenanodos(Gc,shortpath)\n",
    "#CurrentflowImp=ordenanodos(Gc,shortpath)"
   ]
  },
  {
   "cell_type": "markdown",
   "metadata": {},
   "source": [
    "# Voy a empezar, sacando de a un nodo por DEGREE (por ahora sin recalcular los coeficientes)"
   ]
  },
  {
   "cell_type": "code",
   "execution_count": 42,
   "metadata": {},
   "outputs": [],
   "source": [
    "GcDesarmable = max(nx.connected_component_subgraphs(GAPMS), key=len)\n",
    "LengthOriginalGc=len(Gc)\n",
    "FractionNodes=np.linspace(1,650,650)/LengthOriginalGc\n",
    "LargestGc=[]\n",
    "for nodo in DegreeImp[0:650]:\n",
    "    GcDesarmable.remove_node(nodo)\n",
    "    LargestGc.append(float(len(max(nx.connected_component_subgraphs(GcDesarmable), key=len)))/LengthOriginalGc)\n"
   ]
  },
  {
   "cell_type": "code",
   "execution_count": 86,
   "metadata": {},
   "outputs": [
    {
     "data": {
      "text/plain": [
       "Text(0,0.5,'Largest Giant Component')"
      ]
     },
     "execution_count": 86,
     "metadata": {},
     "output_type": "execute_result"
    },
    {
     "data": {
      "image/png": "[encoded data removed]",
      "text/plain": [
       "<Figure size 432x288 with 1 Axes>"
      ]
     },
     "metadata": {},
     "output_type": "display_data"
    }
   ],
   "source": [
    "plt.plot(FractionNodes,LargestGc)\n",
    "plt.xlabel('Fraction of nodes')\n",
    "plt.ylabel('Largest Giant Component')"
   ]
  },
  {
   "cell_type": "markdown",
   "metadata": {},
   "source": [
    "# Otra vez, pero ahora recalculando.. cambiará? "
   ]
  },
  {
   "cell_type": "code",
   "execution_count": 82,
   "metadata": {},
   "outputs": [],
   "source": [
    "GcDesarmable2 = max(nx.connected_component_subgraphs(GAPMS), key=len)\n",
    "LengthOriginalGc=len(Gc)\n",
    "FractionNodes2=np.linspace(1,600,600)/LengthOriginalGc\n",
    "LargestGc2=[]\n",
    "for i in range(120):\n",
    "    degrees2=dict(GcDesarmable2.degree())\n",
    "    DegreeImp2=ordenanodos(GcDesarmable2,degrees2)\n",
    "    for j in range(5):\n",
    "        GcDesarmable2.remove_node(DegreeImp2[j])\n",
    "        LargestGc2.append(float(len(max(nx.connected_component_subgraphs(GcDesarmable2), key=len)))/LengthOriginalGc)\n"
   ]
  },
  {
   "cell_type": "code",
   "execution_count": 90,
   "metadata": {},
   "outputs": [
    {
     "data": {
      "text/plain": [
       "<matplotlib.legend.Legend at 0x7f4f5d67ffd0>"
      ]
     },
     "execution_count": 90,
     "metadata": {},
     "output_type": "execute_result"
    },
    {
     "data": {
      "image/png": "[encoded data removed]",
      "text/plain": [
       "<Figure size 432x288 with 1 Axes>"
      ]
     },
     "metadata": {},
     "output_type": "display_data"
    }
   ],
   "source": [
    "plt.plot(FractionNodes2,LargestGc2,label='recalculando cada 5') #en azul\n",
    "plt.plot(FractionNodes,LargestGc,label='sin recalcular') #en naranja\n",
    "plt.xlabel('Fraction of nodes')\n",
    "plt.ylabel('Largest Giant Component')\n",
    "plt.legend()"
   ]
  },
  {
   "cell_type": "markdown",
   "metadata": {},
   "source": [
    "# Vamos ahora con EIGENVECTORS"
   ]
  },
  {
   "cell_type": "code",
   "execution_count": 91,
   "metadata": {},
   "outputs": [],
   "source": [
    "eigenvectors=nx.eigenvector_centrality(Gc)\n",
    "EigenvectorImp=ordenanodos(Gc,eigenvectors)"
   ]
  },
  {
   "cell_type": "code",
   "execution_count": 93,
   "metadata": {},
   "outputs": [],
   "source": [
    "GcEigen = max(nx.connected_component_subgraphs(GAPMS), key=len)\n",
    "LengthOriginalGc=len(Gc)\n",
    "FractionEigen=np.linspace(1,650,650)/LengthOriginalGc\n",
    "LargestGcEigen=[]\n",
    "for nodo in EigenvectorImp[0:650]:\n",
    "    GcEigen.remove_node(nodo)\n",
    "    LargestGcEigen.append(float(len(max(nx.connected_component_subgraphs(GcEigen), key=len)))/LengthOriginalGc)\n"
   ]
  },
  {
   "cell_type": "code",
   "execution_count": 98,
   "metadata": {},
   "outputs": [
    {
     "data": {
      "text/plain": [
       "Text(0,0.5,'Largest Giant Component')"
      ]
     },
     "execution_count": 98,
     "metadata": {},
     "output_type": "execute_result"
    },
    {
     "data": {
      "image/png": "[encoded data removed]",
      "text/plain": [
       "<Figure size 432x288 with 1 Axes>"
      ]
     },
     "metadata": {},
     "output_type": "display_data"
    }
   ],
   "source": [
    "plt.plot(FractionEigen,LargestGcEigen)\n",
    "plt.xlabel('Fraction of nodes')\n",
    "plt.ylabel('Largest Giant Component')"
   ]
  },
  {
   "cell_type": "code",
   "execution_count": null,
   "metadata": {},
   "outputs": [],
   "source": [
    "#Me da error, como que no converge si i>=8 :(\n",
    "GcEigen2 = max(nx.connected_component_subgraphs(GAPMS), key=len)\n",
    "LengthOriginalGc=len(Gc)\n",
    "FractionEigen2=np.linspace(1,35,35)/LengthOriginalGc\n",
    "LargestGcEigen2=[]\n",
    "for i in range(6):\n",
    "    eigenvectors2=nx.eigenvector_centrality(GcEigen2,max_iter=1000)\n",
    "    EigenvectorImp2=ordenanodos(GcEigen2,eigenvectors2)\n",
    "    for j in range(15):\n",
    "        GcEigen2.remove_node(EigenvectorImp2[j])\n",
    "        LargestGcEigen2.append(float(len(max(nx.connected_component_subgraphs(GcEigen2), key=len)))/LengthOriginalGc)\n"
   ]
  },
  {
   "cell_type": "code",
   "execution_count": 107,
   "metadata": {},
   "outputs": [
    {
     "data": {
      "text/plain": [
       "<matplotlib.legend.Legend at 0x7f4f5d610da0>"
      ]
     },
     "execution_count": 107,
     "metadata": {},
     "output_type": "execute_result"
    },
    {
     "data": {
      "image/png": "[encoded data removed]",
      "text/plain": [
       "<Figure size 432x288 with 1 Axes>"
      ]
     },
     "metadata": {},
     "output_type": "display_data"
    }
   ],
   "source": [
    "plt.plot(FractionEigen2,LargestGcEigen2,label='recalculando cada 5') #en azul\n",
    "plt.plot(FractionEigen,LargestGcEigen,label='sin recalcular') #en naranja\n",
    "plt.xlabel('Fraction of nodes')\n",
    "plt.ylabel('Largest Giant Component')\n",
    "plt.legend()"
   ]
  }
 ],
 "metadata": {
  "kernelspec": {
   "display_name": "Python 3",
   "language": "python",
   "name": "python3"
  },
  "language_info": {
   "codemirror_mode": {
    "name": "ipython",
    "version": 3
   },
   "file_extension": ".py",
   "mimetype": "text/x-python",
   "name": "python",
   "nbconvert_exporter": "python",
   "pygments_lexer": "ipython3",
   "version": "3.6.5"
  }
 },
 "nbformat": 4,
 "nbformat_minor": 2
}
