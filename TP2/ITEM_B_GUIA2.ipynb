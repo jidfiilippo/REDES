{
 "cells": [
  {
   "cell_type": "code",
   "execution_count": 5,
   "metadata": {
    "collapsed": true
   },
   "outputs": [],
   "source": [
    "import numpy as np\n",
    "import networkx as nx\n",
    "import os\n",
    "from random import shuffle          # importamos las librerias necesarias\n",
    "import matplotlib.pylab as plt       \n",
    "%matplotlib inline\n",
    "from matplotlib.pyplot import title,xlabel,ylabel,show"
   ]
  },
  {
   "cell_type": "code",
   "execution_count": 6,
   "metadata": {
    "collapsed": true
   },
   "outputs": [],
   "source": [
    "def ldata(archive):\n",
    "    f=open(archive)\n",
    "    data=[]\n",
    "    for line in f:\n",
    "        line=line.strip()\n",
    "        col=line.split()\n",
    "        data.append(col)\n",
    "    return data"
   ]
  },
  {
   "cell_type": "code",
   "execution_count": 7,
   "metadata": {
    "collapsed": true
   },
   "outputs": [],
   "source": [
    "def grafo(datosRed):\n",
    "    G = nx.Graph()\n",
    "    for i in range(np.shape(datosRed)[0]):\n",
    "        G.add_edges_from([(datosRed[i][0],datosRed[i][1])])\n",
    "    return G "
   ]
  },
  {
   "cell_type": "code",
   "execution_count": 8,
   "metadata": {
    "collapsed": true
   },
   "outputs": [],
   "source": [
    "APMS = ldata('yeast_AP-MS.txt')\n",
    "grafoAPMS = grafo(APMS)\n",
    "\n",
    "LIT = ldata('yeast_LIT.txt')\n",
    "grafoLIT = grafo(LIT)\n"
   ]
  },
  {
   "cell_type": "code",
   "execution_count": 9,
   "metadata": {
    "collapsed": true
   },
   "outputs": [],
   "source": [
    "Y2H = ldata('yeast_Y2H.txt')\n",
    "grafoY2H = grafo(Y2H)\n",
    "\n",
    "essentiality = ldata('Essential.txt')\n",
    "grafoEssentiality = grafo(essentiality)\n",
    "\n",
    "LITRegurly = ldata('yeast_LIT_Reguly.txt')\n"
   ]
  },
  {
   "cell_type": "code",
   "execution_count": 10,
   "metadata": {
    "collapsed": true
   },
   "outputs": [],
   "source": [
    "def abrirRed(lista):\n",
    "\n",
    "    archivoAbierto = []\n",
    "\n",
    "    for array in lista:\n",
    "        archivoAbierto.append([array[0], array[1]])\n",
    "        \n",
    "    archivoAbiertoCortado = archivoAbierto[1:len(archivoAbierto)]\n",
    "    return archivoAbiertoCortado"
   ]
  },
  {
   "cell_type": "code",
   "execution_count": 11,
   "metadata": {
    "collapsed": true
   },
   "outputs": [],
   "source": [
    "LITRegurlyOpened = abrirRed(LITRegurly)\n",
    "#type(LITRegurlyOpened)\n",
    "grafoLITREG = grafo(LITRegurlyOpened)\n"
   ]
  },
  {
   "cell_type": "code",
   "execution_count": 12,
   "metadata": {},
   "outputs": [
    {
     "data": {
      "text/plain": [
       "(9070, 9070)"
      ]
     },
     "execution_count": 12,
     "metadata": {},
     "output_type": "execute_result"
    }
   ],
   "source": [
    "setAPMS = set(grafoAPMS.edges())\n",
    "setLIT = set(grafoLIT.edges())\n",
    "\n",
    "#chequeamos que no nos den mas de una vez el mismo enlace \n",
    "len(grafoLIT.edges()), len(setLIT)\n",
    "len(grafoAPMS.edges()), len(setAPMS)"
   ]
  },
  {
   "cell_type": "code",
   "execution_count": 13,
   "metadata": {
    "collapsed": true
   },
   "outputs": [],
   "source": [
    "#vemos el overlap entre los enlaces de los grafos \n",
    "def overlap(grafo1, grafo2):\n",
    "    setGrafo1 = set(grafo1.edges())\n",
    "    setGrafo2 = set(grafo2.edges())\n",
    "    overlap = setGrafo1.intersection(setGrafo2)\n",
    "    fracOverlapNorm1 = len(overlap)/len(setGrafo1)\n",
    "    fracOverlapNorm2 = len(overlap)/len(setGrafo2)\n",
    "    return [fracOverlapNorm1, fracOverlapNorm2]"
   ]
  },
  {
   "cell_type": "code",
   "execution_count": 14,
   "metadata": {},
   "outputs": [
    {
     "data": {
      "text/plain": [
       "([0.08357221609702316, 0.25914529914529916],\n",
       " [0.019294377067254686, 0.059726962457337884],\n",
       " [0.14531422271223815, 0.11114859166807219])"
      ]
     },
     "execution_count": 14,
     "metadata": {},
     "output_type": "execute_result"
    }
   ],
   "source": [
    "overAPMSLIT = overlap(grafoAPMS, grafoLIT)\n",
    "overAPMSY2H = overlap(grafoAPMS, grafoY2H)\n",
    "overAPMSLITREG = overlap(grafoAPMS, grafoLITREG)\n",
    "overAPMSLIT, overAPMSY2H, overAPMSLITREG"
   ]
  },
  {
   "cell_type": "code",
   "execution_count": 15,
   "metadata": {},
   "outputs": [
    {
     "data": {
      "text/plain": [
       "540"
      ]
     },
     "execution_count": 15,
     "metadata": {},
     "output_type": "execute_result"
    }
   ],
   "source": [
    "setAPMSTransp = {(protein2,protein1) for protein1, protein2 in setAPMS}\n",
    "setLITTransp = {(protein2,protein1) for protein1, protein2 in setLIT}\n",
    "\n",
    "overlapTransp1 = setAPMSTransp.intersection(setLIT)\n",
    "len(overlapTransp1)\n",
    "\n",
    "#overlapTotal = overlap | overlapTransp1\n",
    "\n",
    "\n",
    "#lenOverlapTotal = len(overlap) + len(overlapTransp1)\n",
    "#overlapMedLIT = lenOverlapTotal/len(setLIT)                          #respecto del que dejamos fijo \n",
    "\n",
    "#overlapMedAPMS = lenOverlapTotal/len(setAPMS) \n",
    "#overlapMedLIT, overlapMedAPMS\n",
    "\n",
    "#len(overlapTotal), len(overlap), len(overlapTransp1)\n"
   ]
  },
  {
   "cell_type": "code",
   "execution_count": 16,
   "metadata": {
    "collapsed": true
   },
   "outputs": [],
   "source": [
    "#nos da para el culo....etonces nos preguntamos si es que pasa A B -- B A y lo contabamos dos veces... "
   ]
  },
  {
   "cell_type": "code",
   "execution_count": 17,
   "metadata": {
    "collapsed": true
   },
   "outputs": [],
   "source": [
    "repetidosLIT = setLIT.intersection(setLITTransp)\n",
    "\n",
    "repetidosLITTransp = {(protein2,protein1) for protein1, protein2 in repetidosLIT}\n",
    "\n",
    "#overlapRepetidosLIT =  repetidosLITTransp.intersection(overlapTotal)\n",
    "#suma = 0\n",
    "#for elem in repetidosLIT:\n",
    "#    if elem[0] == elem[1]:\n",
    "#        suma  = suma + 1\n",
    "        \n",
    "#if suma == len(repetidosLIT):\n",
    "#    print(\"self loops!\")"
   ]
  },
  {
   "cell_type": "code",
   "execution_count": 18,
   "metadata": {},
   "outputs": [
    {
     "data": {
      "text/plain": [
       "(0, 0)"
      ]
     },
     "execution_count": 18,
     "metadata": {},
     "output_type": "execute_result"
    }
   ],
   "source": [
    "repetidosAPMS = setAPMS.intersection(setAPMSTransp)\n",
    "\n",
    "repetidosAPMSTransp = {(protein2,protein1) for protein1, protein2 in repetidosAPMS}\n",
    "\n",
    "len(repetidosAPMS), len(repetidosAPMSTransp)"
   ]
  },
  {
   "cell_type": "markdown",
   "metadata": {},
   "source": [
    "# C. LA FIGURA "
   ]
  },
  {
   "cell_type": "code",
   "execution_count": 19,
   "metadata": {
    "collapsed": true
   },
   "outputs": [],
   "source": [
    "#el flash para la figura \n",
    "#me armo una lista de los nodos ordenados segun el grado (de mayor a menor) \n",
    "#agarro el grado k cuantos nodos tienen al menos ese grado, calculo la fraccion sobre el total de nodos ---eje x \n",
    "#la fraccion de ese conjunto que son esenciales (biologicamente..) del archivo que ya tenemos. \n",
    "\n"
   ]
  },
  {
   "cell_type": "code",
<<<<<<< HEAD
<<<<<<< HEAD
   "execution_count": 113,
   "metadata": {},
=======
=======
>>>>>>> 9199c05050efeb3bd2479fda9f933fcb7f44dd06
   "execution_count": 20,
   "metadata": {
    "collapsed": true
   },
<<<<<<< HEAD
>>>>>>> 9199c05050efeb3bd2479fda9f933fcb7f44dd06
=======
>>>>>>> 9199c05050efeb3bd2479fda9f933fcb7f44dd06
   "outputs": [],
   "source": [
    "def ordenanodos(G): #G:grafo, criterio=diccionario 'nombredenodo':parametro\n",
    "    dictCriterio = dict(G.degree())\n",
    "    parametroOrdenado = sorted(set(dictCriterio.values()), reverse=True)\n",
    "    nodosOrdenados = []\n",
    "    kNodosOrdenados = []\n",
    "    for j in parametroOrdenado:\n",
    "        for key,value in dictCriterio.items():\n",
    "            if value==j:\n",
    "                nodosOrdenados.append(key)\n",
    "                kNodosOrdenados.append(value)\n",
    "    return([nodosOrdenados,kNodosOrdenados])"
   ]
  },
  {
   "cell_type": "code",
<<<<<<< HEAD
<<<<<<< HEAD
   "execution_count": 114,
   "metadata": {},
=======
=======
>>>>>>> 9199c05050efeb3bd2479fda9f933fcb7f44dd06
   "execution_count": 21,
   "metadata": {
    "collapsed": true
   },
<<<<<<< HEAD
>>>>>>> 9199c05050efeb3bd2479fda9f933fcb7f44dd06
=======
>>>>>>> 9199c05050efeb3bd2479fda9f933fcb7f44dd06
   "outputs": [],
   "source": [
    "#para APMS \n",
    "#donde la primera componente es un array con los nodos y \n",
    "#la segunda componente es el grado de cada uno de ellos\n",
    "#nodosOrdenadosAPMS[1]\n",
    "nodosOrdenadosAPMS = ordenanodos(grafoAPMS)\n",
    "nodosOrdenadosLIT = ordenanodos(grafoLIT)\n",
    "nodosOrdenadosY2H = ordenanodos(grafoY2H)\n"
   ]
  },
  {
   "cell_type": "code",
   "execution_count": 115,
   "metadata": {},
   "outputs": [
    {
     "data": {
      "text/plain": [
       "(1622, 1622)"
      ]
     },
     "execution_count": 115,
     "metadata": {},
     "output_type": "execute_result"
    }
   ],
   "source": [
    "#dict(grafoAPMS.degree()).values()\n",
    "len(nodosOrdenadosAPMS[1]), len(grafoAPMS.nodes())"
   ]
  },
  {
   "cell_type": "code",
<<<<<<< HEAD
<<<<<<< HEAD
   "execution_count": 116,
   "metadata": {},
=======
=======
>>>>>>> 9199c05050efeb3bd2479fda9f933fcb7f44dd06
   "execution_count": 47,
   "metadata": {
    "collapsed": true
   },
<<<<<<< HEAD
>>>>>>> 9199c05050efeb3bd2479fda9f933fcb7f44dd06
=======
>>>>>>> 9199c05050efeb3bd2479fda9f933fcb7f44dd06
   "outputs": [],
   "source": [
    "#quiero saber cuantos tienen cada uno de los grados\n",
    "\n",
    "def NodosYGradoK(grafo):\n",
    "\n",
    "    dictCriterio = dict(grafo.degree())\n",
    "    gradosOrdenados = sorted(set(dictCriterio.values()), reverse=True) # me los da los grados ordenados \n",
    "    nodosOrdenados = ordenanodos(grafo)\n",
    "    gradosNodos = nodosOrdenados[1]\n",
    "\n",
    "    nodosGradoK = []\n",
    "    grado = []\n",
    "\n",
    "    for ktarget in set(gradosNodos):\n",
    "        nodosKTarget = 0\n",
    "        for k in gradosNodos:\n",
    "            if ktarget == k:\n",
    "                nodosKTarget = nodosKTarget + 1\n",
    "            #grado.append(ktarget)\n",
    "        nodosGradoK.append(nodosKTarget)\n",
    "\n",
    "\n",
    "    if sum(nodosGradoK) == len(grafo.nodes()):\n",
    "        print(\"vamo\")\n",
    "    else:\n",
    "        print(\"algo  mal\")\n",
    "    return([set(gradosNodos),nodosGradoK])"
   ]
  },
  {
   "cell_type": "code",
   "execution_count": 117,
   "metadata": {},
   "outputs": [
    {
     "name": "stdout",
     "output_type": "stream",
     "text": [
      "vamo\n"
     ]
    }
   ],
   "source": [
    "APMS = NodosYGradoK(grafoAPMS)[1]"
   ]
  },
  {
   "cell_type": "code",
<<<<<<< HEAD
<<<<<<< HEAD
   "execution_count": 135,
   "metadata": {},
=======
=======
>>>>>>> 9199c05050efeb3bd2479fda9f933fcb7f44dd06
   "execution_count": 19,
   "metadata": {
    "collapsed": true
   },
<<<<<<< HEAD
>>>>>>> 9199c05050efeb3bd2479fda9f933fcb7f44dd06
=======
>>>>>>> 9199c05050efeb3bd2479fda9f933fcb7f44dd06
   "outputs": [],
   "source": [
    "#quiero saber cuantos tienen cada uno de los grados\n",
    "\n",
    "def FracNodosAlMenosGradoK(grafo):\n",
    "\n",
    "    dictCriterio = dict(grafo.degree())\n",
    "    gradosOrdenados = sorted(set(dictCriterio.values()), reverse=True) # me los da los grados ordenados \n",
    "    nodosOrdenados = ordenanodos(grafo)\n",
    "    gradosNodos = nodosOrdenados[1]\n",
    "\n",
    "    nodosFraccAlMenosK = []\n",
    "    cantNodosAlMenosK = []\n",
    "\n",
    "    for ktarget in gradosOrdenados:\n",
    "        nodosAlMenosKTarget = 0\n",
    "        for k in gradosNodos:\n",
    "            if ktarget <= k:\n",
    "                nodosAlMenosKTarget = nodosAlMenosKTarget + 1\n",
    "                cantNodosAlMenosKTarget = nodosAlMenosKTarget\n",
    "                fracNodosAlMenosKTarget = nodosAlMenosKTarget/len(grafo.nodes())\n",
    "        nodosFraccAlMenosK.append(fracNodosAlMenosKTarget)\n",
    "        cantNodosAlMenosK.append(cantNodosAlMenosKTarget)\n",
    "#si hice las cosas bien, la cantidad de nodos que al menos tienen grado 1 deben ser todos mis nodos\n",
    "\n",
    "\n",
    "    if nodosFraccAlMenosK[len(nodosFraccAlMenosK)-1] == 1:\n",
    "        print('bien hecho')\n",
    "    else:\n",
    "        print('algo mal!')\n",
    "\n",
    "#    for key, value in fracNumeroNodosAlMenosGrado.items():\n",
    "#        if value == 1:\n",
    "#            if key == len(grafoAPMS.nodes())/len(grafo.nodes()):\n",
    "#                print('bien hecho')\n",
    "#            else:\n",
    "#                print('algo mal!')\n",
    "    return([nodosFraccAlMenosK,cantNodosAlMenosK,gradosOrdenados])"
   ]
  },
  {
   "cell_type": "code",
   "execution_count": 136,
   "metadata": {},
   "outputs": [
    {
     "name": "stdout",
     "output_type": "stream",
     "text": [
      "bien hecho\n"
     ]
    },
    {
     "data": {
      "text/plain": [
       "[<matplotlib.lines.Line2D at 0x17a7b25db00>]"
      ]
     },
     "execution_count": 136,
     "metadata": {},
     "output_type": "execute_result"
    },
    {
     "data": {
      "image/png": "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\n",
      "text/plain": [
       "<Figure size 432x288 with 1 Axes>"
      ]
     },
     "metadata": {},
     "output_type": "display_data"
    }
   ],
   "source": [
    "nodosAlMenosGradoKAPMS = FracNodosAlMenosGradoK(grafoAPMS)\n",
    "#grafico de cantidad de nodos que tienen al menos grado k en funcion del grado k \n",
    "\n",
    "#fracNodosAlMenosGradoKAPMS = []\n",
    "#for i in range(len(nodosAlMenosGradoKAPMS[0])):\n",
    "#    fracNodosAlMenosGradoKAPMS.append(nodosAlMenosGradoKAPMS[0][i]/len(grafoAPMS.nodes()))\n",
    "    \n",
    "plt.plot(nodosAlMenosGradoKAPMS[2], nodosAlMenosGradoKAPMS[0])\n",
    "\n"
   ]
  },
  {
   "cell_type": "code",
<<<<<<< HEAD
<<<<<<< HEAD
   "execution_count": 156,
   "metadata": {},
=======
=======
>>>>>>> 9199c05050efeb3bd2479fda9f933fcb7f44dd06
   "execution_count": null,
   "metadata": {
    "collapsed": true
   },
   "outputs": [],
   "source": [
    "#ahora lo que me queda hacer es dado los N nodos que tienen al menos grado k, ver la fraccion de ellos que son esenciales "
   ]
  },
  {
   "cell_type": "code",
   "execution_count": 65,
   "metadata": {
    "collapsed": true
   },
<<<<<<< HEAD
>>>>>>> 9199c05050efeb3bd2479fda9f933fcb7f44dd06
=======
>>>>>>> 9199c05050efeb3bd2479fda9f933fcb7f44dd06
   "outputs": [],
   "source": [
    "#OJO QUE USO grafoEssentiality.nodes() DONDE ME APARECEN MUCHOS NOMBRES, ENTRE ELLOS LOS NOMBRES DE LAS PROTEINAS ESENCIALES \n",
    "\n",
    "def fraccEssentials(grafo):\n",
    "\n",
    "    dictCriterio = dict(grafo.degree())\n",
    "    gradosOrdenados = sorted(set(dictCriterio.values()), reverse=True)\n",
    "    nombresNodosEssential = list(grafoEssentiality.nodes())\n",
    "    #nombreNodosGrafo = nombreNodosAlMenosGradoK(grafo)\n",
    "    nombresNodosGrafo = ordenanodos(grafo)[0]\n",
    "    gradosNodosGrafo = ordenanodos(grafo)[1]\n",
    "\n",
    "    cantEssentials = []\n",
    "    alMenosGrado = []\n",
    "\n",
    "    for kTarget in gradosOrdenados:\n",
    "        totalNodosParaKTarget = 0\n",
    "        for i in range(len(gradosNodosGrafo)):\n",
    "            if kTarget <= gradosNodosGrafo[i]:\n",
    "                nodoTarget = nombresNodosGrafo[i]\n",
    "                for nombreNodo in nombresNodosEssential:\n",
    "                    if nodoTarget == nombreNodo:\n",
    "                        totalNodosParaKTarget = totalNodosParaKTarget + 1 \n",
    "        cantEssentials.append(totalNodosParaKTarget)\n",
    "        alMenosGrado.append(kTarget)\n",
    "    essentials = [cantEssentials, alMenosGrado]\n",
    "    return essentials"
   ]
  },
  {
   "cell_type": "code",
   "execution_count": 157,
   "metadata": {},
   "outputs": [
    {
     "data": {
      "text/plain": [
       "607"
      ]
     },
     "execution_count": 157,
     "metadata": {},
     "output_type": "execute_result"
    }
   ],
   "source": [
    "essentials = fraccEssentials(grafoAPMS)\n",
    "essentials[0][len(essentials[0])-1]"
   ]
  },
  {
   "cell_type": "code",
<<<<<<< HEAD
<<<<<<< HEAD
   "execution_count": 150,
   "metadata": {},
=======
=======
>>>>>>> 9199c05050efeb3bd2479fda9f933fcb7f44dd06
   "execution_count": 55,
   "metadata": {
    "collapsed": true
   },
<<<<<<< HEAD
>>>>>>> 9199c05050efeb3bd2479fda9f933fcb7f44dd06
=======
>>>>>>> 9199c05050efeb3bd2479fda9f933fcb7f44dd06
   "outputs": [],
   "source": [
    "#essentials es un vector qeu tiene en la primera fila la cantidad de nodos esenciales de al menos k grado, y la segunda fila el k grado \n",
    "#nodosAlMenosGradoKAPMS #es un vector que tiene en la primera fila la cantidad de nodos de al menos k grado, y la segunda fila el k grado \n",
    "#len(essentials[0]),len(nodosAlMenosGradoKAPMS[0])\n"
   ]
  },
  {
   "cell_type": "code",
<<<<<<< HEAD
<<<<<<< HEAD
   "execution_count": 151,
   "metadata": {},
=======
=======
>>>>>>> 9199c05050efeb3bd2479fda9f933fcb7f44dd06
   "execution_count": 56,
   "metadata": {
    "collapsed": true
   },
<<<<<<< HEAD
>>>>>>> 9199c05050efeb3bd2479fda9f933fcb7f44dd06
=======
>>>>>>> 9199c05050efeb3bd2479fda9f933fcb7f44dd06
   "outputs": [],
   "source": [
    "#para hacer eso len(essentials[0]) = len(nodosAlMenosGradoKAPMS[0])\n",
    "fraaEsen = []\n",
    "\n",
    "for i in range(len(essentials[0])):\n",
    "    fraccEssentials = essentials[0][i]/nodosAlMenosGradoKAPMS[1][i]\n",
    "    fraaEsen.append(fraccEssentials)"
   ]
  },
  {
   "cell_type": "code",
   "execution_count": 152,
   "metadata": {},
   "outputs": [
    {
     "data": {
      "text/plain": [
       "(0, 1)"
      ]
     },
     "execution_count": 152,
     "metadata": {},
     "output_type": "execute_result"
    },
    {
     "data": {
      "image/png": "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\n",
      "text/plain": [
       "<Figure size 432x288 with 1 Axes>"
      ]
     },
     "metadata": {},
     "output_type": "display_data"
    }
   ],
   "source": [
    "#len(fraaEsen)\n",
    "plt.plot(nodosAlMenosGradoKAPMS[0],fraaEsen)\n",
    "plt.xlabel('fracc de nodos al menor grado K')\n",
    "plt.ylabel('fracc de nodos esenciales de al menor grado K')\n",
    "plt.legend(\"fracc de nodos esenciales respecto a los nodos de grado k\")\n",
    "plt.ylim([0,1])"
   ]
  },
  {
   "cell_type": "code",
<<<<<<< HEAD
<<<<<<< HEAD
   "execution_count": 158,
   "metadata": {},
   "outputs": [
    {
     "name": "stdout",
     "output_type": "stream",
     "text": [
      "bien hecho\n",
      "bien hecho\n",
      "bien hecho\n",
      "bien hecho\n"
     ]
    }
   ],
=======
=======
>>>>>>> 9199c05050efeb3bd2479fda9f933fcb7f44dd06
   "execution_count": 51,
   "metadata": {
    "collapsed": true
   },
   "outputs": [],
>>>>>>> 9199c05050efeb3bd2479fda9f933fcb7f44dd06
   "source": [
    "nodosAlMenosGradoKAPMS = FracNodosAlMenosGradoK(grafoAPMS)\n",
    "nodosAlMenosGradoKLIT = FracNodosAlMenosGradoK(grafoLIT)\n",
    "nodosAlMenosGradoKY2H = FracNodosAlMenosGradoK(grafoY2H)\n",
    "nodosAlMenosGradoKLITREG = FracNodosAlMenosGradoK(grafoLITREG)\n",
    "\n",
    "essentialsAPMS = fraccEssentials(grafoAPMS)\n",
    "essentialsLIT = fraccEssentials(grafoLIT)\n",
    "essentialsY2H = fraccEssentials(grafoY2H)\n",
    "essentialsLITREG = fraccEssentials(grafoLITREG)"
   ]
  },
  {
   "cell_type": "code",
<<<<<<< HEAD
<<<<<<< HEAD
   "execution_count": 162,
   "metadata": {},
=======
=======
>>>>>>> 9199c05050efeb3bd2479fda9f933fcb7f44dd06
   "execution_count": 58,
   "metadata": {
    "collapsed": true
   },
<<<<<<< HEAD
>>>>>>> 9199c05050efeb3bd2479fda9f933fcb7f44dd06
=======
>>>>>>> 9199c05050efeb3bd2479fda9f933fcb7f44dd06
   "outputs": [],
   "source": [
    "fraaEsenLIT = []\n",
    "\n",
    "for i in range(len(essentialsLIT[0])):\n",
    "    fraccEssentials = essentialsLIT[0][i]/nodosAlMenosGradoKLIT[1][i]\n",
    "    fraaEsenLIT.append(fraccEssentials)\n",
    "    \n",
    "fraaEsenY2H = []\n",
    "\n",
    "for i in range(len(essentialsY2H[0])):\n",
    "    fraccEssentials = essentialsY2H[0][i]/nodosAlMenosGradoKY2H[1][i]\n",
    "    fraaEsenY2H.append(fraccEssentials)\n",
    "    \n",
    "fraaEsenLITREG = []\n",
    "\n",
    "for i in range(len(essentialsLITREG[0])):\n",
    "    fraccEssentials = essentialsLITREG[0][i]/nodosAlMenosGradoKLITREG[1][i]\n",
    "    fraaEsenLITREG.append(fraccEssentials)"
   ]
  },
  {
   "cell_type": "code",
   "execution_count": 164,
   "metadata": {},
   "outputs": [
    {
     "data": {
      "text/plain": [
       "(0, 1)"
      ]
     },
     "execution_count": 164,
     "metadata": {},
     "output_type": "execute_result"
    },
    {
     "data": {
      "image/png": "iVBORw0KGgoAAAANSUhEUgAAAYUAAAEPCAYAAACtCNj2AAAABHNCSVQICAgIfAhkiAAAAAlwSFlzAAALEgAACxIB0t1+/AAAADl0RVh0U29mdHdhcmUAbWF0cGxvdGxpYiB2ZXJzaW9uIDIuMi4yLCBodHRwOi8vbWF0cGxvdGxpYi5vcmcvhp/UCwAAIABJREFUeJzt3XmYHGW59/HvbyaTDNmFBFlCDGBYAgcEoqAoqyjwahBFBYUjiCAiy5GjR9zYPJ7jiyJHXtaooKCAoOKJyKoGEBRICJtsEkKAYU1YskD23O8fVT3pTHp5ZjI1PZP5fa6rr+6qfqrqrp6k765nK0UEZmZmAE2NDsDMzHoPJwUzM2vnpGBmZu2cFMzMrJ2TgpmZtXNSMDOzdlWTgqSWGu9tXkw4ZmbWSLWuFKZIGthxpaQdganFhWRmZo1SKyncB9woaXBphaS9gOuBYwqOy8zMGkC1RjRL+hawP3AA8GHgXODjETG9Z8IzM7OeNKDWmxHxPUmLyK4aBOwTETN7JDIzM+txVa8UJP0BCLJksDswE3ip9H5ETKq5Y+lS4CPAKxGxfYX3BfwYOBB4CzgyImZ07TTMzKw71EoKe9baMCJur7ljaQ9gIXB5laRwIHAiWVLYFfhxROyaGLeZmRWgavVRvS/9eiLiDknjahQ5iCxhBHC3pJGSNo6IF9fmuGZm1nU12xQKtinwXNlyW75ujaQg6VjgWIAhQ4bsss0223T6YHMWLOGl+YvZbpPhNEldi9jMrI+677775kbE6HrlGpkUKn0zV6zLiojJwGSAiRMnxvTpne/8dMntT/HfNz7OnWd9mMEDG3naZmY9T9IzKeWSp7mQNEzS0K6HtIY2YLOy5THAC924/4p8TyEzs+rqJgVJ/yLpfuAfwKOS7pO0RsNxF0wB/lWZ3YB5RbYnuMbIzKy+lHqUS4BTImIqtI9qngy8r9ZGkq4C9gJGSWoDTgdaACLiYuAGsp5HM8m6pB7VpTMwM7Nuk5IUhpQSAkBE3CZpSL2NIuKwOu8H8OWE43cr1x6Z2dpatmwZbW1tLF68uNGhrKG1tZUxY8bQ0lJ1TtOaUpLCLEnfAa7Ilw8Hnu7S0RpIFdu1zcw6r62tjWHDhjFu3DjUi+qmI4JXX32VtrY2Nt+8a5NZpzQ0fx4YDfwOuC5/7aoeM+u3Fi9ezAYbbNCrEgKAJDbYYIO1uoKpe6UQEa8DJ3X5CL1MrQkAzcxS9baEULK2cVVNCmVzH1VUb+6j3qaX/v3MzHqVWtVHPwTOIWs/WAT8JH8sJOueamZmDXTeeeex7bbb8tnPfrbb9ll37iNJ342IPcre+oOkO7otgh7myiMzW1dceOGF3HjjjV1uVK4kpaF5tKQtSgv5/Znrzp9hZmbFOe6445g1axaTJk3i3HPP7bb9pnRJ/Qpwm6RZ+fI44IvdFkEPczuzmXWnM//wCI++ML9b9zlhk+Gc/tHtapa5+OKLuemmm5g6dSqjRo3qtmOn9D66SdJ4oDQ16eMRsaTbIughvbWngJlZb5I6Xeh4YGugFdhREhFxeXFhmZn1DfV+0fc1dZOCpNPJ5jCaQDZf0QHAnUDfTAquPjIzqyqlofkQYF/gpYg4CtgRGFRoVAVw5ZGZWX0p1UeLImKlpOWShgOvAFvU28jMzIo1e/bsbt9nSlKYLmkk2cC1+8gGr93b7ZH0kHD9kZlZVTWTgrIuO/8dEW8AF0u6CRgeEQ/1SHTdyJ2PzMzqq9mmkN/z4Pdly7P7YkIwM+tuvXVyzbWNK6Wh+W5J716ro/QivfTvaGZ9SGtrK6+++mqvSwyl+ym0trZ2eR8pbQp7A1+U9AzwJllHnoiIHbp81AZw7ZGZdZcxY8bQ1tbGnDlzGh3KGkp3XuuqlKRwQJf3bma2DmppaenWSeh6k5SksCBxXZ/Quy72zMx6l5Q2hRnAHOCfwJP566clzZC0S5HBdSfPfWRmVl9KUrgJODAiRkXEBmTVSdcAxwMXFhlcEXpbw5CZWW+SkhQmRsTNpYWIuAXYIyLupg9Nd+ELBTOz+lLaFF6T9HXg6nz508DrkpqBlYVFZmZmPS7lSuEzwBiyQWy/BzbL1zUDnyoutGK48sjMrLqUm+zMBU6s8vbM7g2nOK49MjOrL+VKwczM+ol+lxTc+cjMrLqaSUFSs6Sv9FQwhXL3IzOzuurNkroCOKiHYjEzswZL6ZJ6l6TzgV+TTYgHQETMKCyqAvkmO2Zm1aUkhfflz2eVrQtgn+4PpziuPDIzqy+lS+rePRGImZk1Xt3eR5JGSPqRpOn54xxJI3oiuEK49sjMrKqULqmXkk2V/an8MR+4LGXnkvaX9ISkmZJOrfD+WElTJd0v6SFJB3Ym+M5w5yMzs/pS2hS2jIhPlC2fKemBehvlcyNdAOwHtAHTJE2JiEfLin0buCYiLpI0AbgBGJccfRf4QsHMrLqUK4VFkt5fWpC0O7AoYbv3ADMjYlZELCWbUK9j99YAhuevRwAvJOy3S+SmZjOzulKuFI4DLs/bEQS8BhyZsN2mwHNly23Arh3KnAHcIulEYAjwwYT9mplZQVJ6Hz0I7ChpeL48P3HflX6ad6y9OQz4eUScI+m9wBWSto+I1abklnQscCzA2LFjEw9fmae5MDOrrm5SkDQI+ARZXf+A0m0tI+KsGptBdmWwWdnyGNasHjoa2D/f398ltQKjgFfKC0XEZGAywMSJE7v0te6GZjOz+lLaFP6XrC1gOdmI5tKjnmnAeEmbSxoIHApM6VDmWWBfAEnbAq1k94A2M7MGSGlTGBMR+3d2xxGxXNIJwM1kN+S5NCIekXQWMD0ipgD/Dvwkn3QvgCOj4Jsoe5oLM7PqUpLC3yT9S0Q83NmdR8QNZN1My9edVvb6UWD3zu63K1x7ZGZWX0pSeD9wpKSngSVk368RETsUGpmZmfW4lKRwQOFR9CD3PjIzq65uQ3NEPEPWi2if/PVbKdv1Nu59ZGZWX8qEeKcDXwe+ka9qAX5ZZFBmZtYYKb/4DwYmkXdDjYgXgGFFBlUk1x6ZmVWXkhSW5t1EA0DSkGJDKobnPjIzqy8lKVwj6RJgpKRjgD8BPyk2rOIUPAzCzKxPS5n76IeS9iO7j8LWwGkRcWvhkXU3XyiYmdWV0iWViLhV0j2l8pLWj4jXCo3MzMx6XMqEeF8EziK7h8JK8sFrwBbFhlYM1x6ZmVWXcqXwVWC7iJhbdDBFcu2RmVl9KQ3NT5ENWDMzs3VcypXCN8gmxbuHbO4jACLipMKiMjOzhkhJCpcAfwEeJmtT6JPkeS7MzOpKSQrLI+KUwiMxM7OGS2lTmCrpWEkbS1q/9Cg8soK495GZWXUpVwqfyZ+/Ubauz3VJdeWRmVl9KSOaN++JQMzMrPH63H0R1pbv0WxmVl2/SQrufGRmVl+/SQolbmg2M6uuapuCpJ1rbRgRM7o/nOL4SsHMrL5aDc3n1HgvgH26ORYzM2uwqkkhIvbuyUCK9sZbywB44Lk3GDeqT948zsyscEn3U5C0PTABaC2ti4jLiwqqCPc+nd3+4cLbZvKxnTZtcDRmZr1Tyv0UTgf2IksKNwAHAHcCfSopmJlZfSm9jw4B9gVeioijgB2BQYVGVSD3PjIzqy4lKSyKiJXAcknDgVfoY1NcgHsfmZmlSGlTmC5pJPAT4D5gIXBvoVGZmVlDpMx9dHz+8mJJNwHDI+KhYsMqjmuPzMyqS+p9VBIRswuKo3DyPKlmZnX1u2kuzMysun6XFMLdj8zMqkpKCpLeL+mo/PVoSX3vHguuPTIzq6tuUsgHr32dVXdeawF+WWRQRSjlBF8nmJlVl3KlcDAwCXgTICJeAIal7FzS/pKekDRT0qlVynxK0qOSHpF0ZWrgnaXSQAVnBTOzqlJ6Hy2NiJAUAJKSZpOT1AxcAOwHtAHTJE2JiEfLyownuwLZPSJel7Rhp8/AzMy6TcqVwjWSLgFGSjoG+BPZQLZ63gPMjIhZEbEUuBo4qEOZY4ALIuJ1gIh4JT30rnn+jUVFH8LMrM9KGbz2Q0n7AfOBrYHTIuLWhH1vCjxXttwG7NqhzFYAku4CmoEzIuKmjjuSdCxwLMDYsWMTDr2mUpvCkuUru7S9mVl/kDR4LU8CKYmgXKX+Ph1r9AcA48lmYR0D/FXS9hHxRofjTwYmA0ycONGtAmZmBal1O84F1GiWjYjhdfbdBmxWtjwGeKFCmbsjYhnwtKQnyJLEtDr7NjOzAtS689owAElnAS8BV5D9+v8sab2PpgHj8zENzwOHAp/pUOb3wGHAzyWNIqtOmtXJczAzs26S0tD84Yi4MCIWRMT8iLgI+ES9jSJiOXACcDPwGHBNRDwi6SxJk/JiNwOvSnoUmAp8LSJe7dqpmJnZ2kppU1gh6bNkvYeC7Jf9ipSdR8QNZHdrK193WtnrAE7JH2Zm1mApVwqfAT4FvJw/Psma1UC9nm+yY2ZWX0qX1NmsOb7AzMzWQf1ullQzM6uu3yQF1x6ZmdXXf5KCGxXMzOpKmTr7ZEnDlfmZpBmSPtQTwXUnpwQzs/pSrhQ+HxHzgQ8Bo4GjgO8XGpWZmTVESlIo/cg+ELgsIh7EP7zNzNZJKUnhPkm3kCWFmyUNA/reVKNOY2ZmdaWMaD4aeBcwKyLekrQBWRWSmZmtY1KuFAKYAJyULw8BWguLyMzMGiYlKVwIvJdsziOABWS32exT5PojM7O6UqqPdo2InSXdD5DfS3lgwXGZmVkDpFwpLJPUTH7DHUmj6YsNzWZmVldKUjgPuA7YUNL3gDuB/yo0qgJ4QLOZWX0ps6T+StJ9wL5kHTs/FhGPFR5ZNwvf2dnMrK6qVwqS1i89gFeAq4ArgZfzdX3KyfuOb3QIZma9Xq0rhfvI2hHKK15KywFsUWBc3W7sBoP54LZv54U3FjU6FDOzXqtqUoiIzXsykJ7QJFjpeiQzs6pSuqQi6W3AeMoGrUXEHUUFVZTmJjkpmJnVUDcpSPoCcDIwBngA2A34O7BPsaF1vyaJFSudFMzMqknpknoy8G7gmYjYG9gJmFNoVAVpapJ7IZmZ1ZCSFBZHxGIASYMi4nFg62LDKkaTYIWzgplZVSltCm2SRgK/B26V9DrwQrFhFaNZblMwM6slZfDawfnLMyRNBUYANxUaVUEksdITdJiZVVU1KUgaHhHzOwxUezh/Hgq8VmhkBWhucpdUM7Naal0pXAl8hNUHsfXZwWvg3kdmZvXUGrz2kfx5nRnE1tQknBPMzKqr2/tI0sGSRpQtj5T0sWLDKoZHNJuZ1ZbSJfX0iJhXWoiIN4DTiwupOO59ZGZWW0pSqFQmaXqM3kZuUzAzqyklKUyX9CNJW0raQtK5ZI3PfU5zk1jppGBmVlVKUjgRWAr8GrgWWAx8ucigitLcJI9oNjOrIWXw2pvAqT0QS+GaPHjNzKymlN5HW0maLOkWSX8pPVJ2Lml/SU9ImimpamKRdIikkDSxM8F31gBfKZiZ1ZTSYHwtcDHwU2BF6o4lNQMXAPsBbcA0SVMi4tEO5YYBJwH3pO67q5qasobmiEBS/Q3MzPqZlKSwPCIu6sK+3wPMjIhZAJKuBg4CHu1Q7rvA2cBXu3CMTmnOE8HKgGbnBDOzNaQ0NP9B0vGSNpa0fumRsN2mwHNly235unaSdgI2i4jr00Puuub8bN0t1cysspQrhc/lz18rW5cy91Gl3+Lt38aSmoBzgSPrBSDpWOBYgLFjx9YrXlVzU5YVPIDNzKyylN5HXZ37qA3YrGx5DKvfh2EYsD1wW16/vxEwRdKkiJjeIYbJwGSAiRMndvkbvXSlsNxXCmZmFaX0Phos6duSJufL4yV9JGHf04DxkjaXNBA4FJhSejMi5kXEqIgYFxHjgLuBNRJCd2rK2xRcfWRmVllKm8JlZIPX3pcvtwH/WW+jiFgOnADcDDwGXBMRj0g6S9KkLsa7Vpqb8oZmJwUzs4pS2hS2jIhPSzoMICIWKbE/Z0TcANzQYd1pVcrulbLPtTEgTwoeq2BmVlnKlcJSSeuRNxJL2hJYUmhUBWlqcvWRmVktKVcKp5Pdk3kzSb8Cdiehx1Bv1JL3PnJDs5lZZSm9j26VNAPYjayb6ckRMbfwyApQalNYscJJwcyskpTeR7sDiyPij8BI4JuS3lF4ZAUYkA9jXuZZ8czMKkppU7gIeEvSjmQD2J4BLi80qoIMyKuP3KZgZlZZSlJYHhFBNm/ReRHxY7KBZ31OqfpouauPzMwqSmloXiDpG8ARwAfy2U9big2rGKUuqctdfWRmVlHKlcKnybqgfj4iXiKb1O4HhUZVkObmUlLwlYKZWSV1k0KeCH4LDMpXzQWuKzKoorS4TcHMrKaU3kfHAL8BLslXbQr8vsigitLakp3uW0uT7xVkZtavpFQffZlswNp8gIh4EtiwyKCK8vbhrQC8PG9xgyMxM+udUpLCkohYWlqQNICy+yL0JRsOz2rAXprvpGBmVklKUrhd0jeB9STtR3bP5j8UG1YxBg1oZoMhA3nRVwpmZhWlJIVTgTnAw8AXyWY9/XaRQRVpoxGtvDRvUaPDMDPrlVLmPloJ/CR/9Hkbj2jl+Td8pWBmVknKlcI6Zfh6LcxftKzRYZiZ9Ur9Lim0tjSzZLlHNJuZVdKppCCpSdLwooLpCYMGNLFkmccpmJlVkjJ47UpJwyUNAR4FnpD0teJDK0ZrSzOLl699Upg2+zWumfYcS7phX2ZmvUXKlcKEiJgPfIys59FYssnx+qTWAc0sWxGMO/WPvLlkeZf2sWT5Ck64cgb/8duH2OeHt3PVvc+ybIWrpMys70tJCi2SWsiSwv9GxDL66OA1gEEtq075lQVdu9X072Y8z8vzl/Dv+23F6GGD+MbvHmbfc27nN/e1sdzJwcz6sJSkcAkwGxgC3JHfdW1+kUEVqXXAqlPuStXP8hUruei2p9hhzAhO2OedXHf8+/jZ5yYyrHUAX732QfY79w5++tdZvPbm0vo7MzPrZVJmST0vIjaNiAMj8wywdw/EVojWlub21wsXd7766I8Pv8izr73F8Xu9E0lIYt9t3871J76fiw/fmZGDW/jPPz7Gbv/1Z064cgZ3zZzLSs/KamZ9RN3Ba5JGAKcDe+SrbgfOAuYVGFdhyquP5i/u3HiFlSuDC6bOZPyGQ/nQhLev9p4k9t9+Y/bffmMef2k+V9/7HNfd/zzXP/Qi79hgMJ9+92YcsssYNhzW2i3nYWZWhJTqo0uBBcCn8sd84LIigyrSemVXCvMXde5K4U+Pvcw/X17I8XtvSVN+F7dKttloOGdM2o57vrkv5356R94+vJWzb3qC9/33X/jiFdP5+1Ovkt3h1Mysd0m5HeeWEfGJsuUzJT1QVEBFW2/gqlNe0IkrhYjsKmGz9dfjoztskrRNa0szB+80hoN3GsNTcxby62nP8Zv72rj5kZfZeexIvrz3O9lnmw2RqicYM7OelHKlsEjS+0sLknYH+uyMcoMHll0pdKJN4a6Zr/Jg2zyO23NLBjR3fiD4lqOH8s0Dt+Vvp+7Ddw/ajpfnL+HoX0zngB//lSkPvuC7wZlZr5Dy7fYl4AJJsyU9A5wPHFdsWMVZrfqoE1cK5099kg2HDeKQXcas1fFbW5o54r3juO1re3HOJ3dk2YqVnHTV/ex7zm1cfe+zHgxnZg2V0vvogYjYEdgB+JeI2CkiHiw+tGIMGbSq+ujqe59L+oV+3zOvcfes1zh2jy0YNKC5bvkULc1NfGKXMdz6lT25+PCdGdbawqm/e5g9z76Nn935NG8t7drAOjOztVG1TUHSKVXWAxARPyoopkKVVx/NW7SMvz01lw+MH121/MIly/nRrf/kbYNbOOw9Y7s9nqamrNfSh7fbiL8+OZcLps7ku9c/yvl/eZJ3j1uf5ibRJCFBk0Rz06rXTSJfzl5n69T+XlNT2WuJAc1ig6GDGD10IKOHDWLU0EGMHjaIwQNTmpbMrD+o9W0wLH/eGng3MCVf/ihwR5FBFak8KQC8VOUubG+8tZSf/202l901m3mLlvGdj0xY7Sqju0lij61Gs8dWo5k++zUm3zGLZ197iwhYEcHKiOz1ylWvV0bky1lD+IoIVq4sey/K3svLVTJ4YPOqJDF0EKOGDWT00Nb8eRCjhmXrRw8btNo4DzNb91T9louIMwEk3QLsHBEL8uUzyG7J2ScN6fCreO7C1UcevzhvEef9+Umuu/95Fi9byX4T3s6X934n79psZI/FOHHc+kwct36373f5ipW89uZS5ixcwpwFS5i7cGn+vKT9+ak5C7nn6SW8/lbl9pZhgwa0J4n2pJEnjPbnYYMYNXRgt1W1mVnPSfnpOxYo/+ZcCowrJJoeUD6+YPDA5vYvw5bmJkas18K3rvsHd86cy8d32pQjdx/HNhv16ZnCVzOguYkNh7ey4fD6A+iWLs8TSFnSmFP2PHfBEh5/aQF3LphbtRfX8NYB7cliWGtLXu1Fe3WYJASrVY+JfH1eVoimJgCttm1TXo3ZVF62tN+8bPs+1zhO9bKlfZbKNGUBrYolL1sx9rJtysuWlIamlF+wrVoXdcqteZlXc9uy4tH+XqyxjtXKRY1t08pR4RirlcsXKn8Ga5ajYrl6n1X1cqvvrwfOt5OfKRXLrVq5//Ybs8s73rbmyXSjlKRwBXCvpOvy5Y8BvygupJ6x3SbDWbR0BXfOnMOldz3NHluNZvIRu/C3p+bymfeM5YxJ2zU6xIYaOKCJjUa0stGI+glk8bIVvFpKIGVJY87CVQnl+TcWEXm1V7CqWitbZrUqsSi9l6/Pyq6+rlSW0jaUb7vqGKV1ZkUpT/xqX6cK68rLafU365Qrrdty9NDGJ4WI+J6kG4EPkP3/PSoi7i80qoLd/539aG1p5guXT+Ouma8CcMc/5/Dnx15h8bKV7Ll19YZnW1NrSzObjlyPTUeu1+hQqorypEPlBBKxerIqL5slnwoJbY19lrbNy67s8J+8/btAFdatWY665VR120rHoFK5xC+wSl9+JJbr0pdkUee7Np9pPxhomtpyugJYSf6jLnXnkvYHfgw0Az+NiO93eP8U4AvAcmAO8Pl8wr1CvW3IQAA2HrH6l9j3b3qMgQOa2G3zDYoOwXpYe5UU6/5/arO1kXLntZOBXwGjgA2BX0o6MWG7ZuAC4ABgAnCYpAkdit0PTIyIHYDfAGd3Lvy1s0leNbLJiFZGDR3Ec68tYtfN12e9gW4gNbP+KWVE89HArhFxekScBuwGHJOw3XuAmRExKyKWAlcDB5UXiIipEfFWvng3sHbDhTtpk7y6I4D98llP99zKVUdm1n+lJAWRVR+VrICka/BNgefKltvyddUcDdxYMQDpWEnTJU2fM2dOwqHTbJwnhWUrgo/vvClDBja3Jwczs/4opU3hMuCeDr2PfpawXaXEUbEfiKTDgYnAnpXej4jJwGSAiRMndltfklL10dLlK3j3uPV55Kz9u2vXZmZ9Ukrvox9Juh3YneyLPrX3URuwWdnyGOCFjoUkfRD4FrBnRHTtpsldVLpS2GFMzw1MMzPrzVJ7Hz0AvFgqL2lsRDxbZ5tpwHhJmwPPA4cCnykvIGknsntA7x8Rr3Qm8O4wdNAAfn3sbmyz8bozQM3MbG2k3I7zRLLbcb7MqvaEIJs1taqIWC7pBOBmsi6pl0bEI5LOAqZHxBTgB8BQ4Nq8/++zETFpLc6n03bdwt1PzcxKUq4UTga2johXO7vziLgBuKHDutPKXn+ws/s0M7PipPQ+eg6YV3QgZmbWeClXCrOA2yT9EWhvCO6r91MwM7PqUpLCs/ljYP4wM7N1VEqX1DN7IhAzM2u8lDYFMzPrJ5wUzMysnZOCmZm1S5k6eytJf5b0j3x5B0nfLj40MzPraSlXCj8BvgEsA4iIh8imrDAzs3VMSlIYHBH3dlhX+U7tZmbWp6UkhbmStiSf9lrSIWST45mZ2TomZfDal8nuZbCNpOeBp4HDC43KzMwaImXw2izgg5KGAE0RsaD4sMzMrBGqJgVJp1RZD3juIzOzdVGtK4Vh+fPWwLuBKfnyR4E7igzKzMwao2pSKM15JOkWYOdStZGkM4BreyQ6MzPrUSm9j8YCS8uWlwLjConGzMwaKqX30RXAvZKuI+uWejDwi0KjMjOzhkjpffQ9STcCH8hXHRUR9xcblpmZNULKlQIRMQOYUXAsZmbWYJ4l1czM2jkpmJlZu5SpszeX1Fq2vJ6kcUUGZWZmjZFypXAtsLJseQUep2Bmtk5KSQoDIqJ9nEL+emBxIZmZWaOkJIU5kiaVFiQdBMwtLiQzM2uUlC6pxwG/knR+vtwG/GtxIZmZWaOkDF57CthN0lBAnjrbzGzdldL76L8kjYyIhRGxQNLbJP1nTwRnZmY9K6VN4YCIeKO0EBGvAwcWF5KZmTVKSlJoljSotCBpPWBQjfJmZtZHpTQ0/xL4s6TLyGZJ/TyeJdXMbJ2U0tB8tqSHgX0BAd+NiJsLj8zMzHpc6iypNwI3FhyLmZk1WErvo90kTZO0UNJSSSskzU/ZuaT9JT0haaakUyu8P0jSr/P37/GcSmZmjZXS0Hw+cBjwJLAe8AXg/9XbSFIzcAFwADABOEzShA7FjgZej4h3AucC/zc9dDMz625JU2dHxEygOSJWRMRlwN4Jm70HmBkRs/L5kq4GDupQ5iBWNVr/BthXktJCNzOz7pbSpvCWpIHAA5LOBl4EhiRstynwXNlyG7BrtTIRsVzSPGADPLeSmVlDpCSFI8iuKE4AvgJsBnwiYbtKv/ijC2WQdCxwbL64UNITCcevZBT9L+H4nPsHn3P/sDbn/I6UQjWTQt4u8L2IOBxYDJzZiQDayBJIyRjghSpl2iQNAEYAr3XcUURMBiZ34tgVSZoeERPXdj99ic+5f/A59w89cc412xQiYgUwOq8+6qxpwPj8zm0DgUOBKR3KTAE+l78+BPhLRKxxpWBmZj0jpfpoNnCXpCnAm6WVEfGjWhvlbQQnADcDzcClEfGIpLOA6RExBfgZcIWkmWRXCId27TTMzKw7pCSFF/JHEzCsMzuPiBuAGzqsO63s9WLgk53Z51pa6yqoPsjn3D/4nPuHws9Z1WprJF0REUdIOjkiflx0IGYTY8RUAAAIN0lEQVRm1ni1ksKjZAPPpgB70aGnUESs0SBsZmZ9W62G5ouBm4BtgPs6PKYXH1rX9cfpNRLO+RRJj0p6SNKfJSV1T+vN6p1zWblDJIWkPt9TJeWcJX0q/1s/IunKno6xuyX82x4raaqk+/N/3336fi+SLpX0iqR/VHlfks7LP4+HJO3crQFERM0HcFG9Mr3pQdao/RSwBTAQeBCY0KHM8cDF+etDgV83Ou4eOOe9gcH56y/1h3POyw0D7gDuBiY2Ou4e+DuPB+4H3pYvb9jouHvgnCcDX8pfTwBmNzrutTznPYCdgX9Uef9AsglKBewG3NOdx687zUVEfKlemV6mP06vUfecI2JqRLyVL95NNm6kL0v5OwN8FzibbJxNX5dyzscAF0R2h0Qi4pUejrG7pZxzAMPz1yNYczxUnxIRd1BhvFaZg4DLI3M3MFLSxt11/KS5j/qYStNrbFqtTEQsB0rTa/RVKedc7mj6/lTodc9Z0k7AZhFxfU8GVqCUv/NWwFaS7pJ0t6T9eyy6YqSc8xnA4ZLayHo7ntgzoTVMZ/+/d0rS/RT6mG6bXqMPST4fSYcDE4E9C42oeDXPWVIT2cy7R/ZUQD0g5e88gKwKaS+yq8G/Sto+yu6z3seknPNhwM8j4hxJ7yUb+7R9RKwsPryGKPT7a128UujM9BrUml6jD0k5ZyR9EPgWMCkilvRQbEWpd87DgO2B2yTNJqt7ndLHG5tT/23/b0Qsi4ingSfIkkRflXLORwPXAETE34FWsjmC1lVJ/9+7al1MCv1xeo2655xXpVxClhD6ej0z1DnniJgXEaMiYlxEjCNrR5kUEb2651wdKf+2f08+tb2kUWTVSbN6NMrulXLOz5LdLhhJ25IlhTk9GmXPmgL8a94LaTdgXkS82F07X+eqj6IfTq+ReM4/AIYC1+Zt6s9GxKSGBb2WEs95nZJ4zjcDH8rHGa0AvhYRrzYu6rWTeM7/DvxE0lfIqlGO7Ms/8iRdRVb9NypvJzkdaAGIiIvJ2k0OBGYCbwFHdevx+/BnZ2Zm3WxdrD4yM7MuclIwM7N2TgpmZtbOScHMzNo5KZiZWTsnBWsn6SRJj0n6VQOOfYakr64Lx5M0rtoMl+syST+XdEhXyktaP5/ltFu7V1rnrXPjFGytHA8ckI+EbSdpQD5HlPVR+YSP6uzUDz3xt5c0gmwcwuSIuKzIY1l9vlIwACRdTDY98RRJX8l/SU+WdAtwef7r96+SZuSP95Vt+x+SHpb0oKTv5+veKelP+boZkrascMxv5fPk/wnYumz9lpJuknRffsxtKmx7Rj7v/G2SZkk6qey9UyT9I3/8W8Lx3pVPHveQpOskvS1ff5JW3YPi6goxVP1MqnzGe0m6XdI1kv4p6fuSPivp3vzz2zIvN1rSbyVNyx+7d+Wc8/gek3QhMIPVp0ZA0oGSHpd0p7L5+a8vO07dv70y5+ef0R+BDcv2vW/+y//hPOZBVT6WoWSTM14ZERfV+vyshzR67nA/es8DmA2Myl+fQXZDpfXy5cFAa/56PNloUsjuzvc3Vt2rYf38+R7g4Px1a+n9smPtAjyc73c42ejMr+bv/RkYn7/elWwako6xnpEfdxDZPDevko36LO13CNkXziPATnWO9xCwZ/76LOB/8tcvAIPy1yMrxFDtMxlHhbnwyUapvgFsnMf9PHBm/t7JZce9Enh//nos8FgXz3kcsBLYrUIsrWQzbW6eL18FXN/Jv/3HgVvJRhpvkp/bIWX73iovdznwbxVi+DnZjAJnN/rfvh+rHq4+slqmRMSi/HULcL6kd5FNn7BVvv6DwGWR36shIl6TNAzYNCKuy9dVupfBB4DrSttJmpI/DwXex6rpOCD7Eqzkj5FN7LdE0ivA24H35/t9M9/f7/JjNVU53giyL/zb833+Arg2f/0Q8CtJvyebU6ijap9JLdMin6dG0lPALfn6h8nnLCL7TCeUnf/w/DPt7DlPAZ6JbM79jrYBZsWqqsKrgGPL3k/52+8BXBURK4AXJP0lX7818HRE/DNf/gXwZeB/KsTxF+AgST+MdWNOrj7PScFqebPs9VeAl4Edyb5gS1/0Im1q8koqzbHSBLwREe9K2L58ptcVZP+eax27s3O6/B+yL75JwHckbRer169X+0xqKY95ZdnySlb9f2wC3lv2pQxAniQ6e85vVllf72+U8reHyp9pZ25YdTVwJ3CDpL0jYkEntrUCuE3BUo0AXoysofIIsioDyH7pfl7SYMh6kUTEfKBN0sfydYNK75e5AzhY0nr5r+CPAuTbPi3pk/m2krRjJ+K8A/iYpMGShgAHA3+tcbx5wOuSPpBvfwRwu7L7MWwWEVOB/wBGklXNpHwma+sW4ITSQv4LvZZq51zL48AWWnV/8k/XKFvtPO8ADpXUrOzOX6UrnceBcZLemS8fAdxOFRHxP2RVhtcpmwnVGshJwVJdCHxO0t1k1QdvAkTETWTVFNMlPQCUunkeAZwk6SGyevCNyncWETOAXwMPAL9l9S+xzwJHS3qQrH680m02K8r3+3PgXrJ2jZ9GxP11jvc54Ad5rO8ia1doBn4p6WGyex6fG2veqKbiZ9INTgIm5g3cjwLH1Spc7ZzrbLOIrLfZTZLuJLsSmFeleLXzvA54kqzq6yLyL/68uvAosirAh8mugi6uE8/XydohrsgTsjWIZ0k166ckDY2IhcrqpS4AnoyIcxsdlzWWM7JZ/3VMfnX3CFkV0SUNjsd6AV8pmJlZO18pmJlZOycFMzNr56RgZmbtnBTMzKydk4KZmbVzUjAzs3b/Hylr16PUHGUNAAAAAElFTkSuQmCC\n",
      "text/plain": [
       "<Figure size 432x288 with 1 Axes>"
      ]
     },
     "metadata": {},
     "output_type": "display_data"
    }
   ],
   "source": [
    "plt.plot(nodosAlMenosGradoKY2H[0],fraaEsenY2H)\n",
    "plt.xlabel('fracc de nodos al menor grado K')\n",
    "plt.ylabel('fracc de nodos esenciales de al menor grado K')\n",
    "plt.legend(\"fracc de nodos esenciales respecto a los nodos de grado k\")\n",
    "plt.ylim([0,1])"
   ]
  },
  {
   "cell_type": "code",
   "execution_count": null,
   "metadata": {
    "collapsed": true
   },
   "outputs": [],
   "source": []
  }
 ],
 "metadata": {
  "kernelspec": {
   "display_name": "Python 3",
   "language": "python",
   "name": "python3"
  },
  "language_info": {
   "codemirror_mode": {
    "name": "ipython",
    "version": 3
   },
   "file_extension": ".py",
   "mimetype": "text/x-python",
   "name": "python",
   "nbconvert_exporter": "python",
   "pygments_lexer": "ipython3",
   "version": "3.6.3"
  }
 },
 "nbformat": 4,
 "nbformat_minor": 2
}
