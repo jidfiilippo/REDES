{
 "cells": [
  {
   "cell_type": "markdown",
   "metadata": {},
   "source": [
    "# TABLA 3 de ZOTENKO"
   ]
  },
  {
   "cell_type": "code",
   "execution_count": 1,
   "metadata": {},
   "outputs": [],
   "source": [
    "import numpy as np\n",
    "import networkx as nx\n",
    "import matplotlib.pylab as plt\n",
    "%matplotlib inline\n",
    "import os\n",
    "from random import shuffle\n",
    "import math\n",
    "import pandas as pd\n",
    "from scipy import optimize"
   ]
  },
  {
   "cell_type": "code",
   "execution_count": 430,
   "metadata": {},
   "outputs": [],
   "source": [
    "def ldata(archive):\n",
    "    f=open(archive)\n",
    "    data=[]\n",
    "    for line in f:\n",
    "        line=line.strip()\n",
    "        col=line.split()\n",
    "        data.append(col)\n",
    "    return data\n",
    "\n",
    "def grafo(datosRed):\n",
    "    G = nx.Graph()\n",
    "    for i in range(np.shape(datosRed)[0]):\n",
    "        G.add_edges_from([(datosRed[i][0],datosRed[i][1])])\n",
    "    return G \n",
    "\n",
    "APMS = ldata('yeast_AP-MS.txt')\n",
    "GAPMS = grafo(APMS)\n",
    "\n",
    "Y2H=ldata('yeast_Y2H.txt')\n",
    "GY2H=grafo(Y2H)\n",
    "\n",
    "LIT=ldata('yeast_LIT.txt')\n",
    "GLIT=grafo(LIT)\n",
    "\n",
    "LIT_R=ldata('yeast_LIT_Reguly.txt')\n",
    "GLIT_R=grafo(LIT_R)"
   ]
  },
  {
   "cell_type": "code",
   "execution_count": 416,
   "metadata": {},
   "outputs": [],
   "source": [
    "essentiality=ldata('Essential.txt')\n",
    "\n",
    "ess=[]\n",
    "for i in range(len(essentiality)):\n",
    "    ess.append(essentiality[i][1])\n",
    "    \n",
    "def essentiality(nodo): \n",
    "    if len({nodo}.intersection(set(ess)))==0:\n",
    "        e=0\n",
    "    else:\n",
    "        e=1\n",
    "    return e   \n",
    "\n",
    "def AssignEssentiality(G,dict_ess):\n",
    "    for n in G.nodes:\n",
    "        G.nodes[n][\"essentiality\"] = dict_ess[n]\n",
    "    return\n",
    "\n",
    "def NodosEsenciales(G):\n",
    "    dict_ess = { nodo: essentiality(nodo) for nodo  in G.nodes() }\n",
    "    AssignEssentiality(G,dict_ess)\n",
    "    nodosesenciales=[]\n",
    "    nodosnoesenciales=[]\n",
    "    for nodo in list(set(G.nodes())):\n",
    "        if G.nodes.data(\"essentiality\")[nodo]==1:\n",
    "            nodosesenciales.append(nodo)\n",
    "        if G.nodes.data(\"essentiality\")[nodo]==0:\n",
    "            nodosnoesenciales.append(nodo)\n",
    "    return(nodosesenciales,nodosnoesenciales)"
   ]
  },
  {
   "cell_type": "markdown",
   "metadata": {},
   "source": [
    "Quiero funcion que saque todos los nodos esenciales de mi componente gigante y de como resultado TamañoCG_final/TamañoCG_original\n",
    "\n",
    "Importo datos del item anterior"
   ]
  },
  {
   "cell_type": "code",
   "execution_count": 5,
   "metadata": {},
   "outputs": [],
   "source": [
    "EfectoEsencial=np.loadtxt('EfectoEsencial.txt',delimiter=',')"
   ]
  },
  {
   "cell_type": "markdown",
   "metadata": {},
   "source": [
    "# Voy a mirar las distribuciones de grado de esenciales y no esenciales para poder elegir un criterio..."
   ]
  },
  {
   "cell_type": "code",
   "execution_count": 363,
   "metadata": {},
   "outputs": [],
   "source": [
    "def DistribucionGradoEssVsNoEss(G):\n",
    "    Gc=max(nx.connected_component_subgraphs(G), key=len)\n",
    "    Esenciales=NodosEsenciales(Gc)\n",
    "    NoEsenciales=[]\n",
    "    for node in list(Gc.nodes()):\n",
    "        if len({node}.intersection(set(Esenciales)))==0:\n",
    "            NoEsenciales.append(node)\n",
    "            \n",
    "    GradoEsenciales = list(dict(Gc.degree(Esenciales)).values())\n",
    "    GradoNoEsenciales = list(dict(Gc.degree(NoEsenciales)).values())\n",
    "    plt.hist(GradoEsenciales,bins=range(min(GradoEsenciales), max(GradoEsenciales) + 1, 1),histtype='step',label='esenciales')\n",
    "    plt.hist(GradoNoEsenciales,bins=range(min(GradoNoEsenciales), max(GradoNoEsenciales) + 1, 1),histtype='step',label='no esenciales')\n",
    "    plt.legend()"
   ]
  },
  {
   "cell_type": "code",
   "execution_count": 55,
   "metadata": {},
   "outputs": [
    {
     "data": {
      "image/png": "[encoded data removed]",
      "text/plain": [
       "<Figure size 1080x720 with 4 Axes>"
      ]
     },
     "metadata": {},
     "output_type": "display_data"
    }
   ],
   "source": [
    "plt.figure(figsize=(15,10))\n",
    "\n",
    "plt.subplot(2, 2, 1) \n",
    "plt.title('Red AP-MS')\n",
    "DistribucionGradoEssVsNoEss(GAPMS)\n",
    "\n",
    "plt.subplot(2, 2, 2) \n",
    "plt.title('Red Y2H')\n",
    "DistribucionGradoEssVsNoEss(GY2H)\n",
    "\n",
    "plt.subplot(2, 2, 3) \n",
    "plt.title('Red Literatura')\n",
    "DistribucionGradoEssVsNoEss(GLIT)\n",
    "\n",
    "plt.subplot(2, 2, 4) \n",
    "plt.title('Red Lit. Reguly')\n",
    "DistribucionGradoEssVsNoEss(GLIT_R)\n"
   ]
  },
  {
   "cell_type": "code",
   "execution_count": null,
   "metadata": {},
   "outputs": [],
   "source": []
  },
  {
   "cell_type": "code",
   "execution_count": 417,
   "metadata": {},
   "outputs": [],
   "source": [
    "def EsencialesYNoEsenciales(G):\n",
    "    Gc=max(nx.connected_component_subgraphs(G), key=len)\n",
    "    Esenciales,NoEsenciales=NodosEsenciales(Gc)\n",
    "    GradoEsenciales = Gc.degree(Esenciales)\n",
    "    GradoNoEsenciales = Gc.degree(NoEsenciales)\n",
    "    return(GradoEsenciales,GradoNoEsenciales)"
   ]
  },
  {
   "cell_type": "code",
   "execution_count": 418,
   "metadata": {},
   "outputs": [],
   "source": [
    "GradoEsencialesAPMS,GradoNoEsencialesAPMS=EsencialesYNoEsenciales(GAPMS)\n",
    "GradoEsencialesY2H,GradoNoEsencialesY2H=EsencialesYNoEsenciales(GY2H)\n",
    "GradoEsencialesLIT,GradoNoEsencialesLIT=EsencialesYNoEsenciales(GLIT)\n",
    "GradoEsencialesLIT_R,GradoNoEsencialesLIT_R=EsencialesYNoEsenciales(GLIT_R)\n"
   ]
  },
  {
   "cell_type": "code",
   "execution_count": 366,
   "metadata": {},
   "outputs": [
    {
     "data": {
      "text/plain": [
       "24"
      ]
     },
     "execution_count": 366,
     "metadata": {},
     "output_type": "execute_result"
    }
   ],
   "source": [
    "max(dict(GradoNoEsencialesLIT).values())"
   ]
  },
  {
   "cell_type": "markdown",
   "metadata": {},
   "source": [
    "# BINEO LOGARITMICO"
   ]
  },
  {
   "cell_type": "code",
   "execution_count": 66,
   "metadata": {},
   "outputs": [
    {
     "data": {
      "text/plain": [
       "[1, 2, 4, 8, 16, 32, 64, 128, 256, 512]"
      ]
     },
     "execution_count": 66,
     "metadata": {},
     "output_type": "execute_result"
    }
   ],
   "source": [
    "#SERIE DE BINEO\n",
    "serie = []\n",
    "serie.append(1)\n",
    "imax=9\n",
    "for k in range(imax):\n",
    "    serie.append(int(serie[k]+2**k))\n",
    "    \n",
    "serie\n"
   ]
  },
  {
   "cell_type": "code",
   "execution_count": 481,
   "metadata": {},
   "outputs": [],
   "source": [
    "def NodosPorBin(G,serie):\n",
    "    GradoEsenciales,GradoNoEsenciales=EsencialesYNoEsenciales(G)\n",
    "    GradosE=list(dict(GradoEsenciales).values())\n",
    "    GradosNoE=list(dict(GradoNoEsenciales).values())\n",
    "    CantidadE = []\n",
    "    NodosE=[]\n",
    "    CantidadNoE=[]\n",
    "    NodosNoE=[]\n",
    "    for i in range(len(serie)):\n",
    "        cantE = [d for d in GradosE if serie[i] <= d and d< serie[i+1]-0.1] \n",
    "        nodosE=[n for n,d in GradoEsenciales if serie[i] <= d and d< serie[i+1]-0.1]\n",
    "        cantNoE = [d for d in GradosNoE if serie[i] <= d and d< serie[i+1]-0.1] \n",
    "        nodosNoE = [n for n,d in GradoNoEsenciales if serie[i] <= d and d< serie[i+1]-0.1] \n",
    "        \n",
    "        CantidadE.append(len(cantE)) \n",
    "        NodosE.append(nodosE)\n",
    "        CantidadNoE.append(len(cantNoE))\n",
    "        NodosNoE.append(nodosNoE)\n",
    "    a=0\n",
    "    for l in range(len(CantidadE)):\n",
    "        if CantidadE[l]<=CantidadNoE[l]:\n",
    "            a=a+1\n",
    "    if a==len(CantidadE):\n",
    "        print('ESTA SERIE SIRVE')\n",
    "    else:\n",
    "        print('DEMASIADOS ESENCIALES')\n",
    "    return(CantidadE,NodosE,CantidadNoE,NodosNoE)"
   ]
  },
  {
   "cell_type": "code",
   "execution_count": 420,
   "metadata": {},
   "outputs": [],
   "source": [
    "def AgarraNoEsenciales(CantidadE,NodosNoE,m):\n",
    "    CombinacionesNoEsenciales=[]\n",
    "    for j in range(m):\n",
    "        NodosElegidos=[]\n",
    "        for i in range(len(CantidadE)):\n",
    "            n=CantidadE[i]\n",
    "            no_esenciales=np.random.permutation(NodosNoE[i])[:n-1]\n",
    "            NodosElegidos.extend(no_esenciales) #concateno los elegidos\n",
    "        CombinacionesNoEsenciales.append(NodosElegidos)\n",
    "    return(CombinacionesNoEsenciales)"
   ]
  },
  {
   "cell_type": "code",
   "execution_count": 435,
   "metadata": {},
   "outputs": [],
   "source": [
    "def SinNoEsenciales(G,CombinacionesNoEsenciales):\n",
    "    GcNoEsencial = max(nx.connected_component_subgraphs(G), key=len) #Me creo una copia de la componente Gigante Original.\n",
    "    LengthOriginalGc=len(GcNoEsencial)\n",
    "    LGC=[]\n",
    "    for i in range(len(CombinacionesNoEsenciales)):\n",
    "        GDesarmable=max(nx.connected_component_subgraphs(G.copy()), key=len)\n",
    "        for nodo in CombinacionesNoEsenciales[i]:\n",
    "            GDesarmable.remove_node(nodo)\n",
    "        LGC.append(float(len(max(nx.connected_component_subgraphs(GDesarmable), key=len)))/LengthOriginalGc)\n",
    "    LGC_mean=np.mean(LGC)\n",
    "    LGC_std=np.std(LGC)\n",
    "    return LGC_mean,LGC_std"
   ]
  },
  {
   "cell_type": "code",
   "execution_count": 467,
   "metadata": {},
   "outputs": [],
   "source": [
    "serieY2H=[1, 2, 3,4, 5,6,7,8,9, 10,11,12,13,14,16,20,28,40,50, 129]\n",
    "serieLIT=[1, 2,50]\n",
    "serieAPMS=[1, 2, 3, 4, 6, 35, 82, 128]\n",
    "serieLIT_R=[1, 2, 3, 4, 5,6,7, 8,128, 350]"
   ]
  },
  {
   "cell_type": "code",
   "execution_count": 524,
   "metadata": {},
   "outputs": [
    {
     "name": "stdout",
     "output_type": "stream",
     "text": [
      "ESTA SERIE SIRVE\n"
     ]
    },
    {
     "data": {
      "text/plain": [
       "(0.42276389117889523, 0.005843255231996505)"
      ]
     },
     "execution_count": 524,
     "metadata": {},
     "output_type": "execute_result"
    }
   ],
   "source": [
    "CantidadE_LIT,NodosE_LIT,CantidadNoE_LIT,NodosNoE_LIT=NodosPorBin(GLIT,serieLIT)\n",
    "CombinacionesNoEsenciales_LIT=AgarraNoEsenciales(CantidadE_LIT,NodosNoE_LIT,5000)\n",
    "LGC_mean_LIT,LGC_std_LIT=SinNoEsenciales(GLIT,CombinacionesNoEsenciales_LIT)\n",
    "LGC_mean_LIT,LGC_std_LIT\n"
   ]
  },
  {
   "cell_type": "code",
   "execution_count": 521,
   "metadata": {},
   "outputs": [
    {
     "name": "stdout",
     "output_type": "stream",
     "text": [
      "ESTA SERIE SIRVE\n"
     ]
    },
    {
     "data": {
      "text/plain": [
       "(0.6869708561020036, 0.010240843276752551)"
      ]
     },
     "execution_count": 521,
     "metadata": {},
     "output_type": "execute_result"
    }
   ],
   "source": [
    "CantidadE_Y2H,NodosE_Y2H,CantidadNoE_Y2H,NodosNoE_Y2H=NodosPorBin(GY2H,serieY2H)\n",
    "CombinacionesNoEsenciales_Y2H=AgarraNoEsenciales(CantidadE_Y2H,NodosNoE_Y2H,1000)\n",
    "LGC_mean_Y2H,LGC_std_Y2H=SinNoEsenciales(GY2H,CombinacionesNoEsenciales_Y2H)\n",
    "LGC_mean_Y2H,LGC_std_Y2H"
   ]
  },
  {
   "cell_type": "code",
   "execution_count": 522,
   "metadata": {},
   "outputs": [
    {
     "name": "stdout",
     "output_type": "stream",
     "text": [
      "ESTA SERIE SIRVE\n"
     ]
    },
    {
     "data": {
      "text/plain": [
       "(0.38907370517928286, 0.01939376541607375)"
      ]
     },
     "execution_count": 522,
     "metadata": {},
     "output_type": "execute_result"
    }
   ],
   "source": [
    "CantidadE_APMS,NodosE_APMS,CantidadNoE_APMS,NodosNoE_APMS=NodosPorBin(GAPMS,serieAPMS)\n",
    "CombinacionesNoEsenciales_APMS=AgarraNoEsenciales(CantidadE_APMS,NodosNoE_APMS,1000)\n",
    "LGC_mean_APMS,LGC_std_APMS=SinNoEsenciales(GAPMS,CombinacionesNoEsenciales_APMS)\n",
    "LGC_mean_APMS,LGC_std_APMS"
   ]
  },
  {
   "cell_type": "code",
   "execution_count": 523,
   "metadata": {},
   "outputs": [
    {
     "name": "stdout",
     "output_type": "stream",
     "text": [
      "ESTA SERIE SIRVE\n"
     ]
    },
    {
     "data": {
      "text/plain": [
       "(0.5639441687344913, 0.020601002069286983)"
      ]
     },
     "execution_count": 523,
     "metadata": {},
     "output_type": "execute_result"
    }
   ],
   "source": [
    "CantidadE_LIT_R,NodosE_LIT_R,CantidadNoE_LIT_R,NodosNoE_LIT_R=NodosPorBin(GLIT_R,serieLIT_R)\n",
    "CombinacionesNoEsenciales_LIT_R=AgarraNoEsenciales(CantidadE_LIT_R,NodosNoE_LIT_R,1000)\n",
    "LGC_mean_LIT_R,LGC_std_LIT_R=SinNoEsenciales(GLIT_R,CombinacionesNoEsenciales_LIT_R)\n",
    "LGC_mean_LIT_R,LGC_std_LIT_R"
   ]
  }
 ],
 "metadata": {
  "kernelspec": {
   "display_name": "Python 3",
   "language": "python",
   "name": "python3"
  },
  "language_info": {
   "codemirror_mode": {
    "name": "ipython",
    "version": 3
   },
   "file_extension": ".py",
   "mimetype": "text/x-python",
   "name": "python",
   "nbconvert_exporter": "python",
   "pygments_lexer": "ipython3",
   "version": "3.6.5"
  }
 },
 "nbformat": 4,
 "nbformat_minor": 2
}
