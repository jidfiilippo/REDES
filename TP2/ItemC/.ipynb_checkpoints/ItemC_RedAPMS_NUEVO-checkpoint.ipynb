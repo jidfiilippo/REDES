{
 "cells": [
  {
   "cell_type": "code",
   "execution_count": 1,
   "metadata": {
    "collapsed": true
   },
   "outputs": [],
   "source": [
    "#paquetes \n",
    "import numpy as np\n",
    "import networkx as nx\n",
    "import matplotlib.pylab as plt\n",
    "%matplotlib inline\n",
    "import os\n",
    "#from random import shuffle\n",
    "import math\n",
    "import pandas as pd\n",
    "from scipy import optimize\n"
   ]
  },
  {
   "cell_type": "markdown",
   "metadata": {},
   "source": [
    "PARA CADA RED: Me quedo con la componente gigante y me saco de encima el resto. Primero, voy a calcular, para todos los nodos de todas las redes, los siguientes parámetros: \n",
    "\n",
    "-degree centrality https://networkx.github.io/documentation/networkx-1.10/reference/algorithms.centrality.html \n",
    "\n",
    "-eigenvector centrality https://networkx.github.io/documentation/networkx-1.10/reference/generated/networkx.algorithms.centrality.eigenvector_centrality.html#networkx.algorithms.centrality.eigenvector_centrality \n",
    "\n",
    "-subgraph centrality https://networkx.github.io/documentation/networkx-1.10/reference/generated/networkx.algorithms.centrality.communicability_centrality.html#networkx.algorithms.centrality.communicability_centrality \n",
    "\n",
    "-shortest-path centrality https://networkx.github.io/documentation/networkx-1.10/reference/generated/networkx.algorithms.centrality.betweenness_centrality.html#networkx.algorithms.centrality.betweenness_centrality \n",
    "\n",
    "-current flow betweeness centrality https://networkx.github.io/documentation/networkx-1.10/reference/generated/networkx.algorithms.centrality.current_flow_betweenness_centrality.html#networkx.algorithms.centrality.current_flow_betweenness_centrality \n",
    "\n",
    "Ordeno mis nodos de mayor a menor para cada parametro. Voy sacando de a un nodo y me fijo de que tamaño queda el hub más grande. Eje x es fracción de nodos sacados, y eje y es la fracción de nodos en el hub más grande. y=nodos en el componene gigante/tamaño de componente gigante original\n",
    "\n",
    "Después, para la tabla 3, veo el efecto de sacar todos (nro=E) mis nodos esenciales. Además, veo el efecto de sacar E nodos no esenciales (osea la misma cantidad que esenciales haya en la red) de manera random, pero respetando el grado. Por ejemplo, si tengo 10 esenciales de grado 8 y 16 esenciales de grado 7, tengo que sacar 10 noesenciales de grado 8 y 16 noesenciales de grado 7 etc... Eso se hace muchass veces de manera random y se calcula el valor medio y dispersion..\n",
    "\n",
    "Comentario: En realidad, lo formalmente bien seria ir redefiniendo todos mis parametros en cada iteración, pero como tardaria mil años, entonces lo hago \"cada tanto\". Saco ponele los 10 mas grandes y recalculo parametros en mi nueva componente gigante, etc etc Despues puedo comparar si realmente cambia o no, y cuánto."
   ]
  },
  {
   "cell_type": "markdown",
   "metadata": {},
   "source": [
    "# RED AP-MS"
   ]
  },
  {
   "cell_type": "markdown",
   "metadata": {},
   "source": [
    "# Me quedo con la componente gigante"
   ]
  },
  {
   "cell_type": "code",
   "execution_count": 2,
   "metadata": {
    "collapsed": true
   },
   "outputs": [],
   "source": [
    "def ldata(archive):\n",
    "    f=open(archive)\n",
    "    data=[]\n",
    "    for line in f:\n",
    "        line=line.strip()\n",
    "        col=line.split()\n",
    "        data.append(col)\n",
    "    return data\n",
    "\n",
    "def grafo(datosRed):\n",
    "    G = nx.Graph()\n",
    "    for i in range(np.shape(datosRed)[0]):\n",
    "        G.add_edges_from([(datosRed[i][0],datosRed[i][1])])\n",
    "    return G "
   ]
  },
  {
   "cell_type": "code",
   "execution_count": 3,
   "metadata": {
    "collapsed": true
   },
   "outputs": [],
   "source": [
    "APMS = ldata('yeast_AP-MS.txt')\n",
    "GAPMS = grafo(APMS)\n",
    "# Y2H=ldata('yeast_Y2H.txt')\n",
    "# GY2H=grafo(Y2H)"
   ]
  },
  {
   "cell_type": "markdown",
   "metadata": {},
   "source": [
    "# Calculo coeficientes de centralidad"
   ]
  },
  {
   "cell_type": "code",
   "execution_count": 5,
   "metadata": {
    "collapsed": true
   },
   "outputs": [],
   "source": [
    "# degrees=dict(Gc.degree())\n",
    "# eigenvectors=nx.eigenvector_centrality_numpy(Gc)\n",
    "#subgraph=sc = nx.communicability_betweenness_centrality(Gc)\n",
    "#shortpath=nx.betweenness_centrality(Gc)\n",
    "#currentflow=nx.current_flow_betweenness_centrality(Gc)\n",
    "\n",
    "def param(G):\n",
    "   #parametros=[dict(G.degree()),nx.subgraph_centrality(G),nx.betweenness_centrality(G)] #,nx.current_flow_betweenness_centrality(G)]  \n",
    "    parametros=[nx.eigenvector_centrality_numpy(G)]\n",
    "    return parametros"
   ]
  },
  {
   "cell_type": "code",
   "execution_count": 6,
   "metadata": {
    "collapsed": true
   },
   "outputs": [],
   "source": [
    "#FUNCIÓN QUE ORDENA LOS NODOS DE MANERA DECRECIENTE SEGÚN PARÁMETRO DEL 'CRITERIO'\n",
    "def ordenanodos(criterio): #criterio=diccionario 'nombredenodo':valor de parametro\n",
    "    parametro=criterio.values()\n",
    "    parametroordenado=sorted(set(parametro),reverse=True)\n",
    "    nodosordenados=[]\n",
    "    for j in parametroordenado:\n",
    "        for key,value in criterio.items():\n",
    "            if value==j:\n",
    "                nodosordenados.append(key)\n",
    "    return(nodosordenados)"
   ]
  },
  {
   "cell_type": "markdown",
   "metadata": {},
   "source": [
    "# DESARM"
   ]
  },
  {
   "cell_type": "code",
   "execution_count": 14,
   "metadata": {
    "collapsed": true
   },
   "outputs": [],
   "source": [
    "def desarm(G):\n",
    "\n",
    "    FN=[]\n",
    "    LGC=[]\n",
    "    \n",
    "    Gc = max(nx.connected_component_subgraphs(G), key=len)\n",
    "    parametros=param(Gc)\n",
    "    \n",
    "    for k in range(len(parametros)):\n",
    "        parametro=parametros[k]\n",
    "              \n",
    "        Pimp=ordenanodos(parametro)\n",
    "        GcDesarmable = max(nx.connected_component_subgraphs(G), key=len) #Me creo una copia de la componente Gigante Original.\n",
    "        LengthOriginalGc=len(Gc)\n",
    "        LargestGc=[]\n",
    "        \n",
    "        for i in range(len(Gc)):\n",
    "            GcDesarmable.remove_node(Pimp[0])\n",
    "            LargestGc.append(float(len(max(nx.connected_component_subgraphs(GcDesarmable), key=len)))/LengthOriginalGc)\n",
    "            GcDesarmable = max(nx.connected_component_subgraphs(GcDesarmable), key=len)\n",
    "            \n",
    "            parametro=param(GcDesarmable)[k]\n",
    "            Pimp=ordenanodos(parametro)\n",
    "            print('lenGc',len(GcDesarmable))\n",
    "            if len(GcDesarmable)<5:\n",
    "                it=i\n",
    "                break\n",
    "                \n",
    "        FN.append(np.linspace(1,it+1,it+1)/LengthOriginalGc)\n",
    "        LGC.append(LargestGc)\n",
    "    \n",
    "    return FN,LGC"
   ]
  },
  {
   "cell_type": "code",
   "execution_count": 15,
   "metadata": {
    "scrolled": true
   },
   "outputs": [
    {
     "name": "stdout",
     "output_type": "stream",
     "text": [
      "lenGc 1003\n",
      "lenGc 1002\n",
      "lenGc 1001\n",
      "lenGc 1000\n",
      "lenGc 999\n",
      "lenGc 998\n",
      "lenGc 997\n",
      "lenGc 996\n",
      "lenGc 995\n",
      "lenGc 994\n",
      "lenGc 993\n",
      "lenGc 989\n",
      "lenGc 987\n",
      "lenGc 986\n",
      "lenGc 979\n",
      "lenGc 977\n",
      "lenGc 976\n",
      "lenGc 975\n",
      "lenGc 974\n",
      "lenGc 973\n",
      "lenGc 972\n",
      "lenGc 971\n",
      "lenGc 970\n",
      "lenGc 969\n",
      "lenGc 965\n",
      "lenGc 963\n",
      "lenGc 962\n",
      "lenGc 961\n",
      "lenGc 960\n",
      "lenGc 959\n",
      "lenGc 958\n",
      "lenGc 957\n",
      "lenGc 956\n",
      "lenGc 955\n",
      "lenGc 953\n",
      "lenGc 951\n",
      "lenGc 950\n",
      "lenGc 949\n",
      "lenGc 948\n",
      "lenGc 947\n",
      "lenGc 945\n",
      "lenGc 944\n",
      "lenGc 943\n",
      "lenGc 942\n",
      "lenGc 941\n",
      "lenGc 940\n",
      "lenGc 939\n",
      "lenGc 938\n",
      "lenGc 937\n",
      "lenGc 936\n",
      "lenGc 935\n",
      "lenGc 934\n",
      "lenGc 933\n",
      "lenGc 930\n",
      "lenGc 929\n",
      "lenGc 928\n",
      "lenGc 927\n",
      "lenGc 926\n",
      "lenGc 925\n",
      "lenGc 924\n",
      "lenGc 923\n",
      "lenGc 922\n",
      "lenGc 893\n",
      "lenGc 892\n",
      "lenGc 891\n",
      "lenGc 890\n",
      "lenGc 889\n",
      "lenGc 888\n",
      "lenGc 887\n",
      "lenGc 886\n",
      "lenGc 885\n",
      "lenGc 884\n",
      "lenGc 883\n",
      "lenGc 882\n",
      "lenGc 881\n",
      "lenGc 880\n",
      "lenGc 879\n",
      "lenGc 878\n",
      "lenGc 877\n",
      "lenGc 876\n",
      "lenGc 875\n",
      "lenGc 874\n",
      "lenGc 873\n",
      "lenGc 872\n",
      "lenGc 871\n",
      "lenGc 870\n",
      "lenGc 869\n",
      "lenGc 868\n",
      "lenGc 867\n",
      "lenGc 866\n",
      "lenGc 865\n",
      "lenGc 864\n",
      "lenGc 863\n",
      "lenGc 862\n",
      "lenGc 861\n",
      "lenGc 860\n",
      "lenGc 859\n",
      "lenGc 858\n",
      "lenGc 857\n",
      "lenGc 856\n",
      "lenGc 855\n",
      "lenGc 854\n",
      "lenGc 853\n",
      "lenGc 852\n",
      "lenGc 851\n",
      "lenGc 849\n",
      "lenGc 848\n",
      "lenGc 847\n",
      "lenGc 846\n",
      "lenGc 845\n",
      "lenGc 844\n",
      "lenGc 843\n",
      "lenGc 842\n",
      "lenGc 841\n",
      "lenGc 840\n",
      "lenGc 838\n",
      "lenGc 837\n",
      "lenGc 836\n",
      "lenGc 835\n",
      "lenGc 834\n",
      "lenGc 833\n",
      "lenGc 825\n",
      "lenGc 823\n",
      "lenGc 822\n",
      "lenGc 821\n",
      "lenGc 820\n",
      "lenGc 814\n",
      "lenGc 813\n",
      "lenGc 811\n",
      "lenGc 810\n",
      "lenGc 809\n",
      "lenGc 807\n",
      "lenGc 805\n",
      "lenGc 789\n",
      "lenGc 787\n",
      "lenGc 786\n",
      "lenGc 785\n",
      "lenGc 765\n",
      "lenGc 764\n",
      "lenGc 763\n",
      "lenGc 762\n",
      "lenGc 761\n",
      "lenGc 760\n",
      "lenGc 757\n",
      "lenGc 756\n",
      "lenGc 755\n",
      "lenGc 754\n",
      "lenGc 753\n",
      "lenGc 752\n",
      "lenGc 751\n",
      "lenGc 750\n",
      "lenGc 749\n",
      "lenGc 748\n",
      "lenGc 747\n",
      "lenGc 746\n",
      "lenGc 743\n",
      "lenGc 724\n",
      "lenGc 723\n",
      "lenGc 722\n",
      "lenGc 721\n",
      "lenGc 720\n",
      "lenGc 719\n",
      "lenGc 718\n",
      "lenGc 716\n",
      "lenGc 715\n",
      "lenGc 710\n",
      "lenGc 707\n",
      "lenGc 694\n",
      "lenGc 693\n",
      "lenGc 692\n",
      "lenGc 669\n",
      "lenGc 668\n",
      "lenGc 667\n",
      "lenGc 666\n",
      "lenGc 665\n",
      "lenGc 659\n",
      "lenGc 618\n",
      "lenGc 617\n",
      "lenGc 616\n",
      "lenGc 615\n",
      "lenGc 614\n",
      "lenGc 613\n",
      "lenGc 612\n",
      "lenGc 604\n",
      "lenGc 603\n",
      "lenGc 602\n",
      "lenGc 601\n",
      "lenGc 599\n",
      "lenGc 598\n",
      "lenGc 597\n",
      "lenGc 595\n",
      "lenGc 594\n",
      "lenGc 593\n",
      "lenGc 592\n",
      "lenGc 591\n",
      "lenGc 590\n",
      "lenGc 588\n",
      "lenGc 577\n",
      "lenGc 576\n",
      "lenGc 575\n",
      "lenGc 574\n",
      "lenGc 573\n",
      "lenGc 572\n",
      "lenGc 571\n",
      "lenGc 562\n",
      "lenGc 561\n",
      "lenGc 560\n",
      "lenGc 559\n",
      "lenGc 558\n",
      "lenGc 557\n",
      "lenGc 555\n",
      "lenGc 554\n",
      "lenGc 526\n",
      "lenGc 525\n",
      "lenGc 524\n",
      "lenGc 522\n",
      "lenGc 521\n",
      "lenGc 519\n",
      "lenGc 518\n",
      "lenGc 509\n",
      "lenGc 508\n",
      "lenGc 507\n",
      "lenGc 505\n",
      "lenGc 504\n",
      "lenGc 503\n",
      "lenGc 502\n",
      "lenGc 501\n",
      "lenGc 500\n",
      "lenGc 492\n",
      "lenGc 491\n",
      "lenGc 490\n",
      "lenGc 488\n",
      "lenGc 471\n",
      "lenGc 469\n",
      "lenGc 466\n",
      "lenGc 450\n",
      "lenGc 410\n",
      "lenGc 409\n",
      "lenGc 402\n",
      "lenGc 400\n",
      "lenGc 399\n",
      "lenGc 398\n",
      "lenGc 396\n",
      "lenGc 395\n",
      "lenGc 393\n",
      "lenGc 388\n",
      "lenGc 387\n",
      "lenGc 386\n",
      "lenGc 385\n",
      "lenGc 384\n",
      "lenGc 380\n",
      "lenGc 379\n",
      "lenGc 369\n",
      "lenGc 368\n",
      "lenGc 360\n",
      "lenGc 353\n",
      "lenGc 352\n",
      "lenGc 351\n",
      "lenGc 350\n",
      "lenGc 347\n",
      "lenGc 344\n",
      "lenGc 331\n",
      "lenGc 324\n",
      "lenGc 323\n",
      "lenGc 322\n",
      "lenGc 310\n",
      "lenGc 293\n",
      "lenGc 292\n",
      "lenGc 291\n",
      "lenGc 279\n",
      "lenGc 277\n",
      "lenGc 276\n",
      "lenGc 270\n",
      "lenGc 268\n",
      "lenGc 267\n",
      "lenGc 266\n",
      "lenGc 260\n",
      "lenGc 259\n",
      "lenGc 258\n",
      "lenGc 248\n",
      "lenGc 245\n",
      "lenGc 222\n",
      "lenGc 216\n",
      "lenGc 209\n",
      "lenGc 208\n",
      "lenGc 206\n",
      "lenGc 204\n",
      "lenGc 202\n",
      "lenGc 201\n",
      "lenGc 200\n",
      "lenGc 199\n",
      "lenGc 186\n",
      "lenGc 182\n",
      "lenGc 181\n",
      "lenGc 176\n",
      "lenGc 171\n",
      "lenGc 161\n",
      "lenGc 158\n",
      "lenGc 149\n",
      "lenGc 133\n",
      "lenGc 81\n",
      "lenGc 67\n",
      "lenGc 32\n",
      "lenGc 18\n",
      "lenGc 6\n",
      "lenGc 3\n"
     ]
    }
   ],
   "source": [
    "FN,LGC=desarm(GAPMS)"
   ]
  },
  {
   "cell_type": "code",
   "execution_count": null,
   "metadata": {
    "collapsed": true
   },
   "outputs": [],
   "source": [
    "# FN,LGC=desarm_degree(Gc)\n",
    "\n",
    "plt.plot(FN[0],LGC[0],label='shortest path')\n",
    "# plt.plot(FN[1],LGC[1],label='subgraph')\n",
    "# plt.plot(FN[2],LGC[2],label='subgraph')\n",
    "# plt.plot(FN[3],LGC[3],label='current_flow')\n",
    "plt.xlabel('Fraction of nodes')\n",
    "plt.ylabel('Largest Giant Component')\n",
    "plt.legend()"
   ]
  },
  {
   "cell_type": "markdown",
   "metadata": {},
   "source": [
    "# Vamos ahora con EIGENVECTORS"
   ]
  },
  {
   "cell_type": "code",
   "execution_count": null,
   "metadata": {
    "collapsed": true
   },
   "outputs": [],
   "source": [
    "eigenvectors=nx.eigenvector_centrality(Gc)\n",
    "EigenvectorImp=ordenanodos(eigenvectors)"
   ]
  },
  {
   "cell_type": "code",
   "execution_count": null,
   "metadata": {
    "collapsed": true
   },
   "outputs": [],
   "source": [
    "GcEigen = max(nx.connected_component_subgraphs(GAPMS), key=len)\n",
    "LengthOriginalGc=len(Gc)\n",
    "FractionEigen=np.linspace(1,650,650)/LengthOriginalGc\n",
    "LargestGcEigen=[]\n",
    "for nodo in EigenvectorImp[0:650]:\n",
    "    GcEigen.remove_node(nodo)\n",
    "    LargestGcEigen.append(float(len(max(nx.connected_component_subgraphs(GcEigen), key=len)))/LengthOriginalGc)\n"
   ]
  },
  {
   "cell_type": "code",
   "execution_count": null,
   "metadata": {
    "collapsed": true
   },
   "outputs": [],
   "source": [
    "n=120  #600/m\n",
    "m=5  #CADA CUANTO RECALCULO\n",
    "GcEigen2 = max(nx.connected_component_subgraphs(GAPMS), key=len)\n",
    "LengthOriginalGc=len(Gc)\n",
    "FractionEigen2=np.linspace(1,n*m,n*m)/LengthOriginalGc\n",
    "LargestGcEigen2=[]\n",
    "for i in range(n):\n",
    "    eigenvectors2=nx.eigenvector_centrality_numpy(GcEigen2)\n",
    "    EigenvectorImp2=ordenanodos(eigenvectors2)\n",
    "    for j in range(m):\n",
    "        GcEigen2.remove_node(EigenvectorImp2[j])\n",
    "        LargestGcEigen2.append(float(len(max(nx.connected_component_subgraphs(GcEigen2), key=len)))/LengthOriginalGc)\n"
   ]
  },
  {
   "cell_type": "code",
   "execution_count": null,
   "metadata": {
    "collapsed": true
   },
   "outputs": [],
   "source": [
    "plt.plot(FractionEigen2,LargestGcEigen2,label='recalculando cada 5') #en azul\n",
    "plt.plot(FractionEigen,LargestGcEigen,label='sin recalcular') #en naranja\n",
    "plt.xlabel('Fraction of nodes')\n",
    "plt.ylabel('Largest Giant Component')\n",
    "plt.legend()"
   ]
  },
  {
   "cell_type": "markdown",
   "metadata": {},
   "source": [
    "# Vamos ahora con SHORTEST PATH"
   ]
  },
  {
   "cell_type": "code",
   "execution_count": null,
   "metadata": {
    "collapsed": true
   },
   "outputs": [],
   "source": [
    "shortpath=nx.betweenness_centrality(Gc)\n",
    "ShortpathImp=ordenanodos(shortpath)\n",
    "\n",
    "GcShort = max(nx.connected_component_subgraphs(GAPMS), key=len)\n",
    "LengthOriginalGc=len(Gc)\n",
    "FractionShort=np.linspace(1,650,650)/LengthOriginalGc\n",
    "LargestGcShort=[]\n",
    "for nodo in ShortpathImp[0:650]:\n",
    "    GcShort.remove_node(nodo)\n",
    "    LargestGcShort.append(float(len(max(nx.connected_component_subgraphs(GcShort), key=len)))/LengthOriginalGc)\n"
   ]
  },
  {
   "cell_type": "code",
   "execution_count": null,
   "metadata": {
    "collapsed": true
   },
   "outputs": [],
   "source": [
    "n=120  #600/m\n",
    "m=5  #CADA CUANTO RECALCULO\n",
    "GcShort2 = max(nx.connected_component_subgraphs(GAPMS), key=len)\n",
    "LengthOriginalGc=len(Gc)\n",
    "FractionShort2=np.linspace(1,n*m,n*m)/LengthOriginalGc\n",
    "LargestGcShort2=[]\n",
    "for i in range(n):\n",
    "    shortpath2=nx.betweenness_centrality(GcShort2)\n",
    "    ShortImp2=ordenanodos(shortpath2)\n",
    "    for j in range(m):\n",
    "        GcShort2.remove_node(ShortImp2[j])\n",
    "        LargestGcShort2.append(float(len(max(nx.connected_component_subgraphs(GcShort2), key=len)))/LengthOriginalGc)\n"
   ]
  },
  {
   "cell_type": "code",
   "execution_count": null,
   "metadata": {
    "collapsed": true
   },
   "outputs": [],
   "source": [
    "plt.plot(FractionShort2,LargestGcShort2,label='recalculando cada 5') #en azul\n",
    "plt.plot(FractionShort,LargestGcShort,label='sin recalcular') #en naranja\n",
    "plt.xlabel('Fraction of nodes')\n",
    "plt.ylabel('Largest Giant Component')\n",
    "plt.legend()"
   ]
  },
  {
   "cell_type": "markdown",
   "metadata": {},
   "source": [
    "# Vamos ahora con CURRENT FLOW"
   ]
  },
  {
   "cell_type": "code",
   "execution_count": null,
   "metadata": {
    "collapsed": true
   },
   "outputs": [],
   "source": [
    "currentflow=nx.current_flow_betweenness_centrality(Gc)\n",
    "CurrentflowImp=ordenanodos(currentflow)\n",
    "\n",
    "GcCurrent = max(nx.connected_component_subgraphs(GAPMS), key=len)\n",
    "LengthOriginalGc=len(Gc)\n",
    "FractionCurrent=np.linspace(1,650,650)/LengthOriginalGc\n",
    "LargestGcCurrent=[]\n",
    "for nodo in CurrentflowImp[0:650]:\n",
    "    GcCurrent.remove_node(nodo)\n",
    "    LargestGcCurrent.append(float(len(max(nx.connected_component_subgraphs(GcCurrent), key=len)))/LengthOriginalGc)\n"
   ]
  },
  {
   "cell_type": "code",
   "execution_count": null,
   "metadata": {
    "collapsed": true
   },
   "outputs": [],
   "source": [
    "n=70  #600/m\n",
    "m=5  #CADA CUANTO RECALCULO\n",
    "GcCurrent2 = max(nx.connected_component_subgraphs(GAPMS), key=len)\n",
    "LengthOriginalGc=len(Gc)\n",
    "FractionCurrent2=np.linspace(1,n*m,n*m)/LengthOriginalGc\n",
    "LargestGcCurrent2=[]\n",
    "for i in range(n):\n",
    "    currentflow2=nx.current_flow_betweenness_centrality(max(nx.connected_component_subgraphs(GcCurrent2),key=len))\n",
    "    CurrentflowImp2=ordenanodos(currentflow2)\n",
    "    for j in range(m):\n",
    "        GcCurrent2.remove_node(CurrentflowImp2[j])\n",
    "        LargestGcCurrent2.append(float(len(max(nx.connected_component_subgraphs(GcCurrent2), key=len)))/LengthOriginalGc)\n"
   ]
  },
  {
   "cell_type": "code",
   "execution_count": null,
   "metadata": {
    "collapsed": true
   },
   "outputs": [],
   "source": [
    "plt.plot(FractionCurrent2,LargestGcCurrent2,label='recalculando cada 5') #en azul\n",
    "plt.plot(FractionCurrent,LargestGcCurrent,label='sin recalcular') #en naranja\n",
    "plt.xlabel('Fraction of nodes')\n",
    "plt.ylabel('Largest Giant Component')\n",
    "plt.legend()"
   ]
  },
  {
   "cell_type": "markdown",
   "metadata": {},
   "source": [
    "# por ultimo, SUBGRAPH"
   ]
  },
  {
   "cell_type": "code",
   "execution_count": null,
   "metadata": {
    "collapsed": true
   },
   "outputs": [],
   "source": [
    "subgraph=nx.subgraph_centrality(Gc)\n",
    "SubgraphImp=ordenanodos(subgraph)\n",
    "\n",
    "GcSubgraph = max(nx.connected_component_subgraphs(GAPMS), key=len)\n",
    "LengthOriginalGc=len(Gc)\n",
    "FractionSubgraph=np.linspace(1,650,650)/LengthOriginalGc\n",
    "LargestGcSubgraph=[]\n",
    "for nodo in SubgraphImp[0:650]:\n",
    "    GcSubgraph.remove_node(nodo)\n",
    "    LargestGcSubgraph.append(float(len(max(nx.connected_component_subgraphs(GcSubgraph), key=len)))/LengthOriginalGc)\n"
   ]
  },
  {
   "cell_type": "code",
   "execution_count": null,
   "metadata": {
    "collapsed": true
   },
   "outputs": [],
   "source": [
    "n=120  #600/m\n",
    "m=5  #CADA CUANTO RECALCULO\n",
    "GcSubgraph2 = max(nx.connected_component_subgraphs(GAPMS), key=len)\n",
    "LengthOriginalGc=len(Gc)\n",
    "FractionSubgraph2=np.linspace(1,n*m,n*m)/LengthOriginalGc\n",
    "LargestGcSubgraph2=[]\n",
    "for i in range(n):\n",
    "    subgraph2=nx.nx.subgraph_centrality(GcSubgraph2)\n",
    "    SubgraphImp2=ordenanodos(subgraph2)\n",
    "    for j in range(m):\n",
    "        GcSubgraph2.remove_node(SubgraphImp2[j])\n",
    "        LargestGcSubgraph2.append(float(len(max(nx.connected_component_subgraphs(GcSubgraph2), key=len)))/LengthOriginalGc)\n"
   ]
  },
  {
   "cell_type": "code",
   "execution_count": null,
   "metadata": {
    "collapsed": true
   },
   "outputs": [],
   "source": [
    "plt.plot(FractionSubgraph2,LargestGcSubgraph2,label='recalculando cada 5') #en azul\n",
    "plt.plot(FractionSubgraph,LargestGcSubgraph,label='sin recalcular') #en naranja\n",
    "plt.xlabel('Fraction of nodes')\n",
    "plt.ylabel('Largest Giant Component')\n",
    "plt.legend()"
   ]
  },
  {
   "cell_type": "markdown",
   "metadata": {},
   "source": [
    "# Me guardo todo en .txt"
   ]
  },
  {
   "cell_type": "code",
   "execution_count": null,
   "metadata": {
    "collapsed": true
   },
   "outputs": [],
   "source": [
    "DegreeAPMS=np.zeros((len(FractionNodes2),2))\n",
    "DegreeAPMS[:,0]=FractionNodes2\n",
    "DegreeAPMS[:,1]=LargestGc2\n",
    "\n",
    "EigenAPMS=np.zeros((len(FractionEigen2),2))\n",
    "EigenAPMS[:,0]=FractionEigen2\n",
    "EigenAPMS[:,1]=LargestGcEigen2\n",
    "\n",
    "ShortpathAPMS=np.zeros((len(FractionShort2),2))\n",
    "ShortpathAPMS[:,0]=FractionShort2\n",
    "ShortpathAPMS[:,1]=LargestGcShort2\n",
    "\n",
    "CurrentflowAPMS=np.zeros((len(FractionCurrent2),2))\n",
    "CurrentflowAPMS[:,0]=FractionCurrent2\n",
    "CurrentflowAPMS[:,1]=LargestGcCurrent2\n",
    "\n"
   ]
  },
  {
   "cell_type": "code",
   "execution_count": null,
   "metadata": {
    "collapsed": true
   },
   "outputs": [],
   "source": [
    "SubgraphAPMS=np.zeros((len(FractionSubgraph2),2))\n",
    "SubgraphAPMS[:,0]=FractionSubgraph2\n",
    "SubgraphAPMS[:,1]=LargestGcSubgraph2"
   ]
  },
  {
   "cell_type": "code",
   "execution_count": null,
   "metadata": {
    "collapsed": true
   },
   "outputs": [],
   "source": [
    "#np.savetxt('DegreeAPMS.txt', DegreeAPMS, delimiter=',')\n",
    "#np.savetxt('EigenAPMS.txt', EigenAPMS, delimiter=',')\n",
    "#np.savetxt('ShortpathAPMS.txt', ShortpathAPMS, delimiter=',')\n",
    "#np.savetxt('CurrentflowAPMS.txt', CurrentflowAPMS, delimiter=',') \n",
    "#np.savetxt('SubgraphAPMS.txt', SubgraphAPMS, delimiter=',') \n"
   ]
  },
  {
   "cell_type": "markdown",
   "metadata": {},
   "source": [
    "# Importo para graficar"
   ]
  },
  {
   "cell_type": "code",
   "execution_count": null,
   "metadata": {
    "collapsed": true
   },
   "outputs": [],
   "source": [
    "DegreeAPMS=np.loadtxt('DegreeAPMS.txt',delimiter=',')\n",
    "EigenAPMS=np.loadtxt('EigenAPMS.txt',delimiter=',')\n",
    "ShortpathAPMS=np.loadtxt('ShortpathAPMS.txt',delimiter=',')\n",
    "CurrentflowAPMS=np.loadtxt('CurrentflowAPMS.txt',delimiter=',')\n",
    "SubgraphAPMS=np.loadtxt('SubgraphAPMS.txt',delimiter=',')"
   ]
  },
  {
   "cell_type": "code",
   "execution_count": null,
   "metadata": {
    "collapsed": true
   },
   "outputs": [],
   "source": [
    "plt.figure(figsize=(12,9))\n",
    "plt.plot(DegreeAPMS[:,0],DegreeAPMS[:,1],label='Degree') \n",
    "plt.plot(EigenAPMS[:,0],EigenAPMS[:,1],label='Eigenvector') \n",
    "plt.plot(ShortpathAPMS[:,0],ShortpathAPMS[:,1],label='Short-path') \n",
    "plt.plot(CurrentflowAPMS[:,0],CurrentflowAPMS[:,1],label='Current flow')\n",
    "plt.plot(SubgraphAPMS[:,0],SubgraphAPMS[:,1],label='Subgraph')\n",
    "plt.plot(FractionNodesEsenencial,LargestGcEsencial,'o', label='Essentials')\n",
    "\n",
    "\n",
    "plt.xlabel('Fraction of nodes')\n",
    "plt.ylabel('Largest Giant Component')\n",
    "plt.legend()"
   ]
  },
  {
   "cell_type": "markdown",
   "metadata": {},
   "source": [
    "# Queda pendiente..."
   ]
  },
  {
   "cell_type": "markdown",
   "metadata": {},
   "source": [
    "Ir sacando de manera random los nodos\n",
    "\n",
    "Sacar los que son esenciales\n",
    "\n",
    "Descubrir qué comando encuentra la subgraph centrality"
   ]
  },
  {
   "cell_type": "markdown",
   "metadata": {},
   "source": [
    "# Asignación de esencialidad a nodos"
   ]
  },
  {
   "cell_type": "code",
   "execution_count": null,
   "metadata": {
    "collapsed": true
   },
   "outputs": [],
   "source": [
    "essentiality=ldata('Essential.txt')\n",
    "\n",
    "ess=[]\n",
    "for i in range(len(essentiality)):\n",
    "    ess.append(essentiality[i][1])\n",
    "    \n",
    "def essentiality(nodo): \n",
    "    if len({nodo}.intersection(set(ess)))==0:\n",
    "        e=0\n",
    "    else:\n",
    "        e=1\n",
    "    return e    \n",
    "\n",
    "dict_ess = { nodo: essentiality(nodo) for nodo  in GAPMS.nodes() }\n",
    "\n",
    "def AssignEssentiality(G,dict_ess):\n",
    "    for n in G.nodes:\n",
    "        G.nodes[n][\"essentiality\"] = dict_ess[n]\n",
    "    return\n",
    "\n",
    "AssignEssentiality(GAPMS,dict_ess)"
   ]
  },
  {
   "cell_type": "code",
   "execution_count": null,
   "metadata": {
    "collapsed": true
   },
   "outputs": [],
   "source": [
    "#Te devuelve una lista de los nodos esenciales de un grafo\n",
    "def NodosEsenciales(G):\n",
    "    nodosesenciales=[]\n",
    "    for nodo in list(set(G.nodes())):\n",
    "        if G.nodes.data(\"essentiality\")[nodo]==1:\n",
    "            nodosesenciales.append(nodo)\n",
    "    return(nodosesenciales)\n",
    "    "
   ]
  },
  {
   "cell_type": "markdown",
   "metadata": {},
   "source": [
    "# Saco los nodos esenciales de mi componente gigante"
   ]
  },
  {
   "cell_type": "code",
   "execution_count": null,
   "metadata": {},
   "outputs": [],
   "source": [
    "essentiality=ldata('Essential.txt')\n",
    "\n",
    "ess=[]\n",
    "for i in range(len(essentiality)):\n",
    "    ess.append(essentiality[i][1])\n",
    "    \n",
    "def essentiality(nodo): \n",
    "    if len({nodo}.intersection(set(ess)))==0:\n",
    "        e=0\n",
    "    else:\n",
    "        e=1\n",
    "    return e   \n",
    "\n",
    "def AssignEssentiality(G,dict_ess):\n",
    "    for n in G.nodes:\n",
    "        G.nodes[n][\"essentiality\"] = dict_ess[n]\n",
    "    return\n",
    "\n",
    "def NodosEsenciales(G):\n",
    "    dict_ess = { nodo: essentiality(nodo) for nodo  in G.nodes() }\n",
    "    AssignEssentiality(GAPMS,dict_ess)\n",
    "    nodosesenciales=[]\n",
    "    for nodo in list(set(G.nodes())):\n",
    "        if G.nodes.data(\"essentiality\")[nodo]==1:\n",
    "            nodosesenciales.append(nodo)\n",
    "    return(nodosesenciales)\n",
    "\n",
    "def SinEsenciales(G)\n",
    "    GcEsencial = max(nx.connected_component_subgraphs(G), key=len) #Me creo una copia de la componente Gigante Original.\n",
    "    LengthOriginalGc=len(max(nx.connected_component_subgraphs(G), key=len))\n",
    "    nodosesenciales=NodosEsenciales(GcEsencial)\n",
    "    for nodo in nodosesenciales:\n",
    "        GcEsencial.remove_node(nodo)\n",
    "    FN=float(len(nodosesenciales))/LengthOriginalGc\n",
    "    LGC=float(len(max(nx.connected_component_subgraphs(GcEsencial), key=len)))/LengthOriginalGc\n",
    "    return FN,LGC"
   ]
  },
  {
   "cell_type": "code",
   "execution_count": null,
   "metadata": {
    "collapsed": true
   },
   "outputs": [],
   "source": [
    "FN_APMS,LGC_APMS=SinEsenciales(GAPMS)\n",
    "FN_Y2H,LGC_Y2H=SinEsenciales(GY2H)\n",
    "FN_LIT,LGC_LIT=SinEsenciales(GLIT)\n",
    "FN_LIT_R,LGC_LIT_r=SinEsenciales(GLIT_R)"
   ]
  },
  {
   "cell_type": "code",
   "execution_count": null,
   "metadata": {
    "collapsed": true
   },
   "outputs": [],
   "source": [
    "FractionNodesEsenencial=0.4043824701195219\n",
    "LargestGcEsencial= 0.3237051792828685\n"
   ]
  }
 ],
 "metadata": {
  "kernelspec": {
   "display_name": "Python 3",
   "language": "python",
   "name": "python3"
  },
  "language_info": {
   "codemirror_mode": {
    "name": "ipython",
    "version": 3
   },
   "file_extension": ".py",
   "mimetype": "text/x-python",
   "name": "python",
   "nbconvert_exporter": "python",
   "pygments_lexer": "ipython3",
   "version": "3.6.5"
  }
 },
 "nbformat": 4,
 "nbformat_minor": 2
}
