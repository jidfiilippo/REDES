{
 "cells": [
  {
   "cell_type": "markdown",
   "metadata": {},
   "source": [
    "# TABLA 3 de ZOTENKO"
   ]
  },
  {
   "cell_type": "code",
   "execution_count": 3,
   "metadata": {},
   "outputs": [],
   "source": [
    "import numpy as np\n",
    "import networkx as nx\n",
    "import matplotlib.pylab as plt\n",
    "%matplotlib inline\n",
    "import os\n",
    "from random import shuffle\n",
    "import math\n",
    "import pandas as pd\n",
    "from scipy import optimize"
   ]
  },
  {
   "cell_type": "code",
   "execution_count": 6,
   "metadata": {},
   "outputs": [],
   "source": [
    "def ldata(archive):\n",
    "    f=open(archive)\n",
    "    data=[]\n",
    "    for line in f:\n",
    "        line=line.strip()\n",
    "        col=line.split()\n",
    "        data.append(col)\n",
    "    return data\n",
    "\n",
    "def grafo(datosRed):\n",
    "    G = nx.Graph()\n",
    "    for i in range(np.shape(datosRed)[0]):\n",
    "        G.add_edges_from([(datosRed[i][0],datosRed[i][1])])\n",
    "    return G \n",
    "\n",
    "APMS = ldata('yeast_AP-MS.txt')\n",
    "GAPMS = grafo(APMS)\n",
    "\n",
    "Y2H=ldata('yeast_Y2H.txt')\n",
    "GY2H=grafo(Y2H)\n",
    "\n",
    "LIT=ldata('yeast_LIT.txt')\n",
    "GLIT=grafo(LIT)\n",
    "\n",
    "LIT_R=ldata('yeast_LIT_Reguly.txt')\n",
    "GLIT_R=grafo(LIT_R)"
   ]
  },
  {
   "cell_type": "code",
   "execution_count": 7,
   "metadata": {},
   "outputs": [],
   "source": [
    "essentiality=ldata('Essential.txt')\n",
    "\n",
    "ess=[]\n",
    "for i in range(len(essentiality)):\n",
    "    ess.append(essentiality[i][1])\n",
    "    \n",
    "def essentiality(nodo): \n",
    "    if len({nodo}.intersection(set(ess)))==0:\n",
    "        e=0\n",
    "    else:\n",
    "        e=1\n",
    "    return e   \n",
    "\n",
    "def AssignEssentiality(G,dict_ess):\n",
    "    for n in G.nodes:\n",
    "        G.nodes[n][\"essentiality\"] = dict_ess[n]\n",
    "    return\n",
    "\n",
    "def NodosEsenciales(G):\n",
    "    dict_ess = { nodo: essentiality(nodo) for nodo  in G.nodes() }\n",
    "    AssignEssentiality(G,dict_ess)\n",
    "    nodosesenciales=[]\n",
    "    for nodo in list(set(G.nodes())):\n",
    "        if G.nodes.data(\"essentiality\")[nodo]==1:\n",
    "            nodosesenciales.append(nodo)\n",
    "    return(nodosesenciales)"
   ]
  },
  {
   "cell_type": "markdown",
   "metadata": {},
   "source": [
    "Quiero funcion que saque todos los nodos esenciales de mi componente gigante y de como resultado TamañoCG_final/TamañoCG_original\n",
    "\n",
    "Importo datos del item anterior"
   ]
  },
  {
   "cell_type": "code",
   "execution_count": 4,
   "metadata": {},
   "outputs": [],
   "source": [
    "EfectoEsencial=np.loadtxt('EfectoEsencial.txt',delimiter=',')"
   ]
  },
  {
   "cell_type": "markdown",
   "metadata": {},
   "source": [
    "Voy a mirar las distribuciones de grado de esenciales y no esenciales para poder elegir un criterio..."
   ]
  },
  {
   "cell_type": "code",
   "execution_count": null,
   "metadata": {},
   "outputs": [],
   "source": [
    "def DistribucionGradoEssVsNoEss(G)\n",
    "    Gc=max(nx.connected_component_subgraphs(G), key=len)\n",
    "    "
   ]
  },
  {
   "cell_type": "code",
   "execution_count": 35,
   "metadata": {},
   "outputs": [
    {
     "data": {
      "text/plain": [
       "(array([83., 46., 42., 31., 26., 46., 26., 14., 15.,  6.,  8.,  4., 19.,\n",
       "        24., 17.,  9., 14.,  8.,  6.,  9.,  6., 12.,  9., 13., 11.,  8.,\n",
       "         8.,  6.,  4.,  3.,  4.,  1.,  5.,  6.,  3.,  2.,  5.,  4.,  4.,\n",
       "         4.,  1.,  2.,  2.,  4.,  2.,  2.,  0.,  3.,  1.,  1.,  1.,  0.,\n",
       "         2.,  0.,  0.,  0.,  0.,  0.,  0.,  0.,  1.,  0.,  0.,  0.,  1.,\n",
       "         0.,  1.,  1.,  1.,  0.,  0.,  0.,  0.,  2.,  1.,  0.,  0.,  0.,\n",
       "         0.,  0.,  0.,  0.,  1.,  1.,  1.,  1.,  0.,  0.,  0.,  0.,  0.,\n",
       "         0.,  0.,  0.,  0.,  0.,  0.,  0.,  0.,  0.,  0.,  0.,  0.,  1.,\n",
       "         0.,  0.,  0.,  0.,  0.,  1.,  0.,  0.,  0.,  0.,  0.,  0.,  0.,\n",
       "         0.,  0.,  0.,  0.,  0.,  0.,  0.,  0.,  1.]),\n",
       " array([  1,   2,   3,   4,   5,   6,   7,   8,   9,  10,  11,  12,  13,\n",
       "         14,  15,  16,  17,  18,  19,  20,  21,  22,  23,  24,  25,  26,\n",
       "         27,  28,  29,  30,  31,  32,  33,  34,  35,  36,  37,  38,  39,\n",
       "         40,  41,  42,  43,  44,  45,  46,  47,  48,  49,  50,  51,  52,\n",
       "         53,  54,  55,  56,  57,  58,  59,  60,  61,  62,  63,  64,  65,\n",
       "         66,  67,  68,  69,  70,  71,  72,  73,  74,  75,  76,  77,  78,\n",
       "         79,  80,  81,  82,  83,  84,  85,  86,  87,  88,  89,  90,  91,\n",
       "         92,  93,  94,  95,  96,  97,  98,  99, 100, 101, 102, 103, 104,\n",
       "        105, 106, 107, 108, 109, 110, 111, 112, 113, 114, 115, 116, 117,\n",
       "        118, 119, 120, 121, 122, 123, 124, 125, 126, 127]),\n",
       " <a list of 126 Patch objects>)"
      ]
     },
     "execution_count": 35,
     "metadata": {},
     "output_type": "execute_result"
    },
    {
     "data": {
      "image/png": "[encoded data removed]",
      "text/plain": [
       "<Figure size 432x288 with 1 Axes>"
      ]
     },
     "metadata": {},
     "output_type": "display_data"
    }
   ],
   "source": [
    "EsencialesAPMS=NodosEsenciales(GAPMS);\n",
    "GradoEsencialesAPMS = list(dict(GAPMS.degree(EsencialesAPMS)).values());\n",
    "plt.hist(GradoEsencialesAPMS,bins=range(min(GradoEsencialesAPMS), max(GradoEsencialesAPMS) + 1, 1))\n"
   ]
  }
 ],
 "metadata": {
  "kernelspec": {
   "display_name": "Python 3",
   "language": "python",
   "name": "python3"
  },
  "language_info": {
   "codemirror_mode": {
    "name": "ipython",
    "version": 3
   },
   "file_extension": ".py",
   "mimetype": "text/x-python",
   "name": "python",
   "nbconvert_exporter": "python",
   "pygments_lexer": "ipython3",
   "version": "3.6.5"
  }
 },
 "nbformat": 4,
 "nbformat_minor": 2
}
