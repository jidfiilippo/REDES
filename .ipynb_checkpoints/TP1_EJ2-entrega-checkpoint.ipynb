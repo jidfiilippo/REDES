{
 "cells": [
  {
   "cell_type": "markdown",
   "metadata": {},
   "source": [
    "# EJERCICIO 2 : DELFINES DE NUEVA ZELANDA"
   ]
  },
  {
   "cell_type": "code",
   "execution_count": null,
   "metadata": {
    "collapsed": true
   },
   "outputs": [],
   "source": [
    "import numpy as np\n",
    "import networkx as nx\n",
    "import os\n",
    "from random import shuffle          # importamos las librerias necesarias\n",
    "import matplotlib.pylab as plt       \n",
    "%matplotlib inline\n",
    "from matplotlib.pyplot import title,xlabel,ylabel,show"
   ]
  },
  {
   "cell_type": "code",
   "execution_count": null,
   "metadata": {
    "collapsed": true
   },
   "outputs": [],
   "source": [
    "G = nx.read_gml('dolphins.gml') # definimos la red:cada nodo es un delfin y cada conexion representa una interaccion"
   ]
  },
  {
   "cell_type": "code",
   "execution_count": null,
   "metadata": {
    "collapsed": true
   },
   "outputs": [],
   "source": [
    "def ldata(archive):\n",
    "    f=open(archive)\n",
    "    data=[]\n",
    "    for line in f:\n",
    "        line=line.strip()\n",
    "        col=line.split()\n",
    "        data.append(col)\n",
    "    return data\n",
    "\n",
    "dolphinsGender=ldata('dolphinsGender.txt') # usamos la funcion \"ldata\" para abrir el archivo .txt \n",
    "                                           # que contiene el genero de cada delfin"
   ]
  },
  {
   "cell_type": "code",
   "execution_count": null,
   "metadata": {
    "collapsed": true
   },
   "outputs": [],
   "source": [
    "dict_gender = {dolphin_nombre : genero for dolphin_nombre, genero  in dolphinsGender} #lista a diccionario"
   ]
  },
  {
   "cell_type": "code",
   "execution_count": null,
   "metadata": {
    "collapsed": true
   },
   "outputs": [],
   "source": [
    "def AssignGender(G,dict_gender):\n",
    "    for n in G.nodes:\n",
    "        G.nodes[n][\"gender\"] = dict_gender[n]\n",
    "    return\n",
    "\n",
    "for n in G.nodes:                                   # usamos la funcion \"AssignGender\" para asignar\n",
    "    G.nodes[n][\"gender\"] = dict_gender[n]           # un atributo (genero) a los nodos de la red (delfines)"
   ]
  },
  {
   "cell_type": "code",
   "execution_count": null,
   "metadata": {},
   "outputs": [],
   "source": [
    "list(nx.get_node_attributes(G,'gender').items())[0:9]  #chequeamos algunos casos"
   ]
  },
  {
   "cell_type": "markdown",
   "metadata": {},
   "source": [
    "# (A) Examine diferentes opciones de layout para este grafo e identifique la que le resulte más informativa. Justifique su elección detallando las características estructurales de la red que su elección pone en evidencia. Incluya en la representación gráfica de la red información sobre el sexo de los delfines."
   ]
  },
  {
   "cell_type": "code",
   "execution_count": null,
   "metadata": {},
   "outputs": [],
   "source": [
    "def color(g):                  \n",
    "    if g=='m':\n",
    "        col='blue'\n",
    "    elif g=='f':                   # definimos una funcion para asignar un color distinto a cada genero\n",
    "        col='red'\n",
    "    else:\n",
    "        col='green'\n",
    "    return col\n",
    "\n",
    "options = {'node_color':[color(g) for g in nx.get_node_attributes(G,'gender').values()],\n",
    "           'node_size':60,'with_labels':True}\n",
    "\n",
    "plt.figure(figsize=(15,10))\n",
    "plt.subplot(221)\n",
    "nx.draw_random(G, **options)\n",
    "plt.subplot(222)\n",
    "nx.draw_circular(G, **options)           # graficamos la red con distintos layouts\n",
    "plt.subplot(223)\n",
    "nx.draw_spectral(G, **options)\n",
    "plt.subplot(224)\n",
    "nx.draw_spring(G, **options)"
   ]
  },
  {
   "cell_type": "markdown",
   "metadata": {},
   "source": [
    "De los distintos Layouts analizados, el método \"Fruchterman-Reingold Force-Directed Graph\"  es el que nos permite visualizar mejor la estructura de la red. (https://en.wikipedia.org/wiki/Force-directed_graph_drawing)"
   ]
  },
  {
   "cell_type": "code",
   "execution_count": null,
   "metadata": {},
   "outputs": [],
   "source": [
    "options = {'node_color':[color(g) for g in nx.get_node_attributes(G,'gender').values()],\n",
    "           'node_size':200,'with_labels':True}\n",
    "\n",
    "plt.figure(figsize=(15,10))\n",
    "nx.draw_spring(G, **options)"
   ]
  },
  {
   "cell_type": "markdown",
   "metadata": {},
   "source": [
    "# (B) ¿Se trata una red donde prevalece la homofilia en la variable género?"
   ]
  },
  {
   "cell_type": "markdown",
   "metadata": {},
   "source": [
    "# (i) Considere la distribución nula para la fracción de enlaces que vinculan géneros diferentes, generada a partir de al menos 1000 asignaciones aleatorias de género."
   ]
  },
  {
   "cell_type": "markdown",
   "metadata": {},
   "source": [
    "La modularidad es una medida de la estructura de las redes. Particularmente mide la fuerza de la división de una red en módulos/comunidades. Las redes con alta modularidad tienen conexiones sólidas entre los nodos dentro de los módulos, pero escasas conexiones entre nodos en diferentes módulos, con lo cual resulta un parámetro óptimo para observar la presencia de homofilia en una red. La modularidad se defino como:\n",
    "\n",
    "$$Q=\\frac{1}{2m} \\sum_{ij} \\delta(c_{i}, c_{j}) (A_{ij}-\\frac{k_{i}k_{j}}{2m})$$\n",
    "\n",
    "<br>\n",
    "$k_{i}:$ grado del nodo i \n",
    "<br>\n",
    "$k_{j}:$ grado del nodo j\n",
    "<br>\n",
    "$c_{i}:$ clase i\n",
    "<br>\n",
    "$c_{j}:$ clase j\n",
    "<br>\n",
    "$m:$ cantidad de enlaces total \n",
    "<br>\n",
    "$A_{ij} = 1$ si hay un enlace entre el nodo i y el nodo j \n",
    "<br>\n",
    "$A_{ij} = 0$ en otro caso.\n",
    "<br>\n",
    "$\\delta(c_{i}, c_{j}) = \\frac{c_{i}c_{j} + 1}{2}$"
   ]
  },
  {
   "cell_type": "code",
   "execution_count": null,
   "metadata": {
    "collapsed": true
   },
   "outputs": [],
   "source": [
    "def delta(c_i, c_j):\n",
    "    if  c_i == c_j:\n",
    "        return 1 \n",
    "    else:\n",
    "        return 0 \n",
    "\n",
    "#definimos la funcion modularidad a partir de un grafo 'G' que ya tiene montado el campo escalar 'FieldString' que\n",
    "#le da una clase a cada nodo\n",
    "\n",
    "def modularity(G,FieldString):\n",
    "    modularity = 0\n",
    "    m = np.shape(nx.edges(G))[0] #cantidad de enlaces\n",
    "    A = nx.to_numpy_matrix(G)    #adjency matrix (por definicion cumple las condiciones de A_ij mencionadas arriba)\n",
    "    \n",
    "    Degree = list(G.degree)                     # lista de tuplas (nodo,grado) con un orden determinado\n",
    "    degree = [degree for node,degree in Degree] # genero un vector donde cada elemento es el grado para el nodo\n",
    "                                                # indexado como 0,1,2... , que se corresponde con el orden de \n",
    "                                                # la lista Degree\n",
    "    \n",
    "    atrributes = list(nx.get_node_attributes(G,FieldString).values())  #lista con los generos ordenados\n",
    "    \n",
    "    for i in range(np.size(nx.nodes(G))):\n",
    "        for j in range(np.size(nx.nodes(G))):\n",
    "            modularity = ((1/(2 * m)) * delta(atrributes[i], atrributes[j])*     # calculo la modularidad\n",
    "                          (A[i,j] - (degree[i] * degree[j])/(2*m))+modularity)\n",
    "    \n",
    "    return modularity"
   ]
  },
  {
   "cell_type": "code",
   "execution_count": null,
   "metadata": {},
   "outputs": [],
   "source": [
    "modularity(G, 'gender') # modularidad de la red real"
   ]
  },
  {
   "cell_type": "markdown",
   "metadata": {},
   "source": [
    "Modularidad en el caso aleatorio"
   ]
  },
  {
   "cell_type": "code",
   "execution_count": null,
   "metadata": {},
   "outputs": [],
   "source": [
    "def BreakFieldAttribution(fieldAtributtion):              \n",
    "    names = [nodes for nodes,field in fieldAtributtion]  # funcion para separar los keys y los values \n",
    "    field = [field for nodes,field in fieldAtributtion]  #          en un diccionario\n",
    "    return names,field\n",
    "\n",
    "DistributionModularity = []                          # Vector para guardar las modularidades de cada iteracion\n",
    "\n",
    "names = BreakFieldAttribution(dolphinsGender)[0]     # genero una lista con los nombres de los delfines\n",
    "genders = BreakFieldAttribution(dolphinsGender)[1]   # genero una lista con los generos de los delfines \n",
    "it = 10000                                           # numero de iteraciones \n",
    "H = nx.read_gml('dolphins.gml')                      # trabajamos sobre H (grafo nuevo)\n",
    "\n",
    "\n",
    "for i in range(it):\n",
    "    np.random.shuffle(genders)                       # reordeno al azar la lista de generos\n",
    "    dict_gender_together = dict(zip(names,genders))  # genero un diccionario nuevo {delfines: generos reordenados} \n",
    "    AssignGender(H,dict_gender_together)             # Asigno el genero correspondiente a cada nodo de H \n",
    "    DistributionModularity.append(modularity(H,'gender'))  # Calculo y guardo la modularidad para este grafo"
   ]
  },
  {
   "cell_type": "markdown",
   "metadata": {},
   "source": [
    "Histograma"
   ]
  },
  {
   "cell_type": "code",
   "execution_count": null,
   "metadata": {},
   "outputs": [],
   "source": [
    "font = {'family' : 'DejaVu Sans',\n",
    "        'weight' : 'bold',\n",
    "        'size'   : 20}\n",
    "\n",
    "plt.rc('font', **font)\n",
    "\n",
    "plt.figure(figsize=(15,10))\n",
    "plt.hist(DistributionModularity,bins=60)\n",
    "plt.plot(modularity(G, 'gender'),1,'o',label='modularidad red real')\n",
    "plt.title(\"Histograma de la distribución de modularidad \\n (%i asignaciones aleatorias de sexo)\" %it)\n",
    "plt.xlabel(\"Modularidad\")\n",
    "plt.ylabel(\"Frecuencia\")\n",
    "plt.legend()\n",
    "show()"
   ]
  },
  {
   "cell_type": "markdown",
   "metadata": {},
   "source": [
    "# ii. A partir de lo obtenido proponga una estimación para el valor y el error de dicha cantidad cuando no existe vínculo entre topolgía de la red medio y asignación de género. Compare su estimación con el valor medio esperado."
   ]
  },
  {
   "cell_type": "code",
   "execution_count": null,
   "metadata": {},
   "outputs": [],
   "source": [
    "np.mean(DistributionModularity), modularity(G, 'gender'), np.std(DistributionModularity)"
   ]
  },
  {
   "cell_type": "markdown",
   "metadata": {},
   "source": [
    "Entonces, el valor que sale aleatorio es: $-0.01 \\pm 0.03$ en unidades arbitrarias \n",
    "Y el valor real es 0.12 que se encuentra fuera del intervalo del valor medio de la distribucion aleatoria"
   ]
  },
  {
   "cell_type": "markdown",
   "metadata": {},
   "source": [
    "# (iii) Estime la significancia estadística (p-valor) del valor observado en el caso de la red real."
   ]
  },
  {
   "cell_type": "code",
   "execution_count": null,
   "metadata": {
    "collapsed": true
   },
   "outputs": [],
   "source": [
    "#apariciones de valores por encima del que presenta nuestro grafo con la atribucion genero\n",
    "frecuencia=sum(DistributionModularity>=modularity(G, 'gender'))"
   ]
  },
  {
   "cell_type": "code",
   "execution_count": null,
   "metadata": {},
   "outputs": [],
   "source": [
    "# p-value: area a derecha del valor real en el histograma\n",
    "pvalue = (max(DistributionModularity) - modularity(G, 'gender')) * (frecuencia/it)\n",
    "print('p-value:',pvalue)\n",
    "\n",
    "pcrit=1/1000 #en general se toma ese valor \n",
    "\n",
    "if pvalue <= (pcrit):                                                          \n",
    "    print(\"fuera de la hipotesis nula\")\n",
    "else:\n",
    "    print (\"en la hipotesis nula\")"
   ]
  },
  {
   "cell_type": "markdown",
   "metadata": {},
   "source": [
    " "
   ]
  }
 ],
 "metadata": {
  "kernelspec": {
   "display_name": "Python 3",
   "language": "python",
   "name": "python3"
  },
  "language_info": {
   "codemirror_mode": {
    "name": "ipython",
    "version": 3
   },
   "file_extension": ".py",
   "mimetype": "text/x-python",
   "name": "python",
   "nbconvert_exporter": "python",
   "pygments_lexer": "ipython3",
   "version": "3.6.3"
  }
 },
 "nbformat": 4,
 "nbformat_minor": 2
}
