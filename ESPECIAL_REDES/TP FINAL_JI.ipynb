{
 "cells": [
  {
   "cell_type": "code",
   "execution_count": 1,
   "metadata": {
    "collapsed": true
   },
   "outputs": [],
   "source": [
    "import numpy as np"
   ]
  },
  {
   "cell_type": "code",
   "execution_count": 2,
   "metadata": {},
   "outputs": [],
   "source": [
    "#abrimos las matrices de adyacencia por amistad.\n",
    "Friendship1  = np.loadtxt('friendship1.txt') \n",
    "Friendship2  = np.loadtxt('friendship2.txt') \n",
    "Friendship3  = np.loadtxt('friendship3(copia).txt')"
   ]
  },
  {
   "cell_type": "code",
   "execution_count": 3,
   "metadata": {
    "collapsed": true
   },
   "outputs": [],
   "source": [
    "F1=np.matrix(Friendship1)\n",
    "F2=np.matrix(Friendship2)\n",
    "F3=np.matrix(Friendship3)"
   ]
  },
  {
   "cell_type": "code",
   "execution_count": 4,
   "metadata": {},
   "outputs": [],
   "source": [
    "imalos=[]\n",
    "for i in range(160):\n",
    "    if 1.0*(F1[i,:]==10).sum()==160:\n",
    "        imalos.append(i)\n",
    "    if 1.0*(F2[i,:]==10).sum()==160:\n",
    "        imalos.append(i)\n",
    "    if 1.0*(F3[i,:]==10).sum()==160:\n",
    "        imalos.append(i)"
   ]
  },
  {
   "cell_type": "code",
   "execution_count": 8,
   "metadata": {},
   "outputs": [
    {
     "data": {
      "text/plain": [
       "134"
      ]
     },
     "execution_count": 8,
     "metadata": {},
     "output_type": "execute_result"
    }
   ],
   "source": [
    "160-len(list(set(imalos)))"
   ]
  },
  {
   "cell_type": "code",
   "execution_count": 14,
   "metadata": {},
   "outputs": [],
   "source": [
    "itest=[]\n",
    "for j in range(160):\n",
    "    if F1[0,j]==10:\n",
    "        itest.append(j)\n",
    "    if F2[0,j]==10:\n",
    "        imalos.append(j)\n",
    "    if F3[0,j]==10:\n",
    "        imalos.append(j)"
   ]
  },
  {
   "cell_type": "code",
   "execution_count": 15,
   "metadata": {},
   "outputs": [
    {
     "data": {
      "text/plain": [
       "134"
      ]
     },
     "execution_count": 15,
     "metadata": {},
     "output_type": "execute_result"
    }
   ],
   "source": [
    "160-len(list(set(imalos)))"
   ]
  },
  {
   "cell_type": "code",
   "execution_count": null,
   "metadata": {
    "collapsed": true
   },
   "outputs": [],
   "source": [
    "import networkx as nx"
   ]
  },
  {
   "cell_type": "code",
   "execution_count": null,
   "metadata": {},
   "outputs": [],
   "source": [
    "g = nx.graph()\n",
    "g.add_edge_list(transpose(F1.nonzero()))"
   ]
  },
  {
   "cell_type": "code",
   "execution_count": null,
   "metadata": {
    "collapsed": true
   },
   "outputs": [],
   "source": [
    "nx.from_numpy_matrix(F1)"
   ]
  }
 ],
 "metadata": {
  "kernelspec": {
   "display_name": "Python 3",
   "language": "python",
   "name": "python3"
  },
  "language_info": {
   "codemirror_mode": {
    "name": "ipython",
    "version": 3
   },
   "file_extension": ".py",
   "mimetype": "text/x-python",
   "name": "python",
   "nbconvert_exporter": "python",
   "pygments_lexer": "ipython3",
   "version": "3.6.3"
  }
 },
 "nbformat": 4,
 "nbformat_minor": 2
}
