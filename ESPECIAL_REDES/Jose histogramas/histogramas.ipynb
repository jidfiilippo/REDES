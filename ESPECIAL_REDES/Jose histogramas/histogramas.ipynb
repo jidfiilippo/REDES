{
 "cells": [
  {
   "cell_type": "code",
   "execution_count": 1,
   "metadata": {},
   "outputs": [],
   "source": [
    "import numpy as np\n",
    "import pylab as plt"
   ]
  },
  {
   "cell_type": "code",
   "execution_count": 2,
   "metadata": {},
   "outputs": [],
   "source": [
    "#abrimos las matrices de adyacencia por amistad.\n",
    "Friendship1  = np.loadtxt('friendship1.txt')\n",
    "Friendship2  = np.loadtxt('friendship2.txt') \n",
    "Friendship3  = np.loadtxt('friendship3(copia).txt')"
   ]
  },
  {
   "cell_type": "code",
   "execution_count": 3,
   "metadata": {},
   "outputs": [],
   "source": [
    "F1=np.matrix(Friendship1)\n",
    "F2=np.matrix(Friendship2)\n",
    "F3=np.matrix(Friendship3)"
   ]
  },
  {
   "cell_type": "code",
   "execution_count": 4,
   "metadata": {},
   "outputs": [],
   "source": [
    "imalos=[]\n",
    "for i in range(160):\n",
    "    if 1.0*(F1[i,:]==10).sum()==160:\n",
    "        imalos.append(i)\n",
    "    if 1.0*(F2[i,:]==10).sum()==160:\n",
    "        imalos.append(i)\n",
    "    if 1.0*(F3[i,:]==10).sum()==160:\n",
    "        imalos.append(i)"
   ]
  },
  {
   "cell_type": "code",
   "execution_count": 5,
   "metadata": {},
   "outputs": [
    {
     "data": {
      "text/plain": [
       "134"
      ]
     },
     "execution_count": 5,
     "metadata": {},
     "output_type": "execute_result"
    }
   ],
   "source": [
    "160-len(list(set(imalos)))"
   ]
  },
  {
   "cell_type": "code",
   "execution_count": 6,
   "metadata": {},
   "outputs": [],
   "source": [
    "imalos=list(set(imalos))\n",
    "imalos.sort()"
   ]
  },
  {
   "cell_type": "code",
   "execution_count": 7,
   "metadata": {},
   "outputs": [],
   "source": [
    "F1=np.delete(F1, imalos,0)\n",
    "F1=np.delete(F1, imalos,1)\n",
    "\n",
    "F2=np.delete(F2, imalos,0)\n",
    "F2=np.delete(F2, imalos,1)\n",
    "\n",
    "F3=np.delete(F3, imalos,0)\n",
    "F3=np.delete(F3, imalos,1)"
   ]
  },
  {
   "cell_type": "markdown",
   "metadata": {},
   "source": [
    "Chequeo"
   ]
  },
  {
   "cell_type": "code",
   "execution_count": 8,
   "metadata": {},
   "outputs": [
    {
     "data": {
      "text/plain": [
       "((134, 134), (134, 134), (134, 134))"
      ]
     },
     "execution_count": 8,
     "metadata": {},
     "output_type": "execute_result"
    }
   ],
   "source": [
    "np.shape(F1),np.shape(F2),np.shape(F3)"
   ]
  },
  {
   "cell_type": "code",
   "execution_count": 9,
   "metadata": {},
   "outputs": [
    {
     "data": {
      "text/plain": [
       "(0.0, 0.0, 0.0)"
      ]
     },
     "execution_count": 9,
     "metadata": {},
     "output_type": "execute_result"
    }
   ],
   "source": [
    "1.0*(F1==10).sum(), 1.0*(F2==10).sum(), 1.0*(F3==10).sum()"
   ]
  },
  {
   "cell_type": "code",
   "execution_count": 10,
   "metadata": {},
   "outputs": [
    {
     "data": {
      "text/plain": [
       "(17956.0, 17956.0, 17956.0)"
      ]
     },
     "execution_count": 10,
     "metadata": {},
     "output_type": "execute_result"
    }
   ],
   "source": [
    "(1.0*(F1==0).sum()+1.0*(F1==1).sum()+1.0*(F1==2).sum(),1.0*(F2==0).sum()+1.0*(F2==1).sum()+1.0*(F2==2).sum(),\n",
    "1.0*(F3==0).sum()+1.0*(F3==1).sum()+1.0*(F3==2).sum())"
   ]
  },
  {
   "cell_type": "code",
   "execution_count": 11,
   "metadata": {},
   "outputs": [
    {
     "data": {
      "text/plain": [
       "17956"
      ]
     },
     "execution_count": 11,
     "metadata": {},
     "output_type": "execute_result"
    }
   ],
   "source": [
    "134*134"
   ]
  },
  {
   "cell_type": "code",
   "execution_count": 12,
   "metadata": {},
   "outputs": [],
   "source": [
    "import networkx as nx"
   ]
  },
  {
   "cell_type": "code",
   "execution_count": 13,
   "metadata": {},
   "outputs": [],
   "source": [
    "f1=F1.copy()\n",
    "f1_sin_peso=(f1==0)==False\n",
    "f1_sin_peso=np.where(f1_sin_peso==True,1,f1_sin_peso)\n",
    "f2=F2.copy()\n",
    "f2_sin_peso=(f2==0)==False\n",
    "f2_sin_peso=np.where(f2_sin_peso==True,1,f2_sin_peso)\n",
    "f3=F3.copy()\n",
    "f3_sin_peso=(f3==0)==False\n",
    "f3_sin_peso=np.where(f3_sin_peso==True,1,f3_sin_peso)\n"
   ]
  },
  {
   "cell_type": "code",
   "execution_count": 14,
   "metadata": {},
   "outputs": [],
   "source": [
    "G1=nx.from_numpy_matrix(f1_sin_peso,create_using=nx.DiGraph())\n",
    "G2=nx.from_numpy_matrix(f2_sin_peso,create_using=nx.DiGraph())\n",
    "G3=nx.from_numpy_matrix(f3_sin_peso,create_using=nx.DiGraph())"
   ]
  },
  {
   "cell_type": "markdown",
   "metadata": {},
   "source": [
    "SUSTANCIAS"
   ]
  },
  {
   "cell_type": "code",
   "execution_count": 15,
   "metadata": {},
   "outputs": [],
   "source": [
    "alcohol= np.loadtxt('alcohol(copia).txt',dtype=int, usecols=(0,1,2))\n",
    "alcohol=np.matrix(alcohol)\n",
    "alcohol=np.delete(alcohol, imalos,0)\n",
    "\n",
    "\n",
    "cannabis= np.loadtxt('cannabis(copia).txt',dtype=int, usecols=(0,1,2))\n",
    "cannabis=np.matrix(cannabis)\n",
    "cannabis=np.delete(cannabis, imalos,0)\n",
    "\n",
    "tobacco = np.loadtxt('tobacco(copia).txt',dtype=int, usecols=(0,1,2))\n",
    "tobacco =np.matrix(tobacco)\n",
    "tobacco=np.delete(tobacco, imalos,0)"
   ]
  },
  {
   "cell_type": "code",
   "execution_count": 16,
   "metadata": {},
   "outputs": [
    {
     "data": {
      "text/plain": [
       "((134, 3), (134, 3), (134, 3))"
      ]
     },
     "execution_count": 16,
     "metadata": {},
     "output_type": "execute_result"
    }
   ],
   "source": [
    "np.shape(alcohol),np.shape(cannabis),np.shape(tobacco)"
   ]
  },
  {
   "cell_type": "code",
   "execution_count": 17,
   "metadata": {},
   "outputs": [
    {
     "data": {
      "image/png": "[encoded data removed]",
      "text/plain": [
       "<Figure size 432x288 with 1 Axes>"
      ]
     },
     "metadata": {},
     "output_type": "display_data"
    }
   ],
   "source": [
    "plt.hist(alcohol,[0,1,2,3,4,5,6] ,histtype='bar', rwidth=0.5,align='left', label=['1°año','2°año','3°año'], density=True)\n",
    "plt.title('ALCOHOL')\n",
    "plt.legend()\n",
    "plt.show()"
   ]
  },
  {
   "cell_type": "code",
   "execution_count": 18,
   "metadata": {},
   "outputs": [
    {
     "data": {
      "image/png": "[encoded data removed]",
      "text/plain": [
       "<Figure size 432x288 with 1 Axes>"
      ]
     },
     "metadata": {},
     "output_type": "display_data"
    }
   ],
   "source": [
    "plt.hist(cannabis,[0,1,2,3,4,5] ,histtype='bar', rwidth=0.5,align='left', label=['1°año','2°año','3°año'], density=True)\n",
    "plt.title(\"CANNABIS\")\n",
    "plt.legend()\n",
    "plt.show()"
   ]
  },
  {
   "cell_type": "code",
   "execution_count": 19,
   "metadata": {},
   "outputs": [
    {
     "data": {
      "image/png": "[encoded data removed]",
      "text/plain": [
       "<Figure size 432x288 with 1 Axes>"
      ]
     },
     "metadata": {},
     "output_type": "display_data"
    }
   ],
   "source": [
    "plt.hist(tobacco,[0,1,2,3,4] ,histtype='bar', rwidth=0.5,align='left', label=['1°año','2°año','3°año'], density=True)\n",
    "plt.xticks([0,1,2,3])\n",
    "plt.title(\"Tobacco\")\n",
    "plt.legend()\n",
    "plt.show()"
   ]
  },
  {
   "cell_type": "markdown",
   "metadata": {},
   "source": [
    "# Armo sets de enlaces que van a parar en 'tie' o 'no tie'."
   ]
  },
  {
   "cell_type": "code",
   "execution_count": 20,
   "metadata": {},
   "outputs": [],
   "source": [
    "set1_tie=set(G2.edges()).intersection(set(G1.edges()))\n",
    "set1_notie=set(G2.edges()).difference(set(G1.edges()))\n",
    "set2_tie=set(G3.edges()).intersection(set(G2.edges()))\n",
    "set2_notie=set(G3.edges()).difference(set(G2.edges()))\n"
   ]
  },
  {
   "cell_type": "markdown",
   "metadata": {},
   "source": [
    "# Le asigno consumos como atributos a los nodos"
   ]
  },
  {
   "cell_type": "code",
   "execution_count": 21,
   "metadata": {},
   "outputs": [],
   "source": [
    "def AssignConsumption(G,A,C,T): #G:Grafo,A:Alcohol,C=Canabis,T:Tobaco\n",
    "    for n in G.nodes:\n",
    "        G.nodes[n]['Alcohol'] = np.float(A[n])\n",
    "        G.nodes[n]['Cannabis'] = np.float(C[n])\n",
    "        G.nodes[n]['Tobacco'] = np.float(T[n])\n",
    "    return"
   ]
  },
  {
   "cell_type": "code",
   "execution_count": 22,
   "metadata": {},
   "outputs": [],
   "source": [
    "AssignConsumption(G1,alcohol[:,0],cannabis[:,0],tobacco[:,0])\n",
    "AssignConsumption(G2,alcohol[:,1],cannabis[:,1],tobacco[:,1])\n",
    "AssignConsumption(G3,alcohol[:,2],cannabis[:,2],tobacco[:,2])\n"
   ]
  },
  {
   "cell_type": "code",
   "execution_count": 25,
   "metadata": {},
   "outputs": [
    {
     "data": {
      "text/plain": [
       "[2.0,\n",
       " 1.0,\n",
       " 3.0,\n",
       " 1.0,\n",
       " 1.0,\n",
       " 3.0,\n",
       " 1.0,\n",
       " 1.0,\n",
       " 1.0,\n",
       " 1.0,\n",
       " 1.0,\n",
       " 1.0,\n",
       " 1.0,\n",
       " 1.0,\n",
       " 1.0,\n",
       " 1.0,\n",
       " 3.0,\n",
       " 1.0,\n",
       " 1.0,\n",
       " 1.0,\n",
       " 1.0,\n",
       " 1.0,\n",
       " 1.0,\n",
       " 3.0,\n",
       " 3.0,\n",
       " 1.0,\n",
       " 1.0,\n",
       " 1.0,\n",
       " 2.0,\n",
       " 1.0,\n",
       " 1.0,\n",
       " 1.0,\n",
       " 1.0,\n",
       " 1.0,\n",
       " 2.0,\n",
       " 1.0,\n",
       " 1.0,\n",
       " 1.0,\n",
       " 3.0,\n",
       " 1.0,\n",
       " 2.0,\n",
       " 0.0,\n",
       " 1.0,\n",
       " 1.0,\n",
       " 1.0,\n",
       " 1.0,\n",
       " 1.0,\n",
       " 1.0,\n",
       " 1.0,\n",
       " 1.0,\n",
       " 2.0,\n",
       " 1.0,\n",
       " 1.0,\n",
       " 1.0,\n",
       " 1.0,\n",
       " 1.0,\n",
       " 3.0,\n",
       " 2.0,\n",
       " 1.0,\n",
       " 1.0,\n",
       " 1.0,\n",
       " 1.0,\n",
       " 1.0,\n",
       " 3.0,\n",
       " 1.0,\n",
       " 1.0,\n",
       " 1.0,\n",
       " 1.0,\n",
       " 1.0,\n",
       " 1.0,\n",
       " 1.0,\n",
       " 1.0,\n",
       " 2.0,\n",
       " 1.0,\n",
       " 1.0,\n",
       " 1.0,\n",
       " 1.0,\n",
       " 1.0,\n",
       " 1.0,\n",
       " 1.0,\n",
       " 1.0,\n",
       " 1.0,\n",
       " 1.0,\n",
       " 1.0,\n",
       " 1.0,\n",
       " 1.0,\n",
       " 1.0,\n",
       " 1.0,\n",
       " 1.0,\n",
       " 1.0,\n",
       " 1.0,\n",
       " 1.0,\n",
       " 1.0,\n",
       " 1.0,\n",
       " 1.0,\n",
       " 1.0,\n",
       " 1.0,\n",
       " 1.0,\n",
       " 1.0,\n",
       " 1.0,\n",
       " 1.0,\n",
       " 1.0,\n",
       " 1.0,\n",
       " 1.0,\n",
       " 1.0,\n",
       " 1.0,\n",
       " 1.0,\n",
       " 1.0,\n",
       " 2.0,\n",
       " 1.0,\n",
       " 3.0,\n",
       " 1.0,\n",
       " 2.0,\n",
       " 2.0,\n",
       " 1.0,\n",
       " 1.0,\n",
       " 1.0,\n",
       " 0.0,\n",
       " 1.0,\n",
       " 1.0,\n",
       " 1.0,\n",
       " 1.0,\n",
       " 1.0,\n",
       " 1.0,\n",
       " 1.0,\n",
       " 3.0,\n",
       " 1.0,\n",
       " 1.0,\n",
       " 1.0,\n",
       " 1.0,\n",
       " 1.0,\n",
       " 1.0,\n",
       " 1.0,\n",
       " 0.0]"
      ]
     },
     "execution_count": 25,
     "metadata": {},
     "output_type": "execute_result"
    }
   ],
   "source": [
    "list(dict(G1.nodes('Tobacco')).values())"
   ]
  },
  {
   "cell_type": "code",
   "execution_count": 39,
   "metadata": {},
   "outputs": [],
   "source": [
    "no_info_tobacco=[]\n",
    "no_info_alcohol=[]\n",
    "no_info_cannabis=[]\n",
    "for i in range(134):\n",
    "    if list(dict(G1.nodes('Tobacco')).values())[i]==0:\n",
    "        no_info_tobacco.append(i)\n",
    "    if list(dict(G2.nodes('Tobacco')).values())[i]==0:\n",
    "        no_info_tobacco.append(i)\n",
    "    if list(dict(G3.nodes('Tobacco')).values())[i]==0:\n",
    "        no_info_tobacco.append(i)\n",
    "    if list(dict(G1.nodes('Cannabis')).values())[i]==0:\n",
    "        no_info_tobacco.append(i)\n",
    "    if list(dict(G2.nodes('Canna')).values())[i]==0:\n",
    "        no_info_tobacco.append(i)\n",
    "    if list(dict(G3.nodes('Tobacco')).values())[i]==0:\n",
    "        no_info_tobacco.append(i)\n",
    "no_info_tobacco=np.sort(list(set(no_info_tobacco)))"
   ]
  },
  {
   "cell_type": "code",
   "execution_count": 40,
   "metadata": {},
   "outputs": [
    {
     "data": {
      "text/plain": [
       "array([ 14,  25,  41, 117, 133])"
      ]
     },
     "execution_count": 40,
     "metadata": {},
     "output_type": "execute_result"
    }
   ],
   "source": [
    "no_info_tobacco"
   ]
  }
 ],
 "metadata": {
  "kernelspec": {
   "display_name": "Python 3",
   "language": "python",
   "name": "python3"
  },
  "language_info": {
   "codemirror_mode": {
    "name": "ipython",
    "version": 3
   },
   "file_extension": ".py",
   "mimetype": "text/x-python",
   "name": "python",
   "nbconvert_exporter": "python",
   "pygments_lexer": "ipython3",
   "version": "3.6.5"
  }
 },
 "nbformat": 4,
 "nbformat_minor": 2
}
