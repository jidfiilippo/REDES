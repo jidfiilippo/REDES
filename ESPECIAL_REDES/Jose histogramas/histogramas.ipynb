{
 "cells": [
  {
   "cell_type": "code",
   "execution_count": 1,
   "metadata": {
    "collapsed": true
   },
   "outputs": [],
   "source": [
    "import numpy as np\n",
    "import pylab as plt"
   ]
  },
  {
   "cell_type": "code",
   "execution_count": 2,
   "metadata": {
    "collapsed": true
   },
   "outputs": [],
   "source": [
    "#abrimos las matrices de adyacencia por amistad.\n",
    "Friendship1  = np.loadtxt('friendship1.txt')\n",
    "Friendship2  = np.loadtxt('friendship2.txt') \n",
    "Friendship3  = np.loadtxt('friendship3(copia).txt')"
   ]
  },
  {
   "cell_type": "code",
   "execution_count": 3,
   "metadata": {
    "collapsed": true
   },
   "outputs": [],
   "source": [
    "F1=np.matrix(Friendship1)\n",
    "F2=np.matrix(Friendship2)\n",
    "F3=np.matrix(Friendship3)"
   ]
  },
  {
   "cell_type": "code",
   "execution_count": 4,
   "metadata": {
    "collapsed": true
   },
   "outputs": [],
   "source": [
    "imalos=[]\n",
    "for i in range(160):\n",
    "    if 1.0*(F1[i,:]==10).sum()==160:\n",
    "        imalos.append(i)\n",
    "    if 1.0*(F2[i,:]==10).sum()==160:\n",
    "        imalos.append(i)\n",
    "    if 1.0*(F3[i,:]==10).sum()==160:\n",
    "        imalos.append(i)"
   ]
  },
  {
   "cell_type": "code",
   "execution_count": 5,
   "metadata": {},
   "outputs": [
    {
     "data": {
      "text/plain": [
       "134"
      ]
     },
     "execution_count": 5,
     "metadata": {},
     "output_type": "execute_result"
    }
   ],
   "source": [
    "160-len(list(set(imalos)))"
   ]
  },
  {
   "cell_type": "code",
   "execution_count": 6,
   "metadata": {
    "collapsed": true
   },
   "outputs": [],
   "source": [
    "imalos=list(set(imalos))\n",
    "imalos.sort()"
   ]
  },
  {
   "cell_type": "code",
   "execution_count": 7,
   "metadata": {
    "collapsed": true
   },
   "outputs": [],
   "source": [
    "F1=np.delete(F1, imalos,0)\n",
    "F1=np.delete(F1, imalos,1)\n",
    "\n",
    "F2=np.delete(F2, imalos,0)\n",
    "F2=np.delete(F2, imalos,1)\n",
    "\n",
    "F3=np.delete(F3, imalos,0)\n",
    "F3=np.delete(F3, imalos,1)"
   ]
  },
  {
   "cell_type": "markdown",
   "metadata": {},
   "source": [
    "Chequeo"
   ]
  },
  {
   "cell_type": "code",
   "execution_count": 8,
   "metadata": {},
   "outputs": [
    {
     "data": {
      "text/plain": [
       "((134, 134), (134, 134), (134, 134))"
      ]
     },
     "execution_count": 8,
     "metadata": {},
     "output_type": "execute_result"
    }
   ],
   "source": [
    "np.shape(F1),np.shape(F2),np.shape(F3)"
   ]
  },
  {
   "cell_type": "code",
   "execution_count": 9,
   "metadata": {},
   "outputs": [
    {
     "data": {
      "text/plain": [
       "(0.0, 0.0, 0.0)"
      ]
     },
     "execution_count": 9,
     "metadata": {},
     "output_type": "execute_result"
    }
   ],
   "source": [
    "1.0*(F1==10).sum(), 1.0*(F2==10).sum(), 1.0*(F3==10).sum()"
   ]
  },
  {
   "cell_type": "code",
   "execution_count": 10,
   "metadata": {},
   "outputs": [
    {
     "data": {
      "text/plain": [
       "(17956.0, 17956.0, 17956.0)"
      ]
     },
     "execution_count": 10,
     "metadata": {},
     "output_type": "execute_result"
    }
   ],
   "source": [
    "(1.0*(F1==0).sum()+1.0*(F1==1).sum()+1.0*(F1==2).sum(),1.0*(F2==0).sum()+1.0*(F2==1).sum()+1.0*(F2==2).sum(),\n",
    "1.0*(F3==0).sum()+1.0*(F3==1).sum()+1.0*(F3==2).sum())"
   ]
  },
  {
   "cell_type": "code",
   "execution_count": 11,
   "metadata": {},
   "outputs": [
    {
     "data": {
      "text/plain": [
       "17956"
      ]
     },
     "execution_count": 11,
     "metadata": {},
     "output_type": "execute_result"
    }
   ],
   "source": [
    "134*134"
   ]
  },
  {
   "cell_type": "code",
   "execution_count": 12,
   "metadata": {
    "collapsed": true
   },
   "outputs": [],
   "source": [
    "import networkx as nx"
   ]
  },
  {
   "cell_type": "code",
   "execution_count": 13,
   "metadata": {
    "collapsed": true
   },
   "outputs": [],
   "source": [
    "f1=F1.copy()\n",
    "f1_sin_peso=(f1==0)==False\n",
    "f1_sin_peso=np.where(f1_sin_peso==True,1,f1_sin_peso)\n",
    "f2=F2.copy()\n",
    "f2_sin_peso=(f2==0)==False\n",
    "f2_sin_peso=np.where(f2_sin_peso==True,1,f2_sin_peso)\n",
    "f3=F3.copy()\n",
    "f3_sin_peso=(f3==0)==False\n",
    "f3_sin_peso=np.where(f3_sin_peso==True,1,f3_sin_peso)\n"
   ]
  },
  {
   "cell_type": "code",
   "execution_count": 14,
   "metadata": {
    "collapsed": true
   },
   "outputs": [],
   "source": [
    "G1=nx.from_numpy_matrix(f1_sin_peso,create_using=nx.DiGraph())\n",
    "G2=nx.from_numpy_matrix(f2_sin_peso,create_using=nx.DiGraph())\n",
    "G3=nx.from_numpy_matrix(f3_sin_peso,create_using=nx.DiGraph())"
   ]
  },
  {
   "cell_type": "markdown",
   "metadata": {},
   "source": [
    "SUSTANCIAS"
   ]
  },
  {
   "cell_type": "code",
   "execution_count": 15,
   "metadata": {
    "collapsed": true
   },
   "outputs": [],
   "source": [
    "alcohol= np.loadtxt('alcohol(copia).txt',dtype=int, usecols=(0,1,2))\n",
    "alcohol=np.matrix(alcohol)\n",
    "alcohol=np.delete(alcohol, imalos,0)\n",
    "\n",
    "\n",
    "cannabis= np.loadtxt('cannabis(copia).txt',dtype=int, usecols=(0,1,2))\n",
    "cannabis=np.matrix(cannabis)\n",
    "cannabis=np.delete(cannabis, imalos,0)\n",
    "\n",
    "tobacco = np.loadtxt('tobacco(copia).txt',dtype=int, usecols=(0,1,2))\n",
    "tobacco =np.matrix(tobacco)\n",
    "tobacco=np.delete(tobacco, imalos,0)"
   ]
  },
  {
   "cell_type": "code",
   "execution_count": 16,
   "metadata": {},
   "outputs": [
    {
     "data": {
      "text/plain": [
       "((134, 3), (134, 3), (134, 3))"
      ]
     },
     "execution_count": 16,
     "metadata": {},
     "output_type": "execute_result"
    }
   ],
   "source": [
    "np.shape(alcohol),np.shape(cannabis),np.shape(tobacco)"
   ]
  },
  {
   "cell_type": "code",
   "execution_count": 17,
   "metadata": {},
   "outputs": [
    {
     "data": {
      "image/png": "[encoded data removed]",
      "text/plain": [
       "<Figure size 432x288 with 1 Axes>"
      ]
     },
     "metadata": {},
     "output_type": "display_data"
    }
   ],
   "source": [
    "plt.hist(alcohol,[0,1,2,3,4,5,6] ,histtype='bar', rwidth=0.5,align='left', label=['1°año','2°año','3°año'], density=True)\n",
    "plt.title('ALCOHOL')\n",
    "plt.legend()\n",
    "plt.show()"
   ]
  },
  {
   "cell_type": "code",
   "execution_count": 18,
   "metadata": {},
   "outputs": [
    {
     "data": {
      "image/png": "[encoded data removed]",
      "text/plain": [
       "<Figure size 432x288 with 1 Axes>"
      ]
     },
     "metadata": {},
     "output_type": "display_data"
    }
   ],
   "source": [
    "plt.hist(cannabis,[0,1,2,3,4,5] ,histtype='bar', rwidth=0.5,align='left', label=['1°año','2°año','3°año'], density=True)\n",
    "plt.title(\"CANNABIS\")\n",
    "plt.legend()\n",
    "plt.show()"
   ]
  },
  {
   "cell_type": "code",
   "execution_count": 19,
   "metadata": {},
   "outputs": [
    {
     "data": {
      "image/png": "[encoded data removed]",
      "text/plain": [
       "<Figure size 432x288 with 1 Axes>"
      ]
     },
     "metadata": {},
     "output_type": "display_data"
    }
   ],
   "source": [
    "plt.hist(tobacco,[0,1,2,3,4] ,histtype='bar', rwidth=0.5,align='left', label=['1°año','2°año','3°año'], density=True)\n",
    "plt.xticks([0,1,2,3])\n",
    "plt.title(\"Tobacco\")\n",
    "plt.legend()\n",
    "plt.show()"
   ]
  },
  {
   "cell_type": "markdown",
   "metadata": {},
   "source": [
    "# Le asigno consumos como atributos a los nodos"
   ]
  },
  {
   "cell_type": "code",
   "execution_count": 20,
   "metadata": {
    "collapsed": true
   },
   "outputs": [],
   "source": [
    "def AssignConsumption(G,A,C,T): #G:Grafo,A:Alcohol,C=Canabis,T:Tobaco\n",
    "    for n in G.nodes:\n",
    "        G.nodes[n]['Alcohol'] = np.float(A[n])\n",
    "        G.nodes[n]['Cannabis'] = np.float(C[n])\n",
    "        G.nodes[n]['Tobacco'] = np.float(T[n])\n",
    "    return"
   ]
  },
  {
   "cell_type": "code",
   "execution_count": 21,
   "metadata": {
    "collapsed": true
   },
   "outputs": [],
   "source": [
    "AssignConsumption(G1,alcohol[:,0],cannabis[:,0],tobacco[:,0])\n",
    "AssignConsumption(G2,alcohol[:,1],cannabis[:,1],tobacco[:,1])\n",
    "AssignConsumption(G3,alcohol[:,2],cannabis[:,2],tobacco[:,2])\n"
   ]
  },
  {
   "cell_type": "code",
   "execution_count": 22,
   "metadata": {
    "collapsed": true
   },
   "outputs": [],
   "source": [
    "#NODOS QUE NO COMPLETARON ENCUESTA\n",
    "no_info_tobacco1=[]\n",
    "no_info_tobacco2=[]\n",
    "no_info_alcohol1=[]\n",
    "no_info_alcohol2=[]\n",
    "no_info_cannabis1=[]\n",
    "no_info_cannabis2=[]\n",
    "for i in range(134):\n",
    "    if list(dict(G1.nodes('Tobacco')).values())[i]==0:\n",
    "        no_info_tobacco1.append(i)\n",
    "    if list(dict(G2.nodes('Tobacco')).values())[i]==0:\n",
    "        #no_info_tobacco1.append(i)\n",
    "        no_info_tobacco2.append(i)\n",
    "    if list(dict(G3.nodes('Tobacco')).values())[i]==0:\n",
    "        no_info_tobacco2.append(i)\n",
    "    if list(dict(G1.nodes('Cannabis')).values())[i]==0:\n",
    "        no_info_cannabis1.append(i)\n",
    "    if list(dict(G2.nodes('Cannabis')).values())[i]==0:\n",
    "        #no_info_cannabis1.append(i)\n",
    "        no_info_cannabis2.append(i)\n",
    "    if list(dict(G3.nodes('Cannabis')).values())[i]==0:\n",
    "        no_info_cannabis2.append(i)\n",
    "    if list(dict(G1.nodes('Alcohol')).values())[i]==0:\n",
    "        no_info_alcohol1.append(i)\n",
    "    if list(dict(G2.nodes('Alcohol')).values())[i]==0:\n",
    "        #no_info_alcohol1.append(i)\n",
    "        no_info_alcohol2.append(i)\n",
    "    if list(dict(G3.nodes('Alcohol')).values())[i]==0:\n",
    "        no_info_alcohol2.append(i)        \n",
    "        \n",
    "no_info_tobacco1=np.sort(list(set(no_info_tobacco1)))\n",
    "no_info_tobacco2=np.sort(list(set(no_info_tobacco2)))\n",
    "no_info_cannabis1=np.sort(list(set(no_info_cannabis1)))\n",
    "no_info_cannabis2=np.sort(list(set(no_info_cannabis2)))\n",
    "no_info_alcohol1=np.sort(list(set(no_info_alcohol1)))\n",
    "no_info_alcohol2=np.sort(list(set(no_info_alcohol2)))"
   ]
  },
  {
   "cell_type": "code",
   "execution_count": 23,
   "metadata": {
    "collapsed": true
   },
   "outputs": [],
   "source": [
    "def TobaccoSimilarity(G,dupla): #dupla=(i,j)\n",
    "    s=-0.5*np.abs(list(dict(G.nodes('Tobacco')).values())[dupla[0]]-list(dict(G.nodes('Tobacco')).values())[dupla[1]])+1\n",
    "    return s\n",
    "def AlcoholSimilarity(G,dupla): #dupla=(i,j)\n",
    "    s=-0.25*np.abs(list(dict(G.nodes('Alcohol')).values())[dupla[0]]-list(dict(G.nodes('Alcohol')).values())[dupla[1]])+1\n",
    "    return s\n",
    "def CannabisSimilarity(G,dupla): #dupla=(i,j)\n",
    "    s=-np.abs(list(dict(G.nodes('Alcohol')).values())[dupla[0]]-list(dict(G.nodes('Alcohol')).values())[dupla[1]])/3+1\n",
    "    return s"
   ]
  },
  {
   "cell_type": "markdown",
   "metadata": {},
   "source": [
    "# Clasificacion de enlaces."
   ]
  },
  {
   "cell_type": "code",
   "execution_count": 24,
   "metadata": {
    "collapsed": true
   },
   "outputs": [],
   "source": [
    "stable_ties_1=list(set(G2.edges()).intersection(set(G1.edges())))\n",
    "new_ties_1=list(set(G2.edges()).difference(set(G1.edges())))\n",
    "lost_ties_1=list(set(G1.edges()).difference(set(G2.edges())))\n",
    "stable_ties_2=list(set(G3.edges()).intersection(set(G2.edges())))\n",
    "new_ties_2=list(set(G3.edges()).difference(set(G2.edges())))\n",
    "lost_ties_2=list(set(G2.edges()).difference(set(G3.edges())))"
   ]
  },
  {
   "cell_type": "code",
   "execution_count": 25,
   "metadata": {},
   "outputs": [
    {
     "data": {
      "text/plain": [
       "[(7, 3),\n",
       " (6, 9),\n",
       " (114, 120),\n",
       " (63, 14),\n",
       " (56, 38),\n",
       " (17, 20),\n",
       " (29, 44),\n",
       " (44, 4),\n",
       " (58, 36),\n",
       " (32, 31),\n",
       " (21, 6),\n",
       " (98, 79),\n",
       " (3, 7),\n",
       " (18, 85),\n",
       " (43, 42),\n",
       " (33, 3),\n",
       " (87, 42),\n",
       " (57, 45),\n",
       " (17, 85),\n",
       " (89, 59),\n",
       " (98, 86),\n",
       " (112, 26),\n",
       " (126, 37),\n",
       " (115, 106),\n",
       " (18, 20),\n",
       " (15, 119),\n",
       " (45, 78),\n",
       " (102, 1),\n",
       " (9, 3),\n",
       " (109, 58),\n",
       " (59, 82),\n",
       " (60, 92),\n",
       " (10, 13),\n",
       " (52, 116),\n",
       " (37, 51),\n",
       " (100, 108),\n",
       " (114, 115),\n",
       " (53, 43),\n",
       " (13, 10),\n",
       " (27, 22),\n",
       " (1, 31),\n",
       " (66, 71),\n",
       " (65, 99),\n",
       " (80, 3),\n",
       " (30, 130),\n",
       " (46, 59),\n",
       " (60, 65),\n",
       " (128, 31),\n",
       " (6, 13),\n",
       " (112, 121),\n",
       " (3, 80),\n",
       " (62, 51),\n",
       " (118, 42),\n",
       " (93, 100),\n",
       " (95, 97),\n",
       " (11, 16),\n",
       " (0, 27),\n",
       " (7, 21),\n",
       " (22, 23),\n",
       " (124, 127),\n",
       " (91, 79),\n",
       " (33, 80),\n",
       " (46, 82),\n",
       " (39, 88),\n",
       " (119, 15),\n",
       " (33, 7),\n",
       " (36, 52),\n",
       " (85, 18),\n",
       " (114, 106),\n",
       " (31, 1),\n",
       " (122, 26),\n",
       " (20, 21),\n",
       " (45, 57),\n",
       " (13, 3),\n",
       " (130, 30),\n",
       " (40, 42),\n",
       " (105, 55),\n",
       " (94, 92),\n",
       " (8, 51),\n",
       " (91, 49),\n",
       " (19, 131),\n",
       " (80, 79),\n",
       " (126, 51),\n",
       " (31, 128),\n",
       " (51, 126),\n",
       " (94, 102),\n",
       " (54, 49),\n",
       " (3, 33),\n",
       " (66, 67),\n",
       " (90, 44),\n",
       " (27, 0),\n",
       " (116, 111),\n",
       " (77, 78),\n",
       " (33, 13),\n",
       " (80, 98),\n",
       " (51, 37),\n",
       " (48, 54),\n",
       " (29, 129),\n",
       " (4, 44),\n",
       " (53, 42),\n",
       " (64, 73),\n",
       " (97, 95),\n",
       " (16, 101),\n",
       " (11, 101),\n",
       " (30, 131),\n",
       " (77, 57),\n",
       " (99, 65),\n",
       " (78, 77),\n",
       " (44, 37),\n",
       " (81, 67),\n",
       " (15, 19),\n",
       " (129, 29),\n",
       " (113, 14),\n",
       " (59, 54),\n",
       " (50, 42),\n",
       " (21, 20),\n",
       " (73, 64),\n",
       " (118, 87),\n",
       " (115, 114),\n",
       " (9, 33),\n",
       " (7, 33),\n",
       " (75, 69),\n",
       " (87, 118),\n",
       " (3, 10),\n",
       " (12, 103),\n",
       " (74, 76),\n",
       " (92, 99),\n",
       " (106, 114),\n",
       " (36, 58),\n",
       " (57, 78),\n",
       " (99, 92),\n",
       " (85, 17),\n",
       " (26, 112),\n",
       " (77, 84),\n",
       " (43, 50),\n",
       " (107, 83),\n",
       " (61, 80),\n",
       " (53, 51),\n",
       " (104, 111),\n",
       " (49, 91),\n",
       " (16, 11),\n",
       " (131, 130),\n",
       " (103, 128),\n",
       " (131, 30),\n",
       " (60, 99),\n",
       " (106, 120),\n",
       " (121, 123),\n",
       " (130, 131),\n",
       " (9, 6),\n",
       " (4, 29),\n",
       " (118, 121),\n",
       " (32, 128),\n",
       " (48, 61),\n",
       " (129, 69),\n",
       " (108, 93),\n",
       " (21, 7),\n",
       " (79, 80),\n",
       " (51, 62),\n",
       " (67, 37),\n",
       " (34, 28),\n",
       " (84, 22),\n",
       " (78, 57),\n",
       " (118, 122),\n",
       " (6, 21),\n",
       " (80, 33),\n",
       " (93, 108),\n",
       " (92, 65),\n",
       " (49, 54),\n",
       " (87, 1),\n",
       " (50, 53),\n",
       " (31, 32),\n",
       " (61, 48),\n",
       " (127, 124),\n",
       " (72, 88),\n",
       " (35, 54),\n",
       " (24, 113),\n",
       " (56, 57),\n",
       " (6, 3),\n",
       " (81, 66),\n",
       " (7, 10),\n",
       " (48, 52),\n",
       " (52, 36),\n",
       " (50, 43),\n",
       " (27, 23),\n",
       " (75, 68),\n",
       " (3, 13),\n",
       " (44, 90),\n",
       " (127, 115),\n",
       " (116, 52),\n",
       " (106, 115),\n",
       " (89, 102),\n",
       " (24, 110),\n",
       " (111, 104),\n",
       " (43, 53),\n",
       " (122, 112),\n",
       " (98, 101),\n",
       " (53, 50),\n",
       " (84, 78),\n",
       " (124, 115),\n",
       " (128, 1),\n",
       " (98, 80),\n",
       " (48, 49),\n",
       " (22, 84),\n",
       " (115, 127),\n",
       " (58, 52),\n",
       " (12, 128),\n",
       " (109, 101),\n",
       " (75, 67),\n",
       " (59, 31),\n",
       " (91, 98)]"
      ]
     },
     "execution_count": 25,
     "metadata": {},
     "output_type": "execute_result"
    }
   ],
   "source": [
    "stable_ties_1"
   ]
  },
  {
   "cell_type": "markdown",
   "metadata": {},
   "source": [
    "# Alcohol"
   ]
  },
  {
   "cell_type": "code",
   "execution_count": 26,
   "metadata": {
    "collapsed": true
   },
   "outputs": [],
   "source": [
    "#me deshago de los enlaces que no tenemos informacion\n",
    "for i in no_info_alcohol1:\n",
    "    for j in reversed(range(len(stable_ties_1))):\n",
    "        if len(set(stable_ties_1[j]).intersection({i}))!=0:\n",
    "            del(stable_ties_1[j])\n",
    "    for j in reversed(range(len(lost_ties_1))):\n",
    "        if len(set(lost_ties_1[j]).intersection({i}))!=0:\n",
    "            del(lost_ties_1[j])\n",
    "    for j in reversed(range(len(new_ties_1))):\n",
    "        if len(set(new_ties_1[j]).intersection({i}))!=0:\n",
    "            del(new_ties_1[j])        \n",
    "            \n",
    "for i in no_info_alcohol2:\n",
    "    for j in reversed(range(len(stable_ties_2))):\n",
    "        if len(set(stable_ties_2[j]).intersection({i}))!=0:\n",
    "            del(stable_ties_2[j])\n",
    "    for j in reversed(range(len(lost_ties_2))):\n",
    "        if len(set(lost_ties_2[j]).intersection({i}))!=0:\n",
    "            del(lost_ties_2[j])\n",
    "    for j in reversed(range(len(new_ties_2))):\n",
    "        if len(set(new_ties_2[j]).intersection({i}))!=0:\n",
    "            del(new_ties_2[j])"
   ]
  },
  {
   "cell_type": "code",
   "execution_count": 27,
   "metadata": {
    "collapsed": true
   },
   "outputs": [],
   "source": [
    "#210-127 enlaces que perdi por no tener informacion.\n",
    "#248-151\n",
    "#255-168"
   ]
  },
  {
   "cell_type": "code",
   "execution_count": 28,
   "metadata": {
    "collapsed": true
   },
   "outputs": [],
   "source": [
    "s_lost1=[]\n",
    "s_new1=[]\n",
    "s_stable1=[]\n",
    "for i in range(len(lost_ties_1)):\n",
    "    s_lost1.append(AlcoholSimilarity(G1,lost_ties_1[i]))\n",
    "for i in range(len(new_ties_1)):\n",
    "    s_new1.append(AlcoholSimilarity(G1,new_ties_1[i]))\n",
    "for i in range(len(stable_ties_1)):\n",
    "    s_stable1.append(AlcoholSimilarity(G1,stable_ties_1[i]))\n",
    "\n",
    "s_lost2=[]\n",
    "s_new2=[]\n",
    "s_stable2=[]\n",
    "for i in range(len(lost_ties_2)):\n",
    "    s_lost2.append(AlcoholSimilarity(G2,lost_ties_2[i]))\n",
    "for i in range(len(new_ties_2)):\n",
    "    s_new2.append(AlcoholSimilarity(G2,new_ties_2[i]))\n",
    "for i in range(len(stable_ties_2)):\n",
    "    s_stable2.append(AlcoholSimilarity(G2,stable_ties_2[i]))           \n",
    "                     "
   ]
  },
  {
   "cell_type": "code",
   "execution_count": 29,
   "metadata": {},
   "outputs": [
    {
     "ename": "NameError",
     "evalue": "name 's_lost' is not defined",
     "output_type": "error",
     "traceback": [
      "\u001b[0;31m---------------------------------------------------------------------------\u001b[0m",
      "\u001b[0;31mNameError\u001b[0m                                 Traceback (most recent call last)",
      "\u001b[0;32m<ipython-input-29-6ea0e15ff9be>\u001b[0m in \u001b[0;36m<module>\u001b[0;34m()\u001b[0m\n\u001b[0;32m----> 1\u001b[0;31m \u001b[0mplt\u001b[0m\u001b[0;34m.\u001b[0m\u001b[0mhist\u001b[0m\u001b[0;34m(\u001b[0m\u001b[0ms_lost\u001b[0m\u001b[0;34m,\u001b[0m\u001b[0;36m5\u001b[0m\u001b[0;34m,\u001b[0m\u001b[0mrwidth\u001b[0m\u001b[0;34m=\u001b[0m\u001b[0;36m0.5\u001b[0m\u001b[0;34m)\u001b[0m\u001b[0;34m\u001b[0m\u001b[0m\n\u001b[0m\u001b[1;32m      2\u001b[0m \u001b[0mplt\u001b[0m\u001b[0;34m.\u001b[0m\u001b[0mtitle\u001b[0m\u001b[0;34m(\u001b[0m\u001b[0;34m'ALCOHOL lost ties'\u001b[0m\u001b[0;34m)\u001b[0m\u001b[0;34m\u001b[0m\u001b[0m\n\u001b[1;32m      3\u001b[0m \u001b[0mplt\u001b[0m\u001b[0;34m.\u001b[0m\u001b[0mshow\u001b[0m\u001b[0;34m(\u001b[0m\u001b[0;34m)\u001b[0m\u001b[0;34m\u001b[0m\u001b[0m\n",
      "\u001b[0;31mNameError\u001b[0m: name 's_lost' is not defined"
     ]
    }
   ],
   "source": [
    "plt.hist(s_lost1,5,rwidth=0.5)\n",
    "plt.title('ALCOHOL lost ties')\n",
    "plt.show()"
   ]
  },
  {
   "cell_type": "code",
   "execution_count": null,
   "metadata": {
    "collapsed": true
   },
   "outputs": [],
   "source": [
    "plt.hist(s_new1,5,rwidth=0.5)\n",
    "plt.title('ALCOHOL new ties')\n",
    "plt.show()"
   ]
  },
  {
   "cell_type": "code",
   "execution_count": null,
   "metadata": {
    "collapsed": true
   },
   "outputs": [],
   "source": [
    "plt.hist(s_stable1,5,rwidth=0.5)\n",
    "plt.title('ALCOHOL stable ties')\n",
    "plt.show()"
   ]
  },
  {
   "cell_type": "code",
   "execution_count": 34,
   "metadata": {},
   "outputs": [
    {
     "data": {
      "text/plain": [
       "<matplotlib.legend.Legend at 0x7fe6fc355780>"
      ]
     },
     "execution_count": 34,
     "metadata": {},
     "output_type": "execute_result"
    },
    {
     "data": {
      "image/png": "[encoded data removed]",
      "text/plain": [
       "<Figure size 1080x288 with 2 Axes>"
      ]
     },
     "metadata": {},
     "output_type": "display_data"
    }
   ],
   "source": [
    "plt.figure(figsize=(15,4))\n",
    "\n",
    "plt.subplot(1,2,1)\n",
    "plt.hist([s_stable1,s_new1,s_lost1],5,rwidth=0.5,histtype='barstacked',label=['Stable','New','Lost'],density=True)\n",
    "plt.legend()\n",
    "plt.subplot(1,2,2)\n",
    "plt.hist([s_stable2,s_new2,s_lost2],5,rwidth=0.5,histtype='barstacked',label=['Stable','New','Lost'],density=True)\n",
    "plt.legend()"
   ]
  },
  {
   "cell_type": "markdown",
   "metadata": {},
   "source": [
    "# Cannabis"
   ]
  },
  {
   "cell_type": "code",
   "execution_count": null,
   "metadata": {
    "collapsed": true
   },
   "outputs": [],
   "source": [
    "#me deshago de los enlaces que no tenemos informacion\n",
    "for i in no_info_cannabis1:\n",
    "    for j in reversed(range(len(stable_ties_1))):\n",
    "        if len(set(stable_ties_1[j]).intersection({i}))!=0:\n",
    "            del(stable_ties_1[j])\n",
    "    for j in reversed(range(len(lost_ties_1))):\n",
    "        if len(set(lost_ties_1[j]).intersection({i}))!=0:\n",
    "            del(lost_ties_1[j])\n",
    "    for j in reversed(range(len(new_ties_1))):\n",
    "        if len(set(new_ties_1[j]).intersection({i}))!=0:\n",
    "            del(new_ties_1[j])        \n",
    "            \n",
    "for i in no_info_cannabis2:\n",
    "    for j in reversed(range(len(stable_ties_2))):\n",
    "        if len(set(stable_ties_2[j]).intersection({i}))!=0:\n",
    "            del(stable_ties_2[j])\n",
    "    for j in reversed(range(len(lost_ties_2))):\n",
    "        if len(set(lost_ties_2[j]).intersection({i}))!=0:\n",
    "            del(lost_ties_2[j])\n",
    "    for j in reversed(range(len(new_ties_2))):\n",
    "        if len(set(new_ties_2[j]).intersection({i}))!=0:\n",
    "            del(new_ties_2[j])"
   ]
  }
 ],
 "metadata": {
  "kernelspec": {
   "display_name": "Python 3",
   "language": "python",
   "name": "python3"
  },
  "language_info": {
   "codemirror_mode": {
    "name": "ipython",
    "version": 3
   },
   "file_extension": ".py",
   "mimetype": "text/x-python",
   "name": "python",
   "nbconvert_exporter": "python",
   "pygments_lexer": "ipython3",
   "version": "3.6.3"
  }
 },
 "nbformat": 4,
 "nbformat_minor": 2
}
