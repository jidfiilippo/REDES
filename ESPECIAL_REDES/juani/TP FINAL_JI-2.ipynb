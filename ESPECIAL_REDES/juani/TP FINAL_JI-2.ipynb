{
 "cells": [
  {
   "cell_type": "markdown",
   "metadata": {},
   "source": [
    "# READ DATA"
   ]
  },
  {
   "cell_type": "code",
   "execution_count": 1,
   "metadata": {
    "collapsed": true
   },
   "outputs": [],
   "source": [
    "import numpy as np\n",
    "import matplotlib.pylab as plt"
   ]
  },
  {
   "cell_type": "code",
   "execution_count": 2,
   "metadata": {
    "collapsed": true
   },
   "outputs": [],
   "source": [
    "#abrimos las matrices de adyacencia por amistad.\n",
    "Friendship1  = np.loadtxt('friendship1.txt')\n",
    "Friendship2  = np.loadtxt('friendship2.txt') \n",
    "Friendship3  = np.loadtxt('friendship3(copia).txt')\n",
    "sexos=np.loadtxt('sex.F.txt')"
   ]
  },
  {
   "cell_type": "code",
   "execution_count": 3,
   "metadata": {
    "collapsed": true
   },
   "outputs": [],
   "source": [
    "F1=np.matrix(Friendship1)\n",
    "F2=np.matrix(Friendship2)\n",
    "F3=np.matrix(Friendship3)\n",
    "sexos=np.array(sexos)"
   ]
  },
  {
   "cell_type": "code",
   "execution_count": 4,
   "metadata": {
    "collapsed": true
   },
   "outputs": [],
   "source": [
    "alcohol= np.loadtxt('alcohol(copia).txt',dtype=int, usecols=(0,1,2))\n",
    "alcohol=np.array(alcohol)\n",
    "\n",
    "cannabis= np.loadtxt('cannabis(copia).txt',dtype=int, usecols=(0,1,2))\n",
    "cannabis=np.array(cannabis)\n",
    "\n",
    "tobacco = np.loadtxt('tobacco(copia).txt',dtype=int, usecols=(0,1,2))\n",
    "tobacco =np.array(tobacco)"
   ]
  },
  {
   "cell_type": "code",
   "execution_count": null,
   "metadata": {
    "collapsed": true
   },
   "outputs": [],
   "source": []
  },
  {
   "cell_type": "code",
   "execution_count": 5,
   "metadata": {
    "collapsed": true
   },
   "outputs": [],
   "source": [
    "imalos=[]\n",
    "for i in range(160):\n",
    "    if 1.0*(F1[i,:]==10).sum()==160:\n",
    "        imalos.append(i)\n",
    "    if 1.0*(F2[i,:]==10).sum()==160:\n",
    "        imalos.append(i)\n",
    "    if 1.0*(F3[i,:]==10).sum()==160:\n",
    "        imalos.append(i)\n",
    "        \n",
    "#     if 0 in alcohol[i]:\n",
    "#         imalos.append(i)\n",
    "        \n",
    "#     if 0 in cannabis[i]:\n",
    "#         imalos.append(i)\n",
    "        \n",
    "#     if 0 in tobacco[i]:\n",
    "#         imalos.append(i)"
   ]
  },
  {
   "cell_type": "code",
   "execution_count": 6,
   "metadata": {},
   "outputs": [
    {
     "data": {
      "text/plain": [
       "134"
      ]
     },
     "execution_count": 6,
     "metadata": {},
     "output_type": "execute_result"
    }
   ],
   "source": [
    "160-len(list(set(imalos)))"
   ]
  },
  {
   "cell_type": "code",
   "execution_count": 7,
   "metadata": {
    "collapsed": true
   },
   "outputs": [],
   "source": [
    "malos=list(set(imalos))\n",
    "malos=np.sort(malos)"
   ]
  },
  {
   "cell_type": "code",
   "execution_count": 8,
   "metadata": {},
   "outputs": [],
   "source": [
    "F1=np.delete(F1, malos,0)\n",
    "F1=np.delete(F1, malos,1)\n",
    "\n",
    "F2=np.delete(F2, malos,0)\n",
    "F2=np.delete(F2, malos,1)\n",
    "\n",
    "F3=np.delete(F3, malos,0)\n",
    "F3=np.delete(F3, malos,1)\n",
    "\n",
    "sexos=np.delete(sexos,malos)\n",
    "\n",
    "# alcohol=np.delete(alcohol, malos,0)\n",
    "# cannabis=np.delete(cannabis, malos,0)\n",
    "# tobacco=np.delete(tobacco, malos,0)"
   ]
  },
  {
   "cell_type": "code",
   "execution_count": 9,
   "metadata": {
    "collapsed": true
   },
   "outputs": [],
   "source": [
    "import networkx as nx"
   ]
  },
  {
   "cell_type": "code",
   "execution_count": 10,
   "metadata": {
    "collapsed": true
   },
   "outputs": [],
   "source": [
    "f1=F1.copy()\n",
    "f1_sin_peso=(f1==0)==False\n",
    "f1_sin_peso=np.where(f1_sin_peso==True,1,f1_sin_peso)\n",
    "f2=F2.copy()\n",
    "f2_sin_peso=(f2==0)==False\n",
    "f2_sin_peso=np.where(f2_sin_peso==True,1,f2_sin_peso)\n",
    "f3=F3.copy()\n",
    "f3_sin_peso=(f3==0)==False\n",
    "f3_sin_peso=np.where(f3_sin_peso==True,1,f3_sin_peso)"
   ]
  },
  {
   "cell_type": "code",
   "execution_count": 11,
   "metadata": {
    "collapsed": true
   },
   "outputs": [],
   "source": [
    "G1=nx.from_numpy_matrix(f1_sin_peso,create_using=nx.DiGraph())\n",
    "G2=nx.from_numpy_matrix(f2_sin_peso,create_using=nx.DiGraph())\n",
    "G3=nx.from_numpy_matrix(f3_sin_peso,create_using=nx.DiGraph())"
   ]
  },
  {
   "cell_type": "code",
   "execution_count": 12,
   "metadata": {},
   "outputs": [],
   "source": [
    "# NODOS QUE NO COMPLETARON ENCUESTA: TENDENCY\n",
    "\n",
    "no_info_tobacco1=[]\n",
    "no_info_tobacco2=[]\n",
    "no_info_alcohol1=[]\n",
    "no_info_alcohol2=[]\n",
    "no_info_cannabis1=[]\n",
    "no_info_cannabis2=[]\n",
    "\n",
    "for i in range(134):\n",
    "    \n",
    "    if tobacco[i][0]==0:\n",
    "        no_info_tobacco1.append(i)\n",
    "    if tobacco[i][1]==0:\n",
    "        no_info_tobacco1.append(i)\n",
    "        no_info_tobacco2.append(i)    \n",
    "    if tobacco[i][1]==0:\n",
    "        no_info_tobacco2.append(i)\n",
    "    \n",
    "    \n",
    "    if cannabis[i][0]==0:\n",
    "        no_info_cannabis1.append(i)\n",
    "    if cannabis[i][1]==0:\n",
    "        no_info_cannabis1.append(i)\n",
    "        no_info_cannabis2.append(i)    \n",
    "    if cannabis[i][1]==0:\n",
    "        no_info_cannabis2.append(i)\n",
    "    \n",
    "    \n",
    "    if alcohol[i][0]==0:\n",
    "        no_info_alcohol1.append(i)\n",
    "    if alcohol[i][1]==0:\n",
    "        no_info_alcohol1.append(i)\n",
    "        no_info_alcohol2.append(i)    \n",
    "    if alcohol[i][1]==0:\n",
    "        no_info_alcohol2.append(i)\n",
    "    \n",
    "no_info_tobacco1=np.sort(list(set(no_info_tobacco1)))\n",
    "no_info_tobacco2=np.sort(list(set(no_info_tobacco2)))\n",
    "no_info_cannabis1=np.sort(list(set(no_info_cannabis1)))\n",
    "no_info_cannabis2=np.sort(list(set(no_info_cannabis2)))\n",
    "no_info_alcohol1=np.sort(list(set(no_info_alcohol1)))\n",
    "no_info_alcohol2=np.sort(list(set(no_info_alcohol2)))"
   ]
  },
  {
   "cell_type": "markdown",
   "metadata": {},
   "source": [
    "# TENDENCY"
   ]
  },
  {
   "cell_type": "code",
   "execution_count": 13,
   "metadata": {
    "collapsed": true
   },
   "outputs": [],
   "source": [
    "# Normalizo los consumos para usarlos como pesos\n",
    "alcohol=alcohol-1\n",
    "alcohol=alcohol/alcohol.max()\n",
    "\n",
    "cannabis=cannabis-1\n",
    "cannabis=cannabis/cannabis.max()\n",
    "\n",
    "tobacco=tobacco-1\n",
    "tobacco=tobacco/tobacco.max()"
   ]
  },
  {
   "cell_type": "markdown",
   "metadata": {},
   "source": [
    "1 perido\n",
    "$$ \\frac{\\sum_{i=1}^{102} \\left( w^{2año}_i-w^{1año}_i  \\right)^2 \\cdot signo[w^{2año}_i-w^{1año}_i ]  }{\\# nodos} $$\n",
    "\n",
    "2 perido\n",
    "$$ \\frac{\\sum_{i=1}^{102} \\left( w^{3año}_i-w^{2año}_i \\right)^2 \\cdot signo[w^{2año}_i-w^{1año}_i ]}{\\# nodos} $$"
   ]
  },
  {
   "cell_type": "code",
   "execution_count": 14,
   "metadata": {
    "collapsed": true
   },
   "outputs": [],
   "source": [
    "def tendency(sub1,sub2,sub3):\n",
    "    \n",
    "    \n",
    "    #alcohol\n",
    "    sub1_1=sub1.copy()\n",
    "    sub1_1=np.delete(sub1_1, no_info_alcohol1,0)\n",
    "    nodos_a1=len(sub1_1[:,0])\n",
    "    \n",
    "    \n",
    "    sub1_2=sub1.copy()\n",
    "    sub1_2=np.delete(sub1_2, no_info_alcohol2,0)\n",
    "    nodos_a2=len(sub1_2[:,0])\n",
    "    \n",
    "    #cannabis\n",
    "    sub2_1=sub2.copy()\n",
    "    sub2_1=np.delete(sub2_1,no_info_cannabis1 ,0)\n",
    "    nodos_c1=len(sub2_1[:,0])\n",
    "    \n",
    "    sub2_2=sub1.copy()\n",
    "    sub2_2=np.delete(sub2_2,no_info_cannabis2,0)\n",
    "    nodos_c2=len(sub2_2[:,0])\n",
    "    \n",
    "    #tobacco\n",
    "    sub3_1=sub3.copy()\n",
    "    sub3_1=np.delete(sub3_1,no_info_tobacco1 ,0)\n",
    "    nodos_t1=len(sub3_1[:,0])\n",
    "    \n",
    "    sub3_2=sub3.copy()\n",
    "    sub3_2=np.delete(sub3_2,no_info_tobacco2,0)\n",
    "    nodos_t2=len(sub3_2[:,0])\n",
    "    \n",
    "    \n",
    "    ####\n",
    "    \n",
    "    t1_alc=np.zeros(nodos_a1)\n",
    "    t2_alc=np.zeros(nodos_a2)\n",
    "    t1_can=np.zeros(nodos_c1)\n",
    "    t2_can=np.zeros(nodos_c2)\n",
    "    t1_tob=np.zeros(nodos_t1)\n",
    "    t2_tob=np.zeros(nodos_t2)\n",
    "    \n",
    "    ####\n",
    "    \n",
    "    \n",
    "    for i in range(nodos_a1):\n",
    "        t1_alc[i]=(sub1_1[i,1]-sub1_1[i,0])**2 * np.sign(sub1_1[i,1]-sub1_2[i,0])\n",
    "        \n",
    "    for i in range(nodos_a2):\n",
    "        t2_alc[i]=(sub1_2[i,2]-sub1_2[i,1])**2 * np.sign(sub1_2[i,2]-sub1_2[i,1])\n",
    "             \n",
    "    for i in range(nodos_c1):\n",
    "        t1_can[i]=(sub2_1[i,1]-sub2_1[i,0])**2 * np.sign(sub2_1[i,1]-sub2_1[i,0])\n",
    "    \n",
    "    for i in range(nodos_c2):\n",
    "        t2_can[i]=(sub2_2[i,2]-sub2_2[i,1])**2 * np.sign(sub2_2[i,2]-sub2_2[i,1])\n",
    "    \n",
    "    for i in range(nodos_t1):        \n",
    "        t1_tob[i]=(sub3_1[i,1]-sub3_1[i,0])**2 * np.sign(sub3_1[i,1]-sub3_1[i,0])\n",
    "    \n",
    "    for i in range(nodos_t2):\n",
    "        t2_tob[i]=(sub3_2[i,2]-sub3_2[i,1])**2 * np.sign(sub3_2[i,2]-sub3_2[i,1])\n",
    "    \n",
    "    \n",
    "    t1a    = t1_alc.sum()/nodos_a1\n",
    "    t2a    = t2_alc.sum()/nodos_a2\n",
    "    \n",
    "    t1c    = t1_can.sum()/nodos_c1\n",
    "    t2c    = t2_can.sum()/nodos_c2\n",
    "        \n",
    "    t1t    = t1_tob.sum()/nodos_t1\n",
    "    t2t    = t2_tob.sum()/nodos_t2\n",
    "    \n",
    "    return [t1a,t2a,t1c,t2c,t1t,t2t]"
   ]
  },
  {
   "cell_type": "code",
   "execution_count": 15,
   "metadata": {},
   "outputs": [],
   "source": [
    "T1A,T2A,T1C,T2C,T1T,T2T=tendency(alcohol,cannabis,tobacco)"
   ]
  },
  {
   "cell_type": "code",
   "execution_count": 16,
   "metadata": {},
   "outputs": [
    {
     "data": {
      "text/plain": [
       "[0.041158536585365856,\n",
       " -0.00244140625,\n",
       " 0.051051051051051052,\n",
       " 0.027684563758389263,\n",
       " 0.10641891891891891,\n",
       " -0.0033557046979865771]"
      ]
     },
     "execution_count": 16,
     "metadata": {},
     "output_type": "execute_result"
    }
   ],
   "source": [
    "tendency(alcohol,cannabis,tobacco)"
   ]
  },
  {
   "cell_type": "code",
   "execution_count": 17,
   "metadata": {
    "collapsed": true
   },
   "outputs": [],
   "source": [
    "#MODELO NULO\n",
    "\n",
    "def random_shuff(name_file):\n",
    "        \n",
    "    substance_1= np.loadtxt(name_file,dtype=int, usecols=0)\n",
    "    substance_1=np.delete(substance_1, malos,0)\n",
    "    substance_1=substance_1-1\n",
    "    substance_1=substance_1/substance_1.max()\n",
    "    np.random.shuffle(substance_1)\n",
    "\n",
    "    substance_2= np.loadtxt(name_file,dtype=int, usecols=1)\n",
    "    substance_2=np.delete(substance_2, malos,0)\n",
    "    substance_2=substance_2-1\n",
    "    substance_2=substance_2/substance_2.max()\n",
    "    np.random.shuffle(substance_2)\n",
    "\n",
    "    substance_3= np.loadtxt(name_file,dtype=int, usecols=2)\n",
    "    substance_3=np.delete(substance_3, malos,0)\n",
    "    substance_3=substance_3-1\n",
    "    substance_3=substance_3/substance_3.max()\n",
    "    np.random.shuffle(substance_3)\n",
    "\n",
    "    substanceShuff=np.array([substance_1,substance_2,substance_3]).T\n",
    "    \n",
    "    return substanceShuff"
   ]
  },
  {
   "cell_type": "code",
   "execution_count": 18,
   "metadata": {},
   "outputs": [],
   "source": [
    "rtendency=[]\n",
    "\n",
    "iter_hist=10000\n",
    "\n",
    "for i in range(iter_hist):\n",
    "\n",
    "    alcoholShuff=random_shuff('alcohol(copia).txt')\n",
    "    cannabisShuff=random_shuff('cannabis(copia).txt')\n",
    "    tobaccoShuff=random_shuff('tobacco(copia).txt')\n",
    "\n",
    "    rtendency.append(tendency(alcoholShuff,cannabisShuff,tobaccoShuff))"
   ]
  },
  {
   "cell_type": "code",
   "execution_count": 19,
   "metadata": {
    "collapsed": true
   },
   "outputs": [],
   "source": [
    "tendency1_alcohol=[]\n",
    "tendency2_alcohol=[]\n",
    "\n",
    "tendency1_cannabis=[]\n",
    "tendency2_cannabis=[]\n",
    "\n",
    "tendency1_tobacco=[]\n",
    "tendency2_tobacco=[]\n",
    "\n",
    "\n",
    "for i in range(iter_hist):\n",
    "    \n",
    "    tendency1_alcohol.append(rtendency[i][0])\n",
    "    tendency2_alcohol.append(rtendency[i][1])\n",
    "    \n",
    "    tendency1_cannabis.append(rtendency[i][2])\n",
    "    tendency2_cannabis.append(rtendency[i][3])\n",
    "    \n",
    "    tendency1_tobacco.append(rtendency[i][4])\n",
    "    tendency2_tobacco.append(rtendency[i][5])"
   ]
  },
  {
   "cell_type": "code",
   "execution_count": 20,
   "metadata": {},
   "outputs": [
    {
     "data": {
      "image/png": "[encoded data removed]",
      "text/plain": [
       "<matplotlib.figure.Figure at 0x7fa5be8e8668>"
      ]
     },
     "metadata": {},
     "output_type": "display_data"
    }
   ],
   "source": [
    "plt.figure(figsize=(14,7))\n",
    "\n",
    "plt.subplot(3,2,1)\n",
    "plt.hist(tendency1_alcohol,bins='auto')\n",
    "plt.plot(T1A,10,'o',label='real',c='magenta')\n",
    "plt.axvline(T1A, c='magenta')\n",
    "#plt.xlim(0.010, 0.050)\n",
    "#plt.ylim(0,800)\n",
    "\n",
    "\n",
    "plt.subplot(3,2,2)\n",
    "plt.hist(tendency2_alcohol,bins='auto')\n",
    "plt.plot(T2A,10,'o',label='real',c='magenta')\n",
    "plt.axvline(T2A, c='magenta')\n",
    "#plt.xlim(0.010,0.050)\n",
    "#plt.ylim(0,800)\n",
    "\n",
    "\n",
    "plt.subplot(3,2,3)\n",
    "plt.hist(tendency1_cannabis,bins='auto')\n",
    "plt.plot(T1C,10,'o',label='real',c='magenta')\n",
    "plt.axvline(T1C, c='magenta')\n",
    "#plt.xlim(0,0.09)\n",
    "#plt.ylim(0,1520)\n",
    "\n",
    "plt.subplot(3,2,4)\n",
    "plt.hist(tendency2_cannabis,bins='auto')\n",
    "plt.plot(T2C,10,'o',label='real',c='magenta')\n",
    "plt.axvline(T2C, c='magenta')\n",
    "#plt.xlim(0,0.09)\n",
    "#plt.ylim(0,1520)\n",
    "\n",
    "##\n",
    "plt.subplot(3,2,5)\n",
    "plt.hist(tendency1_tobacco,bins='auto')\n",
    "plt.plot(T1T,10,'o',label='real',c='magenta')\n",
    "plt.axvline(T1T, c='magenta')\n",
    "#plt.xlim(0.020,0.055)\n",
    "#plt.ylim(0,2500)\n",
    "\n",
    "\n",
    "plt.subplot(3,2,6)\n",
    "plt.hist(tendency2_tobacco,bins='auto')\n",
    "plt.plot(T2T,10,'o',label='real',c='magenta')\n",
    "plt.axvline(T2T, c='magenta')\n",
    "#plt.xlim(0.020,0.055)\n",
    "#plt.ylim(0,2500)\n",
    "\n",
    "\n",
    "plt.show()"
   ]
  },
  {
   "cell_type": "markdown",
   "metadata": {},
   "source": [
    "# CORRELATIONS"
   ]
  },
  {
   "cell_type": "code",
   "execution_count": 21,
   "metadata": {
    "collapsed": true
   },
   "outputs": [],
   "source": [
    "# en las matrices de consumo asigno 0 a los no consumidores y 1 a los consumidores\n",
    "alc=(alcohol>0)*1.0 #consumen alcohol\n",
    "cann=(cannabis>0)*1.0 #consumen cannabis\n",
    "tob=(tobacco>0)*1.0 #consumen tobacco\n",
    "sex=(sexos>1.9)*1.0 #f/m??"
   ]
  },
  {
   "cell_type": "code",
   "execution_count": 22,
   "metadata": {
    "collapsed": true
   },
   "outputs": [],
   "source": [
    "tot_nodos=102\n",
    "tot_sex=int(sex.sum())\n",
    "correlations=[]\n",
    "random_corr=[]\n",
    "\n",
    "for j in range(3):\n",
    "    \n",
    "    [a_c,a_t,a_s,c_t,c_s,t_s]=[0,0,0,0,0,0]\n",
    "    \n",
    "    tot_al=int(alc[:,j].sum())\n",
    "    tot_can=int(cann[:,j].sum())\n",
    "    tot_tob=int(tob[:,j].sum())\n",
    "    \n",
    "    pa=(tot_al/tot_nodos)\n",
    "    pc=(tot_can/tot_nodos)\n",
    "    pt=(tot_tob/tot_nodos)\n",
    "    ps=(tot_sex/tot_nodos)\n",
    "\n",
    "    for i in range(102):\n",
    "\n",
    "        if alc[i,j]==1:\n",
    "            if cann[i,j]==1:\n",
    "                a_c=a_c+1\n",
    "            if tob[i,j]==1:\n",
    "                a_t=a_t+1\n",
    "            if sex[i]==1:\n",
    "                a_s=a_s+1\n",
    "\n",
    "        if cann[i,j]==1:\n",
    "            if tob[i,j]==1:\n",
    "                c_t=c_t+1\n",
    "            if sex[i]==1:\n",
    "                c_s=c_s+1\n",
    "\n",
    "        if tob[i,j]==1:\n",
    "            if sex[i]==1:\n",
    "                t_s=t_s+1\n",
    "            \n",
    "    \n",
    "    correlations.append([a_c/tot_al, a_c/tot_can, a_t/tot_al, a_t/tot_tob, a_s/tot_al, a_s/tot_sex,\n",
    "           c_t/tot_can, c_t/tot_tob, c_s/tot_can, c_s/tot_sex, t_s/tot_tob, t_s/tot_sex])\n",
    "    \n",
    "    random_corr.append(([pa*pc,pa*pc, pa*pt,pa*pt, pa*ps,pa*ps,\n",
    "                       pc*pt,pc*pt, pc*ps,pc*ps, pt*ps,pt*ps]))"
   ]
  },
  {
   "cell_type": "code",
   "execution_count": 23,
   "metadata": {},
   "outputs": [
    {
     "data": {
      "text/plain": [
       "(0.717948717948718, 0.4798154555940023)"
      ]
     },
     "execution_count": 23,
     "metadata": {},
     "output_type": "execute_result"
    }
   ],
   "source": [
    "correlations[2][3], random_corr[2][3]"
   ]
  },
  {
   "cell_type": "code",
   "execution_count": 24,
   "metadata": {},
   "outputs": [
    {
     "name": "stdout",
     "output_type": "stream",
     "text": [
      "VARIACION PORCENTUAL POR AÑO\n",
      "\n",
      "-52.327712609970675 %\n",
      "34.34917355371902 %\n",
      "-52.929466588245944 %\n",
      "153.77157143728274 %\n",
      "-59.86040318171396 %\n",
      "-15.638813466653081 %\n",
      "203.7459575997125 %\n",
      "481.0792232342326 %\n",
      "36.62627819022269 %\n",
      "1.8907837350813326 %\n",
      "200.00961199577065 %\n",
      "16.952899591571626 %\n",
      "\n",
      "************\n",
      "\n",
      "-55.342136854741895 %\n",
      "4.201680672268893 %\n",
      "-45.978391356542616 %\n",
      "89.07563025210085 %\n",
      "-56.41646489104117 %\n",
      "-12.094225797184741 %\n",
      "88.23529411764707 %\n",
      "182.3529411764706 %\n",
      "8.474576271186429 %\n",
      "-6.233840850330374 %\n",
      "67.79661016949152 %\n",
      "-3.303648376903192 %\n",
      "\n",
      "************\n",
      "\n",
      "-58.22304173519737 %\n",
      "-29.638807132963983 %\n",
      "-54.40955528846154 %\n",
      "49.630177514792905 %\n",
      "-60.177353681144076 %\n",
      "-13.605106291295618 %\n",
      "10.845940762838278 %\n",
      "116.00747430706949 %\n",
      "-23.675994178130434 %\n",
      "-1.6843314836934513 %\n",
      "27.529836525925184 %\n",
      "-15.700616533710468 %\n",
      "\n",
      "************\n",
      "\n"
     ]
    }
   ],
   "source": [
    "#variación porcentual\n",
    "\n",
    "print('VARIACION PORCENTUAL POR AÑO')\n",
    "print('')\n",
    "for j in range(3):\n",
    "    for i in range(12):\n",
    "        print(((correlations[j][i]-random_corr[j][i])/random_corr[j][i])*100,'%')\n",
    "    print('')\n",
    "    print('************')\n",
    "    print('')"
   ]
  },
  {
   "cell_type": "markdown",
   "metadata": {},
   "source": [
    "#  ALTER/EGO"
   ]
  },
  {
   "cell_type": "markdown",
   "metadata": {},
   "source": [
    "EGO\n",
    "\n",
    "$$ \\frac{\\sum_{i=1}^{134} OUTdegree_i \\cdot w_i}{\\# edges} $$\n",
    "\n",
    "ALTER\n",
    "\n",
    "$$ \\frac{\\sum_{i=1}^{134} INdegree_i \\cdot w_i}{\\# edges} $$"
   ]
  },
  {
   "cell_type": "code",
   "execution_count": 25,
   "metadata": {
    "collapsed": true
   },
   "outputs": [],
   "source": [
    "#vuelvo a leer los consumos para no hacer quilombo"
   ]
  },
  {
   "cell_type": "code",
   "execution_count": 26,
   "metadata": {},
   "outputs": [],
   "source": [
    "alcohol= np.loadtxt('alcohol(copia).txt',dtype=int, usecols=(0,1,2))\n",
    "alcohol=np.array(alcohol)\n",
    "\n",
    "cannabis= np.loadtxt('cannabis(copia).txt',dtype=int, usecols=(0,1,2))\n",
    "cannabis=np.array(cannabis)\n",
    "\n",
    "tobacco = np.loadtxt('tobacco(copia).txt',dtype=int, usecols=(0,1,2))\n",
    "tobacco =np.array(tobacco)\n",
    "\n",
    "\n",
    "alcohol=np.delete(alcohol, malos,0)\n",
    "cannabis=np.delete(cannabis, malos,0)\n",
    "tobacco=np.delete(tobacco, malos,0)"
   ]
  },
  {
   "cell_type": "code",
   "execution_count": 27,
   "metadata": {},
   "outputs": [],
   "source": [
    "#NODOS QUE NO COMPLETARON ENCUESTA: ALTER/EGO\n",
    "\n",
    "nno_info_alcohol1=[]\n",
    "nno_info_alcohol2=[]\n",
    "nno_info_alcohol3=[]\n",
    "\n",
    "nno_info_tobacco1=[]\n",
    "nno_info_tobacco2=[]\n",
    "nno_info_tobacco3=[]\n",
    "\n",
    "nno_info_cannabis1=[]\n",
    "nno_info_cannabis2=[]\n",
    "nno_info_cannabis3=[]\n",
    "\n",
    "\n",
    "for i in range(134):   \n",
    "    \n",
    "    \n",
    "    if alcohol[i][0]==0:\n",
    "        nno_info_alcohol1.append(i)\n",
    "    if alcohol[i][1]==0:\n",
    "        nno_info_alcohol2.append(i)    \n",
    "    if alcohol[i][2]==0:\n",
    "        nno_info_alcohol3.append(i)\n",
    "    \n",
    "    \n",
    "    if cannabis[i][0]==0:\n",
    "        nno_info_cannabis1.append(i)\n",
    "    if cannabis[i][1]==0:\n",
    "        nno_info_cannabis2.append(i)    \n",
    "    if cannabis[i][2]==0:\n",
    "        nno_info_cannabis3.append(i)\n",
    "    \n",
    "    \n",
    "    if tobacco[i][0]==0:\n",
    "        nno_info_tobacco1.append(i)\n",
    "    if tobacco[i][1]==0:\n",
    "        nno_info_tobacco2.append(i)    \n",
    "    if tobacco[i][2]==0:\n",
    "        nno_info_tobacco3.append(i)"
   ]
  },
  {
   "cell_type": "code",
   "execution_count": 28,
   "metadata": {
    "collapsed": true
   },
   "outputs": [],
   "source": [
    "# Normalizo los consumos para usarlos como pesos\n",
    "alcohol=alcohol-1\n",
    "alcohol=alcohol/alcohol.max()\n",
    "\n",
    "cannabis=cannabis-1\n",
    "cannabis=cannabis/cannabis.max()\n",
    "\n",
    "tobacco=tobacco-1\n",
    "tobacco=tobacco/tobacco.max()"
   ]
  },
  {
   "cell_type": "code",
   "execution_count": 29,
   "metadata": {},
   "outputs": [],
   "source": [
    "alcohol[alcohol<0]=0\n",
    "cannabis[cannabis<0]=0\n",
    "tobacco[tobacco<0]=0"
   ]
  },
  {
   "cell_type": "code",
   "execution_count": 30,
   "metadata": {
    "collapsed": true
   },
   "outputs": [],
   "source": [
    "#calcular bien los edges..."
   ]
  },
  {
   "cell_type": "code",
   "execution_count": 31,
   "metadata": {
    "collapsed": true
   },
   "outputs": [],
   "source": [
    "#1er año\n",
    "GG=G1.copy()\n",
    "GG.remove_nodes_from(nno_info_alcohol1)\n",
    "edg1_a=len(GG.edges())\n",
    "\n",
    "GG=G1.copy()\n",
    "GG.remove_nodes_from(nno_info_cannabis1)\n",
    "edg1_c=len(GG.edges())\n",
    "\n",
    "GG=G1.copy()\n",
    "GG.remove_nodes_from(nno_info_tobacco1)\n",
    "edg1_t=len(GG.edges())\n",
    "\n",
    "#2do año\n",
    "\n",
    "GG=G2.copy()\n",
    "GG.remove_nodes_from(nno_info_alcohol2)\n",
    "edg2_a=len(GG.edges())\n",
    "\n",
    "GG=G2.copy()\n",
    "GG.remove_nodes_from(nno_info_cannabis2)\n",
    "edg2_c=len(GG.edges())\n",
    "\n",
    "GG=G2.copy()\n",
    "GG.remove_nodes_from(nno_info_tobacco2)\n",
    "edg2_t=len(GG.edges())\n",
    "\n",
    "\n",
    "#3er año\n",
    "\n",
    "GG=G3.copy()\n",
    "GG.remove_nodes_from(nno_info_alcohol3)\n",
    "edg3_a=len(GG.edges())\n",
    "\n",
    "GG=G3.copy()\n",
    "GG.remove_nodes_from(nno_info_cannabis3)\n",
    "edg3_c=len(GG.edges())\n",
    "\n",
    "GG=G3.copy()\n",
    "GG.remove_nodes_from(nno_info_tobacco3)\n",
    "edg3_t=len(GG.edges())"
   ]
  },
  {
   "cell_type": "code",
   "execution_count": 32,
   "metadata": {},
   "outputs": [
    {
     "data": {
      "text/plain": [
       "(352, 459, 459)"
      ]
     },
     "execution_count": 32,
     "metadata": {},
     "output_type": "execute_result"
    }
   ],
   "source": [
    "edg1_a,edg1_c,edg1_t"
   ]
  },
  {
   "cell_type": "code",
   "execution_count": 33,
   "metadata": {},
   "outputs": [
    {
     "data": {
      "text/plain": [
       "(310, 456, 456)"
      ]
     },
     "execution_count": 33,
     "metadata": {},
     "output_type": "execute_result"
    }
   ],
   "source": [
    "edg2_a,edg2_c,edg2_t"
   ]
  },
  {
   "cell_type": "code",
   "execution_count": 34,
   "metadata": {},
   "outputs": [
    {
     "data": {
      "text/plain": [
       "(428, 484, 490)"
      ]
     },
     "execution_count": 34,
     "metadata": {},
     "output_type": "execute_result"
    }
   ],
   "source": [
    "edg3_a,edg3_c,edg3_t"
   ]
  },
  {
   "cell_type": "code",
   "execution_count": null,
   "metadata": {
    "collapsed": true
   },
   "outputs": [],
   "source": []
  },
  {
   "cell_type": "code",
   "execution_count": null,
   "metadata": {
    "collapsed": true
   },
   "outputs": [],
   "source": []
  },
  {
   "cell_type": "code",
   "execution_count": 35,
   "metadata": {
    "collapsed": true
   },
   "outputs": [],
   "source": [
    "# matriz EGO/ALTER [NODO,CONSUMO,AÑO], CONSUMO=[alcohol, cannabis, tobacco]\n",
    "\n",
    "def ego_alter(alcohol,cannabis,tobacco):\n",
    "\n",
    "    EG=np.zeros([134,3,3])\n",
    "    ALT=np.zeros([134,3,3])\n",
    "    \n",
    "    for i in range(134):\n",
    "\n",
    "        #1er año\n",
    "        EG[i,0,0]=G1.in_degree[i]*alcohol[i,0]\n",
    "        ALT[i,0,0]=G1.out_degree[i]*alcohol[i,0]\n",
    "\n",
    "        EG[i,1,0]=G1.in_degree[i]*cannabis[i,0]\n",
    "        ALT[i,1,0]=G1.out_degree[i]*cannabis[i,0]\n",
    "\n",
    "        EG[i,2,0]=G1.in_degree[i]*tobacco[i,0]\n",
    "        ALT[i,2,0]=G1.out_degree[i]*tobacco[i,0]\n",
    "\n",
    "        #2año\n",
    "        EG[i,0,1]=G2.in_degree[i]*alcohol[i,1]\n",
    "        ALT[i,0,1]=G2.out_degree[i]*alcohol[i,1]\n",
    "\n",
    "        EG[i,1,1]=G2.in_degree[i]*cannabis[i,1]\n",
    "        ALT[i,1,1]=G2.out_degree[i]*cannabis[i,1]\n",
    "\n",
    "        EG[i,2,1]=G2.in_degree[i]*tobacco[i,1]\n",
    "        ALT[i,2,1]=G2.out_degree[i]*tobacco[i,1]\n",
    "\n",
    "        #3año\n",
    "        EG[i,0,2]=G3.in_degree[i]*alcohol[i,2]\n",
    "        ALT[i,0,2]=G3.out_degree[i]*alcohol[i,2]\n",
    "\n",
    "        EG[i,1,2]=G3.in_degree[i]*cannabis[i,2]\n",
    "        ALT[i,1,2]=G3.out_degree[i]*cannabis[i,2]\n",
    "\n",
    "        EG[i,2,2]=G3.in_degree[i]*tobacco[i,2]\n",
    "        ALT[i,2,2]=G3.out_degree[i]*tobacco[i,2]\n",
    "        \n",
    "    ego_alcohol=[EG[:,0,0].sum()/edg1_a,EG[:,0,1].sum()/edg2_a,EG[:,0,2].sum()/edg3_a]\n",
    "    alter_alcohol=[ALT[:,0,0].sum()/edg1_a,ALT[:,0,1].sum()/edg2_a,ALT[:,0,2].sum()/edg3_a]\n",
    "\n",
    "    ego_cannabis=[EG[:,1,0].sum()/edg1_c,EG[:,1,1].sum()/edg2_c,EG[:,1,2].sum()/edg3_c]\n",
    "    alter_cannabis=[ALT[:,1,0].sum()/edg1_c,ALT[:,1,1].sum()/edg2_c,ALT[:,1,2].sum()/edg3_c]\n",
    "\n",
    "    ego_tobacco=[EG[:,2,0].sum()/edg1_t,EG[:,2,1].sum()/edg2_t,EG[:,2,2].sum()/edg3_t]\n",
    "    alter_tobacco=[ALT[:,2,0].sum()/edg1_t,ALT[:,2,1].sum()/edg2_t,ALT[:,2,2].sum()/edg3_t]\n",
    "    \n",
    "              \n",
    "    return [ego_alcohol,alter_alcohol],[ego_cannabis,alter_cannabis],[ego_tobacco,alter_tobacco]"
   ]
  },
  {
   "cell_type": "code",
   "execution_count": 36,
   "metadata": {},
   "outputs": [],
   "source": [
    "REA_alc=[]\n",
    "REA_can=[]\n",
    "REA_tob=[]\n",
    "\n",
    "iter_hist=1000\n",
    "\n",
    "for i in range(iter_hist):\n",
    "    \n",
    "    alcoholShuff=random_shuff('alcohol(copia).txt')\n",
    "    alcoholShuff[alcoholShuff<0]=0\n",
    "    cannabisShuff=random_shuff('cannabis(copia).txt')\n",
    "    cannabisShuff[cannabisShuff<0]=0\n",
    "    tobaccoShuff=random_shuff('tobacco(copia).txt')\n",
    "    tobaccoShuff[tobaccoShuff<0]=0\n",
    "    \n",
    "    egoalt_alcohol,egoalt_cannabis,egoalt_tobacco=ego_alter(alcoholShuff,cannabisShuff,tobaccoShuff)\n",
    "    \n",
    "    REA_alc.append(egoalt_alcohol)\n",
    "    REA_can.append(egoalt_cannabis)\n",
    "    REA_tob.append(egoalt_tobacco)"
   ]
  },
  {
   "cell_type": "code",
   "execution_count": 37,
   "metadata": {},
   "outputs": [],
   "source": [
    "ego1_alcohol=[]\n",
    "ego2_alcohol=[]\n",
    "ego3_alcohol=[]\n",
    "alter1_alcohol=[]\n",
    "alter2_alcohol=[]\n",
    "alter3_alcohol=[]\n",
    "\n",
    "ego1_cannabis=[]\n",
    "ego2_cannabis=[]\n",
    "ego3_cannabis=[]\n",
    "alter1_cannabis=[]\n",
    "alter2_cannabis=[]\n",
    "alter3_cannabis=[]\n",
    "\n",
    "ego1_tobacco=[]\n",
    "ego2_tobacco=[]\n",
    "ego3_tobacco=[]\n",
    "alter1_tobacco=[]\n",
    "alter2_tobacco=[]\n",
    "alter3_tobacco=[]\n",
    "\n",
    "\n",
    "for i in range(iter_hist):\n",
    "    \n",
    "    ego1_alcohol.append(REA_alc[i][0][0])\n",
    "    ego2_alcohol.append(REA_alc[i][0][1])\n",
    "    ego3_alcohol.append(REA_alc[i][0][2])\n",
    "    \n",
    "    alter1_alcohol.append(REA_alc[i][1][0])\n",
    "    alter2_alcohol.append(REA_alc[i][1][1])\n",
    "    alter3_alcohol.append(REA_alc[i][1][2])\n",
    "    \n",
    "        \n",
    "    ego1_cannabis.append(REA_can[i][0][0])\n",
    "    ego2_cannabis.append(REA_can[i][0][1])\n",
    "    ego3_cannabis.append(REA_can[i][0][2])\n",
    "    \n",
    "    alter1_cannabis.append(REA_can[i][1][0])\n",
    "    alter2_cannabis.append(REA_can[i][1][1])\n",
    "    alter3_cannabis.append(REA_can[i][1][2])\n",
    "    \n",
    "    \n",
    "    ego1_tobacco.append(REA_tob[i][0][0])\n",
    "    ego2_tobacco.append(REA_tob[i][0][1])\n",
    "    ego3_tobacco.append(REA_tob[i][0][2])\n",
    "    \n",
    "    alter1_tobacco.append(REA_tob[i][1][0])\n",
    "    alter2_tobacco.append(REA_tob[i][1][1])\n",
    "    alter3_tobacco.append(REA_tob[i][1][2])"
   ]
  },
  {
   "cell_type": "code",
   "execution_count": 38,
   "metadata": {
    "collapsed": true
   },
   "outputs": [],
   "source": [
    "EGO1_alcohol=ego_alter(alcohol,cannabis,tobacco)[0][0][0]\n",
    "EGO2_alcohol=ego_alter(alcohol,cannabis,tobacco)[0][0][1]\n",
    "EGO3_alcohol=ego_alter(alcohol,cannabis,tobacco)[0][0][2]\n",
    "    \n",
    "ALTER1_alcohol=ego_alter(alcohol,cannabis,tobacco)[0][1][0]\n",
    "ALTER2_alcohol=ego_alter(alcohol,cannabis,tobacco)[0][1][1]\n",
    "ALTER3_alcohol=ego_alter(alcohol,cannabis,tobacco)[0][1][2]\n",
    "\n",
    "\n",
    "EGO1_cannabis=ego_alter(alcohol,cannabis,tobacco)[1][0][0]\n",
    "EGO2_cannabis=ego_alter(alcohol,cannabis,tobacco)[1][0][1]\n",
    "EGO3_cannabis=ego_alter(alcohol,cannabis,tobacco)[1][0][2]\n",
    "    \n",
    "ALTER1_cannabis=ego_alter(alcohol,cannabis,tobacco)[1][1][0]\n",
    "ALTER2_cannabis=ego_alter(alcohol,cannabis,tobacco)[1][1][1]\n",
    "ALTER3_cannabis=ego_alter(alcohol,cannabis,tobacco)[1][1][2]\n",
    "\n",
    "\n",
    "EGO1_tobacco=ego_alter(alcohol,cannabis,tobacco)[2][0][0]\n",
    "EGO2_tobacco=ego_alter(alcohol,cannabis,tobacco)[2][0][1]\n",
    "EGO3_tobacco=ego_alter(alcohol,cannabis,tobacco)[2][0][2]\n",
    "    \n",
    "ALTER1_tobacco=ego_alter(alcohol,cannabis,tobacco)[2][1][0]\n",
    "ALTER2_tobacco=ego_alter(alcohol,cannabis,tobacco)[2][1][1]\n",
    "ALTER3_tobacco=ego_alter(alcohol,cannabis,tobacco)[2][1][2]"
   ]
  },
  {
   "cell_type": "code",
   "execution_count": null,
   "metadata": {
    "collapsed": true
   },
   "outputs": [],
   "source": []
  },
  {
   "cell_type": "code",
   "execution_count": null,
   "metadata": {
    "collapsed": true
   },
   "outputs": [],
   "source": []
  },
  {
   "cell_type": "code",
   "execution_count": null,
   "metadata": {
    "collapsed": true
   },
   "outputs": [],
   "source": []
  },
  {
   "cell_type": "code",
   "execution_count": 39,
   "metadata": {},
   "outputs": [
    {
     "data": {
      "text/plain": [
       "(0.48295454545454547, 0.51207386363636365)"
      ]
     },
     "execution_count": 39,
     "metadata": {},
     "output_type": "execute_result"
    }
   ],
   "source": [
    "ALTER1_alcohol, EGO1_alcohol"
   ]
  },
  {
   "cell_type": "code",
   "execution_count": 40,
   "metadata": {},
   "outputs": [
    {
     "data": {
      "text/plain": [
       "(0.60161290322580641, 0.61693548387096775)"
      ]
     },
     "execution_count": 40,
     "metadata": {},
     "output_type": "execute_result"
    }
   ],
   "source": [
    "ALTER2_alcohol, EGO2_alcohol"
   ]
  },
  {
   "cell_type": "code",
   "execution_count": 41,
   "metadata": {},
   "outputs": [
    {
     "data": {
      "text/plain": [
       "(0.58703271028037385, 0.61740654205607481)"
      ]
     },
     "execution_count": 41,
     "metadata": {},
     "output_type": "execute_result"
    }
   ],
   "source": [
    "ALTER3_alcohol, EGO3_alcohol"
   ]
  },
  {
   "cell_type": "code",
   "execution_count": null,
   "metadata": {
    "collapsed": true
   },
   "outputs": [],
   "source": []
  },
  {
   "cell_type": "code",
   "execution_count": 42,
   "metadata": {},
   "outputs": [
    {
     "data": {
      "text/plain": [
       "(0.140159767610748, 0.16412490922294842)"
      ]
     },
     "execution_count": 42,
     "metadata": {},
     "output_type": "execute_result"
    }
   ],
   "source": [
    "ALTER1_cannabis, EGO1_cannabis"
   ]
  },
  {
   "cell_type": "code",
   "execution_count": 43,
   "metadata": {},
   "outputs": [
    {
     "data": {
      "text/plain": [
       "(0.14619883040935672, 0.16447368421052627)"
      ]
     },
     "execution_count": 43,
     "metadata": {},
     "output_type": "execute_result"
    }
   ],
   "source": [
    "ALTER2_cannabis, EGO2_cannabis"
   ]
  },
  {
   "cell_type": "code",
   "execution_count": 44,
   "metadata": {},
   "outputs": [
    {
     "data": {
      "text/plain": [
       "(0.29132231404958675, 0.33677685950413222)"
      ]
     },
     "execution_count": 44,
     "metadata": {},
     "output_type": "execute_result"
    }
   ],
   "source": [
    "ALTER3_cannabis, EGO3_cannabis"
   ]
  },
  {
   "cell_type": "code",
   "execution_count": null,
   "metadata": {
    "collapsed": true
   },
   "outputs": [],
   "source": []
  },
  {
   "cell_type": "code",
   "execution_count": 45,
   "metadata": {},
   "outputs": [
    {
     "data": {
      "text/plain": [
       "(0.10130718954248366, 0.10021786492374728)"
      ]
     },
     "execution_count": 45,
     "metadata": {},
     "output_type": "execute_result"
    }
   ],
   "source": [
    "ALTER1_tobacco, EGO1_tobacco"
   ]
  },
  {
   "cell_type": "code",
   "execution_count": 46,
   "metadata": {},
   "outputs": [
    {
     "data": {
      "text/plain": [
       "(0.14692982456140352, 0.15021929824561403)"
      ]
     },
     "execution_count": 46,
     "metadata": {},
     "output_type": "execute_result"
    }
   ],
   "source": [
    "ALTER2_tobacco, EGO2_tobacco"
   ]
  },
  {
   "cell_type": "code",
   "execution_count": 47,
   "metadata": {},
   "outputs": [
    {
     "data": {
      "text/plain": [
       "(0.22142857142857142, 0.24795918367346939)"
      ]
     },
     "execution_count": 47,
     "metadata": {},
     "output_type": "execute_result"
    }
   ],
   "source": [
    "ALTER3_tobacco, EGO3_tobacco"
   ]
  },
  {
   "cell_type": "markdown",
   "metadata": {},
   "source": [
    "# ALCOHOL"
   ]
  },
  {
   "cell_type": "code",
   "execution_count": 48,
   "metadata": {},
   "outputs": [
    {
     "data": {
      "image/png": "[encoded data removed]",
      "text/plain": [
       "<matplotlib.figure.Figure at 0x7fa5b6315b38>"
      ]
     },
     "metadata": {},
     "output_type": "display_data"
    }
   ],
   "source": [
    "plt.figure(figsize=(14,7))\n",
    "\n",
    "plt.subplot(3,2,1)\n",
    "plt.hist(alter1_alcohol,bins='auto')\n",
    "plt.plot(ALTER1_alcohol,10,'o',label='real',c='magenta')\n",
    "plt.axvline(ALTER1_alcohol, c='magenta')\n",
    "\n",
    "plt.subplot(3,2,2)\n",
    "plt.hist(ego1_alcohol,bins='auto')\n",
    "plt.plot(EGO1_alcohol,10,'o',label='real',c='magenta')\n",
    "plt.axvline(EGO1_alcohol, c='magenta')\n",
    "\n",
    "plt.subplot(3,2,3)\n",
    "plt.hist(alter2_alcohol,bins='auto')\n",
    "plt.plot(ALTER2_alcohol,10,'o',label='real',c='magenta')\n",
    "plt.axvline(ALTER2_alcohol, c='magenta')\n",
    "\n",
    "plt.subplot(3,2,4)\n",
    "plt.hist(ego2_alcohol,bins='auto')\n",
    "plt.plot(EGO2_alcohol,10,'o',label='real',c='magenta')\n",
    "plt.axvline(EGO2_alcohol, c='magenta')\n",
    "\n",
    "plt.subplot(3,2,5)\n",
    "plt.hist(alter3_alcohol,bins='auto')\n",
    "plt.plot(ALTER3_alcohol,10,'o',label='real',c='magenta')\n",
    "plt.axvline(ALTER3_alcohol, c='magenta')\n",
    "\n",
    "plt.subplot(3,2,6)\n",
    "plt.hist(ego3_alcohol,bins='auto')\n",
    "plt.plot(EGO3_alcohol,10,'o',label='real',c='magenta')\n",
    "plt.axvline(EGO3_alcohol, c='magenta')\n",
    "\n",
    "plt.show()"
   ]
  },
  {
   "cell_type": "markdown",
   "metadata": {},
   "source": [
    "# CANNABIS"
   ]
  },
  {
   "cell_type": "code",
   "execution_count": 49,
   "metadata": {},
   "outputs": [
    {
     "data": {
      "image/png": "[encoded data removed]",
      "text/plain": [
       "<matplotlib.figure.Figure at 0x7fa5b663b438>"
      ]
     },
     "metadata": {},
     "output_type": "display_data"
    }
   ],
   "source": [
    "plt.figure(figsize=(14,7))\n",
    "\n",
    "plt.subplot(3,2,1)\n",
    "plt.hist(alter1_cannabis,bins='auto')\n",
    "plt.plot(ALTER1_cannabis,10,'o',label='real',c='magenta')\n",
    "plt.axvline(ALTER1_cannabis, c='magenta')\n",
    "\n",
    "plt.subplot(3,2,2)\n",
    "plt.hist(ego1_cannabis,bins='auto')\n",
    "plt.plot(EGO1_cannabis,10,'o',label='real',c='magenta')\n",
    "plt.axvline(EGO1_cannabis, c='magenta')\n",
    "\n",
    "\n",
    "plt.subplot(3,2,3)\n",
    "plt.hist(alter2_cannabis,bins='auto')\n",
    "plt.plot(ALTER2_cannabis,10,'o',label='real',c='magenta')\n",
    "plt.axvline(ALTER2_cannabis, c='magenta')\n",
    "\n",
    "plt.subplot(3,2,4)\n",
    "plt.hist(ego2_cannabis,bins='auto')\n",
    "plt.plot(EGO2_cannabis,10,'o',label='real',c='magenta')\n",
    "plt.axvline(EGO2_cannabis, c='magenta')\n",
    "\n",
    "\n",
    "plt.subplot(3,2,5)\n",
    "plt.hist(alter3_cannabis,bins='auto')\n",
    "plt.plot(ALTER3_cannabis,10,'o',label='real',c='magenta')\n",
    "plt.axvline(ALTER3_cannabis, c='magenta')\n",
    "\n",
    "plt.subplot(3,2,6)\n",
    "plt.hist(ego3_cannabis,bins='auto')\n",
    "plt.plot(EGO3_cannabis,10,'o',label='real',c='magenta')\n",
    "plt.axvline(EGO3_cannabis, c='magenta')\n",
    "\n",
    "plt.show()"
   ]
  },
  {
   "cell_type": "markdown",
   "metadata": {},
   "source": [
    "# TOBACCO"
   ]
  },
  {
   "cell_type": "code",
   "execution_count": 50,
   "metadata": {},
   "outputs": [
    {
     "data": {
      "image/png": "[encoded data removed]",
      "text/plain": [
       "<matplotlib.figure.Figure at 0x7fa5b68f0cf8>"
      ]
     },
     "metadata": {},
     "output_type": "display_data"
    }
   ],
   "source": [
    "plt.figure(figsize=(14,7))\n",
    "\n",
    "plt.subplot(3,2,1)\n",
    "plt.hist(alter1_tobacco,bins='auto')\n",
    "plt.plot(ALTER1_tobacco,10,'o',label='real',c='magenta')\n",
    "plt.axvline(ALTER1_tobacco, c='magenta')\n",
    "\n",
    "plt.subplot(3,2,2)\n",
    "plt.hist(ego1_tobacco,bins='auto')\n",
    "plt.plot(EGO1_tobacco,10,'o',label='real',c='magenta')\n",
    "plt.axvline(EGO1_tobacco, c='magenta')\n",
    "\n",
    "plt.subplot(3,2,3)\n",
    "plt.hist(alter2_tobacco,bins='auto')\n",
    "plt.plot(ALTER2_tobacco,10,'o',label='real',c='magenta')\n",
    "plt.axvline(ALTER2_tobacco, c='magenta')\n",
    "\n",
    "plt.subplot(3,2,4)\n",
    "plt.hist(ego2_tobacco,bins='auto')\n",
    "plt.plot(EGO2_tobacco,10,'o',label='real',c='magenta')\n",
    "plt.axvline(EGO2_tobacco, c='magenta')\n",
    "\n",
    "plt.subplot(3,2,5)\n",
    "plt.hist(alter3_tobacco,bins='auto')\n",
    "plt.plot(ALTER3_tobacco,10,'o',label='real',c='magenta')\n",
    "plt.axvline(ALTER3_tobacco, c='magenta')\n",
    "\n",
    "plt.subplot(3,2,6)\n",
    "plt.hist(ego3_tobacco,bins='auto')\n",
    "plt.plot(EGO3_tobacco,10,'o',label='real',c='magenta')\n",
    "plt.axvline(EGO3_tobacco, c='magenta')\n",
    "\n",
    "plt.show()"
   ]
  }
 ],
 "metadata": {
  "kernelspec": {
   "display_name": "Python 3",
   "language": "python",
   "name": "python3"
  },
  "language_info": {
   "codemirror_mode": {
    "name": "ipython",
    "version": 3
   },
   "file_extension": ".py",
   "mimetype": "text/x-python",
   "name": "python",
   "nbconvert_exporter": "python",
   "pygments_lexer": "ipython3",
   "version": "3.6.3"
  }
 },
 "nbformat": 4,
 "nbformat_minor": 2
}
