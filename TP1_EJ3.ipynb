{
 "cells": [
  {
   "cell_type": "code",
   "execution_count": 1,
   "metadata": {
    "collapsed": true
   },
   "outputs": [],
   "source": [
    "#paquetes \n",
    "import numpy as np\n",
    "import networkx as nx\n",
    "import matplotlib.pylab as plt\n",
    "%matplotlib inline\n",
    "import os\n",
    "from random import shuffle"
   ]
  },
  {
   "cell_type": "code",
   "execution_count": 2,
   "metadata": {
    "collapsed": true
   },
   "outputs": [],
   "source": [
    "G = nx.read_gml('as-22july06.gml')"
   ]
  },
  {
   "cell_type": "code",
   "execution_count": 33,
   "metadata": {
    "collapsed": true
   },
   "outputs": [],
   "source": [
    "N=len(G.nodes())"
   ]
  },
  {
   "cell_type": "code",
   "execution_count": 22,
   "metadata": {
    "collapsed": true
   },
   "outputs": [],
   "source": [
    "degree =[degree for node,degree in G.degree()]"
   ]
  },
  {
   "cell_type": "code",
   "execution_count": 42,
   "metadata": {},
   "outputs": [
    {
     "data": {
      "text/plain": [
       "{1,\n",
       " 2,\n",
       " 3,\n",
       " 4,\n",
       " 5,\n",
       " 6,\n",
       " 7,\n",
       " 8,\n",
       " 9,\n",
       " 10,\n",
       " 11,\n",
       " 12,\n",
       " 13,\n",
       " 14,\n",
       " 15,\n",
       " 16,\n",
       " 17,\n",
       " 18,\n",
       " 19,\n",
       " 20,\n",
       " 21,\n",
       " 22,\n",
       " 23,\n",
       " 24,\n",
       " 25,\n",
       " 26,\n",
       " 27,\n",
       " 28,\n",
       " 29,\n",
       " 30,\n",
       " 31,\n",
       " 32,\n",
       " 33,\n",
       " 34,\n",
       " 35,\n",
       " 36,\n",
       " 37,\n",
       " 38,\n",
       " 39,\n",
       " 40,\n",
       " 41,\n",
       " 42,\n",
       " 43,\n",
       " 44,\n",
       " 45,\n",
       " 46,\n",
       " 47,\n",
       " 48,\n",
       " 49,\n",
       " 50,\n",
       " 51,\n",
       " 52,\n",
       " 53,\n",
       " 54,\n",
       " 55,\n",
       " 57,\n",
       " 58,\n",
       " 59,\n",
       " 60,\n",
       " 61,\n",
       " 62,\n",
       " 64,\n",
       " 65,\n",
       " 66,\n",
       " 67,\n",
       " 68,\n",
       " 70,\n",
       " 71,\n",
       " 72,\n",
       " 74,\n",
       " 75,\n",
       " 76,\n",
       " 77,\n",
       " 78,\n",
       " 80,\n",
       " 81,\n",
       " 82,\n",
       " 84,\n",
       " 85,\n",
       " 86,\n",
       " 87,\n",
       " 89,\n",
       " 90,\n",
       " 91,\n",
       " 93,\n",
       " 94,\n",
       " 96,\n",
       " 99,\n",
       " 100,\n",
       " 103,\n",
       " 104,\n",
       " 105,\n",
       " 107,\n",
       " 108,\n",
       " 110,\n",
       " 113,\n",
       " 115,\n",
       " 116,\n",
       " 117,\n",
       " 125,\n",
       " 128,\n",
       " 132,\n",
       " 138,\n",
       " 140,\n",
       " 141,\n",
       " 142,\n",
       " 146,\n",
       " 148,\n",
       " 150,\n",
       " 159,\n",
       " 165,\n",
       " 169,\n",
       " 175,\n",
       " 176,\n",
       " 178,\n",
       " 194,\n",
       " 195,\n",
       " 197,\n",
       " 201,\n",
       " 204,\n",
       " 206,\n",
       " 207,\n",
       " 209,\n",
       " 212,\n",
       " 223,\n",
       " 229,\n",
       " 240,\n",
       " 259,\n",
       " 268,\n",
       " 276,\n",
       " 278,\n",
       " 284,\n",
       " 286,\n",
       " 288,\n",
       " 295,\n",
       " 303,\n",
       " 306,\n",
       " 311,\n",
       " 353,\n",
       " 361,\n",
       " 362,\n",
       " 423,\n",
       " 424,\n",
       " 425,\n",
       " 479,\n",
       " 497,\n",
       " 523,\n",
       " 529,\n",
       " 532,\n",
       " 538,\n",
       " 590,\n",
       " 658,\n",
       " 697,\n",
       " 755,\n",
       " 764,\n",
       " 1210,\n",
       " 1243,\n",
       " 1298,\n",
       " 1713,\n",
       " 2016,\n",
       " 2390}"
      ]
     },
     "execution_count": 42,
     "metadata": {},
     "output_type": "execute_result"
    }
   ],
   "source": [
    "set_degree=set(degree)\n",
    "set_degree"
   ]
  },
  {
   "cell_type": "code",
   "execution_count": 34,
   "metadata": {
    "collapsed": true
   },
   "outputs": [],
   "source": [
    "p=[]\n",
    "\n",
    "for k in set_degree:\n",
    "    idg=[d for d in degree if d==k]\n",
    "    p.append(len(idg)/N)"
   ]
  },
  {
   "cell_type": "code",
   "execution_count": 37,
   "metadata": {},
   "outputs": [
    {
     "data": {
      "text/plain": [
       "1.0000000000000036"
      ]
     },
     "execution_count": 37,
     "metadata": {},
     "output_type": "execute_result"
    }
   ],
   "source": [
    "#chequeo\n",
    "sum(p)"
   ]
  },
  {
   "cell_type": "code",
   "execution_count": 48,
   "metadata": {
    "collapsed": true
   },
   "outputs": [],
   "source": [
    "ls_set_degree=list(set_degree)"
   ]
  },
  {
   "cell_type": "code",
   "execution_count": 50,
   "metadata": {
    "collapsed": true
   },
   "outputs": [],
   "source": [
    "dict_distdg={ls_set_degree[i]:p[i] for i in range(len(p))}"
   ]
  },
  {
   "cell_type": "code",
   "execution_count": 51,
   "metadata": {},
   "outputs": [
    {
     "data": {
      "text/plain": [
       "{1: 0.34141880416321907,\n",
       " 2: 0.4224186735182685,\n",
       " 3: 0.09663371510691111,\n",
       " 4: 0.039498323389800985,\n",
       " 5: 0.02051125723990768,\n",
       " 6: 0.012629011888690502,\n",
       " 7: 0.008709663371510691,\n",
       " 8: 0.007533858816356748,\n",
       " 9: 0.005748377825197056,\n",
       " 10: 0.0049209598049035404,\n",
       " 11: 0.004180638418325132,\n",
       " 12: 0.0028306405957409745,\n",
       " 13: 0.002133867526020119,\n",
       " 14: 0.0024387057440229936,\n",
       " 15: 0.0018725776248747987,\n",
       " 16: 0.0017854809911596917,\n",
       " 17: 0.0014806427731568175,\n",
       " 18: 0.0013064495057266037,\n",
       " 19: 0.0010887079214388364,\n",
       " 20: 0.0013935461394417106,\n",
       " 21: 0.0005225798022906415,\n",
       " 22: 0.0007838697034359622,\n",
       " 23: 0.0010887079214388364,\n",
       " 24: 0.0010016112877237295,\n",
       " 25: 0.0009145146540086226,\n",
       " 26: 0.0006096764360057484,\n",
       " 27: 0.00034838653486042766,\n",
       " 28: 0.0006532247528633019,\n",
       " 29: 0.0006532247528633019,\n",
       " 30: 0.00026128990114532074,\n",
       " 31: 0.0005661281191481949,\n",
       " 32: 0.00047903148543308803,\n",
       " 33: 0.00017419326743021383,\n",
       " 34: 0.0003919348517179811,\n",
       " 35: 0.0003048382180028742,\n",
       " 36: 0.0005225798022906415,\n",
       " 37: 0.00043548316857553457,\n",
       " 38: 0.00034838653486042766,\n",
       " 39: 0.00021774158428776729,\n",
       " 40: 0.0003048382180028742,\n",
       " 41: 0.00021774158428776729,\n",
       " 42: 0.00017419326743021383,\n",
       " 43: 0.00021774158428776729,\n",
       " 44: 0.0003048382180028742,\n",
       " 45: 0.0003048382180028742,\n",
       " 46: 0.00017419326743021383,\n",
       " 47: 0.00013064495057266037,\n",
       " 48: 0.00021774158428776729,\n",
       " 49: 0.00013064495057266037,\n",
       " 50: 0.00017419326743021383,\n",
       " 51: 0.00021774158428776729,\n",
       " 52: 0.00013064495057266037,\n",
       " 53: 8.709663371510691e-05,\n",
       " 54: 4.354831685755346e-05,\n",
       " 55: 8.709663371510691e-05,\n",
       " 57: 0.00017419326743021383,\n",
       " 58: 4.354831685755346e-05,\n",
       " 59: 8.709663371510691e-05,\n",
       " 60: 4.354831685755346e-05,\n",
       " 61: 4.354831685755346e-05,\n",
       " 62: 0.00013064495057266037,\n",
       " 64: 4.354831685755346e-05,\n",
       " 65: 0.00021774158428776729,\n",
       " 66: 8.709663371510691e-05,\n",
       " 67: 4.354831685755346e-05,\n",
       " 68: 0.00013064495057266037,\n",
       " 70: 8.709663371510691e-05,\n",
       " 71: 8.709663371510691e-05,\n",
       " 72: 8.709663371510691e-05,\n",
       " 74: 8.709663371510691e-05,\n",
       " 75: 8.709663371510691e-05,\n",
       " 76: 8.709663371510691e-05,\n",
       " 77: 8.709663371510691e-05,\n",
       " 78: 4.354831685755346e-05,\n",
       " 80: 0.00017419326743021383,\n",
       " 81: 4.354831685755346e-05,\n",
       " 82: 8.709663371510691e-05,\n",
       " 84: 8.709663371510691e-05,\n",
       " 85: 4.354831685755346e-05,\n",
       " 86: 4.354831685755346e-05,\n",
       " 87: 8.709663371510691e-05,\n",
       " 89: 8.709663371510691e-05,\n",
       " 90: 8.709663371510691e-05,\n",
       " 91: 0.00021774158428776729,\n",
       " 93: 4.354831685755346e-05,\n",
       " 94: 4.354831685755346e-05,\n",
       " 96: 0.00013064495057266037,\n",
       " 99: 4.354831685755346e-05,\n",
       " 100: 4.354831685755346e-05,\n",
       " 103: 8.709663371510691e-05,\n",
       " 104: 4.354831685755346e-05,\n",
       " 105: 4.354831685755346e-05,\n",
       " 107: 4.354831685755346e-05,\n",
       " 108: 4.354831685755346e-05,\n",
       " 110: 8.709663371510691e-05,\n",
       " 113: 4.354831685755346e-05,\n",
       " 115: 4.354831685755346e-05,\n",
       " 116: 4.354831685755346e-05,\n",
       " 117: 4.354831685755346e-05,\n",
       " 125: 8.709663371510691e-05,\n",
       " 128: 4.354831685755346e-05,\n",
       " 132: 4.354831685755346e-05,\n",
       " 138: 4.354831685755346e-05,\n",
       " 140: 4.354831685755346e-05,\n",
       " 141: 4.354831685755346e-05,\n",
       " 142: 4.354831685755346e-05,\n",
       " 146: 8.709663371510691e-05,\n",
       " 148: 4.354831685755346e-05,\n",
       " 150: 4.354831685755346e-05,\n",
       " 159: 4.354831685755346e-05,\n",
       " 165: 4.354831685755346e-05,\n",
       " 169: 4.354831685755346e-05,\n",
       " 175: 4.354831685755346e-05,\n",
       " 176: 4.354831685755346e-05,\n",
       " 178: 4.354831685755346e-05,\n",
       " 194: 4.354831685755346e-05,\n",
       " 195: 4.354831685755346e-05,\n",
       " 197: 4.354831685755346e-05,\n",
       " 201: 4.354831685755346e-05,\n",
       " 204: 4.354831685755346e-05,\n",
       " 206: 4.354831685755346e-05,\n",
       " 207: 4.354831685755346e-05,\n",
       " 209: 4.354831685755346e-05,\n",
       " 212: 4.354831685755346e-05,\n",
       " 223: 4.354831685755346e-05,\n",
       " 229: 4.354831685755346e-05,\n",
       " 240: 4.354831685755346e-05,\n",
       " 259: 4.354831685755346e-05,\n",
       " 268: 4.354831685755346e-05,\n",
       " 276: 4.354831685755346e-05,\n",
       " 278: 4.354831685755346e-05,\n",
       " 284: 4.354831685755346e-05,\n",
       " 286: 4.354831685755346e-05,\n",
       " 288: 4.354831685755346e-05,\n",
       " 295: 4.354831685755346e-05,\n",
       " 303: 4.354831685755346e-05,\n",
       " 306: 4.354831685755346e-05,\n",
       " 311: 4.354831685755346e-05,\n",
       " 353: 4.354831685755346e-05,\n",
       " 361: 4.354831685755346e-05,\n",
       " 362: 4.354831685755346e-05,\n",
       " 423: 4.354831685755346e-05,\n",
       " 424: 4.354831685755346e-05,\n",
       " 425: 4.354831685755346e-05,\n",
       " 479: 4.354831685755346e-05,\n",
       " 497: 4.354831685755346e-05,\n",
       " 523: 4.354831685755346e-05,\n",
       " 529: 4.354831685755346e-05,\n",
       " 532: 4.354831685755346e-05,\n",
       " 538: 4.354831685755346e-05,\n",
       " 590: 4.354831685755346e-05,\n",
       " 658: 4.354831685755346e-05,\n",
       " 697: 4.354831685755346e-05,\n",
       " 755: 4.354831685755346e-05,\n",
       " 764: 4.354831685755346e-05,\n",
       " 1210: 4.354831685755346e-05,\n",
       " 1243: 4.354831685755346e-05,\n",
       " 1298: 4.354831685755346e-05,\n",
       " 1713: 4.354831685755346e-05,\n",
       " 2016: 4.354831685755346e-05,\n",
       " 2390: 4.354831685755346e-05}"
      ]
     },
     "execution_count": 51,
     "metadata": {},
     "output_type": "execute_result"
    }
   ],
   "source": [
    "dict_distdg"
   ]
  },
  {
   "cell_type": "code",
   "execution_count": 52,
   "metadata": {},
   "outputs": [
    {
     "data": {
      "text/plain": [
       "[<matplotlib.lines.Line2D at 0x7fe4bdcba438>]"
      ]
     },
     "execution_count": 52,
     "metadata": {},
     "output_type": "execute_result"
    },
    {
     "data": {
      "image/png": "[encoded data removed]",
      "text/plain": [
       "<matplotlib.figure.Figure at 0x7fe4bdd01438>"
      ]
     },
     "metadata": {},
     "output_type": "display_data"
    }
   ],
   "source": [
    "plt.plot(ls_set_degree,p)"
   ]
  },
  {
   "cell_type": "code",
   "execution_count": 63,
   "metadata": {},
   "outputs": [
    {
     "data": {
      "text/plain": [
       "[<matplotlib.lines.Line2D at 0x7fe4be1826a0>]"
      ]
     },
     "execution_count": 63,
     "metadata": {},
     "output_type": "execute_result"
    },
    {
     "data": {
      "image/png": "[encoded data removed]",
      "text/plain": [
       "<matplotlib.figure.Figure at 0x7fe4be140c50>"
      ]
     },
     "metadata": {},
     "output_type": "display_data"
    }
   ],
   "source": [
    "plt.loglog(ls_set_degree,p,'.')"
   ]
  },
  {
   "cell_type": "code",
   "execution_count": 83,
   "metadata": {},
   "outputs": [
    {
     "name": "stdout",
     "output_type": "stream",
     "text": [
      "9\n"
     ]
    }
   ],
   "source": [
    "import math\n",
    "imax=int(math.log(ls_set_degree[-1],2))+1\n",
    "print(imax)"
   ]
  },
  {
   "cell_type": "code",
   "execution_count": 94,
   "metadata": {
    "collapsed": true
   },
   "outputs": [],
   "source": [
    "serie=[]\n",
    "serie.append(0)\n",
    "for kk in range(imax):\n",
    "    serie.append(serie[kk]+2**kk)"
   ]
  },
  {
   "cell_type": "code",
   "execution_count": 95,
   "metadata": {},
   "outputs": [
    {
     "data": {
      "text/plain": [
       "[0, 1, 3, 7, 15, 31, 63, 127, 255, 511]"
      ]
     },
     "execution_count": 95,
     "metadata": {},
     "output_type": "execute_result"
    }
   ],
   "source": [
    "serie"
   ]
  },
  {
   "cell_type": "code",
   "execution_count": null,
   "metadata": {
    "collapsed": true
   },
   "outputs": [],
   "source": []
  },
  {
   "cell_type": "code",
   "execution_count": 108,
   "metadata": {
    "collapsed": true
   },
   "outputs": [],
   "source": [
    "q=[]\n",
    "for i in range(len(serie)):\n",
    "    jdg=[d for d in degree if 0<d-serie[i]<=2**i]\n",
    "    q.append(len(jdg)/N)"
   ]
  },
  {
   "cell_type": "code",
   "execution_count": 109,
   "metadata": {},
   "outputs": [
    {
     "data": {
      "text/plain": [
       "[0.34141880416321907,\n",
       " 0.5190523886251797,\n",
       " 0.08134825588990985,\n",
       " 0.03165962635544136,\n",
       " 0.014458041196707747,\n",
       " 0.006314505944345251,\n",
       " 0.003048382180028742,\n",
       " 0.0012193528720114968,\n",
       " 0.0008274180202935157,\n",
       " 0.0003919348517179811]"
      ]
     },
     "execution_count": 109,
     "metadata": {},
     "output_type": "execute_result"
    }
   ],
   "source": [
    "q"
   ]
  },
  {
   "cell_type": "code",
   "execution_count": 110,
   "metadata": {},
   "outputs": [
    {
     "data": {
      "text/plain": [
       "0.9997387100988548"
      ]
     },
     "execution_count": 110,
     "metadata": {},
     "output_type": "execute_result"
    }
   ],
   "source": [
    "sum(q)"
   ]
  },
  {
   "cell_type": "code",
   "execution_count": 112,
   "metadata": {},
   "outputs": [
    {
     "data": {
      "text/plain": [
       "[<matplotlib.lines.Line2D at 0x7fe4be2794e0>]"
      ]
     },
     "execution_count": 112,
     "metadata": {},
     "output_type": "execute_result"
    },
    {
     "data": {
      "image/png": "[encoded data removed]",
      "text/plain": [
       "<matplotlib.figure.Figure at 0x7fe4be27e278>"
      ]
     },
     "metadata": {},
     "output_type": "display_data"
    }
   ],
   "source": [
    "plt.loglog(serie,q,'.')"
   ]
  },
  {
   "cell_type": "code",
   "execution_count": null,
   "metadata": {
    "collapsed": true
   },
   "outputs": [],
   "source": []
  }
 ],
 "metadata": {
  "kernelspec": {
   "display_name": "Python 3",
   "language": "python",
   "name": "python3"
  },
  "language_info": {
   "codemirror_mode": {
    "name": "ipython",
    "version": 3
   },
   "file_extension": ".py",
   "mimetype": "text/x-python",
   "name": "python",
   "nbconvert_exporter": "python",
   "pygments_lexer": "ipython3",
   "version": "3.6.3"
  }
 },
 "nbformat": 4,
 "nbformat_minor": 2
}
