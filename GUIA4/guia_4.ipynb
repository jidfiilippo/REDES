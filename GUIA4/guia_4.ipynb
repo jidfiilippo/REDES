{
 "cells": [
  {
   "cell_type": "markdown",
   "metadata": {},
   "source": [
    "## Importando los datos"
   ]
  },
  {
   "cell_type": "code",
   "execution_count": 1,
   "metadata": {
    "collapsed": true
   },
   "outputs": [],
   "source": [
    "''' Definimos la funcion para leer el archivo geneX '''\n",
    "import re\n",
    "def ldata(archive):\n",
    "    f=open(archive)\n",
    "    data=[]\n",
    "    for line in f:\n",
    "        line = re.sub('[\"\\n]', '', line)\n",
    "        col=line.split(',')\n",
    "        data.append(col)\n",
    "    return data"
   ]
  },
  {
   "cell_type": "markdown",
   "metadata": {},
   "source": [
    "Al cargar los datos, la variable geneX tendra en su prmer fila (geneX[0]) los datos de los diferenctes momentos a los cuales se tomo la muestra. Luego en la filas subsiguientes (geneX[n]), el primer elemento corresponde al nombre del gen y los demas a los valores de expresion de dicho gen a cada tiempo."
   ]
  },
  {
   "cell_type": "code",
   "execution_count": 2,
   "metadata": {
    "collapsed": true
   },
   "outputs": [],
   "source": [
    "geneX=ldata('geneX.csv')"
   ]
  },
  {
   "cell_type": "code",
   "execution_count": 3,
   "metadata": {},
   "outputs": [
    {
     "data": {
      "text/plain": [
       "['',\n",
       " 'at_12_1_A',\n",
       " 'at_12_2_A',\n",
       " 'at_12_3_A',\n",
       " 'at_12_4_A',\n",
       " 'at_12_5_A',\n",
       " 'at_12_6_A',\n",
       " 'at_12_7_A',\n",
       " 'at_12_8_A',\n",
       " 'at_12_9_A',\n",
       " 'at_12_10_A',\n",
       " 'at_12_11_A',\n",
       " 'at_12_12_A']"
      ]
     },
     "execution_count": 3,
     "metadata": {},
     "output_type": "execute_result"
    }
   ],
   "source": [
    "geneX[0]"
   ]
  },
  {
   "cell_type": "code",
   "execution_count": 4,
   "metadata": {},
   "outputs": [
    {
     "data": {
      "text/plain": [
       "['AT1G01060',\n",
       " '10.3176866362518',\n",
       " '7.65600446413793',\n",
       " '3.39993568220103',\n",
       " '1.30679489632012',\n",
       " '5.35534800540555',\n",
       " '9.00846891441324',\n",
       " '9.88520407950861',\n",
       " '7.18594496152195',\n",
       " '3.05035783179963',\n",
       " '1.70774513716189',\n",
       " '5.18535879993122',\n",
       " '9.02459455955993']"
      ]
     },
     "execution_count": 4,
     "metadata": {},
     "output_type": "execute_result"
    }
   ],
   "source": [
    "geneX[1]"
   ]
  },
  {
   "cell_type": "markdown",
   "metadata": {},
   "source": [
    "Asignamos los nombres a una lista y los valores a una matriz de numpy, donde las filas corresponden a cada gen y las columnas a cada tiempo."
   ]
  },
  {
   "cell_type": "code",
   "execution_count": 5,
   "metadata": {
    "collapsed": true
   },
   "outputs": [],
   "source": [
    "import numpy as np\n",
    "valores_genes=np.zeros((500, 12))\n",
    "nombre_genes=[]\n",
    "for j in range(1,501):\n",
    "    nombre_genes.append(geneX[j][0])\n",
    "    for i in range(1,13):\n",
    "        valores_genes[j-1,i-1]=float(geneX[j][i])"
   ]
  },
  {
   "cell_type": "code",
   "execution_count": 6,
   "metadata": {},
   "outputs": [
    {
     "data": {
      "text/plain": [
       "'AT1G01060'"
      ]
     },
     "execution_count": 6,
     "metadata": {},
     "output_type": "execute_result"
    }
   ],
   "source": [
    "nombre_genes[0]"
   ]
  },
  {
   "cell_type": "code",
   "execution_count": 7,
   "metadata": {},
   "outputs": [
    {
     "data": {
      "text/plain": [
       "array([ 10.31768664,   7.65600446,   3.39993568,   1.3067949 ,\n",
       "         5.35534801,   9.00846891,   9.88520408,   7.18594496,\n",
       "         3.05035783,   1.70774514,   5.1853588 ,   9.02459456])"
      ]
     },
     "execution_count": 7,
     "metadata": {},
     "output_type": "execute_result"
    }
   ],
   "source": [
    "valores_genes[0]"
   ]
  },
  {
   "cell_type": "markdown",
   "metadata": {},
   "source": [
    "# EJERCICIO 1"
   ]
  },
  {
   "cell_type": "markdown",
   "metadata": {},
   "source": [
    "a)MATRIZ DE CORRELACION"
   ]
  },
  {
   "cell_type": "code",
   "execution_count": 13,
   "metadata": {},
   "outputs": [],
   "source": [
    "S=(np.corrcoef(valores_genes)+1)/2"
   ]
  },
  {
   "cell_type": "markdown",
   "metadata": {},
   "source": [
    "b)MATRIZ DE ADYACENCIA BINARIZADA"
   ]
  },
  {
   "cell_type": "code",
   "execution_count": 36,
   "metadata": {},
   "outputs": [],
   "source": [
    "A=np.zeros(np.shape(S))\n",
    "A[S>0.95]=1\n",
    "\n",
    "# A = 1*(S>0.95)"
   ]
  },
  {
   "cell_type": "markdown",
   "metadata": {},
   "source": [
    "c) ..."
   ]
  },
  {
   "cell_type": "code",
   "execution_count": 45,
   "metadata": {
    "collapsed": true
   },
   "outputs": [],
   "source": [
    "import igraph as igraph\n",
    "import networkx as nx\n",
    "import time\n",
    "\n",
    "def calculate_infomap(np_adj_list, method=\"infomap\"):\n",
    "    g = igraph.Graph.Weighted_Adjacency(np_adj_list.tolist(),mode=igraph.ADJ_UPPER)\n",
    "   \n",
    "    t0=time.time()\n",
    "    if method==\"infomap\":\n",
    "        labels = g.community_infomap(edge_weights=\"weight\").membership\n",
    "#    labels = g.community_label_propagation(weights=\"weight\").membership\n",
    "    if method==\"fastgreedy\":\n",
    "        labels = g.community_fastgreedy(weights=\"weight\").as_clustering().membership\n",
    "          \n",
    "    print(\"Duración: {}s\".format(time.time()-t0))\n",
    "           \n",
    "    return labels"
   ]
  },
  {
   "cell_type": "code",
   "execution_count": 127,
   "metadata": {},
   "outputs": [
    {
     "name": "stdout",
     "output_type": "stream",
     "text": [
      "Duración: 1.3493199348449707s\n",
      "Duración: 0.012918233871459961s\n"
     ]
    }
   ],
   "source": [
    "labels_infomap=calculate_infomap(A,method='infomap')\n",
    "labels_fastg=calculate_infomap(A,method='fastgreedy')\n",
    "4\n",
    "labels=[labels_infomap,labels_fastg]"
   ]
  },
  {
   "cell_type": "code",
   "execution_count": 138,
   "metadata": {},
   "outputs": [
    {
     "data": {
      "text/plain": [
       "[1,\n",
       " 10,\n",
       " 0,\n",
       " 1,\n",
       " 2,\n",
       " 0,\n",
       " 7,\n",
       " 3,\n",
       " 14,\n",
       " 2,\n",
       " 1,\n",
       " 3,\n",
       " 0,\n",
       " 4,\n",
       " 0,\n",
       " 3,\n",
       " 8,\n",
       " 21,\n",
       " 6,\n",
       " 5,\n",
       " 7,\n",
       " 8,\n",
       " 1,\n",
       " 12,\n",
       " 2,\n",
       " 3,\n",
       " 0,\n",
       " 9,\n",
       " 1,\n",
       " 2,\n",
       " 4,\n",
       " 3,\n",
       " 5,\n",
       " 2,\n",
       " 5,\n",
       " 11,\n",
       " 1,\n",
       " 0,\n",
       " 0,\n",
       " 4,\n",
       " 4,\n",
       " 3,\n",
       " 0,\n",
       " 0,\n",
       " 1,\n",
       " 2,\n",
       " 2,\n",
       " 13,\n",
       " 0,\n",
       " 0,\n",
       " 8,\n",
       " 2,\n",
       " 54,\n",
       " 4,\n",
       " 1,\n",
       " 26,\n",
       " 0,\n",
       " 5,\n",
       " 0,\n",
       " 4,\n",
       " 0,\n",
       " 7,\n",
       " 3,\n",
       " 3,\n",
       " 1,\n",
       " 0,\n",
       " 0,\n",
       " 24,\n",
       " 0,\n",
       " 2,\n",
       " 0,\n",
       " 2,\n",
       " 2,\n",
       " 4,\n",
       " 0,\n",
       " 3,\n",
       " 4,\n",
       " 4,\n",
       " 22,\n",
       " 0,\n",
       " 0,\n",
       " 0,\n",
       " 1,\n",
       " 1,\n",
       " 1,\n",
       " 0,\n",
       " 1,\n",
       " 2,\n",
       " 1,\n",
       " 3,\n",
       " 2,\n",
       " 1,\n",
       " 17,\n",
       " 1,\n",
       " 0,\n",
       " 10,\n",
       " 27,\n",
       " 0,\n",
       " 0,\n",
       " 7,\n",
       " 1,\n",
       " 5,\n",
       " 0,\n",
       " 4,\n",
       " 22,\n",
       " 5,\n",
       " 28,\n",
       " 2,\n",
       " 8,\n",
       " 7,\n",
       " 0,\n",
       " 1,\n",
       " 8,\n",
       " 0,\n",
       " 0,\n",
       " 0,\n",
       " 5,\n",
       " 7,\n",
       " 3,\n",
       " 1,\n",
       " 1,\n",
       " 4,\n",
       " 8,\n",
       " 17,\n",
       " 7,\n",
       " 29,\n",
       " 2,\n",
       " 0,\n",
       " 30,\n",
       " 7,\n",
       " 3,\n",
       " 3,\n",
       " 2,\n",
       " 18,\n",
       " 16,\n",
       " 1,\n",
       " 5,\n",
       " 31,\n",
       " 0,\n",
       " 7,\n",
       " 0,\n",
       " 0,\n",
       " 2,\n",
       " 2,\n",
       " 0,\n",
       " 1,\n",
       " 19,\n",
       " 2,\n",
       " 4,\n",
       " 0,\n",
       " 5,\n",
       " 21,\n",
       " 25,\n",
       " 20,\n",
       " 1,\n",
       " 1,\n",
       " 23,\n",
       " 32,\n",
       " 2,\n",
       " 4,\n",
       " 10,\n",
       " 0,\n",
       " 5,\n",
       " 8,\n",
       " 10,\n",
       " 2,\n",
       " 0,\n",
       " 1,\n",
       " 5,\n",
       " 1,\n",
       " 3,\n",
       " 4,\n",
       " 33,\n",
       " 10,\n",
       " 2,\n",
       " 2,\n",
       " 0,\n",
       " 24,\n",
       " 34,\n",
       " 0,\n",
       " 17,\n",
       " 1,\n",
       " 5,\n",
       " 13,\n",
       " 2,\n",
       " 11,\n",
       " 35,\n",
       " 1,\n",
       " 3,\n",
       " 2,\n",
       " 3,\n",
       " 4,\n",
       " 9,\n",
       " 1,\n",
       " 0,\n",
       " 1,\n",
       " 0,\n",
       " 8,\n",
       " 1,\n",
       " 6,\n",
       " 2,\n",
       " 11,\n",
       " 18,\n",
       " 0,\n",
       " 8,\n",
       " 5,\n",
       " 0,\n",
       " 5,\n",
       " 3,\n",
       " 2,\n",
       " 2,\n",
       " 5,\n",
       " 0,\n",
       " 11,\n",
       " 36,\n",
       " 2,\n",
       " 25,\n",
       " 37,\n",
       " 2,\n",
       " 8,\n",
       " 1,\n",
       " 7,\n",
       " 6,\n",
       " 9,\n",
       " 9,\n",
       " 9,\n",
       " 9,\n",
       " 18,\n",
       " 1,\n",
       " 1,\n",
       " 6,\n",
       " 8,\n",
       " 9,\n",
       " 5,\n",
       " 1,\n",
       " 2,\n",
       " 1,\n",
       " 2,\n",
       " 1,\n",
       " 4,\n",
       " 16,\n",
       " 1,\n",
       " 38,\n",
       " 11,\n",
       " 2,\n",
       " 4,\n",
       " 2,\n",
       " 2,\n",
       " 7,\n",
       " 8,\n",
       " 5,\n",
       " 1,\n",
       " 1,\n",
       " 3,\n",
       " 39,\n",
       " 5,\n",
       " 5,\n",
       " 5,\n",
       " 19,\n",
       " 2,\n",
       " 3,\n",
       " 2,\n",
       " 0,\n",
       " 8,\n",
       " 0,\n",
       " 2,\n",
       " 0,\n",
       " 1,\n",
       " 3,\n",
       " 6,\n",
       " 4,\n",
       " 1,\n",
       " 0,\n",
       " 4,\n",
       " 2,\n",
       " 5,\n",
       " 8,\n",
       " 2,\n",
       " 3,\n",
       " 2,\n",
       " 2,\n",
       " 7,\n",
       " 3,\n",
       " 0,\n",
       " 4,\n",
       " 2,\n",
       " 2,\n",
       " 3,\n",
       " 2,\n",
       " 2,\n",
       " 6,\n",
       " 1,\n",
       " 7,\n",
       " 5,\n",
       " 1,\n",
       " 0,\n",
       " 7,\n",
       " 22,\n",
       " 11,\n",
       " 0,\n",
       " 3,\n",
       " 2,\n",
       " 0,\n",
       " 40,\n",
       " 41,\n",
       " 0,\n",
       " 2,\n",
       " 8,\n",
       " 1,\n",
       " 6,\n",
       " 0,\n",
       " 11,\n",
       " 1,\n",
       " 9,\n",
       " 2,\n",
       " 0,\n",
       " 0,\n",
       " 2,\n",
       " 8,\n",
       " 13,\n",
       " 23,\n",
       " 20,\n",
       " 0,\n",
       " 2,\n",
       " 1,\n",
       " 15,\n",
       " 0,\n",
       " 0,\n",
       " 7,\n",
       " 14,\n",
       " 0,\n",
       " 2,\n",
       " 2,\n",
       " 0,\n",
       " 1,\n",
       " 13,\n",
       " 1,\n",
       " 3,\n",
       " 1,\n",
       " 2,\n",
       " 11,\n",
       " 2,\n",
       " 0,\n",
       " 2,\n",
       " 2,\n",
       " 10,\n",
       " 5,\n",
       " 0,\n",
       " 3,\n",
       " 5,\n",
       " 13,\n",
       " 12,\n",
       " 15,\n",
       " 1,\n",
       " 0,\n",
       " 5,\n",
       " 3,\n",
       " 0,\n",
       " 9,\n",
       " 4,\n",
       " 2,\n",
       " 42,\n",
       " 0,\n",
       " 2,\n",
       " 1,\n",
       " 2,\n",
       " 21,\n",
       " 2,\n",
       " 2,\n",
       " 7,\n",
       " 15,\n",
       " 6,\n",
       " 4,\n",
       " 0,\n",
       " 43,\n",
       " 1,\n",
       " 0,\n",
       " 0,\n",
       " 7,\n",
       " 8,\n",
       " 17,\n",
       " 8,\n",
       " 1,\n",
       " 16,\n",
       " 1,\n",
       " 44,\n",
       " 6,\n",
       " 0,\n",
       " 1,\n",
       " 3,\n",
       " 45,\n",
       " 3,\n",
       " 0,\n",
       " 3,\n",
       " 3,\n",
       " 1,\n",
       " 7,\n",
       " 1,\n",
       " 0,\n",
       " 12,\n",
       " 6,\n",
       " 1,\n",
       " 1,\n",
       " 4,\n",
       " 4,\n",
       " 5,\n",
       " 1,\n",
       " 2,\n",
       " 10,\n",
       " 0,\n",
       " 7,\n",
       " 12,\n",
       " 15,\n",
       " 1,\n",
       " 8,\n",
       " 3,\n",
       " 46,\n",
       " 6,\n",
       " 1,\n",
       " 6,\n",
       " 5,\n",
       " 5,\n",
       " 1,\n",
       " 47,\n",
       " 4,\n",
       " 21,\n",
       " 3,\n",
       " 0,\n",
       " 14,\n",
       " 0,\n",
       " 1,\n",
       " 7,\n",
       " 0,\n",
       " 9,\n",
       " 0,\n",
       " 0,\n",
       " 7,\n",
       " 0,\n",
       " 3,\n",
       " 48,\n",
       " 6,\n",
       " 0,\n",
       " 2,\n",
       " 15,\n",
       " 12,\n",
       " 7,\n",
       " 6,\n",
       " 49,\n",
       " 10,\n",
       " 7,\n",
       " 1,\n",
       " 2,\n",
       " 2,\n",
       " 0,\n",
       " 0,\n",
       " 3,\n",
       " 2,\n",
       " 50,\n",
       " 51,\n",
       " 0,\n",
       " 0,\n",
       " 1,\n",
       " 1,\n",
       " 2,\n",
       " 1,\n",
       " 14,\n",
       " 0,\n",
       " 18,\n",
       " 4,\n",
       " 1,\n",
       " 2,\n",
       " 3,\n",
       " 0,\n",
       " 4,\n",
       " 4,\n",
       " 1,\n",
       " 4,\n",
       " 6,\n",
       " 6,\n",
       " 52,\n",
       " 3,\n",
       " 0,\n",
       " 3,\n",
       " 10,\n",
       " 4,\n",
       " 5,\n",
       " 6,\n",
       " 0,\n",
       " 4,\n",
       " 53,\n",
       " 10,\n",
       " 2,\n",
       " 2,\n",
       " 8,\n",
       " 7,\n",
       " 0,\n",
       " 2,\n",
       " 4,\n",
       " 3,\n",
       " 4]"
      ]
     },
     "execution_count": 138,
     "metadata": {},
     "output_type": "execute_result"
    }
   ],
   "source": [
    "labels_infomap"
   ]
  },
  {
   "cell_type": "markdown",
   "metadata": {},
   "source": [
    "Modularity"
   ]
  },
  {
   "cell_type": "code",
   "execution_count": 48,
   "metadata": {
    "collapsed": true
   },
   "outputs": [],
   "source": [
    "from __future__ import division\n",
    "\n",
    "from functools import wraps\n",
    "from itertools import product\n",
    "\n",
    "import networkx as nx\n",
    "from networkx import NetworkXError\n",
    "from networkx.utils import not_implemented_for\n",
    "from networkx.algorithms.community.community_utils import is_partition\n",
    "\n",
    "__all__ = ['coverage', 'modularity', 'performance']\n",
    "\n",
    "class NotAPartition(NetworkXError):\n",
    "    \"\"\"Raised if a given collection is not a partition.\n",
    "\n",
    "    \"\"\"\n",
    "\n",
    "    def __init__(self, G, collection):\n",
    "        msg = '{} is not a valid partition of the graph {}'\n",
    "        msg = msg.format(G, collection)\n",
    "        super(NotAPartition, self).__init__(msg)\n",
    "\n",
    "\n",
    "def modularity(G, communities, weight='weight'):\n",
    "    \n",
    "    if not is_partition(G, communities):\n",
    "        raise NotAPartition(G, communities)\n",
    "\n",
    "    multigraph = G.is_multigraph()\n",
    "    directed = G.is_directed()\n",
    "    m = G.size(weight=weight)\n",
    "    if directed:\n",
    "        out_degree = dict(G.out_degree(weight=weight))\n",
    "        in_degree = dict(G.in_degree(weight=weight))\n",
    "        norm = 1 / m\n",
    "    else:\n",
    "        out_degree = dict(G.degree(weight=weight))\n",
    "        in_degree = out_degree\n",
    "        norm = 1 / (2 * m)\n",
    "\n",
    "    def val(u, v):\n",
    "        try:\n",
    "            if multigraph:\n",
    "                w = sum(d.get(weight, 1) for k, d in G[u][v].items())\n",
    "            else:\n",
    "                w = G[u][v].get(weight, 1)\n",
    "        except KeyError:\n",
    "            w = 0\n",
    "        # Double count self-loops if the graph is undirected.\n",
    "        if u == v and not directed:\n",
    "            w *= 2\n",
    "        return w - in_degree[u] * out_degree[v] * norm\n",
    "\n",
    "    Q = sum(val(u, v) for c in communities for u, v in product(c, repeat=2))\n",
    "    return Q * norm"
   ]
  },
  {
   "cell_type": "markdown",
   "metadata": {},
   "source": [
    "Necesito el grafo y las comunidades:"
   ]
  },
  {
   "cell_type": "code",
   "execution_count": 54,
   "metadata": {
    "collapsed": true
   },
   "outputs": [],
   "source": [
    "G=nx.from_numpy_matrix(A)\n",
    "H=nx.from_numpy_matrix(A)\n"
   ]
  },
  {
   "cell_type": "code",
   "execution_count": 66,
   "metadata": {},
   "outputs": [
    {
     "data": {
      "image/png": "[encoded data removed]",
      "text/plain": [
       "<matplotlib.figure.Figure at 0x7ffbaa810c50>"
      ]
     },
     "metadata": {},
     "output_type": "display_data"
    }
   ],
   "source": [
    "import matplotlib.pylab as plt\n",
    "plt.figure(figsize=(15,10))\n",
    "nx.draw_spring(G)\n",
    "plt.show()"
   ]
  },
  {
   "cell_type": "markdown",
   "metadata": {},
   "source": [
    "Asignamos los nombres a los nodos"
   ]
  },
  {
   "cell_type": "code",
   "execution_count": null,
   "metadata": {
    "collapsed": true
   },
   "outputs": [],
   "source": [
    "dict_nombres=dict(zip(list(G.nodes()),nombre_genes))\n",
    "nx.relabel_nodes(G,dict_nombres,copy=False)\n",
    "\n",
    "dict_comun_infomap=dict(zip(list(G.nodes()),labels_infomap))\n",
    "dict_comun_fastg=dict(zip(list(G.nodes()),labels_fastg))\n",
    "\n"
   ]
  },
  {
   "cell_type": "code",
   "execution_count": 123,
   "metadata": {
    "collapsed": true
   },
   "outputs": [],
   "source": [
    "comunidades=[dict_comun_infomap,dict_comun_fastg]"
   ]
  },
  {
   "cell_type": "code",
   "execution_count": 124,
   "metadata": {
    "collapsed": true
   },
   "outputs": [],
   "source": [
    "def AssingCommunities(G,comunidades): #comunidades=lista de diccionarios de comunidades\n",
    "    for n in G.nodes():\n",
    "        G.nodes[n]['comunidad_info']=comunidades[0][n]\n",
    "        G.nodes[n]['comunidad_fast']=comunidades[1][n]\n",
    "        "
   ]
  },
  {
   "cell_type": "code",
   "execution_count": 126,
   "metadata": {},
   "outputs": [],
   "source": [
    "AssingCommunities(G,comunidades)"
   ]
  },
  {
   "cell_type": "code",
   "execution_count": 129,
   "metadata": {},
   "outputs": [],
   "source": [
    "name_coms=['comunidad_info','comunidad_fast']\n",
    "\n",
    "def Communities(G,labels): #laabels=lista de labels de comunidades\n",
    "    Communities=[]\n",
    "    for k in range(len(labels)):\n",
    "        nodos_por_comunidad=[]\n",
    "        for i in range(len(set(labels[k]))):\n",
    "            nodos=[]\n",
    "            for j in range(len(list(G.nodes()))):\n",
    "                if i==list(nx.get_node_attributes(G,name_coms[k]).items())[j][1]:\n",
    "                    nodos.append(list(G.nodes())[j])\n",
    "            nodos_por_comunidad.append(nodos)\n",
    "        Communities.append(nodos_por_comunidad)\n",
    "    return(Communities)"
   ]
  },
  {
   "cell_type": "code",
   "execution_count": 121,
   "metadata": {},
   "outputs": [
    {
     "data": {
      "text/plain": [
       "0.7028054453895043"
      ]
     },
     "execution_count": 121,
     "metadata": {},
     "output_type": "execute_result"
    }
   ],
   "source": [
    "modularity(G,nodos_por_comunidad)"
   ]
  },
  {
   "cell_type": "code",
   "execution_count": 130,
   "metadata": {
    "collapsed": true
   },
   "outputs": [],
   "source": [
    "Communities=Communities(G,labels)"
   ]
  },
  {
   "cell_type": "code",
   "execution_count": 133,
   "metadata": {},
   "outputs": [],
   "source": [
    "mod_infomap=modularity(G,Communities[0])\n",
    "mod_fastg=modularity(G,Communities[1])"
   ]
  },
  {
   "cell_type": "markdown",
   "metadata": {},
   "source": [
    "GRAFICO POR COMUNIDADES"
   ]
  },
  {
   "cell_type": "code",
   "execution_count": 148,
   "metadata": {},
   "outputs": [
    {
     "data": {
      "image/png": "[encoded data removed]",
      "text/plain": [
       "<matplotlib.figure.Figure at 0x7ffbaa73bcf8>"
      ]
     },
     "metadata": {},
     "output_type": "display_data"
    },
    {
     "data": {
      "text/plain": [
       "<matplotlib.figure.Figure at 0x7ffbaa62b390>"
      ]
     },
     "metadata": {},
     "output_type": "display_data"
    },
    {
     "data": {
      "image/png": "[encoded data removed]",
      "text/plain": [
       "<matplotlib.figure.Figure at 0x7ffbaa5db6a0>"
      ]
     },
     "metadata": {},
     "output_type": "display_data"
    }
   ],
   "source": [
    "plt.figure(figsize=(15,10))\n",
    "pos = nx.spring_layout(G) \n",
    "        \n",
    "nx.draw_networkx_nodes(G,pos,\n",
    "                       cmap=plt.get_cmap('plasma'),\n",
    "                       node_color=list(dict(nx.get_node_attributes(G,name_coms[0])).values()),\n",
    "                       node_size=100,\n",
    "                       alpha=0.8)\n",
    "\n",
    "#width = 1+10*np.array(list(networkx.get_edge_attributes(g,'weight').values())).ravel()\n",
    "#edge_color = np.random.uniform(size=len(width))\n",
    "\n",
    "nx.draw_networkx_edges(G,pos)#\"grey\")\n",
    "#plt.title(\"A bizarre graph\")\n",
    "plt.axis(\"off\")\n",
    "plt.show()"
   ]
  },
  {
   "cell_type": "code",
   "execution_count": 139,
   "metadata": {},
   "outputs": [
    {
     "data": {
      "image/png": "[encoded data removed]",
      "text/plain": [
       "<matplotlib.figure.Figure at 0x7ffbaa29bf98>"
      ]
     },
     "metadata": {},
     "output_type": "display_data"
    }
   ],
   "source": [
    "plt.figure(figsize=(15,10))\n",
    "pos = nx.spring_layout(G) \n",
    "        \n",
    "nx.draw_networkx_nodes(G,pos,\n",
    "                       cmap=plt.get_cmap('plasma'),\n",
    "                       node_color=list(dict(nx.get_node_attributes(G,name_coms[1])).values()),\n",
    "                       node_size=100,\n",
    "                       alpha=0.8)\n",
    "\n",
    "#width = 1+10*np.array(list(networkx.get_edge_attributes(g,'weight').values())).ravel()\n",
    "#edge_color = np.random.uniform(size=len(width))\n",
    "\n",
    "#networkx.draw_networkx_edges(g,pos,width=width,alpha=0.8,edge_color=edge_color, cmap=plt.get_cmap(\"Greens\"))#\"grey\")\n",
    "#plt.title(\"A bizarre graph\")\n",
    "plt.axis(\"off\")\n",
    "plt.show()"
   ]
  },
  {
   "cell_type": "code",
   "execution_count": null,
   "metadata": {
    "collapsed": true
   },
   "outputs": [],
   "source": []
  },
  {
   "cell_type": "markdown",
   "metadata": {},
   "source": [
    "EJERCICIO 2"
   ]
  },
  {
   "cell_type": "markdown",
   "metadata": {},
   "source": [
    "Algunos paquetes que les pueden serivr para hacer el dendograma: https://docs.scipy.org/doc/scipy-0.14.0/reference/generated/scipy.cluster.hierarchy.dendrogram.html"
   ]
  },
  {
   "cell_type": "code",
   "execution_count": null,
   "metadata": {
    "collapsed": true
   },
   "outputs": [],
   "source": [
    "# For dendogram\n",
    "from scipy.cluster.hierarchy import dendrogram\n",
    "from scipy.cluster.hierarchy import linkage\n",
    "from scipy.cluster.hierarchy import cophenet\n",
    "from scipy.spatial.distance import pdist"
   ]
  },
  {
   "cell_type": "code",
   "execution_count": null,
   "metadata": {
    "collapsed": true
   },
   "outputs": [],
   "source": []
  }
 ],
 "metadata": {
  "kernelspec": {
   "display_name": "Python 3",
   "language": "python",
   "name": "python3"
  },
  "language_info": {
   "codemirror_mode": {
    "name": "ipython",
    "version": 3
   },
   "file_extension": ".py",
   "mimetype": "text/x-python",
   "name": "python",
   "nbconvert_exporter": "python",
   "pygments_lexer": "ipython3",
   "version": "3.6.3"
  }
 },
 "nbformat": 4,
 "nbformat_minor": 2
}
