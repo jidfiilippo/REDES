{
 "cells": [
  {
   "cell_type": "code",
   "execution_count": 1,
   "metadata": {
    "collapsed": true
   },
   "outputs": [],
   "source": [
    "import numpy as np\n",
    "import networkx as nx\n",
    "import os\n",
    "from random import shuffle          # importamos las librerias necesarias\n",
    "import matplotlib.pylab as plt       \n",
    "%matplotlib inline\n",
    "from matplotlib.pyplot import title,xlabel,ylabel,show"
   ]
  },
  {
   "cell_type": "code",
   "execution_count": 2,
   "metadata": {
    "collapsed": true
   },
   "outputs": [],
   "source": [
    "G = nx.read_gml('dolphins.gml') # definimos la red:cada nodo es un delfin y cada conexion representa una interaccion"
   ]
  },
  {
   "cell_type": "code",
   "execution_count": 3,
   "metadata": {
    "collapsed": true
   },
   "outputs": [],
   "source": [
    "def ldata(archive):\n",
    "    f=open(archive)\n",
    "    data=[]\n",
    "    for line in f:\n",
    "        line=line.strip()\n",
    "        col=line.split()\n",
    "        data.append(col)\n",
    "    return data\n",
    "\n",
    "dolphinsGender=ldata('dolphinsGender.txt') # usamos la funcion \"ldata\" para abrir el archivo .txt "
   ]
  },
  {
   "cell_type": "code",
   "execution_count": 4,
   "metadata": {
    "collapsed": true
   },
   "outputs": [],
   "source": [
    "dict_gender = {dolphin_nombre : genero for dolphin_nombre, genero  in dolphinsGender}\n",
    "for n in G.nodes:\n",
    "    G.nodes[n][\"gender\"] = dict_gender[n] "
   ]
  },
  {
   "cell_type": "markdown",
   "metadata": {},
   "source": [
    "# PARTICION EN CLUSTERS"
   ]
  },
  {
   "cell_type": "code",
   "execution_count": 5,
   "metadata": {},
   "outputs": [],
   "source": [
    "#lauvain\n",
    "import community\n",
    "dict_comun_louvain = community.best_partition(G)\n",
    "labels_louvain=list(dict_comun_louvain.values())\n",
    "\n",
    "#dict_comun_louvain"
   ]
  },
  {
   "cell_type": "code",
   "execution_count": 6,
   "metadata": {},
   "outputs": [],
   "source": [
    "#edge betweeness \n",
    "com = nx.algorithms.community.centrality.girvan_newman(G)\n",
    "#dict_comun_louvain = community.best_partition(G)\n",
    "#labels_louvain=list(dict_comun_louvain.values())\n",
    "variasComunidades = [node for node in com]\n",
    "#a\n",
    "#{dolphin_nombre : cluster for dolphin_nombre, cluster  in com}\n",
    "\n",
    "#a\n",
    "#tuple(sorted(c) for c in next(com))\n",
    "\n",
    "#tenemos que ver cual de la division en comunidades maximiza la modularidad \n"
   ]
  },
  {
   "cell_type": "code",
   "execution_count": 22,
   "metadata": {
    "collapsed": true
   },
   "outputs": [],
   "source": [
    "import networkx as nx\n",
    "from networkx import NetworkXError\n",
    "from networkx.utils import not_implemented_for\n",
    "from networkx.algorithms.community.community_utils import is_partition\n",
    "\n",
    "\n",
    "from __future__ import division\n",
    "\n",
    "from functools import wraps\n",
    "from itertools import product\n",
    "\n",
    "class NotAPartition(NetworkXError):\n",
    "    \"\"\"Raised if a given collection is not a partition.\n",
    "\n",
    "    \"\"\"\n",
    "\n",
    "    def __init__(self, G, collection):\n",
    "        msg = '{} is not a valid partition of the graph {}'\n",
    "        msg = msg.format(G, collection)\n",
    "        super(NotAPartition, self).__init__(msg)\n",
    "\n",
    "def modularity(G, communities, weight='weight'):\n",
    "    \n",
    "    if not is_partition(G, communities):\n",
    "        raise NotAPartition(G, communities)\n",
    "\n",
    "    multigraph = G.is_multigraph()\n",
    "    directed = G.is_directed()\n",
    "    m = G.size(weight=weight)\n",
    "    if directed:\n",
    "        out_degree = dict(G.out_degree(weight=weight))\n",
    "        in_degree = dict(G.in_degree(weight=weight))\n",
    "        norm = 1 / m\n",
    "    else:\n",
    "        out_degree = dict(G.degree(weight=weight))\n",
    "        in_degree = out_degree\n",
    "        norm = 1 / (2 * m)\n",
    "\n",
    "    def val(u, v):\n",
    "        try:\n",
    "            if multigraph:\n",
    "                w = sum(d.get(weight, 1) for k, d in G[u][v].items())\n",
    "            else:\n",
    "                w = G[u][v].get(weight, 1)\n",
    "        except KeyError:\n",
    "            w = 0\n",
    "        # Double count self-loops if the graph is undirected.\n",
    "        if u == v and not directed:\n",
    "            w *= 2\n",
    "        return w - in_degree[u] * out_degree[v] * norm\n",
    "\n",
    "    Q = sum(val(u, v) for c in communities for u, v in product(c, repeat=2))\n",
    "    return Q * norm"
   ]
  },
  {
   "cell_type": "code",
   "execution_count": 21,
   "metadata": {},
   "outputs": [],
   "source": [
    "comp = nx.algorithms.community.centrality.girvan_newman(G)\n",
    "#variasComunidades = [node for node in comp]\n",
    "first = tuple(sorted(c) for c in next(comp))\n",
    "\n",
    "lista = list(first)\n",
    "m = modularity(G, lista)\n",
    "#tuple(sorted(c) for c in comp)[2]\n",
    "#lista"
   ]
  },
  {
   "cell_type": "code",
   "execution_count": 9,
   "metadata": {},
   "outputs": [
    {
     "data": {
      "text/plain": [
       "[2,\n",
       " 3,\n",
       " 4,\n",
       " 5,\n",
       " 6,\n",
       " 7,\n",
       " 8,\n",
       " 9,\n",
       " 10,\n",
       " 11,\n",
       " 12,\n",
       " 13,\n",
       " 14,\n",
       " 15,\n",
       " 16,\n",
       " 17,\n",
       " 18,\n",
       " 19,\n",
       " 20,\n",
       " 21,\n",
       " 22,\n",
       " 23,\n",
       " 24,\n",
       " 25,\n",
       " 26,\n",
       " 27,\n",
       " 28,\n",
       " 29,\n",
       " 30,\n",
       " 31,\n",
       " 32,\n",
       " 33,\n",
       " 34,\n",
       " 35,\n",
       " 36,\n",
       " 37,\n",
       " 38,\n",
       " 39,\n",
       " 40,\n",
       " 41,\n",
       " 42,\n",
       " 43,\n",
       " 44,\n",
       " 45,\n",
       " 46,\n",
       " 47,\n",
       " 48,\n",
       " 49,\n",
       " 50,\n",
       " 51,\n",
       " 52,\n",
       " 53,\n",
       " 54,\n",
       " 55,\n",
       " 56,\n",
       " 57,\n",
       " 58,\n",
       " 59,\n",
       " 60,\n",
       " 61,\n",
       " 62]"
      ]
     },
     "execution_count": 9,
     "metadata": {},
     "output_type": "execute_result"
    }
   ],
   "source": [
    "comp = nx.algorithms.community.centrality.girvan_newman(G)\n",
    "[len(i) for i in comp]"
   ]
  },
  {
   "cell_type": "code",
   "execution_count": 23,
   "metadata": {},
   "outputs": [],
   "source": [
    "comp = list(nx.algorithms.community.centrality.girvan_newman(G))\n",
    "\n",
    "Modularity = []\n",
    "for communities in comp:\n",
    "#     aGroupOfCommunities = tuple(sorted(c) for c in communities)\n",
    "    #print(aGroupOfCommunities)\n",
    "    #print(type(aGroupOfCommunities))\n",
    "#     print(communities, end=\"\\n\")\n",
    "    m = modularity(G, [list(c) for c in communities])\n",
    "    Modularity.append(m)\n",
    "    #quiero ir calculando la modularidad\n",
    "    \n",
    "#ahora me quedo con la division de comunidades que me maximiza la modularidad \n",
    "#bestCommunity = np.argmax(Modularity)\n"
   ]
  },
  {
   "cell_type": "code",
   "execution_count": 24,
   "metadata": {},
   "outputs": [
    {
     "data": {
      "text/plain": [
       "[0.3787033740753936,\n",
       " 0.3814920295874381,\n",
       " 0.4580712788259958,\n",
       " 0.5193821446936427,\n",
       " 0.5139234998615558,\n",
       " 0.5175625964162802,\n",
       " 0.49072425932518404,\n",
       " 0.4938095803172331,\n",
       " 0.4895573751038319,\n",
       " 0.48528539219176353,\n",
       " 0.4804596337170198,\n",
       " 0.47541632055693916,\n",
       " 0.47035322969819165,\n",
       " 0.46527036114077724,\n",
       " 0.46091926743404094,\n",
       " 0.45557928879395543,\n",
       " 0.4493097583165217,\n",
       " 0.4390649104070245,\n",
       " 0.42707962501483265,\n",
       " 0.41477789644396934,\n",
       " 0.4055812665638226,\n",
       " 0.3948221984889841,\n",
       " 0.3812942526007677,\n",
       " 0.3720382896246197,\n",
       " 0.36179344171512234,\n",
       " 0.3438748467228357,\n",
       " 0.3241169257545195,\n",
       " 0.31363474546101844,\n",
       " 0.30155057157549164,\n",
       " 0.29079150350065286,\n",
       " 0.284699972311222,\n",
       " 0.2697480321189828,\n",
       " 0.2580000791107948,\n",
       " 0.24716190024128817,\n",
       " 0.23106285352636394,\n",
       " 0.21615046873145854,\n",
       " 0.1960958822831374,\n",
       " 0.17924528301886786,\n",
       " 0.16104980024524335,\n",
       " 0.14942051342905727,\n",
       " 0.1374352280368655,\n",
       " 0.1231359519006367,\n",
       " 0.11809263874055598,\n",
       " 0.10112337328428454,\n",
       " 0.08985008504410423,\n",
       " 0.08182033938530908,\n",
       " 0.0757090304972113,\n",
       " 0.06566195957438388,\n",
       " 0.05996598235829274,\n",
       " 0.045449151536727184,\n",
       " 0.039654285827301135,\n",
       " 0.033444088445868436,\n",
       " 0.023179462837704206,\n",
       " 0.01694948775760452,\n",
       " 0.011906174597523831,\n",
       " 0.005913531901427958,\n",
       " 1.977769866698772e-05,\n",
       " -0.006091531189430803,\n",
       " -0.009770183141489657,\n",
       " -0.01594082512558839,\n",
       " -0.021399469957675724]"
      ]
     },
     "execution_count": 24,
     "metadata": {},
     "output_type": "execute_result"
    }
   ],
   "source": [
    "Modularity"
   ]
  },
  {
   "cell_type": "code",
   "execution_count": 25,
   "metadata": {},
   "outputs": [],
   "source": [
    "#ahora me quedo con la division de comunidades que me maximiza la modularidad \n",
    "comp = nx.algorithms.community.centrality.girvan_newman(G)\n",
    "bestCommunityBetEdg = tuple(sorted(c) for c in comp)[np.argmax(Modularity)]"
   ]
  },
  {
   "cell_type": "code",
   "execution_count": null,
   "metadata": {},
   "outputs": [],
   "source": [
    "#ahora quiero un diccionario de ese bestCommunityBetEdg\n",
    "comp = nx.algorithms.community.centrality.girvan_newman(G)\n",
    "bestCommunityBetEdg = tuple(sorted(c) for c in comp)[1]\n",
    "nodos = len(bestCommunityBetEdg[0]) + len(bestCommunityBetEdg[1]) + len(bestCommunityBetEdg[2])\n",
    "list(G.nodes())[1]\n",
    "#for i in range(nodos): \n",
    "#    list(G.nodes())[i]\n",
    "#for i in range()"
   ]
  },
  {
   "cell_type": "code",
   "execution_count": null,
   "metadata": {
    "collapsed": true
   },
   "outputs": [],
   "source": [
    "comunidades=[dict_comun_louvain] #adentro de la lista v an todos los diccionarios"
   ]
  },
  {
   "cell_type": "code",
   "execution_count": null,
   "metadata": {
    "collapsed": true
   },
   "outputs": [],
   "source": [
    "def AssingCommunities(G,comunidades): #comunidades=lista de diccionarios de comunidades\n",
    "    for n in G.nodes():\n",
    "        G.nodes[n]['comunidad_louvain']=comunidades[0][n]\n",
    "        #aca seguimos escribiendo las otras comunidades"
   ]
  },
  {
   "cell_type": "code",
   "execution_count": null,
   "metadata": {
    "collapsed": true
   },
   "outputs": [],
   "source": [
    "AssingCommunities(G,comunidades)"
   ]
  },
  {
   "cell_type": "code",
   "execution_count": null,
   "metadata": {
    "collapsed": true
   },
   "outputs": [],
   "source": [
    "name_coms=['comunidad_louvain']\n",
    "labels=['labels_louvain']"
   ]
  },
  {
   "cell_type": "code",
   "execution_count": null,
   "metadata": {
    "collapsed": true
   },
   "outputs": [],
   "source": [
    "def Communities(G,labels): #laabels=lista de labels de comunidades\n",
    "    Communities=[]\n",
    "    for k in range(len(labels)):\n",
    "        nodos_por_comunidad=[]\n",
    "        for i in range(len(set(labels[k]))):\n",
    "            nodos=[]\n",
    "            for j in range(len(list(G.nodes()))):\n",
    "                if i==list(nx.get_node_attributes(G,name_coms[k]).items())[j][1]:\n",
    "                    nodos.append(list(G.nodes())[j])\n",
    "            nodos_por_comunidad.append(nodos)\n",
    "        Communities.append(nodos_por_comunidad)\n",
    "    return(Communities)"
   ]
  },
  {
   "cell_type": "code",
   "execution_count": null,
   "metadata": {
    "collapsed": true
   },
   "outputs": [],
   "source": [
    "Communities=Communities(G,labels) #esto va adentro de modularity...lista de listas jaja"
   ]
  },
  {
   "cell_type": "code",
   "execution_count": null,
   "metadata": {},
   "outputs": [],
   "source": [
    "plt.figure(figsize=(15,10))\n",
    "pos = nx.spring_layout(G) \n",
    "        \n",
    "nx.draw_networkx_nodes(G,pos,\n",
    "                       cmap=plt.get_cmap('plasma'),\n",
    "                       node_color=list(dict(nx.get_node_attributes(G,name_coms[0])).values()),\n",
    "                       node_size=100,\n",
    "                       alpha=0.8)\n",
    "\n",
    "#width = 1+10*np.array(list(networkx.get_edge_attributes(g,'weight').values())).ravel()\n",
    "#edge_color = np.random.uniform(size=len(width))\n",
    "\n",
    "nx.draw_networkx_edges(G,pos)#\"grey\")\n",
    "#plt.title(\"A bizarre graph\")\n",
    "plt.axis(\"off\")\n",
    "plt.show()"
   ]
  },
  {
   "cell_type": "code",
   "execution_count": null,
   "metadata": {},
   "outputs": [],
   "source": [
    "nx.double_edge_swap(G,nswap=2)"
   ]
  },
  {
   "cell_type": "code",
   "execution_count": null,
   "metadata": {
    "collapsed": true
   },
   "outputs": [],
   "source": [
    "from __future__ import division\n",
    "\n",
    "from functools import wraps\n",
    "from itertools import product\n",
    "\n",
    "import networkx as nx\n",
    "from networkx import NetworkXError\n",
    "from networkx.utils import not_implemented_for\n",
    "from networkx.algorithms.community.community_utils import is_partition\n",
    "\n",
    "__all__ = ['coverage', 'modularity', 'performance']\n",
    "\n",
    "class NotAPartition(NetworkXError):\n",
    "    \"\"\"Raised if a given collection is not a partition.\n",
    "\n",
    "    \"\"\"\n",
    "\n",
    "    def __init__(self, G, collection):\n",
    "        msg = '{} is not a valid partition of the graph {}'\n",
    "        msg = msg.format(G, collection)\n",
    "        super(NotAPartition, self).__init__(msg)\n",
    "\n",
    "\n",
    "def modularity(G, communities, weight='weight'):\n",
    "    \n",
    "    if not is_partition(G, communities):\n",
    "        raise NotAPartition(G, communities)\n",
    "\n",
    "    multigraph = G.is_multigraph()\n",
    "    directed = G.is_directed()\n",
    "    m = G.size(weight=weight)\n",
    "    if directed:\n",
    "        out_degree = dict(G.out_degree(weight=weight))\n",
    "        in_degree = dict(G.in_degree(weight=weight))\n",
    "        norm = 1 / m\n",
    "    else:\n",
    "        out_degree = dict(G.degree(weight=weight))\n",
    "        in_degree = out_degree\n",
    "        norm = 1 / (2 * m)\n",
    "\n",
    "    def val(u, v):\n",
    "        try:\n",
    "            if multigraph:\n",
    "                w = sum(d.get(weight, 1) for k, d in G[u][v].items())\n",
    "            else:\n",
    "                w = G[u][v].get(weight, 1)\n",
    "        except KeyError:\n",
    "            w = 0\n",
    "        # Double count self-loops if the graph is undirected.\n",
    "        if u == v and not directed:\n",
    "            w *= 2\n",
    "        return w - in_degree[u] * out_degree[v] * norm\n",
    "\n",
    "    Q = sum(val(u, v) for c in communities for u, v in product(c, repeat=2))\n",
    "    return Q * norm"
   ]
  },
  {
   "cell_type": "code",
   "execution_count": null,
   "metadata": {},
   "outputs": [],
   "source": [
    "M=len(list(G.edges()))\n",
    "\n",
    "nx.double_edge_swap(G,nswap=int(M/2-1))\n",
    "\n",
    "DistributionModularity = []                          # Vector para guardar las modularidades de cada iteracion\n",
    "\n",
    " \n",
    "it = 2                                           # numero de iteraciones \n",
    "swaps = 70\n",
    "Grafo = G.copy()                      \n",
    "\n",
    "for i in range(90):\n",
    "    Grafo = nx.read_gml('dolphins.gml')\n",
    "    GrafoRecabled = nx.double_edge_swap(Grafo,nswap=77)                                      # recableamos\n",
    "#     DistributionModularity.append(modularity(GrafoRecabled,Communities,weight='weight')) \n",
    "#     Grafo=[]"
   ]
  },
  {
   "cell_type": "code",
   "execution_count": null,
   "metadata": {
    "collapsed": true
   },
   "outputs": [],
   "source": []
  }
 ],
 "metadata": {
  "kernelspec": {
   "display_name": "Python 3",
   "language": "python",
   "name": "python3"
  },
  "language_info": {
   "codemirror_mode": {
    "name": "ipython",
    "version": 3
   },
   "file_extension": ".py",
   "mimetype": "text/x-python",
   "name": "python",
   "nbconvert_exporter": "python",
   "pygments_lexer": "ipython3",
   "version": "3.5.2"
  }
 },
 "nbformat": 4,
 "nbformat_minor": 2
}
