{
 "cells": [
  {
   "cell_type": "code",
   "execution_count": 1,
   "metadata": {
    "collapsed": true
   },
   "outputs": [],
   "source": [
    "import numpy as np\n",
    "import networkx as nx\n",
    "import os\n",
    "from random import shuffle          # importamos las librerias necesarias\n",
    "import matplotlib.pylab as plt       \n",
    "%matplotlib inline\n",
    "from matplotlib.pyplot import title,xlabel,ylabel,show"
   ]
  },
  {
   "cell_type": "code",
   "execution_count": 2,
   "metadata": {
    "collapsed": true
   },
   "outputs": [],
   "source": [
    "G = nx.read_gml('dolphins.gml') # definimos la red:cada nodo es un delfin y cada conexion representa una interaccion\n",
    "A=nx.to_numpy_matrix(G)"
   ]
  },
  {
   "cell_type": "code",
   "execution_count": 3,
   "metadata": {
    "collapsed": true
   },
   "outputs": [],
   "source": [
    "def ldata(archive):\n",
    "    f=open(archive)\n",
    "    data=[]\n",
    "    for line in f:\n",
    "        line=line.strip()\n",
    "        col=line.split()\n",
    "        data.append(col)\n",
    "    return data\n",
    "\n",
    "dolphinsGender=ldata('dolphinsGender.txt') # usamos la funcion \"ldata\" para abrir el archivo .txt "
   ]
  },
  {
   "cell_type": "code",
   "execution_count": 4,
   "metadata": {
    "collapsed": true
   },
   "outputs": [],
   "source": [
    "dict_gender = {dolphin_nombre : genero for dolphin_nombre, genero  in dolphinsGender}\n",
    "for n in G.nodes:\n",
    "    G.nodes[n][\"gender\"] = dict_gender[n] "
   ]
  },
  {
   "cell_type": "markdown",
   "metadata": {},
   "source": [
    "# PARTICION EN CLUSTERS"
   ]
  },
  {
   "cell_type": "code",
   "execution_count": 5,
   "metadata": {
    "collapsed": true
   },
   "outputs": [],
   "source": [
    "import igraph as igraph\n",
    "import networkx as nx\n",
    "import community\n",
    "import time"
   ]
  },
  {
   "cell_type": "code",
   "execution_count": 6,
   "metadata": {
    "collapsed": true
   },
   "outputs": [],
   "source": [
    "def calculate_info_fast(np_adj_list, method):\n",
    "    g = igraph.Graph.Weighted_Adjacency(np_adj_list.tolist(),mode=igraph.ADJ_UPPER)\n",
    "   \n",
    "    t0=time.time()\n",
    "    if method==\"infomap\":\n",
    "        labels = g.community_infomap(edge_weights=\"weight\").membership\n",
    "\n",
    "    if method==\"fastgreedy\":\n",
    "        labels = g.community_fastgreedy(weights=\"weight\").as_clustering().membership\n",
    "                     \n",
    "    return labels"
   ]
  },
  {
   "cell_type": "code",
   "execution_count": 7,
   "metadata": {},
   "outputs": [],
   "source": [
    "test=calculate_info_fast(A,method='fastgreedy')\n",
    "testd_fastg=dict(zip(list(G.nodes()),test))\n",
    "\n"
   ]
  },
  {
   "cell_type": "code",
   "execution_count": 8,
   "metadata": {},
   "outputs": [
    {
     "data": {
      "text/plain": [
       "{0, 1, 2, 3}"
      ]
     },
     "execution_count": 8,
     "metadata": {},
     "output_type": "execute_result"
    }
   ],
   "source": [
    "set(test)"
   ]
  },
  {
   "cell_type": "code",
   "execution_count": 9,
   "metadata": {},
   "outputs": [
    {
     "name": "stdout",
     "output_type": "stream",
     "text": [
      "0\n",
      "1\n",
      "2\n",
      "3\n"
     ]
    }
   ],
   "source": [
    "for i in range(len(set(test))):\n",
    "    print(i)"
   ]
  },
  {
   "cell_type": "code",
   "execution_count": 10,
   "metadata": {
    "collapsed": true
   },
   "outputs": [],
   "source": [
    "def AssingCommunities(G,comunidades,name_coms): #comunidades=lista de diccionarios de comunidades\n",
    "    for name in name_coms:\n",
    "        for n in G.nodes():\n",
    "            G.nodes[n][name]=comunidades[0][n]"
   ]
  },
  {
   "cell_type": "code",
   "execution_count": 11,
   "metadata": {
    "collapsed": true
   },
   "outputs": [],
   "source": [
    "def Communities(G,labels,name_coms): #laabels=lista de labels de comunidades\n",
    "    Communities=[]\n",
    "    for k in range(len(labels)):\n",
    "        nodos_por_comunidad=[]\n",
    "        for i in range(len(set(labels[k]))):\n",
    "            nodos=[]\n",
    "            for j in range(len(list(G.nodes()))):\n",
    "                if i==list(nx.get_node_attributes(G,name_coms[k]).items())[j][1]:\n",
    "                    nodos.append(list(G.nodes())[j])\n",
    "            nodos_por_comunidad.append(nodos)\n",
    "        Communities.append(nodos_por_comunidad)\n",
    "    return(Communities)"
   ]
  },
  {
   "cell_type": "code",
   "execution_count": 37,
   "metadata": {
    "collapsed": true
   },
   "outputs": [],
   "source": [
    "def Communities(G,labels,name_coms): #laabels=lista de labels de comunidades\n",
    "    Communities=[]\n",
    "    for k in range(len(labels)):\n",
    "        nodos_por_comunidad=[]\n",
    "        for i in range(len(set(labels[k]))):\n",
    "            nodos=[]\n",
    "            for nodo in G.nodes():\n",
    "                if i==nx.get_node_attributes(G,name_coms[k])[nodo]:\n",
    "                    nodos.append(nodo)\n",
    "            nodos_por_comunidad.append(nodos)\n",
    "        Communities.append(nodos_por_comunidad)\n",
    "    return(Communities)"
   ]
  },
  {
   "cell_type": "code",
   "execution_count": 27,
   "metadata": {},
   "outputs": [
    {
     "data": {
      "text/plain": [
       "{'Beak': 3,\n",
       " 'Beescratch': 0,\n",
       " 'Bumper': 3,\n",
       " 'CCL': 4,\n",
       " 'Cross': 2,\n",
       " 'DN16': 0,\n",
       " 'DN21': 0,\n",
       " 'DN63': 0,\n",
       " 'Double': 4,\n",
       " 'Feather': 0,\n",
       " 'Fish': 3,\n",
       " 'Five': 2,\n",
       " 'Fork': 1,\n",
       " 'Gallatin': 0,\n",
       " 'Grin': 1,\n",
       " 'Haecksel': 2,\n",
       " 'Hook': 1,\n",
       " 'Jet': 0,\n",
       " 'Jonah': 2,\n",
       " 'Knit': 0,\n",
       " 'Kringel': 1,\n",
       " 'MN105': 2,\n",
       " 'MN23': 0,\n",
       " 'MN60': 2,\n",
       " 'MN83': 2,\n",
       " 'Mus': 0,\n",
       " 'Notch': 0,\n",
       " 'Number1': 0,\n",
       " 'Oscar': 3,\n",
       " 'PL': 3,\n",
       " 'Patchback': 2,\n",
       " 'Quasi': 0,\n",
       " 'Ripplefluke': 0,\n",
       " 'SMN5': 2,\n",
       " 'SN100': 4,\n",
       " 'SN4': 1,\n",
       " 'SN63': 1,\n",
       " 'SN89': 4,\n",
       " 'SN9': 1,\n",
       " 'SN90': 0,\n",
       " 'SN96': 3,\n",
       " 'Scabs': 1,\n",
       " 'Shmuddel': 1,\n",
       " 'Stripes': 1,\n",
       " 'TR120': 1,\n",
       " 'TR77': 3,\n",
       " 'TR82': 0,\n",
       " 'TR88': 1,\n",
       " 'TR99': 1,\n",
       " 'TSN103': 1,\n",
       " 'TSN83': 5,\n",
       " 'Thumper': 1,\n",
       " 'Topless': 2,\n",
       " 'Trigger': 2,\n",
       " 'Upbang': 0,\n",
       " 'Vau': 2,\n",
       " 'Wave': 0,\n",
       " 'Web': 0,\n",
       " 'Whitetip': 1,\n",
       " 'Zap': 4,\n",
       " 'Zig': 0,\n",
       " 'Zipfel': 5}"
      ]
     },
     "execution_count": 27,
     "metadata": {},
     "output_type": "execute_result"
    }
   ],
   "source": [
    "nx.get_node_attributes(G,name_coms[1])"
   ]
  },
  {
   "cell_type": "code",
   "execution_count": 30,
   "metadata": {},
   "outputs": [],
   "source": [
    "AssingCommunities(G,[testd_fastg],['com_fastg'])"
   ]
  },
  {
   "cell_type": "code",
   "execution_count": 13,
   "metadata": {},
   "outputs": [
    {
     "data": {
      "text/plain": [
       "{'Beak': 0,\n",
       " 'Beescratch': 1,\n",
       " 'Bumper': 0,\n",
       " 'CCL': 2,\n",
       " 'Cross': 2,\n",
       " 'DN16': 1,\n",
       " 'DN21': 1,\n",
       " 'DN63': 1,\n",
       " 'Double': 2,\n",
       " 'Feather': 1,\n",
       " 'Fish': 0,\n",
       " 'Five': 2,\n",
       " 'Fork': 0,\n",
       " 'Gallatin': 1,\n",
       " 'Grin': 0,\n",
       " 'Haecksel': 2,\n",
       " 'Hook': 0,\n",
       " 'Jet': 1,\n",
       " 'Jonah': 2,\n",
       " 'Knit': 1,\n",
       " 'Kringel': 0,\n",
       " 'MN105': 2,\n",
       " 'MN23': 1,\n",
       " 'MN60': 2,\n",
       " 'MN83': 2,\n",
       " 'Mus': 1,\n",
       " 'Notch': 1,\n",
       " 'Number1': 1,\n",
       " 'Oscar': 1,\n",
       " 'PL': 1,\n",
       " 'Patchback': 2,\n",
       " 'Quasi': 1,\n",
       " 'Ripplefluke': 1,\n",
       " 'SMN5': 2,\n",
       " 'SN100': 3,\n",
       " 'SN4': 0,\n",
       " 'SN63': 0,\n",
       " 'SN89': 3,\n",
       " 'SN9': 0,\n",
       " 'SN90': 1,\n",
       " 'SN96': 0,\n",
       " 'Scabs': 0,\n",
       " 'Shmuddel': 0,\n",
       " 'Stripes': 0,\n",
       " 'TR120': 0,\n",
       " 'TR77': 0,\n",
       " 'TR82': 1,\n",
       " 'TR88': 0,\n",
       " 'TR99': 0,\n",
       " 'TSN103': 0,\n",
       " 'TSN83': 0,\n",
       " 'Thumper': 0,\n",
       " 'Topless': 2,\n",
       " 'Trigger': 2,\n",
       " 'Upbang': 1,\n",
       " 'Vau': 2,\n",
       " 'Wave': 1,\n",
       " 'Web': 1,\n",
       " 'Whitetip': 0,\n",
       " 'Zap': 2,\n",
       " 'Zig': 1,\n",
       " 'Zipfel': 0}"
      ]
     },
     "execution_count": 13,
     "metadata": {},
     "output_type": "execute_result"
    }
   ],
   "source": [
    "nx.get_node_attributes(G,'com_fastg')"
   ]
  },
  {
   "cell_type": "code",
   "execution_count": 35,
   "metadata": {},
   "outputs": [],
   "source": [
    "lista_listas=Communities(G,[test],['com_fastg'])"
   ]
  },
  {
   "cell_type": "code",
   "execution_count": 36,
   "metadata": {},
   "outputs": [
    {
     "data": {
      "text/plain": [
       "[[['Beak',\n",
       "   'Bumper',\n",
       "   'Fish',\n",
       "   'Fork',\n",
       "   'Grin',\n",
       "   'Hook',\n",
       "   'Kringel',\n",
       "   'Scabs',\n",
       "   'Shmuddel',\n",
       "   'SN4',\n",
       "   'SN63',\n",
       "   'SN9',\n",
       "   'SN96',\n",
       "   'Stripes',\n",
       "   'Thumper',\n",
       "   'TR120',\n",
       "   'TR77',\n",
       "   'TR88',\n",
       "   'TR99',\n",
       "   'TSN103',\n",
       "   'TSN83',\n",
       "   'Whitetip',\n",
       "   'Zipfel'],\n",
       "  ['Beescratch',\n",
       "   'DN16',\n",
       "   'DN21',\n",
       "   'DN63',\n",
       "   'Feather',\n",
       "   'Gallatin',\n",
       "   'Jet',\n",
       "   'Knit',\n",
       "   'MN23',\n",
       "   'Mus',\n",
       "   'Notch',\n",
       "   'Number1',\n",
       "   'Oscar',\n",
       "   'PL',\n",
       "   'Quasi',\n",
       "   'Ripplefluke',\n",
       "   'SN90',\n",
       "   'TR82',\n",
       "   'Upbang',\n",
       "   'Wave',\n",
       "   'Web',\n",
       "   'Zig'],\n",
       "  ['CCL',\n",
       "   'Cross',\n",
       "   'Double',\n",
       "   'Five',\n",
       "   'Haecksel',\n",
       "   'Jonah',\n",
       "   'MN105',\n",
       "   'MN60',\n",
       "   'MN83',\n",
       "   'Patchback',\n",
       "   'SMN5',\n",
       "   'Topless',\n",
       "   'Trigger',\n",
       "   'Vau',\n",
       "   'Zap'],\n",
       "  ['SN100', 'SN89']]]"
      ]
     },
     "execution_count": 36,
     "metadata": {},
     "output_type": "execute_result"
    }
   ],
   "source": [
    "lista_listas"
   ]
  },
  {
   "cell_type": "code",
   "execution_count": 17,
   "metadata": {},
   "outputs": [
    {
     "data": {
      "text/plain": [
       "62"
      ]
     },
     "execution_count": 17,
     "metadata": {},
     "output_type": "execute_result"
    }
   ],
   "source": [
    "len(lista_listas[0][1])+len(lista_listas[0][0])+len(lista_listas[0][2])+len(lista_listas[0][3])"
   ]
  },
  {
   "cell_type": "code",
   "execution_count": null,
   "metadata": {
    "collapsed": true
   },
   "outputs": [],
   "source": []
  },
  {
   "cell_type": "code",
   "execution_count": 38,
   "metadata": {
    "collapsed": true
   },
   "outputs": [],
   "source": [
    "def all_communities(G):\n",
    "    \n",
    "    A=nx.to_numpy_matrix(G)\n",
    "    \n",
    "    labels_infomap=calculate_info_fast(A,method='infomap')\n",
    "    dict_comun_infomap=dict(zip(list(G.nodes()),labels_infomap))\n",
    "\n",
    "    labels_fastg=calculate_info_fast(A,method='fastgreedy')\n",
    "    dict_comun_fastg=dict(zip(list(G.nodes()),labels_fastg))\n",
    "\n",
    "    dict_comun_louvain = community.best_partition(G)\n",
    "    labels_louvain=list(dict_comun_louvain.values())\n",
    "    \n",
    "    comunidades=[dict_comun_infomap, dict_comun_fastg, dict_comun_louvain] #adentro de la lista v an todos los diccionarios\n",
    "    \n",
    "    global name_coms\n",
    "    name_coms=['comunidad_infomap','comunidad_fastg','comunidad_louvain'] #,'comunidad_betw']\n",
    "    \n",
    "    AssingCommunities(G,comunidades,name_coms)\n",
    "    \n",
    "    labels=[labels_infomap,labels_fastg,labels_louvain] #,labels_betw]\n",
    "    \n",
    "    all_coms=Communities(G,labels,name_coms) #esto va adentro de modularity...lista de listas jaja\n",
    "    \n",
    "    return all_coms"
   ]
  },
  {
   "cell_type": "code",
   "execution_count": 39,
   "metadata": {
    "collapsed": true
   },
   "outputs": [],
   "source": [
    "lista_all=all_communities(G)"
   ]
  },
  {
   "cell_type": "code",
   "execution_count": 40,
   "metadata": {},
   "outputs": [
    {
     "data": {
      "text/plain": [
       "[['Beescratch',\n",
       "  'DN16',\n",
       "  'DN21',\n",
       "  'DN63',\n",
       "  'Feather',\n",
       "  'Gallatin',\n",
       "  'Jet',\n",
       "  'Knit',\n",
       "  'MN23',\n",
       "  'Mus',\n",
       "  'Notch',\n",
       "  'Number1',\n",
       "  'Quasi',\n",
       "  'Ripplefluke',\n",
       "  'SN90',\n",
       "  'TR82',\n",
       "  'Upbang',\n",
       "  'Wave',\n",
       "  'Web',\n",
       "  'Zig'],\n",
       " ['Fork',\n",
       "  'Grin',\n",
       "  'Hook',\n",
       "  'Kringel',\n",
       "  'Scabs',\n",
       "  'Shmuddel',\n",
       "  'SN4',\n",
       "  'SN63',\n",
       "  'SN9',\n",
       "  'Stripes',\n",
       "  'Thumper',\n",
       "  'TR120',\n",
       "  'TR88',\n",
       "  'TR99',\n",
       "  'TSN103',\n",
       "  'TSN83',\n",
       "  'Whitetip',\n",
       "  'Zipfel'],\n",
       " ['Cross',\n",
       "  'Five',\n",
       "  'Haecksel',\n",
       "  'Jonah',\n",
       "  'MN105',\n",
       "  'MN60',\n",
       "  'MN83',\n",
       "  'Patchback',\n",
       "  'SMN5',\n",
       "  'Topless',\n",
       "  'Trigger',\n",
       "  'Vau'],\n",
       " ['Beak', 'Bumper', 'Fish', 'Oscar', 'PL', 'SN96', 'TR77']]"
      ]
     },
     "execution_count": 40,
     "metadata": {},
     "output_type": "execute_result"
    }
   ],
   "source": [
    "lista_all[1]"
   ]
  },
  {
   "cell_type": "code",
   "execution_count": null,
   "metadata": {
    "collapsed": true
   },
   "outputs": [],
   "source": []
  }
 ],
 "metadata": {
  "kernelspec": {
   "display_name": "Python 3",
   "language": "python",
   "name": "python3"
  },
  "language_info": {
   "codemirror_mode": {
    "name": "ipython",
    "version": 3
   },
   "file_extension": ".py",
   "mimetype": "text/x-python",
   "name": "python",
   "nbconvert_exporter": "python",
   "pygments_lexer": "ipython3",
   "version": "3.6.3"
  }
 },
 "nbformat": 4,
 "nbformat_minor": 2
}
