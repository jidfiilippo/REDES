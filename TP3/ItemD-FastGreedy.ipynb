{
 "cells": [
  {
   "cell_type": "code",
   "execution_count": 93,
   "metadata": {},
   "outputs": [],
   "source": [
    "import numpy as np\n",
    "import networkx as nx\n",
    "import os\n",
    "from random import shuffle          # importamos las librerias necesarias\n",
    "import matplotlib.pylab as plt       \n",
    "%matplotlib inline\n",
    "from matplotlib.pyplot import title,xlabel,ylabel,show"
   ]
  },
  {
   "cell_type": "code",
   "execution_count": 2,
   "metadata": {},
   "outputs": [],
   "source": [
    "G = nx.read_gml('dolphins.gml') # definimos la red:cada nodo es un delfin y cada conexion representa una interaccion"
   ]
  },
  {
   "cell_type": "code",
   "execution_count": 3,
   "metadata": {},
   "outputs": [],
   "source": [
    "def ldata(archive):\n",
    "    f=open(archive)\n",
    "    data=[]\n",
    "    for line in f:\n",
    "        line=line.strip()\n",
    "        col=line.split()\n",
    "        data.append(col)\n",
    "    return data\n",
    "\n",
    "dolphinsGender=ldata('dolphinsGender.txt') # usamos la funcion \"ldata\" para abrir el archivo .txt "
   ]
  },
  {
   "cell_type": "code",
   "execution_count": 71,
   "metadata": {},
   "outputs": [],
   "source": [
    "dict_gender = {dolphin_nombre : genero for dolphin_nombre, genero  in dolphinsGender}\n",
    "def AssignGender(G,dict_gender):\n",
    "    for n in G.nodes:\n",
    "        G.nodes[n][\"gender\"] = dict_gender[n]\n",
    "    return\n",
    " "
   ]
  },
  {
   "cell_type": "code",
   "execution_count": 9,
   "metadata": {},
   "outputs": [
    {
     "data": {
      "text/plain": [
       "{'Beak': 'm',\n",
       " 'Beescratch': 'm',\n",
       " 'Bumper': 'm',\n",
       " 'CCL': 'f',\n",
       " 'Cross': 'm',\n",
       " 'DN16': 'f',\n",
       " 'DN21': 'm',\n",
       " 'DN63': 'm',\n",
       " 'Double': 'f',\n",
       " 'Feather': 'm',\n",
       " 'Fish': 'f',\n",
       " 'Five': 'f',\n",
       " 'Fork': 'm',\n",
       " 'Gallatin': 'm',\n",
       " 'Grin': 'm',\n",
       " 'Haecksel': 'm',\n",
       " 'Hook': 'f',\n",
       " 'Jet': 'm',\n",
       " 'Jonah': 'm',\n",
       " 'Knit': 'm',\n",
       " 'Kringel': 'f',\n",
       " 'MN105': 'm',\n",
       " 'MN23': 'm',\n",
       " 'MN60': 'm',\n",
       " 'MN83': 'm',\n",
       " 'Mus': 'm',\n",
       " 'Notch': 'm',\n",
       " 'Number1': 'm',\n",
       " 'Oscar': 'm',\n",
       " 'PL': 'm',\n",
       " 'Patchback': 'm',\n",
       " 'Quasi': 'm',\n",
       " 'Ripplefluke': 'NA',\n",
       " 'SMN5': 'm',\n",
       " 'SN100': 'f',\n",
       " 'SN4': 'f',\n",
       " 'SN63': 'f',\n",
       " 'SN89': 'f',\n",
       " 'SN9': 'f',\n",
       " 'SN90': 'm',\n",
       " 'SN96': 'm',\n",
       " 'Scabs': 'f',\n",
       " 'Shmuddel': 'f',\n",
       " 'Stripes': 'f',\n",
       " 'TR120': 'f',\n",
       " 'TR77': 'f',\n",
       " 'TR82': 'NA',\n",
       " 'TR88': 'f',\n",
       " 'TR99': 'f',\n",
       " 'TSN103': 'f',\n",
       " 'TSN83': 'NA',\n",
       " 'Thumper': 'm',\n",
       " 'Topless': 'm',\n",
       " 'Trigger': 'f',\n",
       " 'Upbang': 'm',\n",
       " 'Vau': 'f',\n",
       " 'Wave': 'f',\n",
       " 'Web': 'm',\n",
       " 'Whitetip': 'f',\n",
       " 'Zap': 'NA',\n",
       " 'Zig': 'm',\n",
       " 'Zipfel': 'm'}"
      ]
     },
     "execution_count": 9,
     "metadata": {},
     "output_type": "execute_result"
    }
   ],
   "source": [
    "dict(G.nodes('gender'))"
   ]
  },
  {
   "cell_type": "code",
   "execution_count": 14,
   "metadata": {},
   "outputs": [],
   "source": [
    "dict_com_fastg={'Beak': 0,\n",
    " 'Beescratch': 1,\n",
    " 'Bumper': 0,\n",
    " 'CCL': 2,\n",
    " 'Cross': 2,\n",
    " 'DN16': 1,\n",
    " 'DN21': 1,\n",
    " 'DN63': 1,\n",
    " 'Double': 2,\n",
    " 'Feather': 1,\n",
    " 'Fish': 0,\n",
    " 'Five': 2,\n",
    " 'Fork': 0,\n",
    " 'Gallatin': 1,\n",
    " 'Grin': 0,\n",
    " 'Haecksel': 2,\n",
    " 'Hook': 0,\n",
    " 'Jet': 1,\n",
    " 'Jonah': 2,\n",
    " 'Knit': 1,\n",
    " 'Kringel': 0,\n",
    " 'MN105': 2,\n",
    " 'MN23': 1,\n",
    " 'MN60': 2,\n",
    " 'MN83': 2,\n",
    " 'Mus': 1,\n",
    " 'Notch': 1,\n",
    " 'Number1': 1,\n",
    " 'Oscar': 1,\n",
    " 'PL': 1,\n",
    " 'Patchback': 2,\n",
    " 'Quasi': 1,\n",
    " 'Ripplefluke': 1,\n",
    " 'SMN5': 2,\n",
    " 'SN100': 3,\n",
    " 'SN4': 0,\n",
    " 'SN63': 0,\n",
    " 'SN89': 3,\n",
    " 'SN9': 0,\n",
    " 'SN90': 1,\n",
    " 'SN96': 0,\n",
    " 'Scabs': 0,\n",
    " 'Shmuddel': 0,\n",
    " 'Stripes': 0,\n",
    " 'TR120': 0,\n",
    " 'TR77': 0,\n",
    " 'TR82': 1,\n",
    " 'TR88': 0,\n",
    " 'TR99': 0,\n",
    " 'TSN103': 0,\n",
    " 'TSN83': 0,\n",
    " 'Thumper': 0,\n",
    " 'Topless': 2,\n",
    " 'Trigger': 2,\n",
    " 'Upbang': 1,\n",
    " 'Vau': 2,\n",
    " 'Wave': 1,\n",
    " 'Web': 1,\n",
    " 'Whitetip': 0,\n",
    " 'Zap': 2,\n",
    " 'Zig': 1,\n",
    " 'Zipfel': 0}\n"
   ]
  },
  {
   "cell_type": "code",
   "execution_count": 25,
   "metadata": {},
   "outputs": [],
   "source": [
    "for n in G.nodes:\n",
    "    G.nodes[n][\"community\"] = dict_com_fastg[n] "
   ]
  },
  {
   "cell_type": "markdown",
   "metadata": {},
   "source": [
    "CALCULO PORCENTAJE DE CADA SEXO EN MIS COMUNIDADES ORIGINALES"
   ]
  },
  {
   "cell_type": "code",
   "execution_count": 107,
   "metadata": {},
   "outputs": [],
   "source": [
    "females=np.zeros((1,4))\n",
    "males=np.zeros((1,4))\n",
    "notass=np.zeros((1,4))\n",
    "for nodo in G.nodes:\n",
    "    com=G.nodes('community')[nodo]\n",
    "    if G.nodes('gender')[nodo]=='f':\n",
    "        females[0,com]=females[0,com]+1\n",
    "    elif G.nodes('gender')[nodo]=='m':\n",
    "        males[0,com]=males[0,com]+1\n",
    "    else:\n",
    "        notass[0,com]=notass[0,com]+1\n",
    "FractionFemales=females/sum(sum(females,males),notass)\n",
    "FractionMales=males/sum(sum(females,males),notass)\n",
    "FractionNotAssigned=notass/sum(sum(females,males),notass)"
   ]
  },
  {
   "cell_type": "code",
   "execution_count": 108,
   "metadata": {},
   "outputs": [
    {
     "data": {
      "text/plain": [
       "(array([[0.65217391, 0.09090909, 0.33333333, 1.        ]]),\n",
       " array([[0.30434783, 0.81818182, 0.6       , 0.        ]]),\n",
       " array([[0.04347826, 0.09090909, 0.06666667, 0.        ]]))"
      ]
     },
     "execution_count": 108,
     "metadata": {},
     "output_type": "execute_result"
    }
   ],
   "source": [
    "FractionFemales,FractionMales,FractionNotAssigned"
   ]
  },
  {
   "cell_type": "markdown",
   "metadata": {},
   "source": [
    "HAGO 'SHUFFLES' DE SEXOS Y CALCULO NUEVAMENTE PORCENTAJE DE SEXOS POR COMUNIDADES"
   ]
  },
  {
   "cell_type": "code",
   "execution_count": 73,
   "metadata": {},
   "outputs": [],
   "source": [
    "def BreakFieldAttribution(fieldAtributtion):              \n",
    "    names = [nodes for nodes,field in fieldAtributtion]  # funcion para separar los keys y los values \n",
    "    field = [field for nodes,field in fieldAtributtion]  #          en un diccionario\n",
    "    return names,field\n",
    "\n",
    "names = BreakFieldAttribution(dolphinsGender)[0]     # genero una lista con los nombres de los delfines\n",
    "genders = BreakFieldAttribution(dolphinsGender)[1] "
   ]
  },
  {
   "cell_type": "code",
   "execution_count": 84,
   "metadata": {},
   "outputs": [],
   "source": [
    "H = nx.read_gml('dolphins.gml')                      # trabajamos sobre H (grafo nuevo)\n",
    "for n in H.nodes:\n",
    "    H.nodes[n][\"community\"] = dict_com_fastg[n] \n",
    "\n",
    "FracFemales=[]\n",
    "FracMales=[]\n",
    "FracNotAss=[]\n",
    "\n",
    "it=10000\n",
    "for j in range(it):\n",
    "    np.random.shuffle(genders)                       # reordeno al azar la lista de generos\n",
    "    dict_gender_together = dict(zip(names,genders))  # genero un diccionario nuevo {delfines: generos reordenados} \n",
    "    AssignGender(H,dict_gender_together)             # Asigno el genero correspondiente a cada nodo de H \n",
    "    \n",
    "    fem=np.zeros((1,4))\n",
    "    mal=np.zeros((1,4))\n",
    "    nota=np.zeros((1,4))\n",
    "    for nodo in H.nodes:\n",
    "        com=H.nodes('community')[nodo]\n",
    "        if H.nodes('gender')[nodo]=='f':\n",
    "            fem[0,com]=fem[0,com]+1\n",
    "        elif H.nodes('gender')[nodo]=='m':\n",
    "            mal[0,com]=mal[0,com]+1\n",
    "        else:\n",
    "            nota[0,com]=nota[0,com]+1\n",
    "    FracFemales.append(fem/sum(sum(fem,mal),nota))\n",
    "    FracMales.append(mal/sum(sum(fem,mal),nota))\n",
    "    FracNotAss.append(nota/sum(sum(fem,mal),nota))"
   ]
  },
  {
   "cell_type": "markdown",
   "metadata": {},
   "source": [
    "HISTOGRAMA COMUNIDAD 0"
   ]
  },
  {
   "cell_type": "code",
   "execution_count": 112,
   "metadata": {},
   "outputs": [],
   "source": [
    "MUJERES=[]\n",
    "VARONES=[]\n",
    "for j in range(4):\n",
    "    fraccionmujeres=[]\n",
    "    fraccionhombres=[]\n",
    "    for i in range(it):\n",
    "        fraccionhombres.append(FracMales[i][0,0])\n",
    "        fraccionmujeres.append(FracFemales[i][0,0])\n",
    "    MUJERES.append(fraccionmujeres)\n",
    "    VARONES.append(fraccionhombres)"
   ]
  },
  {
   "cell_type": "code",
   "execution_count": 117,
   "metadata": {},
   "outputs": [
    {
     "data": {
      "image/png": "[encoded data removed]",
      "text/plain": [
       "<Figure size 720x1080 with 8 Axes>"
      ]
     },
     "metadata": {
      "needs_background": "light"
     },
     "output_type": "display_data"
    }
   ],
   "source": [
    "font = {'family' : 'DejaVu Sans',\n",
    "        'weight' : 'bold',\n",
    "        'size'   : 6}\n",
    "\n",
    "plt.rc('font', **font)\n",
    "plt.figure(figsize=(10,15))\n",
    "\n",
    "plt.subplot(4,2,1)\n",
    "plt.hist(MUJERES[0],bins=13,color=[1, 0.7, 1])\n",
    "plt.axvline(FractionFemales[0,0], c='magenta')\n",
    "plt.plot(FractionFemales[0,0],1,'o',label='comunidad real',c='magenta')\n",
    "plt.title(\"Histograma de la fracción de hembras \\n (%i asignaciones aleatorias de sexo)\" %it)\n",
    "plt.xlabel(\"Fracción de Hembras\")\n",
    "plt.ylabel(\"Frecuencia\")\n",
    "plt.legend()\n",
    "\n",
    "plt.subplot(4,2,2)\n",
    "plt.hist(VARONES[0],bins=20,color=[0.7, 0.85, 1])\n",
    "plt.axvline(FractionMales[0,0], c='cyan')\n",
    "plt.plot(FractionMales[0,0],1,'o',label='comunidad real',c='cyan')\n",
    "plt.title(\"Histograma de la fracción de machos \\n (%i asignaciones aleatorias de sexo)\" %it)\n",
    "plt.xlabel(\"Fracción de Machos\")\n",
    "plt.ylabel(\"Frecuencia\")\n",
    "plt.legend()\n",
    "\n",
    "plt.subplot(4,2,3)\n",
    "plt.hist(MUJERES[1],bins=13,color=[1, 0.7, 1])\n",
    "plt.axvline(FractionFemales[0,1], c='magenta')\n",
    "plt.plot(FractionFemales[0,1],1,'o',label='comunidad real',c='magenta')\n",
    "plt.title(\"Histograma de la fracción de hembras \\n (%i asignaciones aleatorias de sexo)\" %it)\n",
    "plt.xlabel(\"Fracción de Hembras\")\n",
    "plt.ylabel(\"Frecuencia\")\n",
    "plt.legend()\n",
    "\n",
    "plt.subplot(4,2,4)\n",
    "plt.hist(VARONES[1],bins=20,color=[0.7, 0.85, 1])\n",
    "plt.axvline(FractionMales[0,1], c='cyan')\n",
    "plt.plot(FractionMales[0,1],1,'o',label='comunidad real',c='cyan')\n",
    "plt.title(\"Histograma de la fracción de machos \\n (%i asignaciones aleatorias de sexo)\" %it)\n",
    "plt.xlabel(\"Fracción de Machos\")\n",
    "plt.ylabel(\"Frecuencia\")\n",
    "plt.legend()\n",
    "\n",
    "plt.subplot(4,2,5)\n",
    "plt.hist(MUJERES[2],bins=13,color=[1, 0.7, 1])\n",
    "plt.axvline(FractionFemales[0,2], c='magenta')\n",
    "plt.plot(FractionFemales[0,2],1,'o',label='comunidad real',c='magenta')\n",
    "plt.title(\"Histograma de la fracción de hembras \\n (%i asignaciones aleatorias de sexo)\" %it)\n",
    "plt.xlabel(\"Fracción de Hembras\")\n",
    "plt.ylabel(\"Frecuencia\")\n",
    "plt.legend()\n",
    "\n",
    "plt.subplot(4,2,6)\n",
    "plt.hist(VARONES[2],bins=20,color=[0.7, 0.85, 1])\n",
    "plt.axvline(FractionMales[0,2], c='cyan')\n",
    "plt.plot(FractionMales[0,2],1,'o',label='comunidad real',c='cyan')\n",
    "plt.title(\"Histograma de la fracción de machos \\n (%i asignaciones aleatorias de sexo)\" %it)\n",
    "plt.xlabel(\"Fracción de Machos\")\n",
    "plt.ylabel(\"Frecuencia\")\n",
    "plt.legend()\n",
    "\n",
    "plt.subplot(4,2,7)\n",
    "plt.hist(MUJERES[3],bins=13,color=[1, 0.7, 1])\n",
    "plt.axvline(FractionFemales[0,3], c='magenta')\n",
    "plt.plot(FractionFemales[0,3],1,'o',label='comunidad real',c='magenta')\n",
    "plt.title(\"Histograma de la fracción de hembras \\n (%i asignaciones aleatorias de sexo)\" %it)\n",
    "plt.xlabel(\"Fracción de Hembras\")\n",
    "plt.ylabel(\"Frecuencia\")\n",
    "plt.legend()\n",
    "\n",
    "plt.subplot(4,2,8)\n",
    "plt.hist(VARONES[3],bins=20,color=[0.7, 0.85, 1])\n",
    "plt.axvline(FractionMales[0,3], c='cyan')\n",
    "plt.plot(FractionMales[0,3],1,'o',label='comunidad real',c='cyan')\n",
    "plt.title(\"Histograma de la fracción de machos \\n (%i asignaciones aleatorias de sexo)\" %it)\n",
    "plt.xlabel(\"Fracción de Machos\")\n",
    "plt.ylabel(\"Frecuencia\")\n",
    "plt.legend()\n",
    "show()"
   ]
  }
 ],
 "metadata": {
  "kernelspec": {
   "display_name": "Python 3",
   "language": "python",
   "name": "python3"
  },
  "language_info": {
   "codemirror_mode": {
    "name": "ipython",
    "version": 3
   },
   "file_extension": ".py",
   "mimetype": "text/x-python",
   "name": "python",
   "nbconvert_exporter": "python",
   "pygments_lexer": "ipython3",
   "version": "3.5.2"
  }
 },
 "nbformat": 4,
 "nbformat_minor": 2
}
