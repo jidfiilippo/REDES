{
 "cells": [
  {
   "cell_type": "code",
   "execution_count": 1,
   "metadata": {},
   "outputs": [],
   "source": [
    "import numpy as np\n",
    "import networkx as nx\n",
    "import os\n",
    "from random import shuffle          # importamos las librerias necesarias\n",
    "import matplotlib.pylab as plt       \n",
    "%matplotlib inline\n",
    "from matplotlib.pyplot import title,xlabel,ylabel,show"
   ]
  },
  {
   "cell_type": "code",
   "execution_count": 2,
   "metadata": {},
   "outputs": [],
   "source": [
    "G = nx.read_gml('dolphins.gml') # definimos la red:cada nodo es un delfin y cada conexion representa una interaccion"
   ]
  },
  {
   "cell_type": "code",
   "execution_count": 3,
   "metadata": {},
   "outputs": [],
   "source": [
    "def ldata(archive):\n",
    "    f=open(archive)\n",
    "    data=[]\n",
    "    for line in f:\n",
    "        line=line.strip()\n",
    "        col=line.split()\n",
    "        data.append(col)\n",
    "    return data\n",
    "\n",
    "dolphinsGender=ldata('dolphinsGender.txt') # usamos la funcion \"ldata\" para abrir el archivo .txt "
   ]
  },
  {
   "cell_type": "code",
   "execution_count": 4,
   "metadata": {},
   "outputs": [],
   "source": [
    "dict_gender = {dolphin_nombre : genero for dolphin_nombre, genero  in dolphinsGender}\n",
    "def AssignGender(G,dict_gender):\n",
    "    for n in G.nodes:\n",
    "        G.nodes[n][\"gender\"] = dict_gender[n]\n",
    "    return\n",
    " \n",
    "AssignGender(G,dict_gender)"
   ]
  },
  {
   "cell_type": "code",
   "execution_count": 5,
   "metadata": {},
   "outputs": [
    {
     "data": {
      "text/plain": [
       "{'Beak': 'm',\n",
       " 'Beescratch': 'm',\n",
       " 'Bumper': 'm',\n",
       " 'CCL': 'f',\n",
       " 'Cross': 'm',\n",
       " 'DN16': 'f',\n",
       " 'DN21': 'm',\n",
       " 'DN63': 'm',\n",
       " 'Double': 'f',\n",
       " 'Feather': 'm',\n",
       " 'Fish': 'f',\n",
       " 'Five': 'f',\n",
       " 'Fork': 'm',\n",
       " 'Gallatin': 'm',\n",
       " 'Grin': 'm',\n",
       " 'Haecksel': 'm',\n",
       " 'Hook': 'f',\n",
       " 'Jet': 'm',\n",
       " 'Jonah': 'm',\n",
       " 'Knit': 'm',\n",
       " 'Kringel': 'f',\n",
       " 'MN105': 'm',\n",
       " 'MN23': 'm',\n",
       " 'MN60': 'm',\n",
       " 'MN83': 'm',\n",
       " 'Mus': 'm',\n",
       " 'Notch': 'm',\n",
       " 'Number1': 'm',\n",
       " 'Oscar': 'm',\n",
       " 'Patchback': 'm',\n",
       " 'PL': 'm',\n",
       " 'Quasi': 'm',\n",
       " 'Ripplefluke': 'NA',\n",
       " 'Scabs': 'f',\n",
       " 'Shmuddel': 'f',\n",
       " 'SMN5': 'm',\n",
       " 'SN100': 'f',\n",
       " 'SN4': 'f',\n",
       " 'SN63': 'f',\n",
       " 'SN89': 'f',\n",
       " 'SN9': 'f',\n",
       " 'SN90': 'm',\n",
       " 'SN96': 'm',\n",
       " 'Stripes': 'f',\n",
       " 'Thumper': 'm',\n",
       " 'Topless': 'm',\n",
       " 'TR120': 'f',\n",
       " 'TR77': 'f',\n",
       " 'TR82': 'NA',\n",
       " 'TR88': 'f',\n",
       " 'TR99': 'f',\n",
       " 'Trigger': 'f',\n",
       " 'TSN103': 'f',\n",
       " 'TSN83': 'NA',\n",
       " 'Upbang': 'm',\n",
       " 'Vau': 'f',\n",
       " 'Wave': 'f',\n",
       " 'Web': 'm',\n",
       " 'Whitetip': 'f',\n",
       " 'Zap': 'NA',\n",
       " 'Zig': 'm',\n",
       " 'Zipfel': 'm'}"
      ]
     },
     "execution_count": 5,
     "metadata": {},
     "output_type": "execute_result"
    }
   ],
   "source": [
    "dict(G.nodes('gender'))"
   ]
  },
  {
   "cell_type": "code",
   "execution_count": 8,
   "metadata": {},
   "outputs": [],
   "source": [
    "dict_com_info={'Beak': 3,\n",
    " 'Beescratch': 0,\n",
    " 'Bumper': 3,\n",
    " 'CCL': 4,\n",
    " 'Cross': 2,\n",
    " 'DN16': 0,\n",
    " 'DN21': 0,\n",
    " 'DN63': 0,\n",
    " 'Double': 4,\n",
    " 'Feather': 0,\n",
    " 'Fish': 3,\n",
    " 'Five': 2,\n",
    " 'Fork': 1,\n",
    " 'Gallatin': 0,\n",
    " 'Grin': 1,\n",
    " 'Haecksel': 2,\n",
    " 'Hook': 1,\n",
    " 'Jet': 0,\n",
    " 'Jonah': 2,\n",
    " 'Knit': 0,\n",
    " 'Kringel': 1,\n",
    " 'MN105': 2,\n",
    " 'MN23': 0,\n",
    " 'MN60': 2,\n",
    " 'MN83': 2,\n",
    " 'Mus': 0,\n",
    " 'Notch': 0,\n",
    " 'Number1': 0,\n",
    " 'Oscar': 3,\n",
    " 'PL': 3,\n",
    " 'Patchback': 2,\n",
    " 'Quasi': 0,\n",
    " 'Ripplefluke': 0,\n",
    " 'SMN5': 2,\n",
    " 'SN100': 4,\n",
    " 'SN4': 1,\n",
    " 'SN63': 1,\n",
    " 'SN89': 4,\n",
    " 'SN9': 1,\n",
    " 'SN90': 0,\n",
    " 'SN96': 3,\n",
    " 'Scabs': 1,\n",
    " 'Shmuddel': 1,\n",
    " 'Stripes': 1,\n",
    " 'TR120': 1,\n",
    " 'TR77': 3,\n",
    " 'TR82': 0,\n",
    " 'TR88': 1,\n",
    " 'TR99': 1,\n",
    " 'TSN103': 1,\n",
    " 'TSN83': 1,\n",
    " 'Thumper': 1,\n",
    " 'Topless': 2,\n",
    " 'Trigger': 2,\n",
    " 'Upbang': 0,\n",
    " 'Vau': 2,\n",
    " 'Wave': 0,\n",
    " 'Web': 0,\n",
    " 'Whitetip': 1,\n",
    " 'Zap': 4,\n",
    " 'Zig': 0,\n",
    " 'Zipfel': 1}"
   ]
  },
  {
   "cell_type": "code",
   "execution_count": 9,
   "metadata": {},
   "outputs": [],
   "source": [
    "for n in G.nodes:\n",
    "    G.nodes[n][\"community\"] = dict_com_info[n] "
   ]
  },
  {
   "cell_type": "markdown",
   "metadata": {},
   "source": [
    "CALCULO PORCENTAJE DE CADA SEXO EN MIS COMUNIDADES ORIGINALES"
   ]
  },
  {
   "cell_type": "code",
   "execution_count": 11,
   "metadata": {},
   "outputs": [],
   "source": [
    "females=np.zeros((1,5))\n",
    "males=np.zeros((1,5))\n",
    "notass=np.zeros((1,5))\n",
    "for nodo in G.nodes:\n",
    "    com=G.nodes('community')[nodo]\n",
    "    if G.nodes('gender')[nodo]=='f':\n",
    "        females[0,com]=females[0,com]+1\n",
    "    elif G.nodes('gender')[nodo]=='m':\n",
    "        males[0,com]=males[0,com]+1\n",
    "    else:\n",
    "        notass[0,com]=notass[0,com]+1\n",
    "FractionFemales=females/sum(sum(females,males),notass)\n",
    "FractionMales=males/sum(sum(females,males),notass)\n",
    "FractionNotAssigned=notass/sum(sum(females,males),notass)"
   ]
  },
  {
   "cell_type": "code",
   "execution_count": 12,
   "metadata": {},
   "outputs": [
    {
     "data": {
      "text/plain": [
       "(array([[0.1       , 0.72222222, 0.25      , 0.28571429, 0.8       ]]),\n",
       " array([[0.8       , 0.22222222, 0.75      , 0.71428571, 0.        ]]),\n",
       " array([[0.1       , 0.05555556, 0.        , 0.        , 0.2       ]]))"
      ]
     },
     "execution_count": 12,
     "metadata": {},
     "output_type": "execute_result"
    }
   ],
   "source": [
    "FractionFemales,FractionMales,FractionNotAssigned"
   ]
  },
  {
   "cell_type": "markdown",
   "metadata": {},
   "source": [
    "HAGO 'SHUFFLES' DE SEXOS Y CALCULO NUEVAMENTE PORCENTAJE DE SEXOS POR COMUNIDADES"
   ]
  },
  {
   "cell_type": "code",
   "execution_count": 13,
   "metadata": {},
   "outputs": [],
   "source": [
    "def BreakFieldAttribution(fieldAtributtion):              \n",
    "    names = [nodes for nodes,field in fieldAtributtion]  # funcion para separar los keys y los values \n",
    "    field = [field for nodes,field in fieldAtributtion]  #          en un diccionario\n",
    "    return names,field\n",
    "\n",
    "names = BreakFieldAttribution(dolphinsGender)[0]     # genero una lista con los nombres de los delfines\n",
    "genders = BreakFieldAttribution(dolphinsGender)[1] "
   ]
  },
  {
   "cell_type": "code",
   "execution_count": 15,
   "metadata": {},
   "outputs": [],
   "source": [
    "H = nx.read_gml('dolphins.gml')                      # trabajamos sobre H (grafo nuevo)\n",
    "for n in H.nodes:\n",
    "    H.nodes[n][\"community\"] = dict_com_info[n] \n",
    "\n",
    "FracFemales=[]\n",
    "FracMales=[]\n",
    "FracNotAss=[]\n",
    "\n",
    "it=10000\n",
    "for j in range(it):\n",
    "    np.random.shuffle(genders)                       # reordeno al azar la lista de generos\n",
    "    dict_gender_together = dict(zip(names,genders))  # genero un diccionario nuevo {delfines: generos reordenados} \n",
    "    AssignGender(H,dict_gender_together)             # Asigno el genero correspondiente a cada nodo de H \n",
    "    \n",
    "    fem=np.zeros((1,5))\n",
    "    mal=np.zeros((1,5))\n",
    "    nota=np.zeros((1,5))\n",
    "    for nodo in H.nodes:\n",
    "        com=H.nodes('community')[nodo]\n",
    "        if H.nodes('gender')[nodo]=='f':\n",
    "            fem[0,com]=fem[0,com]+1\n",
    "        elif H.nodes('gender')[nodo]=='m':\n",
    "            mal[0,com]=mal[0,com]+1\n",
    "        else:\n",
    "            nota[0,com]=nota[0,com]+1\n",
    "    FracFemales.append(fem/sum(sum(fem,mal),nota))\n",
    "    FracMales.append(mal/sum(sum(fem,mal),nota))\n",
    "    FracNotAss.append(nota/sum(sum(fem,mal),nota))"
   ]
  },
  {
   "cell_type": "markdown",
   "metadata": {},
   "source": [
    "HISTOGRAMA COMUNIDAD 0"
   ]
  },
  {
   "cell_type": "code",
   "execution_count": 17,
   "metadata": {},
   "outputs": [],
   "source": [
    "MUJERES=[]\n",
    "VARONES=[]\n",
    "for j in range(5):\n",
    "    fraccionmujeres=[]\n",
    "    fraccionhombres=[]\n",
    "    for i in range(it):\n",
    "        fraccionhombres.append(FracMales[i][0,0])\n",
    "        fraccionmujeres.append(FracFemales[i][0,0])\n",
    "    MUJERES.append(fraccionmujeres)\n",
    "    VARONES.append(fraccionhombres)"
   ]
  },
  {
   "cell_type": "code",
   "execution_count": 18,
   "metadata": {},
   "outputs": [
    {
     "data": {
      "image/png": "[encoded data removed]",
      "text/plain": [
       "<Figure size 720x1080 with 10 Axes>"
      ]
     },
     "metadata": {},
     "output_type": "display_data"
    }
   ],
   "source": [
    "font = {'family' : 'DejaVu Sans',\n",
    "        'weight' : 'bold',\n",
    "        'size'   : 6}\n",
    "\n",
    "plt.rc('font', **font)\n",
    "plt.figure(figsize=(10,15))\n",
    "\n",
    "plt.subplot(5,2,1)\n",
    "plt.hist(MUJERES[0],bins=13,color=[1, 0.7, 1])\n",
    "plt.axvline(FractionFemales[0,0], c='magenta')\n",
    "plt.plot(FractionFemales[0,0],1,'o',label='comunidad real',c='magenta')\n",
    "plt.title(\"Histograma de la fracción de hembras \\n (%i asignaciones aleatorias de sexo)\" %it)\n",
    "plt.xlabel(\"Fracción de Hembras\")\n",
    "plt.ylabel(\"Frecuencia\")\n",
    "plt.legend()\n",
    "\n",
    "plt.subplot(5,2,2)\n",
    "plt.hist(VARONES[0],bins=20,color=[0.7, 0.85, 1])\n",
    "plt.axvline(FractionMales[0,0], c='cyan')\n",
    "plt.plot(FractionMales[0,0],1,'o',label='comunidad real',c='cyan')\n",
    "plt.title(\"Histograma de la fracción de machos \\n (%i asignaciones aleatorias de sexo)\" %it)\n",
    "plt.xlabel(\"Fracción de Machos\")\n",
    "plt.ylabel(\"Frecuencia\")\n",
    "plt.legend()\n",
    "\n",
    "plt.subplot(5,2,3)\n",
    "plt.hist(MUJERES[1],bins=13,color=[1, 0.7, 1])\n",
    "plt.axvline(FractionFemales[0,1], c='magenta')\n",
    "plt.plot(FractionFemales[0,1],1,'o',label='comunidad real',c='magenta')\n",
    "plt.title(\"Histograma de la fracción de hembras \\n (%i asignaciones aleatorias de sexo)\" %it)\n",
    "plt.xlabel(\"Fracción de Hembras\")\n",
    "plt.ylabel(\"Frecuencia\")\n",
    "plt.legend()\n",
    "\n",
    "plt.subplot(5,2,4)\n",
    "plt.hist(VARONES[1],bins=20,color=[0.7, 0.85, 1])\n",
    "plt.axvline(FractionMales[0,1], c='cyan')\n",
    "plt.plot(FractionMales[0,1],1,'o',label='comunidad real',c='cyan')\n",
    "plt.title(\"Histograma de la fracción de machos \\n (%i asignaciones aleatorias de sexo)\" %it)\n",
    "plt.xlabel(\"Fracción de Machos\")\n",
    "plt.ylabel(\"Frecuencia\")\n",
    "plt.legend()\n",
    "\n",
    "plt.subplot(5,2,5)\n",
    "plt.hist(MUJERES[2],bins=13,color=[1, 0.7, 1])\n",
    "plt.axvline(FractionFemales[0,2], c='magenta')\n",
    "plt.plot(FractionFemales[0,2],1,'o',label='comunidad real',c='magenta')\n",
    "plt.title(\"Histograma de la fracción de hembras \\n (%i asignaciones aleatorias de sexo)\" %it)\n",
    "plt.xlabel(\"Fracción de Hembras\")\n",
    "plt.ylabel(\"Frecuencia\")\n",
    "plt.legend()\n",
    "\n",
    "plt.subplot(5,2,6)\n",
    "plt.hist(VARONES[2],bins=20,color=[0.7, 0.85, 1])\n",
    "plt.axvline(FractionMales[0,2], c='cyan')\n",
    "plt.plot(FractionMales[0,2],1,'o',label='comunidad real',c='cyan')\n",
    "plt.title(\"Histograma de la fracción de machos \\n (%i asignaciones aleatorias de sexo)\" %it)\n",
    "plt.xlabel(\"Fracción de Machos\")\n",
    "plt.ylabel(\"Frecuencia\")\n",
    "plt.legend()\n",
    "\n",
    "plt.subplot(5,2,7)\n",
    "plt.hist(MUJERES[3],bins=13,color=[1, 0.7, 1])\n",
    "plt.axvline(FractionFemales[0,3], c='magenta')\n",
    "plt.plot(FractionFemales[0,3],1,'o',label='comunidad real',c='magenta')\n",
    "plt.title(\"Histograma de la fracción de hembras \\n (%i asignaciones aleatorias de sexo)\" %it)\n",
    "plt.xlabel(\"Fracción de Hembras\")\n",
    "plt.ylabel(\"Frecuencia\")\n",
    "plt.legend()\n",
    "\n",
    "plt.subplot(5,2,8)\n",
    "plt.hist(VARONES[3],bins=20,color=[0.7, 0.85, 1])\n",
    "plt.axvline(FractionMales[0,3], c='cyan')\n",
    "plt.plot(FractionMales[0,3],1,'o',label='comunidad real',c='cyan')\n",
    "plt.title(\"Histograma de la fracción de machos \\n (%i asignaciones aleatorias de sexo)\" %it)\n",
    "plt.xlabel(\"Fracción de Machos\")\n",
    "plt.ylabel(\"Frecuencia\")\n",
    "plt.legend()\n",
    "\n",
    "plt.subplot(5,2,9)\n",
    "plt.hist(MUJERES[4],bins=13,color=[1, 0.7, 1])\n",
    "plt.axvline(FractionFemales[0,4], c='magenta')\n",
    "plt.plot(FractionFemales[0,4],1,'o',label='comunidad real',c='magenta')\n",
    "plt.title(\"Histograma de la fracción de hembras \\n (%i asignaciones aleatorias de sexo)\" %it)\n",
    "plt.xlabel(\"Fracción de Hembras\")\n",
    "plt.ylabel(\"Frecuencia\")\n",
    "plt.legend()\n",
    "\n",
    "plt.subplot(5,2,10)\n",
    "plt.hist(VARONES[4],bins=20,color=[0.7, 0.85, 1])\n",
    "plt.axvline(FractionMales[0,4], c='cyan')\n",
    "plt.plot(FractionMales[0,4],1,'o',label='comunidad real',c='cyan')\n",
    "plt.title(\"Histograma de la fracción de machos \\n (%i asignaciones aleatorias de sexo)\" %it)\n",
    "plt.xlabel(\"Fracción de Machos\")\n",
    "plt.ylabel(\"Frecuencia\")\n",
    "plt.legend()\n",
    "\n",
    "show()"
   ]
  }
 ],
 "metadata": {
  "kernelspec": {
   "display_name": "Python 3",
   "language": "python",
   "name": "python3"
  },
  "language_info": {
   "codemirror_mode": {
    "name": "ipython",
    "version": 3
   },
   "file_extension": ".py",
   "mimetype": "text/x-python",
   "name": "python",
   "nbconvert_exporter": "python",
   "pygments_lexer": "ipython3",
   "version": "3.6.5"
  }
 },
 "nbformat": 4,
 "nbformat_minor": 2
}
