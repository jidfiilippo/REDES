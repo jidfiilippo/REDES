{
 "cells": [
  {
   "cell_type": "code",
   "execution_count": 1,
   "metadata": {},
   "outputs": [],
   "source": [
    "import numpy as np\n",
    "import networkx as nx\n",
    "import os\n",
    "from random import shuffle          # importamos las librerias necesarias\n",
    "import matplotlib.pylab as plt       \n",
    "%matplotlib inline\n",
    "from matplotlib.pyplot import title,xlabel,ylabel,show"
   ]
  },
  {
   "cell_type": "code",
   "execution_count": 2,
   "metadata": {},
   "outputs": [],
   "source": [
    "G = nx.read_gml('dolphins.gml') # definimos la red:cada nodo es un delfin y cada conexion representa una interaccion"
   ]
  },
  {
   "cell_type": "code",
   "execution_count": 3,
   "metadata": {},
   "outputs": [],
   "source": [
    "def ldata(archive):\n",
    "    f=open(archive)\n",
    "    data=[]\n",
    "    for line in f:\n",
    "        line=line.strip()\n",
    "        col=line.split()\n",
    "        data.append(col)\n",
    "    return data\n",
    "\n",
    "dolphinsGender=ldata('dolphinsGender.txt') # usamos la funcion \"ldata\" para abrir el archivo .txt "
   ]
  },
  {
   "cell_type": "code",
   "execution_count": 4,
   "metadata": {},
   "outputs": [],
   "source": [
    "dict_gender = {dolphin_nombre : genero for dolphin_nombre, genero  in dolphinsGender}\n",
    "for n in G.nodes:\n",
    "    G.nodes[n][\"gender\"] = dict_gender[n] "
   ]
  },
  {
   "cell_type": "code",
   "execution_count": 5,
   "metadata": {},
   "outputs": [],
   "source": [
    "#import igraph as igraph\n",
    "import networkx as nx\n",
    "#import community\n",
    "import time"
   ]
  },
  {
   "cell_type": "markdown",
   "metadata": {},
   "source": [
    "# ITEM C DE COMPARAR LOS DISTINTOS CRITERIOSSS "
   ]
  },
  {
   "cell_type": "code",
   "execution_count": 6,
   "metadata": {},
   "outputs": [],
   "source": [
    "####voy a calcular la matriz de concurrencia dadas las listas de listas de los distintos criterios de clustering \n",
    "#tomo como argumento un diccionario donde dice el nombre del delfin y a que comunidad pertenece que en este caso es \n",
    "#edgeBetweenessAtrib\n",
    "#edgeBetweenessAtrib = nx.get_node_attributes(G,\"betweenness\")\n",
    "def MatrixConcurrency(attrib1, attrib2):\n",
    "    amountCommunities1 = max(attrib1.values())\n",
    "    amountCommunities2 = max(attrib2.values())    \n",
    "    amountCommunitiesMaximum = max(amountCommunities1,amountCommunities2)\n",
    "    matrix = np.zeros((amountCommunitiesMaximum+1,amountCommunitiesMaximum+1))\n",
    "    for i in range(amountCommunitiesMaximum+1):\n",
    "        for j in range(amountCommunitiesMaximum+1):\n",
    "            subGraph1 = [k for k,v in attrib1.items() if v == i]\n",
    "            subGraph2 = [k for k,v in attrib2.items() if v == j]\n",
    "            overlap = len(set(subGraph1).intersection(set(subGraph2)))\n",
    "            matrix[i][j] = overlap\n",
    "            #matrix[j][i] = overlap \n",
    "    return matrix \n",
    "        "
   ]
  },
  {
   "cell_type": "code",
   "execution_count": 7,
   "metadata": {
    "scrolled": true
   },
   "outputs": [],
   "source": [
    "#voy a ordenar las comunidades de mayor a menor cantidad antes de ver el overlap\n",
    "import scipy.stats as ss\n",
    "\n",
    "def ordenComunidades(attrib1):    \n",
    "    CantidadComunidad = []\n",
    "    amountCommunities1 = max(attrib1.values())\n",
    "    for i in range(amountCommunities1+1):\n",
    "        cantidadComunidad = len([k for k,v in attrib1.items() if v == i])\n",
    "        CantidadComunidad.append(cantidadComunidad)\n",
    "        rank = ss.rankdata(CantidadComunidad)-1\n",
    "    return rank \n",
    "    "
   ]
  },
  {
   "cell_type": "code",
   "execution_count": 8,
   "metadata": {},
   "outputs": [],
   "source": [
    "#al final no lo uso \n",
    "def finalOrden(rank):    \n",
    "    a = range(5)\n",
    "    com = np.zeros(len(a))\n",
    "    for k in range(len(rank)): \n",
    "        if rank[k] == 0:\n",
    "            com[0] = a[k]\n",
    "        if rank[k] == 1:\n",
    "            com[1] = a[k] \n",
    "        if rank[k] == 2:\n",
    "            com[2] = a[k]\n",
    "        if rank[k] == 3:\n",
    "            com[3] = a[k]\n",
    "        if rank[4] == 0:\n",
    "            com[4] = a[k]\n",
    "    return com"
   ]
  },
  {
   "cell_type": "code",
   "execution_count": 9,
   "metadata": {},
   "outputs": [],
   "source": [
    "#al final no lo uso \n",
    "def finalOrden2(rank):    \n",
    "    a = range(4)\n",
    "    com = np.zeros(len(a))\n",
    "    for k in range(len(rank)): \n",
    "        if rank[k] == 0:\n",
    "            com[0] = a[k]\n",
    "        if rank[k] == 1:\n",
    "            com[1] = a[k] \n",
    "        if rank[k] == 2:\n",
    "            com[2] = a[k]\n",
    "        if rank[k] == 3:\n",
    "            com[3] = a[k]\n",
    "    return com"
   ]
  },
  {
   "cell_type": "code",
   "execution_count": 10,
   "metadata": {},
   "outputs": [],
   "source": [
    "#esta no importa \n",
    "def ProbConj(attrib1, attrib2, ordencom1, ordencom2):\n",
    "    amountCommunities1 = max(attrib1.values())\n",
    "    amountCommunities2 = max(attrib2.values())    \n",
    "    amountCommunitiesMaximum = max(amountCommunities1,amountCommunities2)\n",
    "    matrix = np.zeros((amountCommunitiesMaximum+1,amountCommunitiesMaximum+1))\n",
    "    for i in ordencom1:\n",
    "        for j in ordencom2:\n",
    "            subGraph1 = [k for k,v in attrib1.items() if v == ordencom1]\n",
    "            subGraph2 = [k for k,v in attrib2.items() if v == ordencom2]\n",
    "            overlap = len(set(subGraph1).intersection(set(subGraph2)))\n",
    "            matrix[i][j] = 100*(overlap/len(attrib1))\n",
    "            #matrix[j][i] = overlap \n",
    "    return matrix \n"
   ]
  },
  {
   "cell_type": "code",
   "execution_count": 11,
   "metadata": {},
   "outputs": [],
   "source": [
    "def ProbConj2(attrib1, attrib2, ordencom1, ordencom2):\n",
    "    amountCommunities1 = max(attrib1.values())\n",
    "    amountCommunities2 = max(attrib2.values())    \n",
    "    #amountCommunitiesMaximum = max(amountCommunities1,amountCommunities2)\n",
    "    matrix = np.zeros((amountCommunities1+1,amountCommunities2+1))\n",
    "    for i in range(len(ordencom1)):\n",
    "        for j in range(len(ordencom2)):\n",
    "            subGraph1 = [k for k,v in EdgeBet.items() if v == ordenEBF[i]]\n",
    "            subGraph2 = [k for k,v in Louvain.items() if v == ordenLF[j]]\n",
    "            overlap = len(set(subGraph1).intersection(set(subGraph2)))\n",
    "            matrix[i][j] = (overlap/len(attrib1))\n",
    "            #matrix[j][i] = overlap \n",
    "    return matrix \n"
   ]
  },
  {
   "cell_type": "code",
   "execution_count": 12,
   "metadata": {},
   "outputs": [],
   "source": [
    "EdgeBet = {'Beak': 4,\n",
    " 'Beescratch': 0,\n",
    " 'Bumper': 4,\n",
    " 'CCL': 2,\n",
    " 'Cross': 1,\n",
    " 'DN16': 0,\n",
    " 'DN21': 0,\n",
    " 'DN63': 0,\n",
    " 'Double': 2,\n",
    " 'Feather': 0,\n",
    " 'Fish': 4,\n",
    " 'Five': 1,\n",
    " 'Fork': 2,\n",
    " 'Gallatin': 0,\n",
    " 'Grin': 2,\n",
    " 'Haecksel': 1,\n",
    " 'Hook': 2,\n",
    " 'Jet': 0,\n",
    " 'Jonah': 1,\n",
    " 'Knit': 0,\n",
    " 'Kringel': 2,\n",
    " 'MN105': 1,\n",
    " 'MN23': 0,\n",
    " 'MN60': 1,\n",
    " 'MN83': 1,\n",
    " 'Mus': 0,\n",
    " 'Notch': 0,\n",
    " 'Number1': 0,\n",
    " 'Oscar': 4,\n",
    " 'PL': 4,\n",
    " 'Patchback': 1,\n",
    " 'Quasi': 0,\n",
    " 'Ripplefluke': 0,\n",
    " 'SMN5': 1,\n",
    " 'SN100': 2,\n",
    " 'SN4': 2,\n",
    " 'SN63': 2,\n",
    " 'SN89': 0,\n",
    " 'SN9': 2,\n",
    " 'SN90': 0,\n",
    " 'SN96': 4,\n",
    " 'Scabs': 2,\n",
    " 'Shmuddel': 2,\n",
    " 'Stripes': 2,\n",
    " 'TR120': 2,\n",
    " 'TR77': 4,\n",
    " 'TR82': 0,\n",
    " 'TR88': 2,\n",
    " 'TR99': 2,\n",
    " 'TSN103': 2,\n",
    " 'TSN83': 3,\n",
    " 'Thumper': 2,\n",
    " 'Topless': 1,\n",
    " 'Trigger': 1,\n",
    " 'Upbang': 0,\n",
    " 'Vau': 1,\n",
    " 'Wave': 0,\n",
    " 'Web': 0,\n",
    " 'Whitetip': 2,\n",
    " 'Zap': 2,\n",
    " 'Zig': 0,\n",
    " 'Zipfel': 3}"
   ]
  },
  {
   "cell_type": "code",
   "execution_count": 13,
   "metadata": {},
   "outputs": [],
   "source": [
    "FastGredy = {'Beak': 0,\n",
    " 'Beescratch': 1,\n",
    " 'Bumper': 0,\n",
    " 'CCL': 2,\n",
    " 'Cross': 2,\n",
    " 'DN16': 1,\n",
    " 'DN21': 1,\n",
    " 'DN63': 1,\n",
    " 'Double': 2,\n",
    " 'Feather': 1,\n",
    " 'Fish': 0,\n",
    " 'Five': 2,\n",
    " 'Fork': 0,\n",
    " 'Gallatin': 1,\n",
    " 'Grin': 0,\n",
    " 'Haecksel': 2,\n",
    " 'Hook': 0,\n",
    " 'Jet': 1,\n",
    " 'Jonah': 2,\n",
    " 'Knit': 1,\n",
    " 'Kringel': 0,\n",
    " 'MN105': 2,\n",
    " 'MN23': 1,\n",
    " 'MN60': 2,\n",
    " 'MN83': 2,\n",
    " 'Mus': 1,\n",
    " 'Notch': 1,\n",
    " 'Number1': 1,\n",
    " 'Oscar': 1,\n",
    " 'PL': 1,\n",
    " 'Patchback': 2,\n",
    " 'Quasi': 1,\n",
    " 'Ripplefluke': 1,\n",
    " 'SMN5': 2,\n",
    " 'SN100': 3,\n",
    " 'SN4': 0,\n",
    " 'SN63': 0,\n",
    " 'SN89': 3,\n",
    " 'SN9': 0,\n",
    " 'SN90': 1,\n",
    " 'SN96': 0,\n",
    " 'Scabs': 0,\n",
    " 'Shmuddel': 0,\n",
    " 'Stripes': 0,\n",
    " 'TR120': 0,\n",
    " 'TR77': 0,\n",
    " 'TR82': 1,\n",
    " 'TR88': 0,\n",
    " 'TR99': 0,\n",
    " 'TSN103': 0,\n",
    " 'TSN83': 0,\n",
    " 'Thumper': 0,\n",
    " 'Topless': 2,\n",
    " 'Trigger': 2,\n",
    " 'Upbang': 1,\n",
    " 'Vau': 2,\n",
    " 'Wave': 1,\n",
    " 'Web': 1,\n",
    " 'Whitetip': 0,\n",
    " 'Zap': 2,\n",
    " 'Zig': 1,\n",
    " 'Zipfel': 0}"
   ]
  },
  {
   "cell_type": "code",
   "execution_count": 14,
   "metadata": {},
   "outputs": [],
   "source": [
    "InfoMap = {'Beak': 3,\n",
    " 'Beescratch': 0,\n",
    " 'Bumper': 3,\n",
    " 'CCL': 4,\n",
    " 'Cross': 2,\n",
    " 'DN16': 0,\n",
    " 'DN21': 0,\n",
    " 'DN63': 0,\n",
    " 'Double': 4,\n",
    " 'Feather': 0,\n",
    " 'Fish': 3,\n",
    " 'Five': 2,\n",
    " 'Fork': 1,\n",
    " 'Gallatin': 0,\n",
    " 'Grin': 1,\n",
    " 'Haecksel': 2,\n",
    " 'Hook': 1,\n",
    " 'Jet': 0,\n",
    " 'Jonah': 2,\n",
    " 'Knit': 0,\n",
    " 'Kringel': 1,\n",
    " 'MN105': 2,\n",
    " 'MN23': 0,\n",
    " 'MN60': 2,\n",
    " 'MN83': 2,\n",
    " 'Mus': 0,\n",
    " 'Notch': 0,\n",
    " 'Number1': 0,\n",
    " 'Oscar': 3,\n",
    " 'PL': 3,\n",
    " 'Patchback': 2,\n",
    " 'Quasi': 0,\n",
    " 'Ripplefluke': 0,\n",
    " 'SMN5': 2,\n",
    " 'SN100': 4,\n",
    " 'SN4': 1,\n",
    " 'SN63': 1,\n",
    " 'SN89': 4,\n",
    " 'SN9': 1,\n",
    " 'SN90': 0,\n",
    " 'SN96': 3,\n",
    " 'Scabs': 1,\n",
    " 'Shmuddel': 1,\n",
    " 'Stripes': 1,\n",
    " 'TR120': 1,\n",
    " 'TR77': 3,\n",
    " 'TR82': 0,\n",
    " 'TR88': 1,\n",
    " 'TR99': 1,\n",
    " 'TSN103': 1,\n",
    " 'TSN83': 1,\n",
    " 'Thumper': 1,\n",
    " 'Topless': 2,\n",
    " 'Trigger': 2,\n",
    " 'Upbang': 0,\n",
    " 'Vau': 2,\n",
    " 'Wave': 0,\n",
    " 'Web': 0,\n",
    " 'Whitetip': 1,\n",
    " 'Zap': 4,\n",
    " 'Zig': 0,\n",
    " 'Zipfel': 1}"
   ]
  },
  {
   "cell_type": "code",
   "execution_count": 15,
   "metadata": {},
   "outputs": [],
   "source": [
    "Louvain = {'Beak': 0,\n",
    " 'Beescratch': 1,\n",
    " 'Bumper': 0,\n",
    " 'CCL': 2,\n",
    " 'Cross': 3,\n",
    " 'DN16': 1,\n",
    " 'DN21': 1,\n",
    " 'DN63': 0,\n",
    " 'Double': 2,\n",
    " 'Feather': 1,\n",
    " 'Fish': 0,\n",
    " 'Five': 3,\n",
    " 'Fork': 4,\n",
    " 'Gallatin': 1,\n",
    " 'Grin': 4,\n",
    " 'Haecksel': 3,\n",
    " 'Hook': 4,\n",
    " 'Jet': 1,\n",
    " 'Jonah': 3,\n",
    " 'Knit': 0,\n",
    " 'Kringel': 4,\n",
    " 'MN105': 3,\n",
    " 'MN23': 1,\n",
    " 'MN60': 3,\n",
    " 'MN83': 3,\n",
    " 'Mus': 1,\n",
    " 'Notch': 1,\n",
    " 'Number1': 1,\n",
    " 'Oscar': 2,\n",
    " 'PL': 0,\n",
    " 'Patchback': 3,\n",
    " 'Quasi': 1,\n",
    " 'Ripplefluke': 1,\n",
    " 'SMN5': 3,\n",
    " 'SN100': 2,\n",
    " 'SN4': 4,\n",
    " 'SN63': 4,\n",
    " 'SN89': 2,\n",
    " 'SN9': 4,\n",
    " 'SN90': 1,\n",
    " 'SN96': 0,\n",
    " 'Scabs': 4,\n",
    " 'Shmuddel': 4,\n",
    " 'Stripes': 4,\n",
    " 'TR120': 4,\n",
    " 'TR77': 0,\n",
    " 'TR82': 1,\n",
    " 'TR88': 4,\n",
    " 'TR99': 4,\n",
    " 'TSN103': 4,\n",
    " 'TSN83': 4,\n",
    " 'Thumper': 4,\n",
    " 'Topless': 3,\n",
    " 'Trigger': 3,\n",
    " 'Upbang': 1,\n",
    " 'Vau': 3,\n",
    " 'Wave': 1,\n",
    " 'Web': 1,\n",
    " 'Whitetip': 4,\n",
    " 'Zap': 2,\n",
    " 'Zig': 1,\n",
    " 'Zipfel': 4}"
   ]
  },
  {
   "cell_type": "code",
   "execution_count": 16,
   "metadata": {},
   "outputs": [],
   "source": [
    "#dice las comunidades de menor a mayor cantidad de nodos \n",
    "ordenEB = ordenComunidades(EdgeBet)\n",
    "ordenEBF = [3,4,1,2,0]\n",
    "\n",
    "ordenFG = ordenComunidades(FastGredy)\n",
    "ordenFGF = [3,2,1,0]\n",
    "\n",
    "ordenIM  = ordenComunidades(InfoMap)\n",
    "ordenIMF = [4,3,2,1,0]\n",
    "\n",
    "ordenL = ordenComunidades(Louvain)\n",
    "ordenLF = [2,0,3,1,4]\n"
   ]
  },
  {
   "cell_type": "code",
   "execution_count": 17,
   "metadata": {},
   "outputs": [
    {
     "data": {
      "text/plain": [
       "array([[ 0. ,  0. ,  0. ,  0. ,  3.2],\n",
       "       [ 1.6,  9.7,  0. ,  0. ,  0. ],\n",
       "       [ 0. ,  0. , 19.4,  0. ,  0. ],\n",
       "       [ 6.5,  0. ,  0. ,  0. , 25.8],\n",
       "       [ 1.6,  3.2,  0. , 29. ,  0. ]])"
      ]
     },
     "execution_count": 17,
     "metadata": {},
     "output_type": "execute_result"
    }
   ],
   "source": [
    "#m = MatrixConcurrency(EdgeBet, FastGredy)\n",
    "#ProbConj2(attrib1, attrib2, ordencom1, ordencom2)\n",
    "p = np.round(ProbConj2(EdgeBet, Louvain, ordenEBF, ordenLF),3)*100\n",
    "\n",
    "q = np.round(ProbConj2(EdgeBet, FastGredy, ordenEBF, ordenFGF),3)*100\n",
    "\n",
    "k = np.round(ProbConj2(EdgeBet, InfoMap, ordenEBF, ordenIMF),3)*100\n",
    "k"
   ]
  },
  {
   "cell_type": "code",
   "execution_count": 18,
   "metadata": {},
   "outputs": [],
   "source": [
    "def amountNodesPerCommNormalized(attrib, orden):\n",
    "    Nodes = []\n",
    "    amountCommunities = max(attrib.values()) + 1 \n",
    "    for i in orden:\n",
    "        subGraph = [k for k,v in attrib.items() if v == i]\n",
    "        nodesSub = len(set(subGraph))/len(attrib)\n",
    "        Nodes.append(nodesSub)\n",
    "    return Nodes\n",
    "        "
   ]
  },
  {
   "cell_type": "code",
   "execution_count": 19,
   "metadata": {},
   "outputs": [],
   "source": [
    "eb = amountNodesPerCommNormalized(EdgeBet,ordenEBF)\n",
    "fg = amountNodesPerCommNormalized(FastGredy, ordenFGF)\n",
    "im = amountNodesPerCommNormalized(InfoMap, ordenIMF)\n",
    "l = amountNodesPerCommNormalized(Louvain, ordenLF)\n",
    "\n",
    "fg.append(0)"
   ]
  },
  {
   "cell_type": "code",
   "execution_count": 20,
   "metadata": {},
   "outputs": [
    {
     "data": {
      "text/plain": [
       "(0, 1)"
      ]
     },
     "execution_count": 20,
     "metadata": {},
     "output_type": "execute_result"
    },
    {
     "data": {
      "image/png": "[encoded data removed]",
      "text/plain": [
       "<Figure size 1080x720 with 4 Axes>"
      ]
     },
     "metadata": {
      "needs_background": "light"
     },
     "output_type": "display_data"
    }
   ],
   "source": [
    "#puedo verlo en barras\n",
    "\n",
    "font = {'family' : 'DejaVu Sans',\n",
    "        'weight' : 'bold',\n",
    "        'size'   : 20}\n",
    "\n",
    "plt.rc('font', **font)\n",
    "#plt.title(\"Cantidad de nodos por comunidad\")\n",
    "\n",
    "plt.figure(figsize=(15,10))\n",
    "\n",
    "plt.subplot(221)\n",
    "plt.title(\"Edge Betweenness\")\n",
    "plt.bar([1,2,3,4,5],eb)\n",
    "plt.xticks([1, 2, 3, 4,5])\n",
    "#plt.xlabel(\"Comunidad\")\n",
    "plt.ylabel(\"Cantidad de nodos\")\n",
    "plt.ylim([0,1])\n",
    "\n",
    "plt.subplot(222)\n",
    "plt.title(\"Fast greedy\")\n",
    "plt.bar([1,2,3,4,5],fg)\n",
    "plt.xticks([1, 2, 3, 4,5])\n",
    "#plt.xlabel(\"Comunidad\")\n",
    "plt.ylabel(\"Cantidad de nodos\")\n",
    "plt.ylim([0,1])\n",
    "\n",
    "plt.subplot(223)\n",
    "plt.title(\"Louvain\")\n",
    "plt.bar([1,2,3,4,5],l)\n",
    "plt.xticks([1, 2, 3, 4,5])\n",
    "plt.xlabel(\"Comunidad\")\n",
    "plt.ylabel(\"Cantidad de nodos\")\n",
    "plt.ylim([0,1])\n",
    "\n",
    "\n",
    "plt.subplot(224)\n",
    "plt.title(\"Infomap\")\n",
    "plt.bar([1,2,3,4,5],im)\n",
    "plt.xticks([1, 2, 3, 4,5])\n",
    "plt.xlabel(\"Comunidad\")\n",
    "plt.ylabel(\"Cantidad de nodos\")\n",
    "plt.ylim([0,1])"
   ]
  },
  {
   "cell_type": "code",
   "execution_count": 21,
   "metadata": {},
   "outputs": [],
   "source": [
    "#ya lo da en forma de vector \n",
    "eb = amountNodesPerCommNormalized(EdgeBet,ordenEBF)\n",
    "fg = amountNodesPerCommNormalized(FastGredy, ordenFGF)\n",
    "im = amountNodesPerCommNormalized(InfoMap, ordenIMF)\n",
    "l = amountNodesPerCommNormalized(Louvain, ordenLF)\n",
    "\n",
    "#la prob conjunta es ProbConj2(attrib1, attrib2, ordencom1, ordencom2)"
   ]
  },
  {
   "cell_type": "code",
   "execution_count": 22,
   "metadata": {},
   "outputs": [],
   "source": [
    "def InfoMutua(attrib1, attrib2, ordencom1,ordencom2):\n",
    "    probConj = ProbConj2(attrib1, attrib2, ordencom1, ordencom2)\n",
    "    probC1 = amountNodesPerCommNormalized(attrib1,ordencom1)\n",
    "    probC2 = amountNodesPerCommNormalized(attrib2,ordencom2)\n",
    "    info = 0\n",
    "    entropia1 = 0\n",
    "    for k in probC1:\n",
    "        entropia1 = entropia1 - k * np.log(k) \n",
    "    entropia2 = 0\n",
    "    for j in probC2:\n",
    "        entropia2 = entropia2 - j * np.log(j)\n",
    "    for i in range(max(attrib1.values())+1):\n",
    "        for j in range(max(attrib2.values())+1):\n",
    "            if probConj[i,j] != 0:\n",
    "                info = info + probConj[i,j] * np.log (probConj[i,j]/(probC1[i]*probC2[j]))\n",
    "    infoMutua = (2*info) / (entropia1 + entropia2)\n",
    "    return infoMutua"
   ]
  },
  {
   "cell_type": "code",
   "execution_count": 23,
   "metadata": {},
   "outputs": [
    {
     "data": {
      "text/plain": [
       "0.5269396677105487"
      ]
     },
     "execution_count": 23,
     "metadata": {},
     "output_type": "execute_result"
    }
   ],
   "source": [
    "InfoMutua(EdgeBet, FastGredy, ordenEBF,ordenFGF)"
   ]
  },
  {
   "cell_type": "code",
   "execution_count": 24,
   "metadata": {},
   "outputs": [
    {
     "data": {
      "text/plain": [
       "0.7879220090504659"
      ]
     },
     "execution_count": 24,
     "metadata": {},
     "output_type": "execute_result"
    }
   ],
   "source": [
    "\n",
    "#InfoMutua(EdgeBet, FastGredy, ordenEBF,ordenFGF)\n",
    "#InfoMutua(EdgeBet, Louvain, ordenEBF,ordenLF)\n",
    "#InfoMutua(EdgeBet, InfoMap, ordenEBF,ordenIMF)\n",
    "#InfoMutua(Louvain, FastGredy, ordenLF,ordenFGF)\n",
    "#InfoMutua(InfoMap, FastGredy, ordenIMF,ordenFGF)\n",
    "InfoMutua(Louvain, InfoMap, ordenLF,ordenIMF)\n",
    "\n",
    "    "
   ]
  },
  {
   "cell_type": "code",
   "execution_count": null,
   "metadata": {},
   "outputs": [],
   "source": []
  }
 ],
 "metadata": {
  "kernelspec": {
   "display_name": "Python 3",
   "language": "python",
   "name": "python3"
  },
  "language_info": {
   "codemirror_mode": {
    "name": "ipython",
    "version": 3
   },
   "file_extension": ".py",
   "mimetype": "text/x-python",
   "name": "python",
   "nbconvert_exporter": "python",
   "pygments_lexer": "ipython3",
   "version": "3.5.2"
  }
 },
 "nbformat": 4,
 "nbformat_minor": 2
}
